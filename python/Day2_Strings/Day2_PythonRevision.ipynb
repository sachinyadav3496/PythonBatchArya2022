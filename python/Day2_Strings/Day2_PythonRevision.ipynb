{
 "cells": [
  {
   "cell_type": "markdown",
   "id": "7e9b6ffd",
   "metadata": {},
   "source": [
    "**any doubt till now ?**"
   ]
  },
  {
   "cell_type": "code",
   "execution_count": 2,
   "id": "8db67306",
   "metadata": {},
   "outputs": [
    {
     "name": "stdout",
     "output_type": "stream",
     "text": [
      "['__add__', '__class__', '__contains__', '__delattr__', '__dir__', '__doc__', '__eq__', '__format__', '__ge__', '__getattribute__', '__getitem__', '__getnewargs__', '__gt__', '__hash__', '__init__', '__init_subclass__', '__iter__', '__le__', '__len__', '__lt__', '__mod__', '__mul__', '__ne__', '__new__', '__reduce__', '__reduce_ex__', '__repr__', '__rmod__', '__rmul__', '__setattr__', '__sizeof__', '__str__', '__subclasshook__', 'capitalize', 'casefold', 'center', 'count', 'encode', 'endswith', 'expandtabs', 'find', 'format', 'format_map', 'index', 'isalnum', 'isalpha', 'isascii', 'isdecimal', 'isdigit', 'isidentifier', 'islower', 'isnumeric', 'isprintable', 'isspace', 'istitle', 'isupper', 'join', 'ljust', 'lower', 'lstrip', 'maketrans', 'partition', 'removeprefix', 'removesuffix', 'replace', 'rfind', 'rindex', 'rjust', 'rpartition', 'rsplit', 'rstrip', 'split', 'splitlines', 'startswith', 'strip', 'swapcase', 'title', 'translate', 'upper', 'zfill']\n"
     ]
    }
   ],
   "source": [
    "print(dir(str))"
   ]
  },
  {
   "cell_type": "code",
   "execution_count": 3,
   "id": "88b5f47b",
   "metadata": {},
   "outputs": [],
   "source": [
    "s = \"Hello World!\""
   ]
  },
  {
   "cell_type": "code",
   "execution_count": 6,
   "id": "483e3db7",
   "metadata": {},
   "outputs": [
    {
     "name": "stdout",
     "output_type": "stream",
     "text": [
      "Hello World!\n",
      "<class 'str'>\n",
      "2869654917424\n",
      "2869654917424\n"
     ]
    }
   ],
   "source": [
    "print(s)\n",
    "print(type(s))\n",
    "print(id(s))\n",
    "k = s\n",
    "print(id(k))\n"
   ]
  },
  {
   "cell_type": "code",
   "execution_count": 7,
   "id": "6a80e9b9",
   "metadata": {},
   "outputs": [
    {
     "name": "stdout",
     "output_type": "stream",
     "text": [
      "'W'\n",
      "'W'\n"
     ]
    }
   ],
   "source": [
    "s = \"Hello World!\"\n",
    "\n",
    "c1 = s[6]\n",
    "c2 = s[-6]\n",
    "\n",
    "print(repr(c1))\n",
    "print(repr(c2))"
   ]
  },
  {
   "cell_type": "code",
   "execution_count": 8,
   "id": "203d7eb6",
   "metadata": {},
   "outputs": [
    {
     "name": "stdout",
     "output_type": "stream",
     "text": [
      "'e'\n",
      "'e'\n"
     ]
    }
   ],
   "source": [
    "s = \"Hello World!\"\n",
    "c1 = s[1]\n",
    "c2 = s[-11]\n",
    "print(repr(c1))\n",
    "print(repr(c2))"
   ]
  },
  {
   "cell_type": "code",
   "execution_count": 10,
   "id": "d1b3247e",
   "metadata": {},
   "outputs": [
    {
     "name": "stdout",
     "output_type": "stream",
     "text": [
      "'World'\n"
     ]
    }
   ],
   "source": [
    "s = \"Hello World!\"\n",
    "\n",
    "ss = s[6:11]\n",
    "print(repr(ss))"
   ]
  },
  {
   "cell_type": "code",
   "execution_count": 11,
   "id": "b0396a0d",
   "metadata": {},
   "outputs": [
    {
     "name": "stdout",
     "output_type": "stream",
     "text": [
      "'World'\n"
     ]
    }
   ],
   "source": [
    "s = \"Hello World!\"\n",
    "\n",
    "ss = s[6:11:1]\n",
    "print(repr(ss))"
   ]
  },
  {
   "cell_type": "code",
   "execution_count": 12,
   "id": "6a068321",
   "metadata": {},
   "outputs": [
    {
     "name": "stdout",
     "output_type": "stream",
     "text": [
      "'Wrd'\n"
     ]
    }
   ],
   "source": [
    "s = \"Hello World!\"\n",
    "\n",
    "ss = s[6:11:2]\n",
    "print(repr(ss))"
   ]
  },
  {
   "cell_type": "markdown",
   "id": "de364f48",
   "metadata": {},
   "source": [
    "        "
   ]
  },
  {
   "cell_type": "code",
   "execution_count": null,
   "id": "743be901",
   "metadata": {},
   "outputs": [],
   "source": []
  },
  {
   "cell_type": "raw",
   "id": "83839f6d",
   "metadata": {},
   "source": [
    " -12 -11 -10  -9  -8  -7  -6  -5  -4  -3  -2  -1\n",
    "   H   e   l   l   o       W   o   r   l   d   !\n",
    "   0   1   2   3   4   5   6   7   8   9   10  11"
   ]
  },
  {
   "cell_type": "code",
   "execution_count": null,
   "id": "82a5261d",
   "metadata": {},
   "outputs": [],
   "source": []
  },
  {
   "cell_type": "code",
   "execution_count": 13,
   "id": "c7036cba",
   "metadata": {},
   "outputs": [
    {
     "name": "stdout",
     "output_type": "stream",
     "text": [
      "'l ol!'\n"
     ]
    }
   ],
   "source": [
    "s = \"Hello World!\"\n",
    "ss = s[3:12:2]\n",
    "print(repr(ss)) # ? "
   ]
  },
  {
   "cell_type": "code",
   "execution_count": 14,
   "id": "295bdb32",
   "metadata": {},
   "outputs": [
    {
     "name": "stdout",
     "output_type": "stream",
     "text": [
      "'l ol!'\n"
     ]
    }
   ],
   "source": [
    "s = \"Hello World!\"\n",
    "ss = s[-9::2]\n",
    "print(repr(ss)) # ? "
   ]
  },
  {
   "cell_type": "code",
   "execution_count": 15,
   "id": "521b3adb",
   "metadata": {},
   "outputs": [
    {
     "name": "stdout",
     "output_type": "stream",
     "text": [
      "''\n"
     ]
    }
   ],
   "source": [
    "s = \"Hello World!\"\n",
    "\n",
    "ss = s[10:1:2]\n",
    "print(repr(ss))"
   ]
  },
  {
   "cell_type": "code",
   "execution_count": 16,
   "id": "0339174e",
   "metadata": {},
   "outputs": [
    {
     "name": "stdout",
     "output_type": "stream",
     "text": [
      "'World!'\n"
     ]
    }
   ],
   "source": [
    "s = \"Hello World!\"\n",
    "\n",
    "ss = s[6::]\n",
    "print(repr(ss))"
   ]
  },
  {
   "cell_type": "code",
   "execution_count": 17,
   "id": "8a65303e",
   "metadata": {},
   "outputs": [
    {
     "name": "stdout",
     "output_type": "stream",
     "text": [
      "'Hello W'\n"
     ]
    }
   ],
   "source": [
    "s = \"Hello World!\"\n",
    "\n",
    "ss = s[:-5:]\n",
    "print(repr(ss))"
   ]
  },
  {
   "cell_type": "code",
   "execution_count": 18,
   "id": "e68b8fe8",
   "metadata": {},
   "outputs": [
    {
     "name": "stdout",
     "output_type": "stream",
     "text": [
      "' World!'\n"
     ]
    }
   ],
   "source": [
    "s = \"Hello World!\"\n",
    "\n",
    "ss = s[5:]\n",
    "print(repr(ss))"
   ]
  },
  {
   "cell_type": "code",
   "execution_count": null,
   "id": "833e9db4",
   "metadata": {},
   "outputs": [],
   "source": []
  },
  {
   "cell_type": "code",
   "execution_count": 19,
   "id": "2e998df5",
   "metadata": {},
   "outputs": [
    {
     "name": "stdout",
     "output_type": "stream",
     "text": [
      "'dlroW oll'\n"
     ]
    }
   ],
   "source": [
    "s = \"Hello World!\"\n",
    "\n",
    "ss = s[10:1:-1]\n",
    "print(repr(ss))"
   ]
  },
  {
   "cell_type": "code",
   "execution_count": 20,
   "id": "24d51562",
   "metadata": {},
   "outputs": [
    {
     "name": "stdout",
     "output_type": "stream",
     "text": [
      "'olleH'\n"
     ]
    }
   ],
   "source": [
    "s = \"Hello World!\"\n",
    "\n",
    "ss = s[4::-1]\n",
    "print(repr(ss))"
   ]
  },
  {
   "cell_type": "code",
   "execution_count": 21,
   "id": "7d9124d1",
   "metadata": {},
   "outputs": [
    {
     "name": "stdout",
     "output_type": "stream",
     "text": [
      "'!dlroW olleH'\n"
     ]
    }
   ],
   "source": [
    "s = \"Hello World!\"\n",
    "\n",
    "ss = s[::-1]\n",
    "print(repr(ss))"
   ]
  },
  {
   "cell_type": "code",
   "execution_count": 22,
   "id": "f312a005",
   "metadata": {},
   "outputs": [
    {
     "name": "stdout",
     "output_type": "stream",
     "text": [
      "!lo le\n"
     ]
    }
   ],
   "source": [
    "print(s[::-2])"
   ]
  },
  {
   "cell_type": "raw",
   "id": "71c62b6b",
   "metadata": {},
   "source": [
    " -12 -11 -10  -9  -8  -7  -6  -5  -4  -3  -2  -1\n",
    "   H   e   l   l   o       W   o   r   l   d   !\n",
    "   0   1   2   3   4   5   6   7   8   9   10  11"
   ]
  },
  {
   "cell_type": "code",
   "execution_count": 23,
   "id": "6e234a2c",
   "metadata": {},
   "outputs": [
    {
     "name": "stdout",
     "output_type": "stream",
     "text": [
      "'ABCEFGOJKE'\n"
     ]
    }
   ],
   "source": [
    "s = \"ELKMJIOHGSFEEDCWBAABCD\"\n",
    "ss = s[-4::-2]\n",
    "print(repr(ss))"
   ]
  },
  {
   "cell_type": "code",
   "execution_count": 24,
   "id": "fe3c53d7",
   "metadata": {},
   "outputs": [
    {
     "name": "stdout",
     "output_type": "stream",
     "text": [
      "'AWESOME'\n"
     ]
    }
   ],
   "source": [
    "s = \"ELKMJIOHGSFEEDCWBAABCD\"\n",
    "ss = s[-4::-3]\n",
    "print(repr(ss))"
   ]
  },
  {
   "cell_type": "code",
   "execution_count": 25,
   "id": "e17e19a4",
   "metadata": {},
   "outputs": [
    {
     "name": "stdout",
     "output_type": "stream",
     "text": [
      "['__add__', '__class__', '__contains__', '__delattr__', '__dir__', '__doc__', '__eq__', '__format__', '__ge__', '__getattribute__', '__getitem__', '__getnewargs__', '__gt__', '__hash__', '__init__', '__init_subclass__', '__iter__', '__le__', '__len__', '__lt__', '__mod__', '__mul__', '__ne__', '__new__', '__reduce__', '__reduce_ex__', '__repr__', '__rmod__', '__rmul__', '__setattr__', '__sizeof__', '__str__', '__subclasshook__', 'capitalize', 'casefold', 'center', 'count', 'encode', 'endswith', 'expandtabs', 'find', 'format', 'format_map', 'index', 'isalnum', 'isalpha', 'isascii', 'isdecimal', 'isdigit', 'isidentifier', 'islower', 'isnumeric', 'isprintable', 'isspace', 'istitle', 'isupper', 'join', 'ljust', 'lower', 'lstrip', 'maketrans', 'partition', 'removeprefix', 'removesuffix', 'replace', 'rfind', 'rindex', 'rjust', 'rpartition', 'rsplit', 'rstrip', 'split', 'splitlines', 'startswith', 'strip', 'swapcase', 'title', 'translate', 'upper', 'zfill']\n"
     ]
    }
   ],
   "source": [
    "print(dir(str))"
   ]
  },
  {
   "cell_type": "code",
   "execution_count": 26,
   "id": "d1298e5b",
   "metadata": {},
   "outputs": [],
   "source": [
    "s = \"Hello World!\""
   ]
  },
  {
   "cell_type": "code",
   "execution_count": 27,
   "id": "8a7e91ae",
   "metadata": {},
   "outputs": [
    {
     "name": "stdout",
     "output_type": "stream",
     "text": [
      "HELLO WORLD!\n"
     ]
    }
   ],
   "source": [
    "ns = s.upper()\n",
    "print(ns)"
   ]
  },
  {
   "cell_type": "code",
   "execution_count": 28,
   "id": "8da24516",
   "metadata": {},
   "outputs": [
    {
     "name": "stdout",
     "output_type": "stream",
     "text": [
      "hello world!\n"
     ]
    }
   ],
   "source": [
    "ns = s.lower()\n",
    "print(ns)"
   ]
  },
  {
   "cell_type": "code",
   "execution_count": 29,
   "id": "ea989810",
   "metadata": {},
   "outputs": [
    {
     "name": "stdout",
     "output_type": "stream",
     "text": [
      "hEllO wOrlD!\n"
     ]
    }
   ],
   "source": [
    "s = \"HeLLo WoRLd!\"\n",
    "\n",
    "ns = s.swapcase()\n",
    "print(ns)"
   ]
  },
  {
   "cell_type": "code",
   "execution_count": 31,
   "id": "cf98fc8b",
   "metadata": {},
   "outputs": [],
   "source": [
    "s = \"hello WORLD! this is AweSomE!\""
   ]
  },
  {
   "cell_type": "code",
   "execution_count": 32,
   "id": "961cb50a",
   "metadata": {},
   "outputs": [
    {
     "name": "stdout",
     "output_type": "stream",
     "text": [
      "Hello World! This Is Awesome!\n"
     ]
    }
   ],
   "source": [
    "print(s.title())"
   ]
  },
  {
   "cell_type": "code",
   "execution_count": 33,
   "id": "158eea29",
   "metadata": {},
   "outputs": [
    {
     "name": "stdout",
     "output_type": "stream",
     "text": [
      "Hello world! this is awesome!\n"
     ]
    }
   ],
   "source": [
    "print(s.capitalize())"
   ]
  },
  {
   "cell_type": "code",
   "execution_count": 34,
   "id": "28aefd3a",
   "metadata": {},
   "outputs": [],
   "source": [
    "statement = \"python is an awesome langauge. it is fun to learn! thrilling to experience\"\n",
    "\n",
    "tokens = statement.split()"
   ]
  },
  {
   "cell_type": "code",
   "execution_count": 35,
   "id": "846ebf39",
   "metadata": {},
   "outputs": [
    {
     "name": "stdout",
     "output_type": "stream",
     "text": [
      "['python', 'is', 'an', 'awesome', 'langauge.', 'it', 'is', 'fun', 'to', 'learn!', 'thrilling', 'to', 'experience']\n"
     ]
    }
   ],
   "source": [
    "print(tokens)"
   ]
  },
  {
   "cell_type": "code",
   "execution_count": 36,
   "id": "47b23fce",
   "metadata": {},
   "outputs": [],
   "source": [
    "s = \"hello-how-are-you-?\""
   ]
  },
  {
   "cell_type": "code",
   "execution_count": 37,
   "id": "8abb36f2",
   "metadata": {},
   "outputs": [],
   "source": [
    "w = s.split('-')"
   ]
  },
  {
   "cell_type": "code",
   "execution_count": 38,
   "id": "fa63f2a8",
   "metadata": {},
   "outputs": [
    {
     "name": "stdout",
     "output_type": "stream",
     "text": [
      "['hello', 'how', 'are', 'you', '?']\n"
     ]
    }
   ],
   "source": [
    "print(w)"
   ]
  },
  {
   "cell_type": "markdown",
   "id": "2473fa0a",
   "metadata": {},
   "source": [
    "    str.split() -> by default it remove white spaces (\" \", \"\\n\", \"\\t\", \\r\")\n",
    "    \n",
    "    str.split(char) -> split from character"
   ]
  },
  {
   "cell_type": "code",
   "execution_count": 39,
   "id": "6dfc6a84",
   "metadata": {},
   "outputs": [],
   "source": [
    "s = \"hello\\nworld\\nhow\\nare you\\tthis is\\nawesome\""
   ]
  },
  {
   "cell_type": "code",
   "execution_count": 40,
   "id": "5344b9e2",
   "metadata": {},
   "outputs": [
    {
     "name": "stdout",
     "output_type": "stream",
     "text": [
      "hello\n",
      "world\n",
      "how\n",
      "are you\tthis is\n",
      "awesome\n"
     ]
    }
   ],
   "source": [
    "print(s)"
   ]
  },
  {
   "cell_type": "code",
   "execution_count": 41,
   "id": "db737c7b",
   "metadata": {},
   "outputs": [],
   "source": [
    "ns = s.split()"
   ]
  },
  {
   "cell_type": "code",
   "execution_count": 43,
   "id": "6914d072",
   "metadata": {},
   "outputs": [
    {
     "name": "stdout",
     "output_type": "stream",
     "text": [
      "'hello\\nworld\\nhow\\nare you\\tthis is\\nawesome'\n"
     ]
    }
   ],
   "source": [
    "print(repr(s))"
   ]
  },
  {
   "cell_type": "code",
   "execution_count": 42,
   "id": "6f54d516",
   "metadata": {},
   "outputs": [
    {
     "name": "stdout",
     "output_type": "stream",
     "text": [
      "['hello', 'world', 'how', 'are', 'you', 'this', 'is', 'awesome']\n"
     ]
    }
   ],
   "source": [
    "print(ns)"
   ]
  },
  {
   "cell_type": "code",
   "execution_count": 44,
   "id": "7ddeaf16",
   "metadata": {},
   "outputs": [],
   "source": [
    "words = [ \"or\", \"bhai\", \"kuch\", \"palle\", \"pad\", \"raha\", \"hai\", \"kya\", \"?\"]"
   ]
  },
  {
   "cell_type": "code",
   "execution_count": 46,
   "id": "ed6d41f4",
   "metadata": {},
   "outputs": [],
   "source": [
    "statement = \" \".join(words)"
   ]
  },
  {
   "cell_type": "code",
   "execution_count": 47,
   "id": "f868dad2",
   "metadata": {},
   "outputs": [
    {
     "name": "stdout",
     "output_type": "stream",
     "text": [
      "or bhai kuch palle pad raha hai kya ?\n"
     ]
    }
   ],
   "source": [
    "print(statement)"
   ]
  },
  {
   "cell_type": "markdown",
   "id": "3daaf32d",
   "metadata": {},
   "source": [
    "        strip\n",
    "        lstrip\n",
    "        rstrip\n",
    "        center\n",
    "        ljust\n",
    "        rjust\n",
    "        zfill\n",
    "        replace\n",
    "        find\n",
    "        format\n"
   ]
  },
  {
   "cell_type": "code",
   "execution_count": 48,
   "id": "9aec6f8e",
   "metadata": {},
   "outputs": [],
   "source": [
    "s = \"     \\n\\t\\t         hello world!           \\n\\t\\t    \""
   ]
  },
  {
   "cell_type": "code",
   "execution_count": 49,
   "id": "3fd56b14",
   "metadata": {},
   "outputs": [],
   "source": [
    "ns = s.strip()"
   ]
  },
  {
   "cell_type": "code",
   "execution_count": 51,
   "id": "9bbe7379",
   "metadata": {},
   "outputs": [
    {
     "name": "stdout",
     "output_type": "stream",
     "text": [
      "'     \\n\\t\\t         hello world!           \\n\\t\\t    '\n",
      "'hello world!'\n"
     ]
    }
   ],
   "source": [
    "print(repr(s))\n",
    "print(repr(ns))"
   ]
  },
  {
   "cell_type": "code",
   "execution_count": 52,
   "id": "d5354c8e",
   "metadata": {},
   "outputs": [
    {
     "name": "stdout",
     "output_type": "stream",
     "text": [
      "'     \\n\\t\\t         hello world!           \\n\\t\\t    '\n",
      "'hello world!           \\n\\t\\t    '\n",
      "'hello world!'\n",
      "'     \\n\\t\\t         hello world!'\n"
     ]
    }
   ],
   "source": [
    "print(repr(s))\n",
    "print(repr(s.lstrip()))\n",
    "print(repr(s.strip()))\n",
    "print(repr(s.rstrip()))"
   ]
  },
  {
   "cell_type": "code",
   "execution_count": 53,
   "id": "9c7bdb69",
   "metadata": {},
   "outputs": [],
   "source": [
    "s = '---------------------Sachin Yadav----------------'"
   ]
  },
  {
   "cell_type": "code",
   "execution_count": 54,
   "id": "f92690b8",
   "metadata": {},
   "outputs": [],
   "source": [
    "ns = s.strip('-')"
   ]
  },
  {
   "cell_type": "code",
   "execution_count": 55,
   "id": "0cddd960",
   "metadata": {},
   "outputs": [
    {
     "name": "stdout",
     "output_type": "stream",
     "text": [
      "Sachin Yadav\n"
     ]
    }
   ],
   "source": [
    "print(ns)"
   ]
  },
  {
   "cell_type": "code",
   "execution_count": 59,
   "id": "408fe472",
   "metadata": {},
   "outputs": [],
   "source": [
    "s = '__^^^^$$#@$$%^$%^-----Sachin @$ Yadav@#$%^&#$%^------'"
   ]
  },
  {
   "cell_type": "code",
   "execution_count": 61,
   "id": "86c2c4f8",
   "metadata": {},
   "outputs": [
    {
     "name": "stdout",
     "output_type": "stream",
     "text": [
      "Sachin @$ Yadav\n"
     ]
    }
   ],
   "source": [
    "ns = s.strip('_-^$%#@&')\n",
    "print(ns)"
   ]
  },
  {
   "cell_type": "code",
   "execution_count": 63,
   "id": "fe4fbf23",
   "metadata": {},
   "outputs": [
    {
     "name": "stdout",
     "output_type": "stream",
     "text": [
      "Sachin @$ Yadav@#$%^&#$%^------\n"
     ]
    }
   ],
   "source": [
    "print(s.lstrip('_-^$%#@&'))"
   ]
  },
  {
   "cell_type": "code",
   "execution_count": 64,
   "id": "835c187c",
   "metadata": {},
   "outputs": [
    {
     "name": "stdout",
     "output_type": "stream",
     "text": [
      "__^^^^$$#@$$%^$%^-----Sachin @$ Yadav\n"
     ]
    }
   ],
   "source": [
    "print(s.rstrip('_-^$%#@&'))"
   ]
  },
  {
   "cell_type": "code",
   "execution_count": 65,
   "id": "e521a818",
   "metadata": {},
   "outputs": [],
   "source": [
    "name = \"Sachin Yadav\""
   ]
  },
  {
   "cell_type": "code",
   "execution_count": 66,
   "id": "d7809a17",
   "metadata": {},
   "outputs": [
    {
     "name": "stdout",
     "output_type": "stream",
     "text": [
      "Sachin Yadav\n"
     ]
    }
   ],
   "source": [
    "print(name)"
   ]
  },
  {
   "cell_type": "markdown",
   "id": "a1b010e1",
   "metadata": {},
   "source": [
    "    Output Formatting "
   ]
  },
  {
   "cell_type": "code",
   "execution_count": 74,
   "id": "b243827a",
   "metadata": {},
   "outputs": [
    {
     "name": "stdout",
     "output_type": "stream",
     "text": [
      "------------------------Sachin Yadav------------------------\n",
      "------------------------------------------------Sachin Yadav\n",
      "Sachin Yadav------------------------------------------------\n"
     ]
    }
   ],
   "source": [
    "s = name.center(60, '-')\n",
    "print(s)\n",
    "s = name.rjust(60, '-')\n",
    "print(s)\n",
    "s = name.ljust(60, '-')\n",
    "print(s)"
   ]
  },
  {
   "cell_type": "code",
   "execution_count": null,
   "id": "b58bfcf1",
   "metadata": {},
   "outputs": [],
   "source": []
  }
 ],
 "metadata": {
  "kernelspec": {
   "display_name": "Python 3 (ipykernel)",
   "language": "python",
   "name": "python3"
  },
  "language_info": {
   "codemirror_mode": {
    "name": "ipython",
    "version": 3
   },
   "file_extension": ".py",
   "mimetype": "text/x-python",
   "name": "python",
   "nbconvert_exporter": "python",
   "pygments_lexer": "ipython3",
   "version": "3.9.12"
  }
 },
 "nbformat": 4,
 "nbformat_minor": 5
}
