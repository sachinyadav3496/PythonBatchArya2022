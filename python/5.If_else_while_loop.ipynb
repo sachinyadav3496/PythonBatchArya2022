{
 "cells": [
  {
   "cell_type": "markdown",
   "id": "177f9e35",
   "metadata": {},
   "source": [
    "#### Operators \n",
    "\n",
    "    "
   ]
  },
  {
   "cell_type": "code",
   "execution_count": 1,
   "id": "66e1cbdb",
   "metadata": {},
   "outputs": [
    {
     "name": "stdout",
     "output_type": "stream",
     "text": [
      "5 140720502286256\n",
      "10 140720502286416\n"
     ]
    }
   ],
   "source": [
    "x = 5\n",
    "y = 10\n",
    "print(x, id(x))\n",
    "print(y, id(y))"
   ]
  },
  {
   "cell_type": "code",
   "execution_count": 4,
   "id": "48055169",
   "metadata": {},
   "outputs": [
    {
     "name": "stdout",
     "output_type": "stream",
     "text": [
      "15 140720502286576\n"
     ]
    }
   ],
   "source": [
    "r = x + y\n",
    "print(r, id(r))"
   ]
  },
  {
   "cell_type": "code",
   "execution_count": 3,
   "id": "fbf50583",
   "metadata": {},
   "outputs": [
    {
     "name": "stdout",
     "output_type": "stream",
     "text": [
      "15 140720502286576\n"
     ]
    }
   ],
   "source": [
    "r = int.__add__(x, y)\n",
    "print(r, id(r))"
   ]
  },
  {
   "cell_type": "code",
   "execution_count": 8,
   "id": "01941900",
   "metadata": {},
   "outputs": [
    {
     "name": "stdout",
     "output_type": "stream",
     "text": [
      "['__class__', '__contains__', '__delattr__', '__delitem__', '__dir__', '__doc__', '__eq__', '__format__', '__ge__', '__getattribute__', '__getitem__', '__gt__', '__hash__', '__init__', '__init_subclass__', '__iter__', '__le__', '__len__', '__lt__', '__ne__', '__new__', '__reduce__', '__reduce_ex__', '__repr__', '__reversed__', '__setattr__', '__setitem__', '__sizeof__', '__str__', '__subclasshook__', 'clear', 'copy', 'fromkeys', 'get', 'items', 'keys', 'pop', 'popitem', 'setdefault', 'update', 'values']\n"
     ]
    }
   ],
   "source": [
    "print(dir(dict))"
   ]
  },
  {
   "cell_type": "code",
   "execution_count": 7,
   "id": "ebb2a7da",
   "metadata": {},
   "outputs": [
    {
     "name": "stdout",
     "output_type": "stream",
     "text": [
      "['__add__', '__class__', '__contains__', '__delattr__', '__delitem__', '__dir__', '__doc__', '__eq__', '__format__', '__ge__', '__getattribute__', '__getitem__', '__gt__', '__hash__', '__iadd__', '__imul__', '__init__', '__init_subclass__', '__iter__', '__le__', '__len__', '__lt__', '__mul__', '__ne__', '__new__', '__reduce__', '__reduce_ex__', '__repr__', '__reversed__', '__rmul__', '__setattr__', '__setitem__', '__sizeof__', '__str__', '__subclasshook__', 'append', 'clear', 'copy', 'count', 'extend', 'index', 'insert', 'pop', 'remove', 'reverse', 'sort']\n"
     ]
    }
   ],
   "source": [
    "print(dir(list))"
   ]
  },
  {
   "cell_type": "code",
   "execution_count": 6,
   "id": "55a95c4c",
   "metadata": {},
   "outputs": [
    {
     "name": "stdout",
     "output_type": "stream",
     "text": [
      "['__add__', '__class__', '__contains__', '__delattr__', '__dir__', '__doc__', '__eq__', '__format__', '__ge__', '__getattribute__', '__getitem__', '__getnewargs__', '__gt__', '__hash__', '__init__', '__init_subclass__', '__iter__', '__le__', '__len__', '__lt__', '__mod__', '__mul__', '__ne__', '__new__', '__reduce__', '__reduce_ex__', '__repr__', '__rmod__', '__rmul__', '__setattr__', '__sizeof__', '__str__', '__subclasshook__', 'capitalize', 'casefold', 'center', 'count', 'encode', 'endswith', 'expandtabs', 'find', 'format', 'format_map', 'index', 'isalnum', 'isalpha', 'isascii', 'isdecimal', 'isdigit', 'isidentifier', 'islower', 'isnumeric', 'isprintable', 'isspace', 'istitle', 'isupper', 'join', 'ljust', 'lower', 'lstrip', 'maketrans', 'partition', 'replace', 'rfind', 'rindex', 'rjust', 'rpartition', 'rsplit', 'rstrip', 'split', 'splitlines', 'startswith', 'strip', 'swapcase', 'title', 'translate', 'upper', 'zfill']\n"
     ]
    }
   ],
   "source": [
    "print(dir(str))"
   ]
  },
  {
   "cell_type": "code",
   "execution_count": 5,
   "id": "c9d4a126",
   "metadata": {},
   "outputs": [
    {
     "name": "stdout",
     "output_type": "stream",
     "text": [
      "['__abs__', '__add__', '__and__', '__bool__', '__ceil__', '__class__', '__delattr__', '__dir__', '__divmod__', '__doc__', '__eq__', '__float__', '__floor__', '__floordiv__', '__format__', '__ge__', '__getattribute__', '__getnewargs__', '__gt__', '__hash__', '__index__', '__init__', '__init_subclass__', '__int__', '__invert__', '__le__', '__lshift__', '__lt__', '__mod__', '__mul__', '__ne__', '__neg__', '__new__', '__or__', '__pos__', '__pow__', '__radd__', '__rand__', '__rdivmod__', '__reduce__', '__reduce_ex__', '__repr__', '__rfloordiv__', '__rlshift__', '__rmod__', '__rmul__', '__ror__', '__round__', '__rpow__', '__rrshift__', '__rshift__', '__rsub__', '__rtruediv__', '__rxor__', '__setattr__', '__sizeof__', '__str__', '__sub__', '__subclasshook__', '__truediv__', '__trunc__', '__xor__', 'as_integer_ratio', 'bit_length', 'conjugate', 'denominator', 'from_bytes', 'imag', 'numerator', 'real', 'to_bytes']\n"
     ]
    }
   ],
   "source": [
    "print(dir(int))"
   ]
  },
  {
   "cell_type": "code",
   "execution_count": 9,
   "id": "85529638",
   "metadata": {},
   "outputs": [
    {
     "name": "stdout",
     "output_type": "stream",
     "text": [
      "56\n",
      "56\n"
     ]
    }
   ],
   "source": [
    "s = \"5\" + \"6\"\n",
    "ss = str.__add__(\"5\", \"6\")\n",
    "print(s)\n",
    "print(ss)"
   ]
  },
  {
   "cell_type": "code",
   "execution_count": 10,
   "id": "93632911",
   "metadata": {},
   "outputs": [],
   "source": [
    "l1 = [ 1, 2, 3]\n",
    "l2 = [ 4, 5, 6]"
   ]
  },
  {
   "cell_type": "code",
   "execution_count": 11,
   "id": "c47946c5",
   "metadata": {},
   "outputs": [
    {
     "name": "stdout",
     "output_type": "stream",
     "text": [
      "[1, 2, 3, 4, 5, 6]\n"
     ]
    }
   ],
   "source": [
    "l3 = l1 + l2\n",
    "print(l3)"
   ]
  },
  {
   "cell_type": "code",
   "execution_count": 12,
   "id": "64b4b1bf",
   "metadata": {},
   "outputs": [
    {
     "data": {
      "text/plain": [
       "[1, 2, 3, 4, 5, 6]"
      ]
     },
     "execution_count": 12,
     "metadata": {},
     "output_type": "execute_result"
    }
   ],
   "source": [
    "list.__add__(l1, l2)"
   ]
  },
  {
   "cell_type": "code",
   "execution_count": 13,
   "id": "597e6463",
   "metadata": {},
   "outputs": [
    {
     "data": {
      "text/plain": [
       "30"
      ]
     },
     "execution_count": 13,
     "metadata": {},
     "output_type": "execute_result"
    }
   ],
   "source": [
    "5 * 6"
   ]
  },
  {
   "cell_type": "code",
   "execution_count": 14,
   "id": "07793d22",
   "metadata": {},
   "outputs": [
    {
     "data": {
      "text/plain": [
       "30"
      ]
     },
     "execution_count": 14,
     "metadata": {},
     "output_type": "execute_result"
    }
   ],
   "source": [
    "int.__mul__(5, 6)"
   ]
  },
  {
   "cell_type": "code",
   "execution_count": 15,
   "id": "45c345a3",
   "metadata": {},
   "outputs": [
    {
     "data": {
      "text/plain": [
       "'hihihihihihihihihihi'"
      ]
     },
     "execution_count": 15,
     "metadata": {},
     "output_type": "execute_result"
    }
   ],
   "source": [
    "str.__mul__('hi', 10)"
   ]
  },
  {
   "cell_type": "code",
   "execution_count": 16,
   "id": "96286556",
   "metadata": {},
   "outputs": [
    {
     "name": "stdout",
     "output_type": "stream",
     "text": [
      "ram ram ram ram ram ram ram ram ram ram ram ram ram ram ram ram ram ram ram ram ram ram ram ram ram ram ram ram ram ram ram ram ram ram ram ram ram ram ram ram ram ram ram ram ram ram ram ram ram ram ram ram ram ram ram ram ram ram ram ram ram ram ram ram ram ram ram ram ram ram ram ram ram ram ram ram ram ram ram ram ram ram ram ram ram ram ram ram ram ram ram ram ram ram ram ram ram ram ram ram ram ram ram ram ram ram ram ram \n"
     ]
    }
   ],
   "source": [
    "s = \"ram \"*108\n",
    "print(s)"
   ]
  },
  {
   "cell_type": "code",
   "execution_count": 17,
   "id": "aa30c152",
   "metadata": {},
   "outputs": [],
   "source": [
    "l = [ 1, 2, 3] * 3"
   ]
  },
  {
   "cell_type": "code",
   "execution_count": 18,
   "id": "8eba4f46",
   "metadata": {},
   "outputs": [
    {
     "data": {
      "text/plain": [
       "[1, 2, 1, 2, 1, 2]"
      ]
     },
     "execution_count": 18,
     "metadata": {},
     "output_type": "execute_result"
    }
   ],
   "source": [
    "list.__mul__([1, 2], 3)"
   ]
  },
  {
   "cell_type": "markdown",
   "id": "54b07e8b",
   "metadata": {},
   "source": [
    "## Repeatation / Replication"
   ]
  },
  {
   "cell_type": "code",
   "execution_count": 19,
   "id": "cc08db67",
   "metadata": {},
   "outputs": [],
   "source": [
    "d1 = { 'name': 'sachin'}\n",
    "d2 = {'age': 27}"
   ]
  },
  {
   "cell_type": "code",
   "execution_count": 20,
   "id": "a599ea02",
   "metadata": {},
   "outputs": [
    {
     "ename": "TypeError",
     "evalue": "unsupported operand type(s) for +: 'dict' and 'dict'",
     "output_type": "error",
     "traceback": [
      "\u001b[1;31m---------------------------------------------------------------------------\u001b[0m",
      "\u001b[1;31mTypeError\u001b[0m                                 Traceback (most recent call last)",
      "\u001b[1;32m<ipython-input-20-ffa18e72196c>\u001b[0m in \u001b[0;36m<module>\u001b[1;34m\u001b[0m\n\u001b[1;32m----> 1\u001b[1;33m \u001b[0md\u001b[0m \u001b[1;33m=\u001b[0m \u001b[0md1\u001b[0m \u001b[1;33m+\u001b[0m \u001b[0md2\u001b[0m\u001b[1;33m\u001b[0m\u001b[1;33m\u001b[0m\u001b[0m\n\u001b[0m",
      "\u001b[1;31mTypeError\u001b[0m: unsupported operand type(s) for +: 'dict' and 'dict'"
     ]
    }
   ],
   "source": [
    "d = d1 + d2"
   ]
  },
  {
   "cell_type": "code",
   "execution_count": 21,
   "id": "628767c0",
   "metadata": {},
   "outputs": [
    {
     "name": "stdout",
     "output_type": "stream",
     "text": [
      "['__class__', '__contains__', '__delattr__', '__delitem__', '__dir__', '__doc__', '__eq__', '__format__', '__ge__', '__getattribute__', '__getitem__', '__gt__', '__hash__', '__init__', '__init_subclass__', '__iter__', '__le__', '__len__', '__lt__', '__ne__', '__new__', '__reduce__', '__reduce_ex__', '__repr__', '__reversed__', '__setattr__', '__setitem__', '__sizeof__', '__str__', '__subclasshook__', 'clear', 'copy', 'fromkeys', 'get', 'items', 'keys', 'pop', 'popitem', 'setdefault', 'update', 'values']\n"
     ]
    }
   ],
   "source": [
    "print(dir(dict))"
   ]
  },
  {
   "cell_type": "markdown",
   "id": "28081dd0",
   "metadata": {},
   "source": [
    "    id -> represent memory address\n",
    "\n",
    "    hash value -> unique value of an object"
   ]
  },
  {
   "cell_type": "code",
   "execution_count": 22,
   "id": "2fdec747",
   "metadata": {},
   "outputs": [
    {
     "data": {
      "text/plain": [
       "False"
      ]
     },
     "execution_count": 22,
     "metadata": {},
     "output_type": "execute_result"
    }
   ],
   "source": [
    "5 > 6"
   ]
  },
  {
   "cell_type": "code",
   "execution_count": 23,
   "id": "ffccd7d2",
   "metadata": {},
   "outputs": [
    {
     "data": {
      "text/plain": [
       "False"
      ]
     },
     "execution_count": 23,
     "metadata": {},
     "output_type": "execute_result"
    }
   ],
   "source": [
    "int.__gt__(5, 6)"
   ]
  },
  {
   "cell_type": "markdown",
   "id": "36b72510",
   "metadata": {},
   "source": [
    "#### Arithmatic Operators \n",
    "\n",
    "        +  __add__\n",
    "        -  __sub__\n",
    "        *  __mul__\n",
    "        /  __truediv__\n",
    "        // __floordiv__\n",
    "        %  __mod__\n",
    "        ** __pow__"
   ]
  },
  {
   "cell_type": "code",
   "execution_count": 25,
   "id": "1a147363",
   "metadata": {},
   "outputs": [
    {
     "name": "stdout",
     "output_type": "stream",
     "text": [
      "3\n"
     ]
    }
   ],
   "source": [
    "a = 13 % 5\n",
    "print(a)"
   ]
  },
  {
   "cell_type": "code",
   "execution_count": 24,
   "id": "6318e5b1",
   "metadata": {},
   "outputs": [
    {
     "name": "stdout",
     "output_type": "stream",
     "text": [
      "3\n"
     ]
    }
   ],
   "source": [
    "a = 3 % 5 \n",
    "print(a)"
   ]
  },
  {
   "cell_type": "code",
   "execution_count": 26,
   "id": "0fcf5ce4",
   "metadata": {},
   "outputs": [
    {
     "name": "stdout",
     "output_type": "stream",
     "text": [
      "1.3333333333333333\n",
      "1\n"
     ]
    }
   ],
   "source": [
    "a = 4  / 3 #t true division -> float value\n",
    "b = 4 // 3 # floor division -> int value (integer division) quotient \n",
    "print(a)\n",
    "print(b)"
   ]
  },
  {
   "cell_type": "markdown",
   "id": "4f000165",
   "metadata": {},
   "source": [
    "#### Comparision Operator \n",
    "\n",
    "     >   __gt__\n",
    "     <   __lt__\n",
    "     >=  __ge__\n",
    "     <=  __le__\n",
    "     ==  __eq__\n",
    "     !=  __ne__"
   ]
  },
  {
   "cell_type": "code",
   "execution_count": 27,
   "id": "891d0320",
   "metadata": {},
   "outputs": [
    {
     "name": "stdout",
     "output_type": "stream",
     "text": [
      "False\n",
      "False\n",
      "False\n"
     ]
    }
   ],
   "source": [
    "a = 6 > 7\n",
    "print(a)\n",
    "b = 6 < 6\n",
    "print(b)\n",
    "c = 5 != 5\n",
    "print(c)"
   ]
  },
  {
   "cell_type": "markdown",
   "id": "3eec935d",
   "metadata": {},
   "source": [
    "#### Bitwise Operators \n",
    "\n",
    "    ^  bitwise xor\n",
    "    &  bitwise and\n",
    "    |  bitwise or\n",
    "    ~  bitwise negation\n",
    "    << bitwise left shift\n",
    "    >> bitwise right shift"
   ]
  },
  {
   "cell_type": "markdown",
   "id": "81db0d0f",
   "metadata": {},
   "source": [
    "#### Logical Opeartors"
   ]
  },
  {
   "cell_type": "markdown",
   "id": "a6df3ca2",
   "metadata": {},
   "source": [
    "    and\n",
    "    or\n",
    "    not"
   ]
  },
  {
   "cell_type": "code",
   "execution_count": 28,
   "id": "79854741",
   "metadata": {},
   "outputs": [
    {
     "name": "stdout",
     "output_type": "stream",
     "text": [
      "True\n",
      "False\n",
      "True\n"
     ]
    }
   ],
   "source": [
    "a = 4 < 3 or 1 > 0\n",
    "print(a)\n",
    "\n",
    "b = 5 != 5 and 6 > 4\n",
    "print(b)\n",
    "\n",
    "c = 4 < 6 < 8 # chaining (4<6) and (6<8)\n",
    "print(c)"
   ]
  },
  {
   "cell_type": "markdown",
   "id": "c04e590d",
   "metadata": {},
   "source": [
    "#### Boolean \n",
    "\n",
    "    True   -> yes, 1, any value that is not empty\n",
    "    \n",
    "    False  -> no, 0, None, any empty object ([], \"\", ...)"
   ]
  },
  {
   "cell_type": "markdown",
   "id": "23279861",
   "metadata": {},
   "source": [
    "### Null Values\n",
    "\n",
    "    None "
   ]
  },
  {
   "cell_type": "code",
   "execution_count": 29,
   "id": "748e5875",
   "metadata": {},
   "outputs": [
    {
     "data": {
      "text/plain": [
       "True"
      ]
     },
     "execution_count": 29,
     "metadata": {},
     "output_type": "execute_result"
    }
   ],
   "source": [
    "bool(1)"
   ]
  },
  {
   "cell_type": "code",
   "execution_count": 30,
   "id": "539c1805",
   "metadata": {},
   "outputs": [
    {
     "data": {
      "text/plain": [
       "False"
      ]
     },
     "execution_count": 30,
     "metadata": {},
     "output_type": "execute_result"
    }
   ],
   "source": [
    "bool(0)"
   ]
  },
  {
   "cell_type": "code",
   "execution_count": 31,
   "id": "697fe700",
   "metadata": {},
   "outputs": [
    {
     "data": {
      "text/plain": [
       "False"
      ]
     },
     "execution_count": 31,
     "metadata": {},
     "output_type": "execute_result"
    }
   ],
   "source": [
    "bool([])"
   ]
  },
  {
   "cell_type": "code",
   "execution_count": 32,
   "id": "7c2fc190",
   "metadata": {},
   "outputs": [
    {
     "data": {
      "text/plain": [
       "True"
      ]
     },
     "execution_count": 32,
     "metadata": {},
     "output_type": "execute_result"
    }
   ],
   "source": [
    "bool([1])"
   ]
  },
  {
   "cell_type": "code",
   "execution_count": 33,
   "id": "25907fac",
   "metadata": {},
   "outputs": [
    {
     "data": {
      "text/plain": [
       "False"
      ]
     },
     "execution_count": 33,
     "metadata": {},
     "output_type": "execute_result"
    }
   ],
   "source": [
    "bool(None)"
   ]
  },
  {
   "cell_type": "code",
   "execution_count": 34,
   "id": "53022b36",
   "metadata": {},
   "outputs": [
    {
     "name": "stdout",
     "output_type": "stream",
     "text": [
      "True\n"
     ]
    }
   ],
   "source": [
    "a = bool(1 or print('bye'))\n",
    "print(a) # ? / will bye print or not ? "
   ]
  },
  {
   "cell_type": "code",
   "execution_count": 35,
   "id": "3630b89e",
   "metadata": {},
   "outputs": [
    {
     "name": "stdout",
     "output_type": "stream",
     "text": [
      "Hello\n",
      "False\n"
     ]
    }
   ],
   "source": [
    "a = bool(print('Hello') or 0)\n",
    "print(a)"
   ]
  },
  {
   "cell_type": "code",
   "execution_count": 36,
   "id": "4a263479",
   "metadata": {},
   "outputs": [
    {
     "name": "stdout",
     "output_type": "stream",
     "text": [
      "False\n"
     ]
    }
   ],
   "source": [
    "a = bool(None or 0)\n",
    "print(a)"
   ]
  },
  {
   "cell_type": "code",
   "execution_count": 37,
   "id": "70d642d2",
   "metadata": {},
   "outputs": [
    {
     "name": "stdout",
     "output_type": "stream",
     "text": [
      "True\n"
     ]
    }
   ],
   "source": [
    "print(True and True)"
   ]
  },
  {
   "cell_type": "code",
   "execution_count": 38,
   "id": "defc19d0",
   "metadata": {},
   "outputs": [
    {
     "name": "stdout",
     "output_type": "stream",
     "text": [
      "False\n"
     ]
    }
   ],
   "source": [
    "print(True and False)"
   ]
  },
  {
   "cell_type": "code",
   "execution_count": 39,
   "id": "b1877aea",
   "metadata": {},
   "outputs": [
    {
     "name": "stdout",
     "output_type": "stream",
     "text": [
      "False\n"
     ]
    }
   ],
   "source": [
    "print(False and True)"
   ]
  },
  {
   "cell_type": "code",
   "execution_count": 40,
   "id": "1f79d098",
   "metadata": {},
   "outputs": [
    {
     "name": "stdout",
     "output_type": "stream",
     "text": [
      "False\n"
     ]
    }
   ],
   "source": [
    "print(False and False)"
   ]
  },
  {
   "cell_type": "code",
   "execution_count": 41,
   "id": "e9f28735",
   "metadata": {},
   "outputs": [
    {
     "name": "stdout",
     "output_type": "stream",
     "text": [
      "True\n"
     ]
    }
   ],
   "source": [
    "print(True or False)"
   ]
  },
  {
   "cell_type": "code",
   "execution_count": 42,
   "id": "b1b8afd9",
   "metadata": {},
   "outputs": [
    {
     "name": "stdout",
     "output_type": "stream",
     "text": [
      "True\n"
     ]
    }
   ],
   "source": [
    "print(True or True)"
   ]
  },
  {
   "cell_type": "code",
   "execution_count": 43,
   "id": "11d0f1f5",
   "metadata": {},
   "outputs": [
    {
     "name": "stdout",
     "output_type": "stream",
     "text": [
      "True\n"
     ]
    }
   ],
   "source": [
    "print(False or True)"
   ]
  },
  {
   "cell_type": "code",
   "execution_count": 44,
   "id": "57653ac8",
   "metadata": {},
   "outputs": [
    {
     "name": "stdout",
     "output_type": "stream",
     "text": [
      "False\n"
     ]
    }
   ],
   "source": [
    "print(False or False)"
   ]
  },
  {
   "cell_type": "code",
   "execution_count": 45,
   "id": "7f271cbd",
   "metadata": {},
   "outputs": [
    {
     "name": "stdout",
     "output_type": "stream",
     "text": [
      "False\n"
     ]
    }
   ],
   "source": [
    "print(not True)"
   ]
  },
  {
   "cell_type": "code",
   "execution_count": 46,
   "id": "80e67398",
   "metadata": {},
   "outputs": [
    {
     "name": "stdout",
     "output_type": "stream",
     "text": [
      "True\n"
     ]
    }
   ],
   "source": [
    "a = not 4 > 5\n",
    "print(a)"
   ]
  },
  {
   "cell_type": "code",
   "execution_count": 47,
   "id": "1c0933aa",
   "metadata": {},
   "outputs": [
    {
     "name": "stdout",
     "output_type": "stream",
     "text": [
      "True\n"
     ]
    }
   ],
   "source": [
    "a = not False\n",
    "print(a)"
   ]
  },
  {
   "cell_type": "markdown",
   "id": "6a6385de",
   "metadata": {},
   "source": [
    "#### Membership Operators "
   ]
  },
  {
   "cell_type": "markdown",
   "id": "0bae749c",
   "metadata": {},
   "source": [
    "    collection \n",
    "\n",
    "                      string\n",
    "       Sequential     list\n",
    "                      tuple\n",
    "                      \n",
    "       Map            dict\n",
    "                      set"
   ]
  },
  {
   "cell_type": "markdown",
   "id": "0ff2776a",
   "metadata": {},
   "source": [
    "## Membershiep Operators\n",
    "\n",
    "    in\n",
    "    \n",
    "    not in"
   ]
  },
  {
   "cell_type": "code",
   "execution_count": 48,
   "id": "8aea65d2",
   "metadata": {},
   "outputs": [],
   "source": [
    "names = [\"vijay\", \"samunder\", \"tanvi\", \"rashi\", \"neeraj\", \"shailendra\"]"
   ]
  },
  {
   "cell_type": "code",
   "execution_count": 49,
   "id": "70a3eac9",
   "metadata": {},
   "outputs": [
    {
     "name": "stdout",
     "output_type": "stream",
     "text": [
      "False\n"
     ]
    }
   ],
   "source": [
    "key = \"sachin\"\n",
    "\n",
    "print(key in names)"
   ]
  },
  {
   "cell_type": "code",
   "execution_count": 50,
   "id": "31dbb78d",
   "metadata": {},
   "outputs": [
    {
     "name": "stdout",
     "output_type": "stream",
     "text": [
      "True\n"
     ]
    }
   ],
   "source": [
    "key = \"vijay\"\n",
    "\n",
    "print(key in names)"
   ]
  },
  {
   "cell_type": "code",
   "execution_count": 51,
   "id": "158b8c0d",
   "metadata": {},
   "outputs": [
    {
     "data": {
      "text/plain": [
       "True"
      ]
     },
     "execution_count": 51,
     "metadata": {},
     "output_type": "execute_result"
    }
   ],
   "source": [
    "\"sachin\" not in names"
   ]
  },
  {
   "cell_type": "code",
   "execution_count": 52,
   "id": "649ee795",
   "metadata": {},
   "outputs": [],
   "source": [
    "s = \"le'ts find a substring in this string\""
   ]
  },
  {
   "cell_type": "code",
   "execution_count": 53,
   "id": "bb8245e9",
   "metadata": {},
   "outputs": [],
   "source": [
    "x = 'stri'"
   ]
  },
  {
   "cell_type": "code",
   "execution_count": 54,
   "id": "155961c8",
   "metadata": {},
   "outputs": [
    {
     "data": {
      "text/plain": [
       "True"
      ]
     },
     "execution_count": 54,
     "metadata": {},
     "output_type": "execute_result"
    }
   ],
   "source": [
    "x in s"
   ]
  },
  {
   "cell_type": "code",
   "execution_count": 55,
   "id": "7a0a90d8",
   "metadata": {},
   "outputs": [],
   "source": [
    "info  = {\n",
    "    'samsung s21': [50000, 10],\n",
    "    'iphone 12': [45000, 15],\n",
    "    'one plus 10': [45000, 10]\n",
    "}"
   ]
  },
  {
   "cell_type": "code",
   "execution_count": 56,
   "id": "c4b449fd",
   "metadata": {},
   "outputs": [
    {
     "data": {
      "text/plain": [
       "False"
      ]
     },
     "execution_count": 56,
     "metadata": {},
     "output_type": "execute_result"
    }
   ],
   "source": [
    "\"iphone 13\" in info"
   ]
  },
  {
   "cell_type": "code",
   "execution_count": 57,
   "id": "ddd42a51",
   "metadata": {},
   "outputs": [
    {
     "data": {
      "text/plain": [
       "True"
      ]
     },
     "execution_count": 57,
     "metadata": {},
     "output_type": "execute_result"
    }
   ],
   "source": [
    "\"iphone 12\" in info"
   ]
  },
  {
   "cell_type": "markdown",
   "id": "a5784fda",
   "metadata": {},
   "source": [
    "#### Identity Operators \n",
    "\n",
    "    is \n",
    "    \n",
    "    is not"
   ]
  },
  {
   "cell_type": "code",
   "execution_count": 59,
   "id": "b9fe889b",
   "metadata": {},
   "outputs": [],
   "source": [
    "x = 1024\n",
    "y = 1024"
   ]
  },
  {
   "cell_type": "code",
   "execution_count": 60,
   "id": "061104b3",
   "metadata": {},
   "outputs": [
    {
     "name": "stdout",
     "output_type": "stream",
     "text": [
      "False\n"
     ]
    }
   ],
   "source": [
    "r = x is y\n",
    "print(r)"
   ]
  },
  {
   "cell_type": "code",
   "execution_count": 62,
   "id": "6a6a5f80",
   "metadata": {},
   "outputs": [
    {
     "name": "stdout",
     "output_type": "stream",
     "text": [
      "1320220353328 1320220353392\n",
      "False\n"
     ]
    }
   ],
   "source": [
    "a = \"hello world!\"\n",
    "b = \"hello world!\"\n",
    "r = a is b\n",
    "print(id(a), id(b))\n",
    "print(r)"
   ]
  },
  {
   "cell_type": "code",
   "execution_count": 63,
   "id": "cc12a3d3",
   "metadata": {},
   "outputs": [
    {
     "name": "stdout",
     "output_type": "stream",
     "text": [
      "True\n"
     ]
    }
   ],
   "source": [
    "x = 10\n",
    "y = 10\n",
    "r = x is y\n",
    "print(r)"
   ]
  },
  {
   "cell_type": "markdown",
   "id": "335b5e0b",
   "metadata": {},
   "source": [
    "is check wheter two or more refrences points to a same object in memory or not"
   ]
  },
  {
   "cell_type": "code",
   "execution_count": 65,
   "id": "ead223f4",
   "metadata": {},
   "outputs": [
    {
     "data": {
      "text/plain": [
       "False"
      ]
     },
     "execution_count": 65,
     "metadata": {},
     "output_type": "execute_result"
    }
   ],
   "source": [
    "bool(None or 0)"
   ]
  },
  {
   "cell_type": "markdown",
   "id": "7002f84a",
   "metadata": {},
   "source": [
    "#### IF-Else"
   ]
  },
  {
   "cell_type": "markdown",
   "id": "3e05adaa",
   "metadata": {},
   "source": [
    "    scope / group of statement "
   ]
  },
  {
   "cell_type": "code",
   "execution_count": 66,
   "id": "d75a85c6",
   "metadata": {},
   "outputs": [
    {
     "name": "stdout",
     "output_type": "stream",
     "text": [
      "The Zen of Python, by Tim Peters\n",
      "\n",
      "Beautiful is better than ugly.\n",
      "Explicit is better than implicit.\n",
      "Simple is better than complex.\n",
      "Complex is better than complicated.\n",
      "Flat is better than nested.\n",
      "Sparse is better than dense.\n",
      "Readability counts.\n",
      "Special cases aren't special enough to break the rules.\n",
      "Although practicality beats purity.\n",
      "Errors should never pass silently.\n",
      "Unless explicitly silenced.\n",
      "In the face of ambiguity, refuse the temptation to guess.\n",
      "There should be one-- and preferably only one --obvious way to do it.\n",
      "Although that way may not be obvious at first unless you're Dutch.\n",
      "Now is better than never.\n",
      "Although never is often better than *right* now.\n",
      "If the implementation is hard to explain, it's a bad idea.\n",
      "If the implementation is easy to explain, it may be a good idea.\n",
      "Namespaces are one honking great idea -- let's do more of those!\n"
     ]
    }
   ],
   "source": [
    "import this"
   ]
  },
  {
   "cell_type": "raw",
   "id": "430cc6be",
   "metadata": {},
   "source": [
    "c code\n",
    "\n",
    "if (cond){\n",
    "    st-1;\n",
    "st-2; st-3;\n",
    "    st-4;  \n",
    " st-5;\n",
    "}"
   ]
  },
  {
   "cell_type": "raw",
   "id": "ab9bbdb8",
   "metadata": {},
   "source": [
    "python code\n",
    "\n",
    "if cond:\n",
    "    st-1\n",
    "    st-2\n",
    "    st-3\n",
    "    st-4\n",
    "    st-5"
   ]
  },
  {
   "cell_type": "markdown",
   "id": "3307008a",
   "metadata": {},
   "source": [
    "Decision statement\n",
    "\n",
    "Selection statement"
   ]
  },
  {
   "cell_type": "code",
   "execution_count": 67,
   "id": "90eb9603",
   "metadata": {},
   "outputs": [
    {
     "name": "stdout",
     "output_type": "stream",
     "text": [
      "do this work\n"
     ]
    }
   ],
   "source": [
    "if True:\n",
    "    print('do this work')"
   ]
  },
  {
   "cell_type": "code",
   "execution_count": 68,
   "id": "c0bb676b",
   "metadata": {},
   "outputs": [],
   "source": [
    "if False:\n",
    "    print('do this work')"
   ]
  },
  {
   "cell_type": "code",
   "execution_count": 69,
   "id": "4cc93002",
   "metadata": {},
   "outputs": [
    {
     "name": "stdout",
     "output_type": "stream",
     "text": [
      "if true do this work\n"
     ]
    }
   ],
   "source": [
    "if True:\n",
    "    print('if true do this work')\n",
    "else:\n",
    "    print('else do this work')"
   ]
  },
  {
   "cell_type": "code",
   "execution_count": 70,
   "id": "ac516d2d",
   "metadata": {},
   "outputs": [
    {
     "name": "stdout",
     "output_type": "stream",
     "text": [
      "else do this work\n"
     ]
    }
   ],
   "source": [
    "if False:\n",
    "    print('if true do this work')\n",
    "else:\n",
    "    print('else do this work')"
   ]
  },
  {
   "cell_type": "code",
   "execution_count": 72,
   "id": "0149b7c9",
   "metadata": {},
   "outputs": [
    {
     "name": "stdout",
     "output_type": "stream",
     "text": [
      "a: 10\n",
      "b: 30\n",
      "c: 20\n",
      "30 is greatest\n"
     ]
    }
   ],
   "source": [
    "a = int(input(\"a: \"))\n",
    "b = int(input(\"b: \"))\n",
    "c = int(input(\"c: \"))\n",
    "\n",
    "if (a>b) and (a>c):\n",
    "    print(f\"{a} is greatest\")\n",
    "elif (b>c):\n",
    "    print(f\"{b} is greatest\")\n",
    "else:\n",
    "    print(f\"{c} is greatest\")"
   ]
  },
  {
   "cell_type": "code",
   "execution_count": null,
   "id": "f919d170",
   "metadata": {},
   "outputs": [],
   "source": [
    "if True:\n",
    "    if 0:\n",
    "        if False:\n",
    "            print(\"will this be output\")\n",
    "        else:\n",
    "            print(\"do you get it\")\n",
    "    else:\n",
    "        print(\"smjh m aaya kya\")\n",
    "else:\n",
    "    print(\"what will be the output\")"
   ]
  },
  {
   "cell_type": "code",
   "execution_count": null,
   "id": "700eff4f",
   "metadata": {},
   "outputs": [],
   "source": []
  },
  {
   "cell_type": "code",
   "execution_count": 75,
   "id": "31a5bb3c",
   "metadata": {},
   "outputs": [
    {
     "name": "stdout",
     "output_type": "stream",
     "text": [
      "Run That\n"
     ]
    }
   ],
   "source": [
    "print(\"Run This\") if 0 else print(\"Run That\")"
   ]
  },
  {
   "cell_type": "markdown",
   "id": "6b431f1e",
   "metadata": {},
   "source": [
    "day number  input -> output day name\n",
    "\n",
    "    1 - monday\n",
    "    2 - tuesday\n",
    "    3 - wednesday\n",
    "    4 - thursday\n",
    "    5 - friday\n",
    "    6 - saturday\n",
    "    7 - sunday\n",
    "    0 - sunday\n"
   ]
  },
  {
   "cell_type": "code",
   "execution_count": 76,
   "id": "672bf769",
   "metadata": {},
   "outputs": [
    {
     "name": "stdout",
     "output_type": "stream",
     "text": [
      "day number: 3\n",
      "wedesday\n"
     ]
    }
   ],
   "source": [
    "num = int(input(\"day number: \"))\n",
    "if num == 1:\n",
    "    print(\"monday\")\n",
    "elif num == 2:\n",
    "    print('tuesday')\n",
    "elif num == 3:\n",
    "    print(\"wedesday\")"
   ]
  },
  {
   "cell_type": "code",
   "execution_count": 77,
   "id": "cf88913c",
   "metadata": {},
   "outputs": [],
   "source": [
    "day_names = [\n",
    "    \"Sunday\", \"Monday\", \"Tuesday\", \"Wednesday\",\n",
    "    #  0         1          2           3\n",
    "    \"Thursday\", \"Friday\", \"Saturday\", \"Sunday\"\n",
    "    #   4           5         6           7\n",
    "]"
   ]
  },
  {
   "cell_type": "code",
   "execution_count": 80,
   "id": "464bb063",
   "metadata": {},
   "outputs": [
    {
     "name": "stdout",
     "output_type": "stream",
     "text": [
      "day number: 6\n",
      "Saturday\n"
     ]
    }
   ],
   "source": [
    "day_num = int(input(\"day number: \"))\n",
    "if day_num >= 0 and day_num <= 7:\n",
    "    print(day_names[day_num])\n",
    "else:\n",
    "    print(\"Invalid Day number please input a number between 0-7\")"
   ]
  },
  {
   "cell_type": "code",
   "execution_count": 84,
   "id": "0064979d",
   "metadata": {},
   "outputs": [],
   "source": [
    "days = dict(zip(range(8), day_names))"
   ]
  },
  {
   "cell_type": "code",
   "execution_count": 86,
   "id": "70d33d9a",
   "metadata": {},
   "outputs": [],
   "source": [
    "from pprint import pprint"
   ]
  },
  {
   "cell_type": "code",
   "execution_count": 88,
   "id": "488c2b06",
   "metadata": {},
   "outputs": [
    {
     "name": "stdout",
     "output_type": "stream",
     "text": [
      "{0: 'Sunday',\n",
      " 1: 'Monday',\n",
      " 2: 'Tuesday',\n",
      " 3: 'Wednesday',\n",
      " 4: 'Thursday',\n",
      " 5: 'Friday',\n",
      " 6: 'Saturday',\n",
      " 7: 'Sunday'}\n"
     ]
    }
   ],
   "source": [
    "pprint(days)"
   ]
  },
  {
   "cell_type": "code",
   "execution_count": 94,
   "id": "97c37660",
   "metadata": {},
   "outputs": [
    {
     "name": "stdout",
     "output_type": "stream",
     "text": [
      "enter day number: 7\n",
      "Sunday\n"
     ]
    }
   ],
   "source": [
    "day = int(input(\"enter day number: \"))\n",
    "value = days.get(day, \"Invalid Day number\")\n",
    "print(value)"
   ]
  },
  {
   "cell_type": "markdown",
   "id": "cadeaa72",
   "metadata": {},
   "source": [
    "### While Loop"
   ]
  },
  {
   "cell_type": "code",
   "execution_count": 95,
   "id": "c7fc5282",
   "metadata": {},
   "outputs": [
    {
     "name": "stdout",
     "output_type": "stream",
     "text": [
      "Hello Times 1!\n",
      "Hello Times 2!\n",
      "Hello Times 3!\n",
      "Hello Times 4!\n",
      "Hello Times 5!\n",
      "Hello Times 6!\n",
      "Hello Times 7!\n",
      "Hello Times 8!\n",
      "Hello Times 9!\n",
      "Hello Times 10!\n"
     ]
    }
   ],
   "source": [
    "i = 1\n",
    "while i <= 10:\n",
    "    print(f\"Hello Times {i}!\")\n",
    "    i += 1"
   ]
  },
  {
   "cell_type": "markdown",
   "id": "93a82e18",
   "metadata": {},
   "source": [
    "    While and For Loop "
   ]
  },
  {
   "cell_type": "code",
   "execution_count": null,
   "id": "05d4eb63",
   "metadata": {},
   "outputs": [],
   "source": []
  }
 ],
 "metadata": {
  "kernelspec": {
   "display_name": "Python 3",
   "language": "python",
   "name": "python3"
  },
  "language_info": {
   "codemirror_mode": {
    "name": "ipython",
    "version": 3
   },
   "file_extension": ".py",
   "mimetype": "text/x-python",
   "name": "python",
   "nbconvert_exporter": "python",
   "pygments_lexer": "ipython3",
   "version": "3.8.8"
  }
 },
 "nbformat": 4,
 "nbformat_minor": 5
}
