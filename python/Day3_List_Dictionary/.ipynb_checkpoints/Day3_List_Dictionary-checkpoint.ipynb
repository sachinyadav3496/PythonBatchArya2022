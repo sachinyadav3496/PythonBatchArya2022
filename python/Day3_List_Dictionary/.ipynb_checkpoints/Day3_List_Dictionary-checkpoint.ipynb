{
 "cells": [
  {
   "cell_type": "markdown",
   "id": "5f912e7f",
   "metadata": {},
   "source": [
    "`any doubt in previous session!`"
   ]
  },
  {
   "cell_type": "markdown",
   "id": "f81e3e5a",
   "metadata": {},
   "source": [
    "    standard output file  \n",
    "    \n",
    "        stdout\n",
    "        stderror\n",
    "        stdin"
   ]
  },
  {
   "cell_type": "raw",
   "id": "c7186652",
   "metadata": {},
   "source": [
    "    int x,y,z;\n",
    "\n",
    "    x = 10;\n",
    "    y = 20;\n",
    "    r = x+y;\n",
    "\n",
    "    printf(\"%d + %d = %d\", (x, y, r));"
   ]
  },
  {
   "cell_type": "markdown",
   "id": "7708597b",
   "metadata": {},
   "source": [
    "## String Formating\n",
    "\n",
    "    template"
   ]
  },
  {
   "cell_type": "code",
   "execution_count": 3,
   "id": "7d51feee",
   "metadata": {},
   "outputs": [
    {
     "name": "stdout",
     "output_type": "stream",
     "text": [
      "10 + 20 = 30\n",
      "10 + 20 = 30\n",
      "10 + 20 = 30\n"
     ]
    }
   ],
   "source": [
    "x, y = 10, 20\n",
    "r = x + y\n",
    "\n",
    "print(\"%d + %d = %d\"%(x, y, r))\n",
    "print(\"{} + {} = {}\".format(x, y, r))\n",
    "# python version >= 3.6, f-string\n",
    "print(f\"{x} + {y} = {r}\")"
   ]
  },
  {
   "cell_type": "code",
   "execution_count": 9,
   "id": "7d945ef8",
   "metadata": {},
   "outputs": [
    {
     "name": "stdout",
     "output_type": "stream",
     "text": [
      "Decimal = 15, Binary = 1111, Hexadecimal = f\n"
     ]
    }
   ],
   "source": [
    "x = 15\n",
    "print(f\"Decimal = {x}, Binary = {x:b}, Hexadecimal = {x:x}\")"
   ]
  },
  {
   "cell_type": "code",
   "execution_count": 7,
   "id": "df605ef7",
   "metadata": {},
   "outputs": [
    {
     "name": "stdout",
     "output_type": "stream",
     "text": [
      "22 / 7 = 3.14\n",
      "22 / 7 = 3.14\n",
      "22 / 7 = 3.14\n"
     ]
    }
   ],
   "source": [
    "x, y = 22, 7\n",
    "r = x / y\n",
    "\n",
    "print(\"%d / %d = %.2f\"%(x, y, r))\n",
    "print(\"{} / {} = {:.2f}\".format(x, y, r))\n",
    "# python version >= 3.6, f-string\n",
    "print(f\"{x} / {y} = {r:.2f}\")"
   ]
  },
  {
   "cell_type": "markdown",
   "id": "a0910e46",
   "metadata": {},
   "source": [
    "    array "
   ]
  },
  {
   "cell_type": "code",
   "execution_count": 10,
   "id": "de8286d8",
   "metadata": {},
   "outputs": [],
   "source": [
    "name = \"raman\"\n",
    "section = \"CS-A\"\n",
    "marks = 56.45\n",
    "\n",
    "# 100 ? "
   ]
  },
  {
   "cell_type": "markdown",
   "id": "e039fdd2",
   "metadata": {},
   "source": [
    "### List Data Type\n",
    "\n",
    "    Collection of items or Collection of objects\n",
    "    \n",
    "    Sequential Ordered Data Type\n",
    "    \n",
    "    Mutable Data Type\n",
    "    \n",
    "    Homognous (array) or Hetrogenous\n",
    "   "
   ]
  },
  {
   "cell_type": "code",
   "execution_count": 11,
   "id": "07bdd9f5",
   "metadata": {},
   "outputs": [],
   "source": [
    "names = [ \"ravi\", \"bhushan\", \"sachin\", \"rajat\", \"yadvendra\", \"shivani\", \"nidhi\", \"simran\"]"
   ]
  },
  {
   "cell_type": "code",
   "execution_count": 12,
   "id": "a54bc988",
   "metadata": {},
   "outputs": [
    {
     "name": "stdout",
     "output_type": "stream",
     "text": [
      "<class 'list'>\n"
     ]
    }
   ],
   "source": [
    "print(type(names))"
   ]
  },
  {
   "cell_type": "code",
   "execution_count": 15,
   "id": "39b17e4f",
   "metadata": {},
   "outputs": [
    {
     "name": "stdout",
     "output_type": "stream",
     "text": [
      "Methods of list in Python\n",
      "append, clear, copy, count, extend, index, insert, pop, remove, reverse, sort\n"
     ]
    }
   ],
   "source": [
    "print(\"Methods of list in Python\")\n",
    "print(*[f for f in dir(names) if f[0].islower()], sep=', ')"
   ]
  },
  {
   "cell_type": "code",
   "execution_count": 17,
   "id": "9af6a949",
   "metadata": {},
   "outputs": [
    {
     "name": "stdout",
     "output_type": "stream",
     "text": [
      "Enter a string: this is easy, let's move forward\n",
      "There are total 32 characters in \"this is easy, let's move forward\"\n"
     ]
    }
   ],
   "source": [
    "s = input(\"Enter a string: \")\n",
    "n = len(s)\n",
    "print(f\"There are total {n} characters in \\\"{s}\\\"\")"
   ]
  },
  {
   "cell_type": "code",
   "execution_count": 20,
   "id": "2e60829c",
   "metadata": {},
   "outputs": [
    {
     "name": "stdout",
     "output_type": "stream",
     "text": [
      "['ravi', 'bhushan', 'sachin', 'rajat', 'yadvendra', 'shivani', 'nidhi', 'simran']\n",
      "8\n",
      "index will range from 0 to 7\n"
     ]
    }
   ],
   "source": [
    "print(names)\n",
    "n = len(names)\n",
    "print(n)\n",
    "print(f\"index will range from 0 to {n-1}\")"
   ]
  },
  {
   "cell_type": "code",
   "execution_count": 21,
   "id": "37cb47dc",
   "metadata": {},
   "outputs": [
    {
     "name": "stdout",
     "output_type": "stream",
     "text": [
      "['ravi', 'bhushan', 'sachin', 'rajat', 'yadvendra', 'shivani', 'nidhi', 'simran']\n"
     ]
    }
   ],
   "source": [
    "print(names)"
   ]
  },
  {
   "cell_type": "code",
   "execution_count": 28,
   "id": "66598de0",
   "metadata": {},
   "outputs": [
    {
     "name": "stdout",
     "output_type": "stream",
     "text": [
      "['sachin', 'rajat', 'yadvendra', 'shivani', 'nidhi', 'simran']\n"
     ]
    }
   ],
   "source": [
    "print(names[2:])"
   ]
  },
  {
   "cell_type": "code",
   "execution_count": 30,
   "id": "2cb004f5",
   "metadata": {},
   "outputs": [
    {
     "name": "stdout",
     "output_type": "stream",
     "text": [
      "['ravi', 'bhushan', 'sachin', 'rajat', 'yadvendra', 'shivani']\n"
     ]
    }
   ],
   "source": [
    "print(names[:-2])"
   ]
  },
  {
   "cell_type": "code",
   "execution_count": 27,
   "id": "246bd15e",
   "metadata": {},
   "outputs": [
    {
     "name": "stdout",
     "output_type": "stream",
     "text": [
      "['sachin', 'rajat', 'yadvendra', 'shivani', 'nidhi']\n"
     ]
    }
   ],
   "source": [
    "item = names[2:-1]\n",
    "print(item)"
   ]
  },
  {
   "cell_type": "code",
   "execution_count": null,
   "id": "abf2a886",
   "metadata": {},
   "outputs": [],
   "source": []
  },
  {
   "cell_type": "code",
   "execution_count": 26,
   "id": "b20c24be",
   "metadata": {},
   "outputs": [
    {
     "name": "stdout",
     "output_type": "stream",
     "text": [
      "['simran', 'shivani', 'rajat', 'bhushan']\n"
     ]
    }
   ],
   "source": [
    "item = names[::-2]\n",
    "print(item)"
   ]
  },
  {
   "cell_type": "code",
   "execution_count": null,
   "id": "516b725e",
   "metadata": {},
   "outputs": [],
   "source": []
  },
  {
   "cell_type": "code",
   "execution_count": 25,
   "id": "a0569e9c",
   "metadata": {},
   "outputs": [
    {
     "name": "stdout",
     "output_type": "stream",
     "text": [
      "['shivani', 'nidhi', 'simran']\n"
     ]
    }
   ],
   "source": [
    "item = names[-3:]\n",
    "print(item)"
   ]
  },
  {
   "cell_type": "code",
   "execution_count": 24,
   "id": "2e666a97",
   "metadata": {},
   "outputs": [
    {
     "name": "stdout",
     "output_type": "stream",
     "text": [
      "['ravi', 'bhushan', 'sachin']\n"
     ]
    }
   ],
   "source": [
    "item = names[:3]\n",
    "print(item) # list / string / tuple ? \n",
    "# new list -> sublist"
   ]
  },
  {
   "cell_type": "code",
   "execution_count": null,
   "id": "6e580a7a",
   "metadata": {},
   "outputs": [],
   "source": []
  },
  {
   "cell_type": "code",
   "execution_count": 23,
   "id": "e4caf5b7",
   "metadata": {},
   "outputs": [
    {
     "name": "stdout",
     "output_type": "stream",
     "text": [
      "rajat\n"
     ]
    }
   ],
   "source": [
    "item = names[-5]\n",
    "print(item)# ? "
   ]
  },
  {
   "cell_type": "code",
   "execution_count": 22,
   "id": "4ec7d363",
   "metadata": {},
   "outputs": [
    {
     "name": "stdout",
     "output_type": "stream",
     "text": [
      "rajat\n"
     ]
    }
   ],
   "source": [
    "item = names[3]\n",
    "print(item)# ? "
   ]
  },
  {
   "cell_type": "markdown",
   "id": "8b2f90f0",
   "metadata": {},
   "source": [
    "### mutability vs immutability"
   ]
  },
  {
   "cell_type": "code",
   "execution_count": 31,
   "id": "f01d5f3d",
   "metadata": {},
   "outputs": [],
   "source": [
    "s = \"hello world!\""
   ]
  },
  {
   "cell_type": "code",
   "execution_count": 33,
   "id": "da2ee0f6",
   "metadata": {},
   "outputs": [
    {
     "ename": "TypeError",
     "evalue": "'str' object does not support item assignment",
     "output_type": "error",
     "traceback": [
      "\u001b[1;31m---------------------------------------------------------------------------\u001b[0m",
      "\u001b[1;31mTypeError\u001b[0m                                 Traceback (most recent call last)",
      "\u001b[1;32m<ipython-input-33-9f8ccf1bfaf0>\u001b[0m in \u001b[0;36m<module>\u001b[1;34m\u001b[0m\n\u001b[1;32m----> 1\u001b[1;33m \u001b[0ms\u001b[0m\u001b[1;33m[\u001b[0m\u001b[1;36m4\u001b[0m\u001b[1;33m]\u001b[0m \u001b[1;33m=\u001b[0m \u001b[1;34m'I'\u001b[0m \u001b[1;31m# strings are immutable\u001b[0m\u001b[1;33m\u001b[0m\u001b[1;33m\u001b[0m\u001b[0m\n\u001b[0m\u001b[0;32m      2\u001b[0m \u001b[0mprint\u001b[0m\u001b[1;33m(\u001b[0m\u001b[0ms\u001b[0m\u001b[1;33m)\u001b[0m\u001b[1;33m\u001b[0m\u001b[1;33m\u001b[0m\u001b[0m\n",
      "\u001b[1;31mTypeError\u001b[0m: 'str' object does not support item assignment"
     ]
    }
   ],
   "source": [
    "s[4] = 'I' # strings are immutable\n",
    "print(s)"
   ]
  },
  {
   "cell_type": "code",
   "execution_count": 32,
   "id": "ca651be9",
   "metadata": {},
   "outputs": [
    {
     "name": "stdout",
     "output_type": "stream",
     "text": [
      "o\n"
     ]
    }
   ],
   "source": [
    "c  = s[4]\n",
    "print(c)"
   ]
  },
  {
   "cell_type": "code",
   "execution_count": 34,
   "id": "2dd7bf58",
   "metadata": {},
   "outputs": [],
   "source": [
    "lang = [\"c\", \"jav\", \"python\", \"ruby\", \"perl\", \"go\", \"swift\", \"kotlin\"]\n"
   ]
  },
  {
   "cell_type": "code",
   "execution_count": 36,
   "id": "2826653d",
   "metadata": {},
   "outputs": [
    {
     "name": "stdout",
     "output_type": "stream",
     "text": [
      "JAVA\n"
     ]
    }
   ],
   "source": [
    "# replacement in list\n",
    "lang[1] = \"JAVA\" # list is mutable\n",
    "item = lang[1]\n",
    "print(item)"
   ]
  },
  {
   "cell_type": "code",
   "execution_count": 37,
   "id": "2dce7b82",
   "metadata": {},
   "outputs": [
    {
     "name": "stdout",
     "output_type": "stream",
     "text": [
      "['c', 'JAVA', 'python', 'ruby', 'perl', 'go', 'swift', 'kotlin']\n"
     ]
    }
   ],
   "source": [
    "print(lang)"
   ]
  },
  {
   "cell_type": "code",
   "execution_count": 38,
   "id": "04c9a5e6",
   "metadata": {},
   "outputs": [
    {
     "name": "stdout",
     "output_type": "stream",
     "text": [
      "['C++', 'JAVA', 'python', 'ruby', 'perl', 'go', 'swift', 'kotlin']\n"
     ]
    }
   ],
   "source": [
    "lang[0] = \"C++\"\n",
    "print(lang)"
   ]
  },
  {
   "cell_type": "markdown",
   "id": "28dcb564",
   "metadata": {},
   "source": [
    "### List Methods\n",
    "\n",
    "\n",
    "    methods to add item in a list\n",
    "    \n",
    "        list.append(item) -> it will add item at the end of list\n",
    "        \n",
    "        list.insert(loc, item) -> it will add item at index loc in list\n",
    "        \n",
    "        list.extend(iterable) -> it will iterate each value from iterable and add it at the end of list sequentially"
   ]
  },
  {
   "cell_type": "markdown",
   "id": "2582e621",
   "metadata": {},
   "source": [
    "    what is the return of a function \n",
    "    \n",
    "    \n",
    "    kuch bhi nh = None"
   ]
  },
  {
   "cell_type": "markdown",
   "id": "936f4f65",
   "metadata": {},
   "source": [
    "Output:\n",
    "\n",
    "    hi\n",
    "    return value from print is  None"
   ]
  },
  {
   "cell_type": "code",
   "execution_count": 56,
   "id": "8278db35",
   "metadata": {},
   "outputs": [
    {
     "name": "stdout",
     "output_type": "stream",
     "text": [
      "Enter your name: sachin\n",
      "Hey! sachin you such an amzing person.\n"
     ]
    }
   ],
   "source": [
    "name = input(\"Enter your name: \")\n",
    "\n",
    "print(f\"Hey! {name} you such an amzing person.\")"
   ]
  },
  {
   "cell_type": "code",
   "execution_count": null,
   "id": "e5e6e761",
   "metadata": {},
   "outputs": [],
   "source": []
  },
  {
   "cell_type": "code",
   "execution_count": 54,
   "id": "55b25234",
   "metadata": {},
   "outputs": [
    {
     "name": "stdout",
     "output_type": "stream",
     "text": [
      "kuch input de de ? hello world!\n",
      "can i access what i have given input ? \n"
     ]
    }
   ],
   "source": [
    "input('kuch input de de ? ')\n",
    "# \"hello world!\"\n",
    "print('can i access what i have given input ? ')"
   ]
  },
  {
   "cell_type": "code",
   "execution_count": null,
   "id": "bdbcaa9c",
   "metadata": {},
   "outputs": [],
   "source": []
  },
  {
   "cell_type": "code",
   "execution_count": 52,
   "id": "c5e4bdd4",
   "metadata": {},
   "outputs": [
    {
     "name": "stdout",
     "output_type": "stream",
     "text": [
      "hi\n",
      "bye\n",
      "ye\n",
      "vo\n",
      "ese kiu nh\n"
     ]
    }
   ],
   "source": [
    "print('hi')\n",
    "print('bye')\n",
    "print('ye')\n",
    "print('vo')\n",
    "x = print('ese kiu nh')"
   ]
  },
  {
   "cell_type": "code",
   "execution_count": null,
   "id": "07b6ec7e",
   "metadata": {},
   "outputs": [],
   "source": []
  },
  {
   "cell_type": "code",
   "execution_count": 51,
   "id": "cac3708a",
   "metadata": {},
   "outputs": [
    {
     "name": "stdout",
     "output_type": "stream",
     "text": [
      "hi\n",
      "return value from print is  None\n"
     ]
    }
   ],
   "source": [
    "x = print(\"hi\")\n",
    "\n",
    "print(\"return value from print is \", x) # ? "
   ]
  },
  {
   "cell_type": "code",
   "execution_count": null,
   "id": "2815def9",
   "metadata": {},
   "outputs": [],
   "source": []
  },
  {
   "cell_type": "code",
   "execution_count": 39,
   "id": "2be547b9",
   "metadata": {},
   "outputs": [],
   "source": [
    "lang = [\"c\", \"go\"]"
   ]
  },
  {
   "cell_type": "code",
   "execution_count": 40,
   "id": "b606ed74",
   "metadata": {},
   "outputs": [],
   "source": [
    "lang.append(\"python\")"
   ]
  },
  {
   "cell_type": "code",
   "execution_count": 41,
   "id": "4c7f0984",
   "metadata": {},
   "outputs": [
    {
     "name": "stdout",
     "output_type": "stream",
     "text": [
      "['c', 'go', 'python']\n"
     ]
    }
   ],
   "source": [
    "print(lang)"
   ]
  },
  {
   "cell_type": "code",
   "execution_count": 42,
   "id": "0b7d356f",
   "metadata": {},
   "outputs": [],
   "source": [
    "lang.append(\"scala\")"
   ]
  },
  {
   "cell_type": "code",
   "execution_count": 43,
   "id": "8aeeea01",
   "metadata": {},
   "outputs": [
    {
     "name": "stdout",
     "output_type": "stream",
     "text": [
      "['c', 'go', 'python', 'scala']\n"
     ]
    }
   ],
   "source": [
    "print(lang)"
   ]
  },
  {
   "cell_type": "code",
   "execution_count": 44,
   "id": "4f2fc7a9",
   "metadata": {},
   "outputs": [],
   "source": [
    "lang.insert(1, \"c++\")"
   ]
  },
  {
   "cell_type": "code",
   "execution_count": 45,
   "id": "f6ffb2e6",
   "metadata": {},
   "outputs": [
    {
     "name": "stdout",
     "output_type": "stream",
     "text": [
      "['c', 'c++', 'go', 'python', 'scala']\n"
     ]
    }
   ],
   "source": [
    "print(lang)"
   ]
  },
  {
   "cell_type": "code",
   "execution_count": 46,
   "id": "dbb365e5",
   "metadata": {},
   "outputs": [],
   "source": [
    "lang.insert(2, \"Java\")#[ ..., 'c++', 'go', 'java', 'python' ... ]"
   ]
  },
  {
   "cell_type": "code",
   "execution_count": 47,
   "id": "925439b2",
   "metadata": {},
   "outputs": [
    {
     "name": "stdout",
     "output_type": "stream",
     "text": [
      "['c', 'c++', 'Java', 'go', 'python', 'scala']\n"
     ]
    }
   ],
   "source": [
    "print(lang)"
   ]
  },
  {
   "cell_type": "code",
   "execution_count": 48,
   "id": "0c9395ef",
   "metadata": {},
   "outputs": [],
   "source": [
    "web_lang = [\"html\", \"css\", \"js\", \"angular js\", \"node js\", \"react js\", \"type script\"]"
   ]
  },
  {
   "cell_type": "code",
   "execution_count": 49,
   "id": "a71b465a",
   "metadata": {},
   "outputs": [],
   "source": [
    "lang.extend(web_lang)"
   ]
  },
  {
   "cell_type": "code",
   "execution_count": 50,
   "id": "7956f155",
   "metadata": {},
   "outputs": [
    {
     "name": "stdout",
     "output_type": "stream",
     "text": [
      "['c', 'c++', 'Java', 'go', 'python', 'scala', 'html', 'css', 'js', 'angular js', 'node js', 'react js', 'type script']\n"
     ]
    }
   ],
   "source": [
    "print(lang)"
   ]
  },
  {
   "cell_type": "code",
   "execution_count": 57,
   "id": "90172233",
   "metadata": {},
   "outputs": [
    {
     "ename": "IndexError",
     "evalue": "list index out of range",
     "output_type": "error",
     "traceback": [
      "\u001b[1;31m---------------------------------------------------------------------------\u001b[0m",
      "\u001b[1;31mIndexError\u001b[0m                                Traceback (most recent call last)",
      "\u001b[1;32m<ipython-input-57-14036c1f1b1f>\u001b[0m in \u001b[0;36m<module>\u001b[1;34m\u001b[0m\n\u001b[0;32m      1\u001b[0m \u001b[0ma\u001b[0m \u001b[1;33m=\u001b[0m \u001b[1;33m[\u001b[0m \u001b[1;34m'hi'\u001b[0m\u001b[1;33m,\u001b[0m \u001b[1;34m'hello'\u001b[0m\u001b[1;33m,\u001b[0m \u001b[1;34m'bye'\u001b[0m\u001b[1;33m]\u001b[0m\u001b[1;33m\u001b[0m\u001b[1;33m\u001b[0m\u001b[0m\n\u001b[0;32m      2\u001b[0m \u001b[1;33m\u001b[0m\u001b[0m\n\u001b[1;32m----> 3\u001b[1;33m \u001b[0mv\u001b[0m \u001b[1;33m=\u001b[0m \u001b[0ma\u001b[0m\u001b[1;33m[\u001b[0m\u001b[1;36m10\u001b[0m\u001b[1;33m]\u001b[0m \u001b[1;31m# Exceptions\u001b[0m\u001b[1;33m\u001b[0m\u001b[1;33m\u001b[0m\u001b[0m\n\u001b[0m\u001b[0;32m      4\u001b[0m \u001b[0mprint\u001b[0m\u001b[1;33m(\u001b[0m\u001b[0mv\u001b[0m\u001b[1;33m)\u001b[0m \u001b[1;31m# ? IndexError\u001b[0m\u001b[1;33m\u001b[0m\u001b[1;33m\u001b[0m\u001b[0m\n",
      "\u001b[1;31mIndexError\u001b[0m: list index out of range"
     ]
    }
   ],
   "source": [
    "a = [ 'hi', 'hello', 'bye']\n",
    "\n",
    "v = a[10] # Exceptions \n",
    "print(v) # ? IndexError"
   ]
  },
  {
   "cell_type": "code",
   "execution_count": 58,
   "id": "1e35a60b",
   "metadata": {},
   "outputs": [
    {
     "ename": "IndexError",
     "evalue": "pop from empty list",
     "output_type": "error",
     "traceback": [
      "\u001b[1;31m---------------------------------------------------------------------------\u001b[0m",
      "\u001b[1;31mIndexError\u001b[0m                                Traceback (most recent call last)",
      "\u001b[1;32m<ipython-input-58-b845a776c1dc>\u001b[0m in \u001b[0;36m<module>\u001b[1;34m\u001b[0m\n\u001b[0;32m      1\u001b[0m \u001b[0me\u001b[0m \u001b[1;33m=\u001b[0m \u001b[1;33m[\u001b[0m\u001b[1;33m]\u001b[0m\u001b[1;33m\u001b[0m\u001b[1;33m\u001b[0m\u001b[0m\n\u001b[0;32m      2\u001b[0m \u001b[1;33m\u001b[0m\u001b[0m\n\u001b[1;32m----> 3\u001b[1;33m \u001b[0me\u001b[0m\u001b[1;33m.\u001b[0m\u001b[0mpop\u001b[0m\u001b[1;33m(\u001b[0m\u001b[1;33m)\u001b[0m\u001b[1;33m\u001b[0m\u001b[1;33m\u001b[0m\u001b[0m\n\u001b[0m",
      "\u001b[1;31mIndexError\u001b[0m: pop from empty list"
     ]
    }
   ],
   "source": [
    "e = []\n",
    "\n",
    "e.pop()"
   ]
  },
  {
   "cell_type": "markdown",
   "id": "11817be9",
   "metadata": {},
   "source": [
    "    Notation -> Maths"
   ]
  },
  {
   "cell_type": "code",
   "execution_count": null,
   "id": "7f5bde45",
   "metadata": {},
   "outputs": [],
   "source": []
  },
  {
   "cell_type": "markdown",
   "id": "60956848",
   "metadata": {},
   "source": [
    "### Methods to remove item from a list\n",
    "\n",
    "    item = list.pop() -> delete and returnlast element from a list (default)\n",
    "    \n",
    "    item = list.pop(loc) -> delete and return element at index loc from list\n",
    "    \n",
    "    list.remove(item) -> search and delete first occurence of item from list"
   ]
  },
  {
   "cell_type": "code",
   "execution_count": 61,
   "id": "ca2382f7",
   "metadata": {},
   "outputs": [],
   "source": [
    "lang = [ 'c', 'c++', 'python', 'scala', 'java', 'ruby', 'perl']"
   ]
  },
  {
   "cell_type": "code",
   "execution_count": 62,
   "id": "d25f8145",
   "metadata": {},
   "outputs": [
    {
     "name": "stdout",
     "output_type": "stream",
     "text": [
      "perl\n"
     ]
    }
   ],
   "source": [
    "item = lang.pop()\n",
    "print(item)"
   ]
  },
  {
   "cell_type": "code",
   "execution_count": 63,
   "id": "a780c3b2",
   "metadata": {},
   "outputs": [
    {
     "name": "stdout",
     "output_type": "stream",
     "text": [
      "['c', 'c++', 'python', 'scala', 'java', 'ruby']\n"
     ]
    }
   ],
   "source": [
    "print(lang)"
   ]
  },
  {
   "cell_type": "code",
   "execution_count": 64,
   "id": "dc986c07",
   "metadata": {},
   "outputs": [
    {
     "name": "stdout",
     "output_type": "stream",
     "text": [
      "java\n"
     ]
    }
   ],
   "source": [
    "item = lang.pop(-2)\n",
    "print(item) # ?"
   ]
  },
  {
   "cell_type": "code",
   "execution_count": 65,
   "id": "9ab40a32",
   "metadata": {},
   "outputs": [
    {
     "name": "stdout",
     "output_type": "stream",
     "text": [
      "['c', 'c++', 'python', 'scala', 'ruby']\n"
     ]
    }
   ],
   "source": [
    "print(lang)"
   ]
  },
  {
   "cell_type": "code",
   "execution_count": 66,
   "id": "6648bc0c",
   "metadata": {},
   "outputs": [],
   "source": [
    "lang.insert(0, 'python')\n",
    "lang.extend(['java', 'php', 'python'])"
   ]
  },
  {
   "cell_type": "code",
   "execution_count": 67,
   "id": "16689a01",
   "metadata": {},
   "outputs": [
    {
     "name": "stdout",
     "output_type": "stream",
     "text": [
      "['python', 'c', 'c++', 'python', 'scala', 'ruby', 'java', 'php', 'python']\n"
     ]
    }
   ],
   "source": [
    "print(lang)"
   ]
  },
  {
   "cell_type": "code",
   "execution_count": 68,
   "id": "453d5f28",
   "metadata": {},
   "outputs": [
    {
     "name": "stdout",
     "output_type": "stream",
     "text": [
      "None\n",
      "['c', 'c++', 'python', 'scala', 'ruby', 'java', 'php', 'python']\n"
     ]
    }
   ],
   "source": [
    "item = lang.remove(\"python\")\n",
    "print(item) # None\n",
    "\n",
    "print(lang) # ['c', 'c++', 'python', 'scala', 'ruby', 'java', 'php', 'python']"
   ]
  },
  {
   "cell_type": "code",
   "execution_count": 69,
   "id": "3cbc079f",
   "metadata": {},
   "outputs": [],
   "source": [
    "lang.remove('python')"
   ]
  },
  {
   "cell_type": "code",
   "execution_count": 70,
   "id": "71fc7064",
   "metadata": {},
   "outputs": [
    {
     "name": "stdout",
     "output_type": "stream",
     "text": [
      "['c', 'c++', 'scala', 'ruby', 'java', 'php', 'python']\n"
     ]
    }
   ],
   "source": [
    "print(lang)"
   ]
  },
  {
   "cell_type": "markdown",
   "id": "b17aef53",
   "metadata": {},
   "source": [
    "#### comman methods\n",
    "\n",
    "    list.sort() -> it will arrange items in ascending order bydefault\n",
    "    list.sort(reverse=True) -> it will arrange item in descending order \n",
    "    \n",
    "    note: list should be homogenous\n",
    "    \n",
    "    list.reverse() -> it is inplace operation equal to list[::-1]\n",
    "    \n",
    "    count = list.count(item) -> return frequency of item in list\n",
    "    \n",
    "    list.clear() -> it will delete all items from a list\n",
    "    \n",
    "    i = list.index(item) -> it will return index of item, (first index) \n",
    "    \n",
    "    new_copy = list.copy() -> it returns a shallow copy of list"
   ]
  },
  {
   "cell_type": "code",
   "execution_count": 71,
   "id": "d47091c0",
   "metadata": {},
   "outputs": [
    {
     "name": "stdout",
     "output_type": "stream",
     "text": [
      "[1, 'hi', 6.4, 'hello', ['a', 'b', 'c'], 0]\n"
     ]
    }
   ],
   "source": [
    "x = [ 1, 'hi', 6.4, 'hello', ['a', 'b', 'c'], 0]\n",
    "print(x)"
   ]
  },
  {
   "cell_type": "code",
   "execution_count": 72,
   "id": "4a815015",
   "metadata": {},
   "outputs": [
    {
     "ename": "TypeError",
     "evalue": "'<' not supported between instances of 'str' and 'int'",
     "output_type": "error",
     "traceback": [
      "\u001b[1;31m---------------------------------------------------------------------------\u001b[0m",
      "\u001b[1;31mTypeError\u001b[0m                                 Traceback (most recent call last)",
      "\u001b[1;32m<ipython-input-72-5edff3203de0>\u001b[0m in \u001b[0;36m<module>\u001b[1;34m\u001b[0m\n\u001b[1;32m----> 1\u001b[1;33m \u001b[0mx\u001b[0m\u001b[1;33m.\u001b[0m\u001b[0msort\u001b[0m\u001b[1;33m(\u001b[0m\u001b[1;33m)\u001b[0m\u001b[1;33m\u001b[0m\u001b[1;33m\u001b[0m\u001b[0m\n\u001b[0m",
      "\u001b[1;31mTypeError\u001b[0m: '<' not supported between instances of 'str' and 'int'"
     ]
    }
   ],
   "source": [
    "x.sort()"
   ]
  },
  {
   "cell_type": "code",
   "execution_count": 73,
   "id": "3a775974",
   "metadata": {},
   "outputs": [],
   "source": [
    "names = ['ravi', 'bharat', 'yadvendra', 'ashish', 'sachin', 'rajat', 'nidhi', 'shivani', 'gaurav']"
   ]
  },
  {
   "cell_type": "code",
   "execution_count": 74,
   "id": "1c27229e",
   "metadata": {},
   "outputs": [
    {
     "name": "stdout",
     "output_type": "stream",
     "text": [
      "['ravi', 'bharat', 'yadvendra', 'ashish', 'sachin', 'rajat', 'nidhi', 'shivani', 'gaurav']\n"
     ]
    }
   ],
   "source": [
    "print(names)"
   ]
  },
  {
   "cell_type": "code",
   "execution_count": 75,
   "id": "1274e107",
   "metadata": {},
   "outputs": [],
   "source": [
    "names.sort()"
   ]
  },
  {
   "cell_type": "code",
   "execution_count": 76,
   "id": "e977c3bd",
   "metadata": {},
   "outputs": [
    {
     "name": "stdout",
     "output_type": "stream",
     "text": [
      "['ashish', 'bharat', 'gaurav', 'nidhi', 'rajat', 'ravi', 'sachin', 'shivani', 'yadvendra']\n"
     ]
    }
   ],
   "source": [
    "print(names)"
   ]
  },
  {
   "cell_type": "code",
   "execution_count": 77,
   "id": "e367161b",
   "metadata": {},
   "outputs": [],
   "source": [
    "nums = [ 4, 6, 8, 3, 8, 1, 23]"
   ]
  },
  {
   "cell_type": "code",
   "execution_count": 78,
   "id": "090cfab6",
   "metadata": {},
   "outputs": [],
   "source": [
    "nums.sort(reverse=True) # mutable, inplace"
   ]
  },
  {
   "cell_type": "code",
   "execution_count": 79,
   "id": "6b464b3b",
   "metadata": {},
   "outputs": [
    {
     "name": "stdout",
     "output_type": "stream",
     "text": [
      "[23, 8, 8, 6, 4, 3, 1]\n"
     ]
    }
   ],
   "source": [
    "print(nums)"
   ]
  },
  {
   "cell_type": "code",
   "execution_count": 80,
   "id": "87ff1782",
   "metadata": {},
   "outputs": [],
   "source": [
    "nums = [ 4, 6, 8, 3, 8, 1, 23]\n",
    "\n",
    "new = sorted(nums) # immutable "
   ]
  },
  {
   "cell_type": "code",
   "execution_count": 81,
   "id": "f3f82f0b",
   "metadata": {},
   "outputs": [
    {
     "name": "stdout",
     "output_type": "stream",
     "text": [
      "[4, 6, 8, 3, 8, 1, 23]\n"
     ]
    }
   ],
   "source": [
    "print(nums)"
   ]
  },
  {
   "cell_type": "code",
   "execution_count": 82,
   "id": "5e874497",
   "metadata": {},
   "outputs": [
    {
     "name": "stdout",
     "output_type": "stream",
     "text": [
      "[1, 3, 4, 6, 8, 8, 23]\n"
     ]
    }
   ],
   "source": [
    "print(new)"
   ]
  },
  {
   "cell_type": "code",
   "execution_count": 83,
   "id": "5edbb9e0",
   "metadata": {},
   "outputs": [],
   "source": [
    "data = [ 'one', 'two', 'three']"
   ]
  },
  {
   "cell_type": "code",
   "execution_count": 84,
   "id": "1622fad2",
   "metadata": {},
   "outputs": [],
   "source": [
    "data.reverse()"
   ]
  },
  {
   "cell_type": "code",
   "execution_count": 85,
   "id": "50d30db9",
   "metadata": {},
   "outputs": [
    {
     "name": "stdout",
     "output_type": "stream",
     "text": [
      "['three', 'two', 'one']\n"
     ]
    }
   ],
   "source": [
    "print(data)"
   ]
  },
  {
   "cell_type": "code",
   "execution_count": 86,
   "id": "ccbfec33",
   "metadata": {},
   "outputs": [],
   "source": [
    "import random "
   ]
  },
  {
   "cell_type": "code",
   "execution_count": 90,
   "id": "ec79a831",
   "metadata": {},
   "outputs": [],
   "source": [
    "items = [ random.randint(1, 5) for _ in range(10)]"
   ]
  },
  {
   "cell_type": "code",
   "execution_count": 91,
   "id": "2996e58b",
   "metadata": {},
   "outputs": [
    {
     "name": "stdout",
     "output_type": "stream",
     "text": [
      "[2, 1, 1, 1, 5, 1, 3, 5, 3, 5]\n"
     ]
    }
   ],
   "source": [
    "print(items)"
   ]
  },
  {
   "cell_type": "code",
   "execution_count": 93,
   "id": "b128fd1b",
   "metadata": {},
   "outputs": [
    {
     "name": "stdout",
     "output_type": "stream",
     "text": [
      "3 times 5 is there in list\n"
     ]
    }
   ],
   "source": [
    "k = 5\n",
    "c = items.count(k)\n",
    "\n",
    "print(f\"{c} times {k} is there in list\")"
   ]
  },
  {
   "cell_type": "code",
   "execution_count": 94,
   "id": "b609ba1c",
   "metadata": {},
   "outputs": [
    {
     "data": {
      "text/plain": [
       "[4, 6, 8, 3, 8, 1, 23]"
      ]
     },
     "execution_count": 94,
     "metadata": {},
     "output_type": "execute_result"
    }
   ],
   "source": [
    "nums"
   ]
  },
  {
   "cell_type": "code",
   "execution_count": 95,
   "id": "f20d8a66",
   "metadata": {},
   "outputs": [],
   "source": [
    "nums.clear()"
   ]
  },
  {
   "cell_type": "code",
   "execution_count": 96,
   "id": "9f7d493e",
   "metadata": {},
   "outputs": [
    {
     "name": "stdout",
     "output_type": "stream",
     "text": [
      "[]\n"
     ]
    }
   ],
   "source": [
    "print(nums)"
   ]
  },
  {
   "cell_type": "code",
   "execution_count": 97,
   "id": "cf052e6f",
   "metadata": {},
   "outputs": [
    {
     "name": "stdout",
     "output_type": "stream",
     "text": [
      "['ashish', 'bharat', 'gaurav', 'nidhi', 'rajat', 'ravi', 'sachin', 'shivani', 'yadvendra']\n"
     ]
    }
   ],
   "source": [
    "print(names)"
   ]
  },
  {
   "cell_type": "code",
   "execution_count": 98,
   "id": "0e19d106",
   "metadata": {},
   "outputs": [],
   "source": [
    "i = names.index('rajat')"
   ]
  },
  {
   "cell_type": "code",
   "execution_count": 99,
   "id": "6e9cbcf2",
   "metadata": {},
   "outputs": [
    {
     "name": "stdout",
     "output_type": "stream",
     "text": [
      "4\n"
     ]
    }
   ],
   "source": [
    "print(i)"
   ]
  },
  {
   "cell_type": "code",
   "execution_count": 100,
   "id": "60680e51",
   "metadata": {},
   "outputs": [
    {
     "name": "stdout",
     "output_type": "stream",
     "text": [
      "True\n"
     ]
    }
   ],
   "source": [
    "x = 5\n",
    "y = x\n",
    "\n",
    "print(x is y)"
   ]
  },
  {
   "cell_type": "code",
   "execution_count": 101,
   "id": "9921f4e6",
   "metadata": {},
   "outputs": [
    {
     "name": "stdout",
     "output_type": "stream",
     "text": [
      "140726144411568 140726144411568\n"
     ]
    }
   ],
   "source": [
    "print(id(x), id(y))"
   ]
  },
  {
   "cell_type": "code",
   "execution_count": 102,
   "id": "fad8cfb6",
   "metadata": {},
   "outputs": [
    {
     "name": "stdout",
     "output_type": "stream",
     "text": [
      "5\n"
     ]
    }
   ],
   "source": [
    "print(x)"
   ]
  },
  {
   "cell_type": "code",
   "execution_count": 103,
   "id": "da5e7e1a",
   "metadata": {},
   "outputs": [],
   "source": [
    "data = [ 'sachin', 'rajat', 'nidhi', 'yadvendra', 'ravi']"
   ]
  },
  {
   "cell_type": "code",
   "execution_count": 104,
   "id": "df627f4d",
   "metadata": {},
   "outputs": [],
   "source": [
    "old_data = data\n",
    "# it is not a copy operation in python"
   ]
  },
  {
   "cell_type": "code",
   "execution_count": 105,
   "id": "1aa711cd",
   "metadata": {},
   "outputs": [],
   "source": [
    "data.remove('yadvendra')"
   ]
  },
  {
   "cell_type": "code",
   "execution_count": 106,
   "id": "1e6676c6",
   "metadata": {},
   "outputs": [
    {
     "name": "stdout",
     "output_type": "stream",
     "text": [
      "['sachin', 'rajat', 'nidhi', 'ravi']\n"
     ]
    }
   ],
   "source": [
    "print(data)"
   ]
  },
  {
   "cell_type": "code",
   "execution_count": 107,
   "id": "11dc1d44",
   "metadata": {},
   "outputs": [
    {
     "name": "stdout",
     "output_type": "stream",
     "text": [
      "['sachin', 'rajat', 'nidhi', 'ravi']\n"
     ]
    }
   ],
   "source": [
    "print(old_data) # ? "
   ]
  },
  {
   "cell_type": "code",
   "execution_count": 109,
   "id": "3947209d",
   "metadata": {},
   "outputs": [],
   "source": [
    "data = [ 'sachin', 'rajat', 'nidhi', 'yadvendra', 'ravi']\n",
    "old_data = data.copy()"
   ]
  },
  {
   "cell_type": "code",
   "execution_count": 110,
   "id": "685b98bf",
   "metadata": {},
   "outputs": [],
   "source": [
    "data.remove('yadvendra')"
   ]
  },
  {
   "cell_type": "code",
   "execution_count": 111,
   "id": "42059f8b",
   "metadata": {},
   "outputs": [
    {
     "name": "stdout",
     "output_type": "stream",
     "text": [
      "['sachin', 'rajat', 'nidhi', 'ravi']\n"
     ]
    }
   ],
   "source": [
    "print(data)"
   ]
  },
  {
   "cell_type": "code",
   "execution_count": 112,
   "id": "c32d0e72",
   "metadata": {},
   "outputs": [
    {
     "name": "stdout",
     "output_type": "stream",
     "text": [
      "['sachin', 'rajat', 'nidhi', 'yadvendra', 'ravi']\n"
     ]
    }
   ],
   "source": [
    "print(old_data)"
   ]
  },
  {
   "cell_type": "code",
   "execution_count": 113,
   "id": "2fc2f2c2",
   "metadata": {},
   "outputs": [
    {
     "name": "stdout",
     "output_type": "stream",
     "text": [
      "False\n"
     ]
    }
   ],
   "source": [
    "print(data is old_data)"
   ]
  },
  {
   "cell_type": "markdown",
   "id": "37927e83",
   "metadata": {},
   "source": [
    "#### tuple\n",
    "\n",
    "    immutable list "
   ]
  },
  {
   "cell_type": "code",
   "execution_count": 114,
   "id": "9fde6a1c",
   "metadata": {},
   "outputs": [],
   "source": [
    "t = (1, 2, 3, 4)"
   ]
  },
  {
   "cell_type": "code",
   "execution_count": 115,
   "id": "28561cef",
   "metadata": {},
   "outputs": [
    {
     "name": "stdout",
     "output_type": "stream",
     "text": [
      "<class 'tuple'>\n"
     ]
    }
   ],
   "source": [
    "print(type(t))"
   ]
  },
  {
   "cell_type": "code",
   "execution_count": 116,
   "id": "e9ade3df",
   "metadata": {},
   "outputs": [
    {
     "name": "stdout",
     "output_type": "stream",
     "text": [
      "['__add__', '__class__', '__contains__', '__delattr__', '__dir__', '__doc__', '__eq__', '__format__', '__ge__', '__getattribute__', '__getitem__', '__getnewargs__', '__gt__', '__hash__', '__init__', '__init_subclass__', '__iter__', '__le__', '__len__', '__lt__', '__mul__', '__ne__', '__new__', '__reduce__', '__reduce_ex__', '__repr__', '__rmul__', '__setattr__', '__sizeof__', '__str__', '__subclasshook__', 'count', 'index']\n"
     ]
    }
   ],
   "source": [
    "print(dir(t))"
   ]
  },
  {
   "cell_type": "markdown",
   "id": "3945ac0a",
   "metadata": {},
   "source": [
    "#### why do we need to copy an object in python ? \n",
    "\n",
    "#### diffrence shallow copy and deep copy in python ?"
   ]
  },
  {
   "cell_type": "code",
   "execution_count": null,
   "id": "57d61673",
   "metadata": {},
   "outputs": [],
   "source": []
  }
 ],
 "metadata": {
  "kernelspec": {
   "display_name": "Python 3",
   "language": "python",
   "name": "python3"
  },
  "language_info": {
   "codemirror_mode": {
    "name": "ipython",
    "version": 3
   },
   "file_extension": ".py",
   "mimetype": "text/x-python",
   "name": "python",
   "nbconvert_exporter": "python",
   "pygments_lexer": "ipython3",
   "version": "3.8.8"
  }
 },
 "nbformat": 4,
 "nbformat_minor": 5
}
