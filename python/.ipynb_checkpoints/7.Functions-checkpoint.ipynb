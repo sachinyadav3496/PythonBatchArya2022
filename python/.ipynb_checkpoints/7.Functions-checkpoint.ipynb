{
 "cells": [
  {
   "cell_type": "markdown",
   "id": "7529ccf4",
   "metadata": {},
   "source": [
    "### For Loop\n",
    "\n",
    "    it is used to iterate iterables objects\n",
    "    \n",
    "    "
   ]
  },
  {
   "cell_type": "raw",
   "id": "c748c454",
   "metadata": {},
   "source": [
    "for item in iterable:\n",
    "    print(f\"do something with item {item}\")"
   ]
  },
  {
   "cell_type": "code",
   "execution_count": 3,
   "id": "83b05ec6",
   "metadata": {},
   "outputs": [
    {
     "name": "stdout",
     "output_type": "stream",
     "text": [
      "H\n",
      "ee\n",
      "lll\n",
      "llll\n",
      "ooooo\n"
     ]
    }
   ],
   "source": [
    "i = 1\n",
    "for c in \"Hello\":\n",
    "    print(c*i)\n",
    "    i += 1"
   ]
  },
  {
   "cell_type": "code",
   "execution_count": 4,
   "id": "7ad5fcd6",
   "metadata": {},
   "outputs": [],
   "source": [
    "names = [ \"yadvendra\", \"bharat\", \"shivani\", \"nidhi\"]"
   ]
  },
  {
   "cell_type": "code",
   "execution_count": 5,
   "id": "386b2cad",
   "metadata": {},
   "outputs": [
    {
     "name": "stdout",
     "output_type": "stream",
     "text": [
      "YADVENDRA\n",
      "BHARAT\n",
      "SHIVANI\n",
      "NIDHI\n"
     ]
    }
   ],
   "source": [
    "for item in names:\n",
    "    print(item.upper())"
   ]
  },
  {
   "cell_type": "code",
   "execution_count": 6,
   "id": "bf8bd9e4",
   "metadata": {},
   "outputs": [],
   "source": [
    "info = {\n",
    "    \"foo\": 5,\n",
    "    \"bar\": 10,\n",
    "    \"spam\": 20,\n",
    "    \"ham\": 30\n",
    "}"
   ]
  },
  {
   "cell_type": "code",
   "execution_count": 8,
   "id": "20c628a2",
   "metadata": {},
   "outputs": [
    {
     "name": "stdout",
     "output_type": "stream",
     "text": [
      "foo, 5\n",
      "bar, 10\n",
      "spam, 20\n",
      "ham, 30\n"
     ]
    }
   ],
   "source": [
    "for key, value in info.items():\n",
    "    print(f\"{key}, {value}\")"
   ]
  },
  {
   "cell_type": "code",
   "execution_count": 7,
   "id": "cf9f7a47",
   "metadata": {},
   "outputs": [
    {
     "name": "stdout",
     "output_type": "stream",
     "text": [
      "foo\n",
      "bar\n",
      "spam\n",
      "ham\n"
     ]
    }
   ],
   "source": [
    "for key in info:\n",
    "    print(key)"
   ]
  },
  {
   "cell_type": "markdown",
   "id": "48876488",
   "metadata": {},
   "source": [
    "## Question\n",
    "\n",
    "    "
   ]
  },
  {
   "cell_type": "code",
   "execution_count": 13,
   "id": "9ed00aaa",
   "metadata": {},
   "outputs": [
    {
     "data": {
      "text/plain": [
       "125000"
      ]
     },
     "execution_count": 13,
     "metadata": {},
     "output_type": "execute_result"
    }
   ],
   "source": [
    "25000*5"
   ]
  },
  {
   "cell_type": "code",
   "execution_count": 12,
   "id": "64caf1d4",
   "metadata": {},
   "outputs": [
    {
     "data": {
      "text/plain": [
       "0.3125"
      ]
     },
     "execution_count": 12,
     "metadata": {},
     "output_type": "execute_result"
    }
   ],
   "source": [
    "(80000-55000)/80000"
   ]
  },
  {
   "cell_type": "code",
   "execution_count": 9,
   "id": "742d3ee9",
   "metadata": {},
   "outputs": [],
   "source": [
    "data = {\n",
    "    \"samsung s21\": {\"model\": 2022, \"actual price\": 50000, \"selling price\": 70000, \"quantity\": 10},\n",
    "    \"iphone 13\": {\"model\": 2021, \"actual price\": 55000, \"selling price\": 80000, \"quantity\": 5},\n",
    "    \"one plus 10\": {\"model\": 2022, \"actual price\": 40000, \"selling price\": 50000, \"quantity\": 12}\n",
    "}"
   ]
  },
  {
   "cell_type": "code",
   "execution_count": 42,
   "id": "faf9fd85",
   "metadata": {},
   "outputs": [
    {
     "data": {
      "text/plain": [
       "80000"
      ]
     },
     "execution_count": 42,
     "metadata": {},
     "output_type": "execute_result"
    }
   ],
   "source": [
    "data[\"iphone 13\"][\"selling price\"]"
   ]
  },
  {
   "cell_type": "code",
   "execution_count": null,
   "id": "3b8946cd",
   "metadata": {},
   "outputs": [],
   "source": []
  },
  {
   "cell_type": "code",
   "execution_count": 40,
   "id": "fde196b8",
   "metadata": {},
   "outputs": [
    {
     "name": "stdout",
     "output_type": "stream",
     "text": [
      "______________________________________________________\n",
      "|        Name        |    Total Profit    | Profit % |\n",
      "______________________________________________________\n",
      "|    samsung s21     |       200000       | 40.00 %  |\n",
      "______________________________________________________\n",
      "|     iphone 13      |       125000       | 45.45 %  |\n",
      "______________________________________________________\n",
      "|    one plus 10     |       120000       | 25.00 %  |\n",
      "______________________________________________________\n"
     ]
    }
   ],
   "source": [
    "data = {\n",
    "    \"samsung s21\": {\"model\": 2022, \"actual price\": 50000, \"selling price\": 70000, \"quantity\": 10},\n",
    "    \"iphone 13\": {\"model\": 2021, \"actual price\": 55000, \"selling price\": 80000, \"quantity\": 5},\n",
    "    \"one plus 10\": {\"model\": 2022, \"actual price\": 40000, \"selling price\": 50000, \"quantity\": 12}\n",
    "}\n",
    "print(\"_\"*54)\n",
    "name, total, per = \"Name\", \"Total Profit\", \"Profit %\"\n",
    "print(f\"|{name:^20}|{total:^20}|{per:^10}|\")\n",
    "print(\"_\"*54)\n",
    "for name, value in data.items():\n",
    "    ap = value[\"actual price\"]\n",
    "    sp = value[\"selling price\"]\n",
    "    profit = (sp-ap)\n",
    "    qt = value[\"quantity\"]\n",
    "    total = qt*profit\n",
    "    per = f\"{(profit/ap)*100:.2f}\"+\" %\"\n",
    "    print(f\"|{name:^20}|{total:^20}|{per:^10}|\")\n",
    "    print(\"_\"*54)"
   ]
  },
  {
   "cell_type": "code",
   "execution_count": null,
   "id": "1862cfd8",
   "metadata": {},
   "outputs": [],
   "source": []
  },
  {
   "cell_type": "code",
   "execution_count": 16,
   "id": "93a7d3d4",
   "metadata": {},
   "outputs": [
    {
     "name": "stderr",
     "output_type": "stream",
     "text": [
      "100%|█████████████████████████████████████████████████████████████████████████████████████████████████████████████████████████████████████████████████████████████████████████████████████████████████████| 300/300 [05:03<00:00,  1.01s/it]\n"
     ]
    }
   ],
   "source": [
    "from tqdm import tqdm\n",
    "import time\n",
    "for _ in tqdm(range(300)):\n",
    "    time.sleep(1)"
   ]
  },
  {
   "cell_type": "code",
   "execution_count": 44,
   "id": "0aa2b92c",
   "metadata": {},
   "outputs": [
    {
     "name": "stdout",
     "output_type": "stream",
     "text": [
      "number: 5\n",
      "    5 x 1  = 5\n",
      "    5 x 2  = 10\n",
      "    5 x 3  = 15\n",
      "    5 x 4  = 20\n",
      "    5 x 5  = 25\n",
      "    5 x 6  = 30\n",
      "    5 x 7  = 35\n",
      "    5 x 8  = 40\n",
      "    5 x 9  = 45\n",
      "    5 x 10 = 50\n"
     ]
    }
   ],
   "source": [
    "ja = 1\n",
    "num = int(input(\"number: \"))\n",
    "while ja <= 10:\n",
    "    print(f\"{num:>5} x {ja:<2} = {num*ja}\")\n",
    "    ja += 1"
   ]
  },
  {
   "cell_type": "code",
   "execution_count": 45,
   "id": "84ed5296",
   "metadata": {},
   "outputs": [
    {
     "data": {
      "text/plain": [
       "range(0, 10)"
      ]
     },
     "execution_count": 45,
     "metadata": {},
     "output_type": "execute_result"
    }
   ],
   "source": [
    "range(10)"
   ]
  },
  {
   "cell_type": "code",
   "execution_count": 46,
   "id": "41509625",
   "metadata": {},
   "outputs": [
    {
     "name": "stdout",
     "output_type": "stream",
     "text": [
      "0 1 2 3 4 5 6 7 8 9\n"
     ]
    }
   ],
   "source": [
    "print(*range(10))"
   ]
  },
  {
   "cell_type": "code",
   "execution_count": 47,
   "id": "698edd17",
   "metadata": {},
   "outputs": [
    {
     "name": "stdout",
     "output_type": "stream",
     "text": [
      "1 2 3 4 5 6 7 8 9 10\n"
     ]
    }
   ],
   "source": [
    "print(*range(1, 11))"
   ]
  },
  {
   "cell_type": "code",
   "execution_count": 48,
   "id": "756b0a83",
   "metadata": {},
   "outputs": [
    {
     "name": "stdout",
     "output_type": "stream",
     "text": [
      "10 9 8 7 6 5 4 3 2 1\n"
     ]
    }
   ],
   "source": [
    "print(*range(10, 0, -1))"
   ]
  },
  {
   "cell_type": "markdown",
   "id": "936a1c21",
   "metadata": {},
   "source": [
    "`iterable`\n",
    "\n",
    "    str\n",
    "    list\n",
    "    dict\n",
    "    set\n",
    "    frozenset\n",
    "    \n",
    "    range\n",
    "    enumerate\n",
    "    zip"
   ]
  },
  {
   "cell_type": "code",
   "execution_count": 49,
   "id": "630fecd8",
   "metadata": {},
   "outputs": [
    {
     "name": "stdout",
     "output_type": "stream",
     "text": [
      "0 1 2 3 4\n"
     ]
    }
   ],
   "source": [
    "print(*range(5))"
   ]
  },
  {
   "cell_type": "code",
   "execution_count": 50,
   "id": "5ddeafbe",
   "metadata": {},
   "outputs": [
    {
     "name": "stdout",
     "output_type": "stream",
     "text": [
      "6 7 8 9\n"
     ]
    }
   ],
   "source": [
    "print(*range(6,10))"
   ]
  },
  {
   "cell_type": "code",
   "execution_count": 51,
   "id": "1c7e06ad",
   "metadata": {},
   "outputs": [
    {
     "name": "stdout",
     "output_type": "stream",
     "text": [
      "1\n",
      "3\n",
      "5\n",
      "7\n",
      "9\n"
     ]
    }
   ],
   "source": [
    "print(*range(1, 11, 2), sep=\"\\n\")"
   ]
  },
  {
   "cell_type": "code",
   "execution_count": 53,
   "id": "9ad148d3",
   "metadata": {},
   "outputs": [
    {
     "name": "stdout",
     "output_type": "stream",
     "text": [
      "number: 13\n",
      "13\n",
      "26\n",
      "39\n",
      "52\n",
      "65\n",
      "78\n",
      "91\n",
      "104\n",
      "117\n",
      "130\n"
     ]
    }
   ],
   "source": [
    "num = int(input(\"number: \")) # 5\n",
    "print(*range(num, num*10+1, num), sep='\\n')"
   ]
  },
  {
   "cell_type": "code",
   "execution_count": 55,
   "id": "3372c49e",
   "metadata": {},
   "outputs": [
    {
     "name": "stdout",
     "output_type": "stream",
     "text": [
      "number: 5\n",
      "5 10 15 20 25 30 35 40 45 50\n"
     ]
    }
   ],
   "source": [
    "num = int(input(\"number: \")) # 5\n",
    "print(*range(num, num*10+1, num))"
   ]
  },
  {
   "cell_type": "code",
   "execution_count": 56,
   "id": "3ecbfd03",
   "metadata": {},
   "outputs": [],
   "source": [
    "lst = list(range(100, 0, -10))"
   ]
  },
  {
   "cell_type": "code",
   "execution_count": 57,
   "id": "0c638706",
   "metadata": {},
   "outputs": [
    {
     "name": "stdout",
     "output_type": "stream",
     "text": [
      "[100, 90, 80, 70, 60, 50, 40, 30, 20, 10]\n"
     ]
    }
   ],
   "source": [
    "print(lst)"
   ]
  },
  {
   "cell_type": "code",
   "execution_count": 58,
   "id": "42dd1898",
   "metadata": {},
   "outputs": [
    {
     "name": "stdout",
     "output_type": "stream",
     "text": [
      "[1, 2, 3, 4, 5, 6, 7, 8, 9, 10, 11, 12, 13, 14, 15, 16, 17, 18, 19, 20, 21, 22, 23, 24, 25, 26, 27, 28, 29, 30, 31, 32, 33, 34, 35, 36, 37, 38, 39, 40, 41, 42, 43, 44, 45, 46, 47, 48, 49, 50, 51, 52, 53, 54, 55, 56, 57, 58, 59, 60, 61, 62, 63, 64, 65, 66, 67, 68, 69, 70, 71, 72, 73, 74, 75, 76, 77, 78, 79, 80, 81, 82, 83, 84, 85, 86, 87, 88, 89, 90, 91, 92, 93, 94, 95, 96, 97, 98, 99, 100]\n"
     ]
    }
   ],
   "source": [
    "nums = list(range(1, 101))\n",
    "print(nums)"
   ]
  },
  {
   "cell_type": "code",
   "execution_count": 62,
   "id": "0069b372",
   "metadata": {},
   "outputs": [
    {
     "name": "stdout",
     "output_type": "stream",
     "text": [
      "          *           \n",
      "         ***          \n",
      "        *****         \n",
      "       *******        \n",
      "      *********       \n",
      "     ***********      \n",
      "    *************     \n",
      "   ***************    \n",
      "  *****************   \n",
      " *******************  \n"
     ]
    }
   ],
   "source": [
    "for i in range(1, 21, 2):\n",
    "    s = \"*\"*i\n",
    "    print(s.center(22))"
   ]
  },
  {
   "cell_type": "code",
   "execution_count": null,
   "id": "e2c7d16d",
   "metadata": {},
   "outputs": [],
   "source": []
  },
  {
   "cell_type": "code",
   "execution_count": 66,
   "id": "eae8b2de",
   "metadata": {},
   "outputs": [
    {
     "name": "stdout",
     "output_type": "stream",
     "text": [
      "no of rows: 10\n",
      "----------*----------\n",
      "---------***---------\n",
      "--------*****--------\n",
      "-------*******-------\n",
      "------*********------\n",
      "-----***********-----\n",
      "----*************----\n",
      "---***************---\n",
      "--*****************--\n",
      "-*******************-\n",
      "*********************\n"
     ]
    }
   ],
   "source": [
    "n = int(input(\"no of rows: \"))\n",
    "for i in range(1, 2*n+2, 2):\n",
    "    s = \"*\"*i\n",
    "    print(s.center(2*n+1, '-'))"
   ]
  },
  {
   "cell_type": "code",
   "execution_count": 67,
   "id": "81f6df62",
   "metadata": {},
   "outputs": [
    {
     "name": "stdout",
     "output_type": "stream",
     "text": [
      "sachin has got 50 marks.\n",
      "rajat has got 45 marks.\n",
      "nidhi has got 67 marks.\n",
      "yadvendra has got 87 marks.\n"
     ]
    }
   ],
   "source": [
    "names = [\"sachin\", \"rajat\", \"nidhi\", \"yadvendra\"]\n",
    "marks = [50, 45, 67, 87]\n",
    "\n",
    "for i in range(len(marks)):\n",
    "    print(f\"{names[i]} has got {marks[i]} marks.\")\n",
    "    "
   ]
  },
  {
   "cell_type": "markdown",
   "id": "b1881c2f",
   "metadata": {},
   "source": [
    "**enumerate**\n",
    "\n",
    "    iterate by numbering each element\n",
    "    \n",
    "   "
   ]
  },
  {
   "cell_type": "code",
   "execution_count": 77,
   "id": "a745c147",
   "metadata": {},
   "outputs": [
    {
     "name": "stdout",
     "output_type": "stream",
     "text": [
      "(0, 's') (1, 'a') (2, 'c') (3, 'h') (4, 'i') (5, 'n')\n",
      "(1, 'one') (2, 'two') (3, 'three') (4, 'four') (5, 'five')\n"
     ]
    }
   ],
   "source": [
    "print(*enumerate(\"sachin\"))\n",
    "print(*enumerate(['one', 'two', 'three', 'four', 'five'], 1))"
   ]
  },
  {
   "cell_type": "code",
   "execution_count": null,
   "id": "373ea878",
   "metadata": {},
   "outputs": [],
   "source": []
  },
  {
   "cell_type": "code",
   "execution_count": 79,
   "id": "6030c8fb",
   "metadata": {},
   "outputs": [
    {
     "name": "stdout",
     "output_type": "stream",
     "text": [
      "1. c\n",
      "2. c++\n",
      "3. java\n",
      "4. python\n",
      "5. perl\n",
      "6. ruby\n",
      "7. go\n",
      "8. swift\n"
     ]
    }
   ],
   "source": [
    "lang = [\"c\", \"c++\", \"java\", \"python\", \"perl\", \"ruby\", \"go\", \"swift\"]\n",
    "for sno, item in enumerate(lang, 1):\n",
    "    print(f\"{sno}. {item}\")"
   ]
  },
  {
   "cell_type": "code",
   "execution_count": 74,
   "id": "f49a52e7",
   "metadata": {},
   "outputs": [
    {
     "name": "stdout",
     "output_type": "stream",
     "text": [
      "1. c\n",
      "2. c++\n",
      "3. java\n",
      "4. python\n",
      "5. perl\n",
      "6. ruby\n",
      "7. go\n",
      "8. swift\n"
     ]
    }
   ],
   "source": [
    "c = 1\n",
    "for item in lang:\n",
    "    print(f\"{c}. {item}\")\n",
    "    c += 1"
   ]
  },
  {
   "cell_type": "code",
   "execution_count": 72,
   "id": "b590f92e",
   "metadata": {},
   "outputs": [
    {
     "name": "stdout",
     "output_type": "stream",
     "text": [
      "1. c\n",
      "2. c++\n",
      "3. java\n",
      "4. python\n",
      "5. perl\n",
      "6. ruby\n",
      "7. go\n",
      "8. swift\n"
     ]
    }
   ],
   "source": [
    "for i in range(len(lang)):\n",
    "    print(f\"{i+1}. {lang[i]}\")"
   ]
  },
  {
   "cell_type": "code",
   "execution_count": 71,
   "id": "f8bd3f87",
   "metadata": {},
   "outputs": [
    {
     "name": "stdout",
     "output_type": "stream",
     "text": [
      "1. c\n",
      "2. c++\n",
      "3. java\n",
      "4. python\n",
      "5. perl\n",
      "6. ruby\n",
      "7. go\n",
      "8. swift\n"
     ]
    }
   ],
   "source": [
    "i = 0\n",
    "while i < len(lang):\n",
    "    print(f\"{i+1}. {lang[i]}\")\n",
    "    i += 1"
   ]
  },
  {
   "cell_type": "code",
   "execution_count": null,
   "id": "35ced997",
   "metadata": {},
   "outputs": [],
   "source": []
  },
  {
   "cell_type": "markdown",
   "id": "e820a0cd",
   "metadata": {},
   "source": [
    "    1. c\n",
    "    2. c++\n",
    "    3. java\n",
    "    4. python\n",
    "    5. perl"
   ]
  },
  {
   "cell_type": "code",
   "execution_count": 81,
   "id": "9f59bce0",
   "metadata": {},
   "outputs": [
    {
     "name": "stdout",
     "output_type": "stream",
     "text": [
      "1001 sachin\n",
      "1002 rajat\n",
      "1003 nidhi\n",
      "1004 yadvendra\n"
     ]
    }
   ],
   "source": [
    "names = ['sachin', 'rajat', 'nidhi', 'yadvendra']\n",
    "userid = 1001\n",
    "\n",
    "for id_, name in enumerate(names, userid):\n",
    "    print(f\"{id_} {name}\")\n"
   ]
  },
  {
   "cell_type": "markdown",
   "id": "a603a300",
   "metadata": {},
   "source": [
    "    1001 sachin\n",
    "    1002 rajat\n",
    "    1003 nidhi\n",
    "    1004 yadvendra"
   ]
  },
  {
   "cell_type": "code",
   "execution_count": 84,
   "id": "df2ea731",
   "metadata": {},
   "outputs": [
    {
     "name": "stdout",
     "output_type": "stream",
     "text": [
      "____________________________________________________________\n",
      "| sno  |        Name        |    Total Profit    | Profit % |\n",
      "____________________________________________________________\n",
      "|  1   |    samsung s21     |       200000       | 40.00 %  |\n",
      "____________________________________________________________\n",
      "|  2   |     iphone 13      |       125000       | 45.45 %  |\n",
      "____________________________________________________________\n",
      "|  3   |    one plus 10     |       120000       | 25.00 %  |\n",
      "____________________________________________________________\n"
     ]
    }
   ],
   "source": [
    "data = {\n",
    "    \"samsung s21\": {\"model\": 2022, \"actual price\": 50000, \"selling price\": 70000, \"quantity\": 10},\n",
    "    \"iphone 13\": {\"model\": 2021, \"actual price\": 55000, \"selling price\": 80000, \"quantity\": 5},\n",
    "    \"one plus 10\": {\"model\": 2022, \"actual price\": 40000, \"selling price\": 50000, \"quantity\": 12}\n",
    "}\n",
    "\n",
    "W = 60\n",
    "print(\"_\"*W)\n",
    "sno, name, total, per = \"sno\", \"Name\", \"Total Profit\", \"Profit %\"\n",
    "print(f\"|{sno:^6}|{name:^20}|{total:^20}|{per:^10}|\")\n",
    "print(\"_\"*W)\n",
    "for sno, (name, value) in enumerate(data.items(), 1):\n",
    "    ap = value[\"actual price\"]\n",
    "    sp = value[\"selling price\"]\n",
    "    profit = (sp-ap)\n",
    "    qt = value[\"quantity\"]\n",
    "    total = qt*profit\n",
    "    per = f\"{(profit/ap)*100:.2f}\"+\" %\"\n",
    "    print(f\"|{sno:^6}|{name:^20}|{total:^20}|{per:^10}|\")\n",
    "    print(\"_\"*W)"
   ]
  },
  {
   "cell_type": "markdown",
   "id": "b476a432",
   "metadata": {},
   "source": [
    "## zip \n",
    "\n",
    "    combine sequentially two or more iterables into a new iterable object called zip"
   ]
  },
  {
   "cell_type": "code",
   "execution_count": 87,
   "id": "92bab2e6",
   "metadata": {},
   "outputs": [],
   "source": [
    "s1 = \"sci aa\"\n",
    "s2 = \"ahnydv\""
   ]
  },
  {
   "cell_type": "code",
   "execution_count": 90,
   "id": "ae2632ee",
   "metadata": {},
   "outputs": [
    {
     "name": "stdout",
     "output_type": "stream",
     "text": [
      "sachin yadav"
     ]
    }
   ],
   "source": [
    "for c1,c2 in zip(s1, s2):\n",
    "    print(c1, c2, sep=\"\", end=\"\")"
   ]
  },
  {
   "cell_type": "code",
   "execution_count": 89,
   "id": "83ce67ad",
   "metadata": {},
   "outputs": [
    {
     "name": "stdout",
     "output_type": "stream",
     "text": [
      "('s', 'a') ('c', 'h') ('i', 'n') (' ', 'y') ('a', 'd') ('a', 'v')\n"
     ]
    }
   ],
   "source": [
    "print(*zip(s1, s2))"
   ]
  },
  {
   "cell_type": "code",
   "execution_count": null,
   "id": "ffe9b68a",
   "metadata": {},
   "outputs": [],
   "source": []
  },
  {
   "cell_type": "code",
   "execution_count": 86,
   "id": "c583adbc",
   "metadata": {},
   "outputs": [
    {
     "name": "stdout",
     "output_type": "stream",
     "text": [
      "1       ek              one      \n",
      "2       dou             two      \n",
      "3      teen            three     \n",
      "4      chaar           four      \n",
      "5     paanch           five      \n"
     ]
    }
   ],
   "source": [
    "english = [\"one\", \"two\", \"three\", \"four\", \"five\"]\n",
    "hindi = [\"ek\", \"dou\", \"teen\", \"chaar\", \"paanch\"]\n",
    "\n",
    "for i in range(len(english)):\n",
    "    print(f\"{i+1} {hindi[i]:^15} {english[i]:^15}\")"
   ]
  },
  {
   "cell_type": "code",
   "execution_count": 94,
   "id": "a5d35a85",
   "metadata": {},
   "outputs": [
    {
     "name": "stdout",
     "output_type": "stream",
     "text": [
      "    1        one ek\n",
      "    2        two dou\n",
      "    3      three teen\n",
      "    4       four chaar\n",
      "    5       five paanch\n"
     ]
    }
   ],
   "source": [
    "english = [\"one\", \"two\", \"three\", \"four\", \"five\"]\n",
    "hindi = [\"ek\", \"dou\", \"teen\", \"chaar\", \"paanch\"]\n",
    "\n",
    "for (i, (e, h)) in enumerate(zip(english, hindi), 1):\n",
    "    print(f\"{i:>5} {e:>10} {h:}\")"
   ]
  },
  {
   "cell_type": "markdown",
   "id": "896a0242",
   "metadata": {},
   "source": [
    "### Functions \n",
    "\n",
    "    what is a function ?\n",
    "    \n",
    "    function is group of statements which are used to perform a specific task \n",
    "    \n",
    "    resuable code\n",
    "    \n",
    "##### Features of function\n",
    "\n",
    "    code reusability\n",
    "    moduler programming\n",
    "    easy code\n",
    "    debugging\n",
    "    recursion\n",
    "    scope\n",
    "    \n",
    "    "
   ]
  },
  {
   "cell_type": "code",
   "execution_count": 95,
   "id": "aa072e06",
   "metadata": {},
   "outputs": [
    {
     "name": "stdout",
     "output_type": "stream",
     "text": [
      "['ArithmeticError', 'AssertionError', 'AttributeError', 'BaseException', 'BlockingIOError', 'BrokenPipeError', 'BufferError', 'BytesWarning', 'ChildProcessError', 'ConnectionAbortedError', 'ConnectionError', 'ConnectionRefusedError', 'ConnectionResetError', 'DeprecationWarning', 'EOFError', 'Ellipsis', 'EnvironmentError', 'Exception', 'False', 'FileExistsError', 'FileNotFoundError', 'FloatingPointError', 'FutureWarning', 'GeneratorExit', 'IOError', 'ImportError', 'ImportWarning', 'IndentationError', 'IndexError', 'InterruptedError', 'IsADirectoryError', 'KeyError', 'KeyboardInterrupt', 'LookupError', 'MemoryError', 'ModuleNotFoundError', 'NameError', 'None', 'NotADirectoryError', 'NotImplemented', 'NotImplementedError', 'OSError', 'OverflowError', 'PendingDeprecationWarning', 'PermissionError', 'ProcessLookupError', 'RecursionError', 'ReferenceError', 'ResourceWarning', 'RuntimeError', 'RuntimeWarning', 'StopAsyncIteration', 'StopIteration', 'SyntaxError', 'SyntaxWarning', 'SystemError', 'SystemExit', 'TabError', 'TimeoutError', 'True', 'TypeError', 'UnboundLocalError', 'UnicodeDecodeError', 'UnicodeEncodeError', 'UnicodeError', 'UnicodeTranslateError', 'UnicodeWarning', 'UserWarning', 'ValueError', 'Warning', 'WindowsError', 'ZeroDivisionError', '__IPYTHON__', '__build_class__', '__debug__', '__doc__', '__import__', '__loader__', '__name__', '__package__', '__spec__', 'abs', 'all', 'any', 'ascii', 'bin', 'bool', 'breakpoint', 'bytearray', 'bytes', 'callable', 'chr', 'classmethod', 'compile', 'complex', 'copyright', 'credits', 'delattr', 'dict', 'dir', 'display', 'divmod', 'enumerate', 'eval', 'exec', 'filter', 'float', 'format', 'frozenset', 'get_ipython', 'getattr', 'globals', 'hasattr', 'hash', 'help', 'hex', 'id', 'input', 'int', 'isinstance', 'issubclass', 'iter', 'len', 'license', 'list', 'locals', 'map', 'max', 'memoryview', 'min', 'next', 'object', 'oct', 'open', 'ord', 'pow', 'print', 'property', 'range', 'repr', 'reversed', 'round', 'set', 'setattr', 'slice', 'sorted', 'staticmethod', 'str', 'sum', 'super', 'tuple', 'type', 'vars', 'zip']\n"
     ]
    }
   ],
   "source": [
    "import builtins\n",
    "print(dir(builtins))"
   ]
  },
  {
   "cell_type": "code",
   "execution_count": 96,
   "id": "24ec3d50",
   "metadata": {},
   "outputs": [],
   "source": [
    "import psutil"
   ]
  },
  {
   "cell_type": "code",
   "execution_count": 104,
   "id": "5cb5d354",
   "metadata": {},
   "outputs": [
    {
     "data": {
      "text/plain": [
       "8.6"
      ]
     },
     "execution_count": 104,
     "metadata": {},
     "output_type": "execute_result"
    }
   ],
   "source": [
    "psutil.cpu_percent()"
   ]
  },
  {
   "cell_type": "code",
   "execution_count": 109,
   "id": "52933304",
   "metadata": {},
   "outputs": [
    {
     "data": {
      "image/png": "[encoded data removed]",
      "text/plain": [
       "<Figure size 2400x800 with 1 Axes>"
      ]
     },
     "metadata": {
      "needs_background": "light"
     },
     "output_type": "display_data"
    }
   ],
   "source": [
    "import matplotlib.pyplot as plt\n",
    "import numpy as np\n",
    "\n",
    "angles = np.arange(0, 361*2, 15)\n",
    "rad = np.deg2rad(angles)\n",
    "sin = np.sin(rad)\n",
    "cos = np.cos(rad)\n",
    "plt.figure(dpi=200, figsize=(12, 4))\n",
    "plt.plot(rad, sin, '--ro', label='sin')\n",
    "plt.plot(rad, cos, ':gs', label='cos')\n",
    "plt.xticks(rad, angles, rotation=90)\n",
    "plt.legend()\n",
    "plt.grid()\n",
    "plt.show()"
   ]
  },
  {
   "cell_type": "markdown",
   "id": "44fc3616",
   "metadata": {},
   "source": [
    "#### Type of Functions\n",
    "\n",
    "    1. Built-in Functions\n",
    "    \n",
    "        print, input, sum, reversed, sorted, list, int, zip, enumerate, range, ...\n",
    "        \n",
    "    2. Library Functions\n",
    "    \n",
    "        Standard Library\n",
    "            \n",
    "            random.randint, time.sleep, sys.exit, sys.path, math.sqrt, ...\n",
    "            \n",
    "            https://docs.python.org/3/library/\n",
    "         \n",
    "        Third Party Library\n",
    "            \n",
    "            > python -m pip install package_name\n",
    "        \n",
    "            plt.plot, np.arange, np.sin, np.cos, ...\n",
    "            \n",
    "            https://pypi.org/\n",
    "            \n",
    "            EDA - [pandas, numpy, matplotlib, seaborn, plotly, bookeh, scipy]\n",
    "            ML - [sklearn, stats]\n",
    "            DL - [tensorflow, pytorch]\n",
    "            Web - [flask, fastapi, django]\n",
    "            \n",
    "     3. User Defined Function\n",
    "     \n",
    "         is_prime"
   ]
  },
  {
   "cell_type": "markdown",
   "id": "4b0daa07",
   "metadata": {},
   "source": [
    "#### Functions ? "
   ]
  },
  {
   "cell_type": "code",
   "execution_count": null,
   "id": "00059389",
   "metadata": {},
   "outputs": [],
   "source": []
  }
 ],
 "metadata": {
  "kernelspec": {
   "display_name": "Python 3",
   "language": "python",
   "name": "python3"
  },
  "language_info": {
   "codemirror_mode": {
    "name": "ipython",
    "version": 3
   },
   "file_extension": ".py",
   "mimetype": "text/x-python",
   "name": "python",
   "nbconvert_exporter": "python",
   "pygments_lexer": "ipython3",
   "version": "3.8.8"
  }
 },
 "nbformat": 4,
 "nbformat_minor": 5
}
