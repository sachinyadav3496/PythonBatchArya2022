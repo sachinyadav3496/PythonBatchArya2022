{
 "cells": [
  {
   "cell_type": "code",
   "execution_count": 2,
   "id": "c74d3071",
   "metadata": {},
   "outputs": [
    {
     "name": "stdout",
     "output_type": "stream",
     "text": [
      "Requirement already satisfied: opencv-python in c:\\anaconda\\lib\\site-packages (4.5.3.56)\n",
      "Collecting opencv-python\n",
      "  Downloading opencv_python-4.6.0.66-cp36-abi3-win_amd64.whl (35.6 MB)\n",
      "Requirement already satisfied: numpy>=1.17.3 in c:\\anaconda\\lib\\site-packages (from opencv-python) (1.19.5)\n",
      "Installing collected packages: opencv-python\n",
      "  Attempting uninstall: opencv-python\n",
      "    Found existing installation: opencv-python 4.5.3.56\n",
      "    Uninstalling opencv-python-4.5.3.56:\n",
      "      Successfully uninstalled opencv-python-4.5.3.56\n",
      "Successfully installed opencv-python-4.6.0.66\n",
      "Note: you may need to restart the kernel to use updated packages.\n"
     ]
    }
   ],
   "source": [
    "pip install opencv-python --upgrade"
   ]
  },
  {
   "cell_type": "code",
   "execution_count": null,
   "id": "a1779e27",
   "metadata": {},
   "outputs": [],
   "source": []
  },
  {
   "cell_type": "markdown",
   "id": "f6057540",
   "metadata": {},
   "source": [
    "#### Function\n",
    "\n",
    "    A function is group of statements to perform a specific task\n",
    "    \n",
    "##### According to Use There are 3 type of functions\n",
    "\n",
    "    1. Built-in Function\n",
    "    \n",
    "        print, input, sum, list, int, enumerate, gip, range, ...\n",
    "        \n",
    "    2. Library Functions / Modules\n",
    "    \n",
    "        Standard Library - python default library, pre included with python package\n",
    "        \n",
    "        Third Party Library - Open Source Library Provided pypi.org or other sources\n",
    "                              \n",
    "                              We need to install them by using command \n",
    "                              \n",
    "                              pip install package_name\n",
    "                              \n",
    "    3. User Defined Function (UDF)\n",
    "    \n",
    "       user can create his/her own function in order to solve a complex problem"
   ]
  },
  {
   "cell_type": "markdown",
   "id": "7e25cd08",
   "metadata": {},
   "source": [
    "### User Defined Functions"
   ]
  },
  {
   "cell_type": "markdown",
   "id": "f30b84af",
   "metadata": {},
   "source": [
    "    Reusable Code\n",
    "    \n",
    "        step-1 we need to  define a function and store it \n",
    "        step-2 whenever we need we can call function to perform actions"
   ]
  },
  {
   "cell_type": "markdown",
   "id": "e531f6d1",
   "metadata": {},
   "source": [
    "    # PIP PACKAGE INSTALLER\n",
    "    \n",
    "    # YUM, DNF, RPM .. package manager  # .exe -> setup \n",
    "    \n",
    "    # conda install pakcage\n",
    "    \n",
    "    # sudo pip install ?"
   ]
  },
  {
   "cell_type": "markdown",
   "id": "2c35ca80",
   "metadata": {},
   "source": [
    "`Syntax`\n",
    "\n",
    "    Defination of a function\n",
    "    \n",
    "        def function_name(arg1, arg2, ...): # formal arguments\n",
    "            \"\"\"\n",
    "                doc string\n",
    "            \"\"\"\n",
    "            st-1\n",
    "            st-2\n",
    "            st-3\n",
    "            st-4\n",
    "            ...\n",
    "            st-n\n",
    "            return value\n",
    "           \n",
    "    Calling of a function\n",
    "    \n",
    "    value = function_name(para1, para2, ...) # actual arguments\n",
    "        "
   ]
  },
  {
   "cell_type": "code",
   "execution_count": 4,
   "id": "eadc6148",
   "metadata": {},
   "outputs": [],
   "source": [
    "def hello():\n",
    "    print('ye b karna hai')\n",
    "    print('vo b karna hai')\n",
    "    print(\"baar baar karna hai\")"
   ]
  },
  {
   "cell_type": "code",
   "execution_count": 5,
   "id": "59d23f33",
   "metadata": {},
   "outputs": [
    {
     "name": "stdout",
     "output_type": "stream",
     "text": [
      "ye b karna hai\n",
      "vo b karna hai\n",
      "baar baar karna hai\n"
     ]
    }
   ],
   "source": [
    "hello()"
   ]
  },
  {
   "cell_type": "markdown",
   "id": "bd1b010d",
   "metadata": {},
   "source": [
    "`signature of function`"
   ]
  },
  {
   "cell_type": "code",
   "execution_count": 6,
   "id": "d45a246d",
   "metadata": {},
   "outputs": [],
   "source": [
    "def greet(name):\n",
    "    \"\"\"\n",
    "        a function to greet a user\n",
    "    \"\"\"\n",
    "    print(f\"Welcome user! {name}\")\n",
    "    "
   ]
  },
  {
   "cell_type": "code",
   "execution_count": 7,
   "id": "dad4a7f9",
   "metadata": {},
   "outputs": [
    {
     "name": "stdout",
     "output_type": "stream",
     "text": [
      "Help on function greet in module __main__:\n",
      "\n",
      "greet(name)\n",
      "    a function to greet a user\n",
      "\n"
     ]
    }
   ],
   "source": [
    "help(greet) # documentation string"
   ]
  },
  {
   "cell_type": "code",
   "execution_count": 8,
   "id": "907b4039",
   "metadata": {},
   "outputs": [
    {
     "name": "stdout",
     "output_type": "stream",
     "text": [
      "Welcome user! Sachin Yadav\n"
     ]
    }
   ],
   "source": [
    "greet(\"Sachin Yadav\")"
   ]
  },
  {
   "cell_type": "code",
   "execution_count": 9,
   "id": "0074c26f",
   "metadata": {},
   "outputs": [
    {
     "name": "stdout",
     "output_type": "stream",
     "text": [
      "Welcome user! Rajat Goyal\n"
     ]
    }
   ],
   "source": [
    "greet(\"Rajat Goyal\")"
   ]
  },
  {
   "cell_type": "code",
   "execution_count": 10,
   "id": "f1d11bd9",
   "metadata": {},
   "outputs": [],
   "source": [
    "names = [ 'ram', 'shyam', 'ali', 'john', 'natasha', 'tom', 'jerry']"
   ]
  },
  {
   "cell_type": "code",
   "execution_count": 11,
   "id": "3142541d",
   "metadata": {},
   "outputs": [
    {
     "name": "stdout",
     "output_type": "stream",
     "text": [
      "Welcome user! ram\n",
      "Welcome user! shyam\n",
      "Welcome user! ali\n",
      "Welcome user! john\n",
      "Welcome user! natasha\n",
      "Welcome user! tom\n",
      "Welcome user! jerry\n"
     ]
    }
   ],
   "source": [
    "for name in names:\n",
    "    greet(name)"
   ]
  },
  {
   "cell_type": "markdown",
   "id": "192a7972",
   "metadata": {},
   "source": [
    "`Decleration of a Function`\n",
    "\n",
    "\n",
    "    void hello();\n",
    "\n",
    "    void add(int x, int y);\n",
    "\n",
    "    float pi();\n",
    "\n",
    "    int areaOfTriangle(float a, float b, float c);"
   ]
  },
  {
   "cell_type": "code",
   "execution_count": null,
   "id": "79bed978",
   "metadata": {},
   "outputs": [],
   "source": []
  },
  {
   "cell_type": "markdown",
   "id": "090dc263",
   "metadata": {},
   "source": [
    "##### We can define funciton in 4 ways \n",
    "\n",
    "\n",
    "    Type-1 Without Argument Without Return Type\n",
    "    Type-2 Without Argument With Return Type\n",
    "    Type-3 With Argument Without Return Type\n",
    "    Type-4 With Argument With Return Type\n",
    "    \n",
    "##### Calling of a Function\n",
    "\n",
    "    call by value\n",
    "        \n",
    "        immutable object behave like call by value\n",
    "    \n",
    "    call by refrence \n",
    "    \n",
    "        mutable object behave like call by refrence"
   ]
  },
  {
   "cell_type": "code",
   "execution_count": 12,
   "id": "ba8fea4f",
   "metadata": {},
   "outputs": [
    {
     "name": "stdout",
     "output_type": "stream",
     "text": [
      "Hello World!\n",
      "enter number: 45\n"
     ]
    }
   ],
   "source": [
    "print(\"Hello World!\") # without return type\n",
    "\n",
    "num = int(input(\"enter number: \")) # with return type"
   ]
  },
  {
   "cell_type": "code",
   "execution_count": 14,
   "id": "d019a5b7",
   "metadata": {},
   "outputs": [
    {
     "name": "stdout",
     "output_type": "stream",
     "text": [
      "\n"
     ]
    }
   ],
   "source": [
    "print() # without argument"
   ]
  },
  {
   "cell_type": "code",
   "execution_count": 16,
   "id": "fc63dfad",
   "metadata": {},
   "outputs": [
    {
     "name": "stdout",
     "output_type": "stream",
     "text": [
      "hi bye good bye\n"
     ]
    }
   ],
   "source": [
    "print(\"hi\", \"bye\", \"good bye\") # with argument"
   ]
  },
  {
   "cell_type": "markdown",
   "id": "66b1040f",
   "metadata": {},
   "source": [
    "`Type-1 Without Argument Without Return Type`\n",
    "\n",
    "    Informative or Display Function"
   ]
  },
  {
   "cell_type": "code",
   "execution_count": 17,
   "id": "39c3a032",
   "metadata": {},
   "outputs": [],
   "source": [
    "def intro():\n",
    "    print(\"Grras Solutions Pvt Ltd. is Ed-Tech Company Established in 2008\")"
   ]
  },
  {
   "cell_type": "code",
   "execution_count": 18,
   "id": "faa554d9",
   "metadata": {},
   "outputs": [
    {
     "name": "stdout",
     "output_type": "stream",
     "text": [
      "Grras Solutions Pvt Ltd. is Ed-Tech Company Established in 2008\n"
     ]
    }
   ],
   "source": [
    "intro()"
   ]
  },
  {
   "cell_type": "code",
   "execution_count": 19,
   "id": "532efaf0",
   "metadata": {},
   "outputs": [],
   "source": [
    "def pattern():\n",
    "    for i in range(1, 11):\n",
    "        print((\"*\"*i).rjust(10))"
   ]
  },
  {
   "cell_type": "code",
   "execution_count": 20,
   "id": "afade6f9",
   "metadata": {},
   "outputs": [
    {
     "name": "stdout",
     "output_type": "stream",
     "text": [
      "         *\n",
      "        **\n",
      "       ***\n",
      "      ****\n",
      "     *****\n",
      "    ******\n",
      "   *******\n",
      "  ********\n",
      " *********\n",
      "**********\n",
      "None\n"
     ]
    }
   ],
   "source": [
    "x = pattern()\n",
    "print(x)"
   ]
  },
  {
   "cell_type": "markdown",
   "id": "1bbe1157",
   "metadata": {},
   "source": [
    "`Type-2 Without Argument With Return Type`"
   ]
  },
  {
   "cell_type": "code",
   "execution_count": 22,
   "id": "b0c82d6d",
   "metadata": {},
   "outputs": [
    {
     "name": "stdout",
     "output_type": "stream",
     "text": [
      "100.0\n"
     ]
    }
   ],
   "source": [
    "v = 1e2\n",
    "print(v)"
   ]
  },
  {
   "cell_type": "code",
   "execution_count": 23,
   "id": "a7cf83f0",
   "metadata": {},
   "outputs": [
    {
     "name": "stdout",
     "output_type": "stream",
     "text": [
      "0.01\n"
     ]
    }
   ],
   "source": [
    "v = 1e-2\n",
    "print(v)"
   ]
  },
  {
   "cell_type": "code",
   "execution_count": null,
   "id": "3ed9d791",
   "metadata": {},
   "outputs": [],
   "source": []
  },
  {
   "cell_type": "code",
   "execution_count": 24,
   "id": "a2d57c3e",
   "metadata": {},
   "outputs": [],
   "source": [
    "def pi():\n",
    "    return 22/7\n",
    "\n",
    "def h():\n",
    "    return 6.62e-34"
   ]
  },
  {
   "cell_type": "code",
   "execution_count": 27,
   "id": "b5dacd59",
   "metadata": {},
   "outputs": [
    {
     "name": "stdout",
     "output_type": "stream",
     "text": [
      "3.142857142857143\n"
     ]
    }
   ],
   "source": [
    "p = pi()\n",
    "print(p)"
   ]
  },
  {
   "cell_type": "code",
   "execution_count": 28,
   "id": "ab98c54b",
   "metadata": {},
   "outputs": [
    {
     "name": "stdout",
     "output_type": "stream",
     "text": [
      "314.2857142857143\n"
     ]
    }
   ],
   "source": [
    "r = 10\n",
    "a = pi()*r*r\n",
    "print(a)"
   ]
  },
  {
   "cell_type": "code",
   "execution_count": 35,
   "id": "d4d9c0d6",
   "metadata": {},
   "outputs": [],
   "source": [
    "def get_info():\n",
    "    return \"python\", \"3.10\""
   ]
  },
  {
   "cell_type": "code",
   "execution_count": 36,
   "id": "49489efd",
   "metadata": {},
   "outputs": [
    {
     "name": "stdout",
     "output_type": "stream",
     "text": [
      "('python', '3.10')\n"
     ]
    }
   ],
   "source": [
    "ans = get_info()\n",
    "print(ans)"
   ]
  },
  {
   "cell_type": "code",
   "execution_count": 37,
   "id": "7745cac7",
   "metadata": {},
   "outputs": [],
   "source": [
    "l, v = get_info()"
   ]
  },
  {
   "cell_type": "code",
   "execution_count": 38,
   "id": "24a478cb",
   "metadata": {},
   "outputs": [
    {
     "name": "stdout",
     "output_type": "stream",
     "text": [
      "python is having 3.10 version\n"
     ]
    }
   ],
   "source": [
    "print(f\"{l} is having {v} version\")"
   ]
  },
  {
   "cell_type": "markdown",
   "id": "95a13896",
   "metadata": {},
   "source": [
    "`Type-3 With Argument Without Return Value`"
   ]
  },
  {
   "cell_type": "markdown",
   "id": "6e1c3e57",
   "metadata": {},
   "source": [
    "#### Annonation \n",
    "    \n",
    "    just for visuals "
   ]
  },
  {
   "cell_type": "code",
   "execution_count": 50,
   "id": "f1b07af3",
   "metadata": {},
   "outputs": [
    {
     "name": "stdout",
     "output_type": "stream",
     "text": [
      "Help on function hello in module __main__:\n",
      "\n",
      "hello() -> None\n",
      "\n",
      "hello World!\n"
     ]
    }
   ],
   "source": [
    "### Type-1:\n",
    "\n",
    "def hello()->None:\n",
    "    print(\"hello World!\")\n",
    "    \n",
    "help(hello)\n",
    "hello()"
   ]
  },
  {
   "cell_type": "code",
   "execution_count": 52,
   "id": "ee33d79a",
   "metadata": {},
   "outputs": [],
   "source": [
    "def pi()->float:\n",
    "    return 22/7"
   ]
  },
  {
   "cell_type": "code",
   "execution_count": 54,
   "id": "ad32c31a",
   "metadata": {},
   "outputs": [
    {
     "name": "stdout",
     "output_type": "stream",
     "text": [
      "3.142857142857143\n"
     ]
    }
   ],
   "source": [
    "f = pi()\n",
    "print(f)"
   ]
  },
  {
   "cell_type": "code",
   "execution_count": 55,
   "id": "7e884bc8",
   "metadata": {},
   "outputs": [],
   "source": [
    "def hello(name: str)->None:\n",
    "    print(f\"Hello! {name}! With Argument Without Return Type\")"
   ]
  },
  {
   "cell_type": "code",
   "execution_count": 58,
   "id": "f44952de",
   "metadata": {},
   "outputs": [
    {
     "name": "stdout",
     "output_type": "stream",
     "text": [
      "Help on function hello in module __main__:\n",
      "\n",
      "hello(name: str) -> None\n",
      "\n"
     ]
    }
   ],
   "source": [
    "help(hello)"
   ]
  },
  {
   "cell_type": "code",
   "execution_count": 56,
   "id": "c02ddb75",
   "metadata": {},
   "outputs": [
    {
     "name": "stdout",
     "output_type": "stream",
     "text": [
      "Hello! sachin! With Argument Without Return Type\n"
     ]
    }
   ],
   "source": [
    "hello(\"sachin\")"
   ]
  },
  {
   "cell_type": "code",
   "execution_count": 57,
   "id": "f120ea88",
   "metadata": {},
   "outputs": [
    {
     "name": "stdout",
     "output_type": "stream",
     "text": [
      "Hello! 123! With Argument Without Return Type\n"
     ]
    }
   ],
   "source": [
    "hello(123)"
   ]
  },
  {
   "cell_type": "code",
   "execution_count": 39,
   "id": "056f9026",
   "metadata": {},
   "outputs": [],
   "source": [
    "def greet(name):\n",
    "    print(f\"Welcome {name}! to the world of python programming.\")"
   ]
  },
  {
   "cell_type": "code",
   "execution_count": 46,
   "id": "5d9bfb1b",
   "metadata": {},
   "outputs": [
    {
     "name": "stdout",
     "output_type": "stream",
     "text": [
      "Welcome {'a': 'b'}! to the world of python programming.\n"
     ]
    }
   ],
   "source": [
    "greet({'a':'b'})"
   ]
  },
  {
   "cell_type": "code",
   "execution_count": 47,
   "id": "ec76e058",
   "metadata": {},
   "outputs": [
    {
     "name": "stdout",
     "output_type": "stream",
     "text": [
      "Welcome Sachin! to the world of python programming.\n"
     ]
    }
   ],
   "source": [
    "greet(\"Sachin\")"
   ]
  },
  {
   "cell_type": "markdown",
   "id": "e2fae2f5",
   "metadata": {},
   "source": [
    "`Type-4 With Argument With Return Type`"
   ]
  },
  {
   "cell_type": "code",
   "execution_count": 63,
   "id": "03ef1e52",
   "metadata": {},
   "outputs": [],
   "source": [
    "import math"
   ]
  },
  {
   "cell_type": "code",
   "execution_count": 68,
   "id": "d1b755f8",
   "metadata": {},
   "outputs": [],
   "source": [
    "def areaOfTriangle(a: float, b: float, c: float)->float:\n",
    "    \"\"\"\n",
    "        it calculates and returns area of triangle given by sides a, b, c\n",
    "    \"\"\"\n",
    "    if (a+b>c) and (b+c>a) and (a+c>b):\n",
    "        s = (a+b+c)/2\n",
    "        area = math.sqrt((s*(s-a)*(s-b)*(s-c)))\n",
    "        return area\n",
    "    else:\n",
    "        raise ValueError(\"Invalid Sides of Triange\")"
   ]
  },
  {
   "cell_type": "code",
   "execution_count": 69,
   "id": "0f794884",
   "metadata": {},
   "outputs": [
    {
     "ename": "ValueError",
     "evalue": "Invalid Sides of Triange",
     "output_type": "error",
     "traceback": [
      "\u001b[1;31m---------------------------------------------------------------------------\u001b[0m",
      "\u001b[1;31mValueError\u001b[0m                                Traceback (most recent call last)",
      "\u001b[1;32m<ipython-input-69-f2aa90dcea2d>\u001b[0m in \u001b[0;36m<module>\u001b[1;34m\u001b[0m\n\u001b[1;32m----> 1\u001b[1;33m \u001b[0mar\u001b[0m \u001b[1;33m=\u001b[0m \u001b[0mareaOfTriangle\u001b[0m\u001b[1;33m(\u001b[0m\u001b[1;36m30\u001b[0m\u001b[1;33m,\u001b[0m \u001b[1;36m40\u001b[0m\u001b[1;33m,\u001b[0m \u001b[1;36m100\u001b[0m\u001b[1;33m)\u001b[0m\u001b[1;33m\u001b[0m\u001b[1;33m\u001b[0m\u001b[0m\n\u001b[0m",
      "\u001b[1;32m<ipython-input-68-7964756ff101>\u001b[0m in \u001b[0;36mareaOfTriangle\u001b[1;34m(a, b, c)\u001b[0m\n\u001b[0;32m      8\u001b[0m         \u001b[1;32mreturn\u001b[0m \u001b[0marea\u001b[0m\u001b[1;33m\u001b[0m\u001b[1;33m\u001b[0m\u001b[0m\n\u001b[0;32m      9\u001b[0m     \u001b[1;32melse\u001b[0m\u001b[1;33m:\u001b[0m\u001b[1;33m\u001b[0m\u001b[1;33m\u001b[0m\u001b[0m\n\u001b[1;32m---> 10\u001b[1;33m         \u001b[1;32mraise\u001b[0m \u001b[0mValueError\u001b[0m\u001b[1;33m(\u001b[0m\u001b[1;34m\"Invalid Sides of Triange\"\u001b[0m\u001b[1;33m)\u001b[0m\u001b[1;33m\u001b[0m\u001b[1;33m\u001b[0m\u001b[0m\n\u001b[0m",
      "\u001b[1;31mValueError\u001b[0m: Invalid Sides of Triange"
     ]
    }
   ],
   "source": [
    "ar = areaOfTriangle(30, 40, 100)"
   ]
  },
  {
   "cell_type": "code",
   "execution_count": 67,
   "id": "6d402c4e",
   "metadata": {},
   "outputs": [
    {
     "name": "stdout",
     "output_type": "stream",
     "text": [
      "1558.8457268119896\n"
     ]
    }
   ],
   "source": [
    "value = areaOfTriangle(60, 60, 60)\n",
    "print(value)"
   ]
  },
  {
   "cell_type": "code",
   "execution_count": 60,
   "id": "d08aae44",
   "metadata": {},
   "outputs": [
    {
     "name": "stdout",
     "output_type": "stream",
     "text": [
      "Help on function areaOfTriangle in module __main__:\n",
      "\n",
      "areaOfTriangle(a: float, b: float, c: float) -> float\n",
      "    it calculates and returns area of triangle given by sides a, b, c\n",
      "\n"
     ]
    }
   ],
   "source": [
    "help(areaOfTriangle)"
   ]
  },
  {
   "cell_type": "markdown",
   "id": "bdbd1744",
   "metadata": {},
   "source": [
    "`return` is the last statement of a function\n"
   ]
  },
  {
   "cell_type": "code",
   "execution_count": 70,
   "id": "fcfe48fc",
   "metadata": {},
   "outputs": [
    {
     "name": "stdout",
     "output_type": "stream",
     "text": [
      "1\n"
     ]
    }
   ],
   "source": [
    "def check():\n",
    "    return 1\n",
    "    print(\"Hello World!\")\n",
    "    return 2\n",
    "    print(\"Bye World!\")\n",
    "    return 3\n",
    "\n",
    "a = check()\n",
    "print(a)"
   ]
  },
  {
   "cell_type": "code",
   "execution_count": 71,
   "id": "07a21a82",
   "metadata": {},
   "outputs": [],
   "source": [
    "def check():\n",
    "    while True:\n",
    "        return 10"
   ]
  },
  {
   "cell_type": "code",
   "execution_count": 72,
   "id": "0b178185",
   "metadata": {},
   "outputs": [
    {
     "name": "stdout",
     "output_type": "stream",
     "text": [
      "10\n"
     ]
    }
   ],
   "source": [
    "ans = check()\n",
    "print(ans)"
   ]
  },
  {
   "cell_type": "code",
   "execution_count": 73,
   "id": "6a1d4df8",
   "metadata": {},
   "outputs": [],
   "source": [
    "def is_prime(num: int)->bool:\n",
    "    \"\"\"\n",
    "        return True if num is prime else return False\n",
    "    \"\"\"\n",
    "    if num <= 1:\n",
    "        return False\n",
    "    if num <= 3:\n",
    "        return True\n",
    "    if num %2 == 0:\n",
    "        return False\n",
    "    for check in range(3, int(math.sqrt(num))+2, 2):\n",
    "        if num % check == 0:\n",
    "            return False\n",
    "    return True"
   ]
  },
  {
   "cell_type": "code",
   "execution_count": 76,
   "id": "59e5664f",
   "metadata": {},
   "outputs": [
    {
     "data": {
      "text/plain": [
       "True"
      ]
     },
     "execution_count": 76,
     "metadata": {},
     "output_type": "execute_result"
    }
   ],
   "source": [
    "is_prime(127)"
   ]
  },
  {
   "cell_type": "markdown",
   "id": "eb1473b7",
   "metadata": {},
   "source": [
    "`list comprenshions`"
   ]
  },
  {
   "cell_type": "code",
   "execution_count": 83,
   "id": "2a0f1dfa",
   "metadata": {},
   "outputs": [
    {
     "name": "stdout",
     "output_type": "stream",
     "text": [
      "Start: 10\n",
      "End: 100\n",
      "11 13 17 19 23 29 31 37 41 43 47 53 59 61 67 71 73 79 83 89 97\n",
      "total prime in ragne(10, 100) are 21.\n"
     ]
    }
   ],
   "source": [
    "def is_prime(num: int)->bool:\n",
    "    \"\"\"\n",
    "        return True if num is prime else return False\n",
    "    \"\"\"\n",
    "    if num <= 1:\n",
    "        return False\n",
    "    if num <= 3:\n",
    "        return True\n",
    "    if num %2 == 0:\n",
    "        return False\n",
    "    for check in range(3, int(math.sqrt(num))+2, 2):\n",
    "        if num % check == 0:\n",
    "            return False\n",
    "    return True\n",
    "\n",
    "start = int(input(\"Start: \"))\n",
    "end = int(input(\"End: \"))\n",
    "primes = [num for num in range(start, end+1) if is_prime(num)]\n",
    "print(*primes)\n",
    "print(f\"total prime in ragne({start}, {end}) are {len(primes)}.\")"
   ]
  },
  {
   "cell_type": "markdown",
   "id": "d4342739",
   "metadata": {},
   "source": [
    "##### Type of arguments\n",
    "    \n",
    "    positional/required, default/optional, multiple positional, multiple keyword args\n",
    "    \n",
    "#### Scope & Recursion\n",
    "\n",
    "#### generators\n",
    "\n",
    "#### map, filter, reduce, lambda\n",
    "\n",
    "#### File Handling Topic\n",
    "\n",
    "##### OOPs\n",
    "\n",
    "#### Exception Handling\n",
    "\n",
    "#### Module Package\n",
    "\n",
    "##### Data Base\n",
    "\n",
    "#### Flask App"
   ]
  },
  {
   "cell_type": "code",
   "execution_count": null,
   "id": "e26e3e13",
   "metadata": {},
   "outputs": [],
   "source": []
  }
 ],
 "metadata": {
  "kernelspec": {
   "display_name": "Python 3",
   "language": "python",
   "name": "python3"
  },
  "language_info": {
   "codemirror_mode": {
    "name": "ipython",
    "version": 3
   },
   "file_extension": ".py",
   "mimetype": "text/x-python",
   "name": "python",
   "nbconvert_exporter": "python",
   "pygments_lexer": "ipython3",
   "version": "3.8.8"
  }
 },
 "nbformat": 4,
 "nbformat_minor": 5
}
