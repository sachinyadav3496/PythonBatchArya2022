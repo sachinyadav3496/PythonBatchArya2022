{
 "cells": [
  {
   "cell_type": "markdown",
   "id": "dab14798",
   "metadata": {},
   "source": [
    "##### nested list"
   ]
  },
  {
   "cell_type": "markdown",
   "id": "b25491bc",
   "metadata": {},
   "source": [
    "Table / 2D matrix\n",
    "\n",
    "    name   test-1   test-2   test-3\n",
    "\n",
    "    tushar   70      80        90\n",
    "    kapil    80      86        76\n",
    "    sahil    78      87        89\n",
    "\n",
    "    "
   ]
  },
  {
   "cell_type": "code",
   "execution_count": 14,
   "id": "bef19222",
   "metadata": {},
   "outputs": [],
   "source": [
    "students = [\n",
    "    [\"tushar\", 70, 80, 90], # 0\n",
    "    [\"kapil\", 80, 86, 76],  # 1\n",
    "    [\"sahil\", 78, 87, 89],  # 2\n",
    "    [\"sachin\", 67, 76, 78], #3\n",
    "    # 0        1   2   3\n",
    "]"
   ]
  },
  {
   "cell_type": "code",
   "execution_count": 15,
   "id": "bae2f166",
   "metadata": {},
   "outputs": [
    {
     "name": "stdout",
     "output_type": "stream",
     "text": [
      "86\n"
     ]
    }
   ],
   "source": [
    "m = students[1][2]\n",
    "print(m)"
   ]
  },
  {
   "cell_type": "code",
   "execution_count": 16,
   "id": "bd76750f",
   "metadata": {},
   "outputs": [],
   "source": [
    "# replace\n",
    "students[1][2] = 100\n",
    "# complex, nested"
   ]
  },
  {
   "cell_type": "markdown",
   "id": "49303428",
   "metadata": {},
   "source": [
    "    pretty printer"
   ]
  },
  {
   "cell_type": "code",
   "execution_count": 17,
   "id": "08607318",
   "metadata": {},
   "outputs": [],
   "source": [
    "from pprint import pprint"
   ]
  },
  {
   "cell_type": "code",
   "execution_count": 19,
   "id": "b2fcf7bf",
   "metadata": {},
   "outputs": [
    {
     "name": "stdout",
     "output_type": "stream",
     "text": [
      "[['tushar', 70, 80, 90], ['kapil', 80, 100, 76], ['sahil', 78, 87, 89], ['sachin', 67, 76, 78]]\n"
     ]
    }
   ],
   "source": [
    "print(students)"
   ]
  },
  {
   "cell_type": "code",
   "execution_count": 18,
   "id": "90acec2e",
   "metadata": {},
   "outputs": [
    {
     "name": "stdout",
     "output_type": "stream",
     "text": [
      "[['tushar', 70, 80, 90],\n",
      " ['kapil', 80, 100, 76],\n",
      " ['sahil', 78, 87, 89],\n",
      " ['sachin', 67, 76, 78]]\n"
     ]
    }
   ],
   "source": [
    "pprint(students) # [x, y, z, p, q, ...]"
   ]
  },
  {
   "cell_type": "code",
   "execution_count": 25,
   "id": "69d0874c",
   "metadata": {},
   "outputs": [],
   "source": [
    "students.sort(reverse=True)"
   ]
  },
  {
   "cell_type": "code",
   "execution_count": 26,
   "id": "644a1651",
   "metadata": {},
   "outputs": [
    {
     "name": "stdout",
     "output_type": "stream",
     "text": [
      "[['tushar', 70, 80, 90],\n",
      " ['sahil', 78, 87, 89],\n",
      " ['sachin', 67, 76, 78],\n",
      " ['kapil', 80, 100, 76]]\n"
     ]
    }
   ],
   "source": [
    "pprint(students)"
   ]
  },
  {
   "cell_type": "code",
   "execution_count": 27,
   "id": "bd840176",
   "metadata": {},
   "outputs": [
    {
     "name": "stdout",
     "output_type": "stream",
     "text": [
      "Help on built-in function sort:\n",
      "\n",
      "sort(*, key=None, reverse=False) method of builtins.list instance\n",
      "    Sort the list in ascending order and return None.\n",
      "    \n",
      "    The sort is in-place (i.e. the list itself is modified) and stable (i.e. the\n",
      "    order of two equal elements is maintained).\n",
      "    \n",
      "    If a key function is given, apply it once to each list item and sort them,\n",
      "    ascending or descending, according to their function values.\n",
      "    \n",
      "    The reverse flag can be set to sort in descending order.\n",
      "\n"
     ]
    }
   ],
   "source": [
    "help(students.sort)"
   ]
  },
  {
   "cell_type": "code",
   "execution_count": 30,
   "id": "6677cd04",
   "metadata": {},
   "outputs": [
    {
     "name": "stdout",
     "output_type": "stream",
     "text": [
      "[['a', 10], ['b', 4], ['c', 2]]\n"
     ]
    }
   ],
   "source": [
    "n = [['b', 4], ['c', 2], ['a', 10]]\n",
    "n.sort()\n",
    "print(n)"
   ]
  },
  {
   "cell_type": "code",
   "execution_count": 31,
   "id": "159bd39a",
   "metadata": {},
   "outputs": [
    {
     "name": "stdout",
     "output_type": "stream",
     "text": [
      "[['tushar', 70, 80, 90],\n",
      " ['sahil', 78, 87, 89],\n",
      " ['sachin', 67, 76, 78],\n",
      " ['kapil', 80, 100, 76]]\n"
     ]
    }
   ],
   "source": [
    "pprint(students)"
   ]
  },
  {
   "cell_type": "code",
   "execution_count": 32,
   "id": "00d3c44a",
   "metadata": {},
   "outputs": [],
   "source": [
    "def get_element(item):\n",
    "    \"\"\"\n",
    "        item = ['name', 'test-1 marks', 'test-2 marks', 'test-3 marks']\n",
    "    \"\"\" \n",
    "    return item[3]\n",
    "    "
   ]
  },
  {
   "cell_type": "code",
   "execution_count": 35,
   "id": "5a57cda3",
   "metadata": {},
   "outputs": [
    {
     "data": {
      "text/plain": [
       "78"
      ]
     },
     "execution_count": 35,
     "metadata": {},
     "output_type": "execute_result"
    }
   ],
   "source": [
    "get_element(students[2])"
   ]
  },
  {
   "cell_type": "code",
   "execution_count": 36,
   "id": "99b9ae34",
   "metadata": {},
   "outputs": [],
   "source": [
    "students.sort(key=get_element, reverse=True)"
   ]
  },
  {
   "cell_type": "code",
   "execution_count": 37,
   "id": "6391faee",
   "metadata": {},
   "outputs": [
    {
     "name": "stdout",
     "output_type": "stream",
     "text": [
      "[['tushar', 70, 80, 90],\n",
      " ['sahil', 78, 87, 89],\n",
      " ['sachin', 67, 76, 78],\n",
      " ['kapil', 80, 100, 76]]\n"
     ]
    }
   ],
   "source": [
    "pprint(students)"
   ]
  },
  {
   "cell_type": "code",
   "execution_count": 47,
   "id": "4f16aece",
   "metadata": {},
   "outputs": [],
   "source": [
    "from operator import itemgetter"
   ]
  },
  {
   "cell_type": "code",
   "execution_count": 52,
   "id": "539b523f",
   "metadata": {},
   "outputs": [
    {
     "name": "stdout",
     "output_type": "stream",
     "text": [
      "awesome\n"
     ]
    }
   ],
   "source": [
    "f = itemgetter(1)\n",
    "# get_item(seq, index=1)\n",
    "value = f(['hi', 'awesome', 'bye', 'good bye'])\n",
    "print(value)"
   ]
  },
  {
   "cell_type": "code",
   "execution_count": 55,
   "id": "feaa23b2",
   "metadata": {},
   "outputs": [],
   "source": [
    "from pprint import pprint\n",
    "from operator import itemgetter"
   ]
  },
  {
   "cell_type": "code",
   "execution_count": 56,
   "id": "6d57eff3",
   "metadata": {},
   "outputs": [],
   "source": [
    "students = [\n",
    "    [\"tushar\", 70, 80, 90], # 0\n",
    "    [\"kapil\", 80, 86, 76],  # 1\n",
    "    [\"sahil\", 78, 87, 89],  # 2\n",
    "    [\"sachin\", 67, 76, 78], #3\n",
    "    # 0        1   2   3\n",
    "]"
   ]
  },
  {
   "cell_type": "code",
   "execution_count": 61,
   "id": "f87e2f38",
   "metadata": {},
   "outputs": [],
   "source": [
    "students.sort(reverse=True, key=itemgetter(2))"
   ]
  },
  {
   "cell_type": "code",
   "execution_count": 62,
   "id": "6fce552c",
   "metadata": {},
   "outputs": [
    {
     "name": "stdout",
     "output_type": "stream",
     "text": [
      "[['sahil', 78, 87, 89],\n",
      " ['kapil', 80, 86, 76],\n",
      " ['tushar', 70, 80, 90],\n",
      " ['sachin', 67, 76, 78]]\n"
     ]
    }
   ],
   "source": [
    "pprint(students)"
   ]
  },
  {
   "cell_type": "code",
   "execution_count": 65,
   "id": "300ee72f",
   "metadata": {},
   "outputs": [
    {
     "name": "stdout",
     "output_type": "stream",
     "text": [
      "[['tushar', 70, 80, 90],\n",
      " ['sahil', 78, 87, 89],\n",
      " ['sachin', 67, 76, 78],\n",
      " ['kapil', 80, 86, 76]]\n"
     ]
    }
   ],
   "source": [
    "def get_element(item):\n",
    "    \"\"\"\n",
    "        item = ['name', 'test-1 marks', 'test-2 marks', 'test-3 marks']\n",
    "    \"\"\" \n",
    "    return item[3]\n",
    "    \n",
    "students.sort(key=get_element, reverse=True)\n",
    "pprint(students)"
   ]
  },
  {
   "cell_type": "code",
   "execution_count": 68,
   "id": "b48178e7",
   "metadata": {},
   "outputs": [
    {
     "data": {
      "text/plain": [
       "6"
      ]
     },
     "execution_count": 68,
     "metadata": {},
     "output_type": "execute_result"
    }
   ],
   "source": [
    "sum(['sachin',1, 2, 3][1:])"
   ]
  },
  {
   "cell_type": "code",
   "execution_count": 69,
   "id": "022c41da",
   "metadata": {},
   "outputs": [],
   "source": [
    "def get_item(record):\n",
    "    return sum(record[1:])"
   ]
  },
  {
   "cell_type": "code",
   "execution_count": 70,
   "id": "3d42bfe3",
   "metadata": {},
   "outputs": [],
   "source": [
    "students.sort(key=get_item, reverse=True)"
   ]
  },
  {
   "cell_type": "code",
   "execution_count": 71,
   "id": "db816c12",
   "metadata": {},
   "outputs": [
    {
     "name": "stdout",
     "output_type": "stream",
     "text": [
      "[['sahil', 78, 87, 89],\n",
      " ['kapil', 80, 86, 76],\n",
      " ['tushar', 70, 80, 90],\n",
      " ['sachin', 67, 76, 78]]\n"
     ]
    }
   ],
   "source": [
    "pprint(students)"
   ]
  },
  {
   "cell_type": "markdown",
   "id": "8b208c1c",
   "metadata": {},
   "source": [
    "### Tuple\n",
    "\n",
    "    immutable list"
   ]
  },
  {
   "cell_type": "code",
   "execution_count": 72,
   "id": "d6d35334",
   "metadata": {},
   "outputs": [],
   "source": [
    "t = ('hi', 'hello', 'bye')"
   ]
  },
  {
   "cell_type": "code",
   "execution_count": 73,
   "id": "b2c8a36c",
   "metadata": {},
   "outputs": [
    {
     "name": "stdout",
     "output_type": "stream",
     "text": [
      "hello\n"
     ]
    }
   ],
   "source": [
    "print(t[1])"
   ]
  },
  {
   "cell_type": "code",
   "execution_count": 74,
   "id": "592ff526",
   "metadata": {},
   "outputs": [
    {
     "name": "stdout",
     "output_type": "stream",
     "text": [
      "('hi', 'hello')\n"
     ]
    }
   ],
   "source": [
    "print(t[:2])"
   ]
  },
  {
   "cell_type": "code",
   "execution_count": 75,
   "id": "a56afaa6",
   "metadata": {},
   "outputs": [
    {
     "name": "stdout",
     "output_type": "stream",
     "text": [
      "hello\n"
     ]
    }
   ],
   "source": [
    "print(t[-2])"
   ]
  },
  {
   "cell_type": "code",
   "execution_count": 76,
   "id": "de893539",
   "metadata": {},
   "outputs": [
    {
     "name": "stdout",
     "output_type": "stream",
     "text": [
      "('hi', 'hello')\n"
     ]
    }
   ],
   "source": [
    "print(t[:-1])"
   ]
  },
  {
   "cell_type": "code",
   "execution_count": 77,
   "id": "8af73fc6",
   "metadata": {},
   "outputs": [
    {
     "name": "stdout",
     "output_type": "stream",
     "text": [
      "('hi', 'hello', 'bye')\n"
     ]
    }
   ],
   "source": [
    "nt = t[::-1]\n",
    "print(t)"
   ]
  },
  {
   "cell_type": "code",
   "execution_count": 78,
   "id": "52b80251",
   "metadata": {},
   "outputs": [
    {
     "name": "stdout",
     "output_type": "stream",
     "text": [
      "('bye', 'hello', 'hi')\n"
     ]
    }
   ],
   "source": [
    "print(nt)"
   ]
  },
  {
   "cell_type": "code",
   "execution_count": 79,
   "id": "810c18d5",
   "metadata": {},
   "outputs": [
    {
     "name": "stdout",
     "output_type": "stream",
     "text": [
      "[4, 3, 2, 1]\n"
     ]
    }
   ],
   "source": [
    "l = [1, 2, 3, 4]\n",
    "l.reverse()\n",
    "print(l)"
   ]
  },
  {
   "cell_type": "code",
   "execution_count": 81,
   "id": "2a96a26f",
   "metadata": {},
   "outputs": [
    {
     "name": "stdout",
     "output_type": "stream",
     "text": [
      "[4, 3, 2, 1]\n",
      "[4, 3, 2, 1]\n"
     ]
    }
   ],
   "source": [
    "l = [1, 2, 3, 4]\n",
    "nl = l[::-1]\n",
    "nnl = list(reversed(l))\n",
    "print(nl)\n",
    "print(nnl)"
   ]
  },
  {
   "cell_type": "code",
   "execution_count": 82,
   "id": "3e717c18",
   "metadata": {},
   "outputs": [
    {
     "name": "stdout",
     "output_type": "stream",
     "text": [
      "['__add__', '__class__', '__contains__', '__delattr__', '__dir__', '__doc__', '__eq__', '__format__', '__ge__', '__getattribute__', '__getitem__', '__getnewargs__', '__gt__', '__hash__', '__init__', '__init_subclass__', '__iter__', '__le__', '__len__', '__lt__', '__mul__', '__ne__', '__new__', '__reduce__', '__reduce_ex__', '__repr__', '__rmul__', '__setattr__', '__sizeof__', '__str__', '__subclasshook__', 'count', 'index']\n"
     ]
    }
   ],
   "source": [
    "print(dir(tuple))"
   ]
  },
  {
   "cell_type": "code",
   "execution_count": 83,
   "id": "4d5c580c",
   "metadata": {},
   "outputs": [],
   "source": [
    "abc = ['hi', 'hello', 'good', 'bye']"
   ]
  },
  {
   "cell_type": "code",
   "execution_count": 84,
   "id": "dbad96e3",
   "metadata": {},
   "outputs": [],
   "source": [
    "abc[1] = 'hacked it'"
   ]
  },
  {
   "cell_type": "code",
   "execution_count": 85,
   "id": "39fa9d05",
   "metadata": {},
   "outputs": [
    {
     "name": "stdout",
     "output_type": "stream",
     "text": [
      "['hi', 'hacked it', 'good', 'bye']\n"
     ]
    }
   ],
   "source": [
    "print(abc)"
   ]
  },
  {
   "cell_type": "code",
   "execution_count": 86,
   "id": "fac42978",
   "metadata": {},
   "outputs": [],
   "source": [
    "t = (1, 2, 3)"
   ]
  },
  {
   "cell_type": "code",
   "execution_count": 87,
   "id": "c091061a",
   "metadata": {},
   "outputs": [
    {
     "ename": "TypeError",
     "evalue": "'tuple' object does not support item assignment",
     "output_type": "error",
     "traceback": [
      "\u001b[1;31m---------------------------------------------------------------------------\u001b[0m",
      "\u001b[1;31mTypeError\u001b[0m                                 Traceback (most recent call last)",
      "\u001b[1;32m<ipython-input-87-77b2e9ee7333>\u001b[0m in \u001b[0;36m<module>\u001b[1;34m\u001b[0m\n\u001b[1;32m----> 1\u001b[1;33m \u001b[0mt\u001b[0m\u001b[1;33m[\u001b[0m\u001b[1;36m1\u001b[0m\u001b[1;33m]\u001b[0m \u001b[1;33m=\u001b[0m \u001b[1;36m200\u001b[0m\u001b[1;33m\u001b[0m\u001b[1;33m\u001b[0m\u001b[0m\n\u001b[0m",
      "\u001b[1;31mTypeError\u001b[0m: 'tuple' object does not support item assignment"
     ]
    }
   ],
   "source": [
    "t[1] = 200"
   ]
  },
  {
   "cell_type": "code",
   "execution_count": 88,
   "id": "f62666a1",
   "metadata": {},
   "outputs": [],
   "source": [
    "values = ( 3.14, 6.02, 'sachin')"
   ]
  },
  {
   "cell_type": "code",
   "execution_count": 89,
   "id": "00291b66",
   "metadata": {},
   "outputs": [
    {
     "data": {
      "text/plain": [
       "3.14"
      ]
     },
     "execution_count": 89,
     "metadata": {},
     "output_type": "execute_result"
    }
   ],
   "source": [
    "values[0]"
   ]
  },
  {
   "cell_type": "code",
   "execution_count": 90,
   "id": "83ce8f34",
   "metadata": {},
   "outputs": [
    {
     "ename": "TypeError",
     "evalue": "'tuple' object does not support item assignment",
     "output_type": "error",
     "traceback": [
      "\u001b[1;31m---------------------------------------------------------------------------\u001b[0m",
      "\u001b[1;31mTypeError\u001b[0m                                 Traceback (most recent call last)",
      "\u001b[1;32m<ipython-input-90-a7f08382d329>\u001b[0m in \u001b[0;36m<module>\u001b[1;34m\u001b[0m\n\u001b[1;32m----> 1\u001b[1;33m \u001b[0mvalues\u001b[0m\u001b[1;33m[\u001b[0m\u001b[1;36m0\u001b[0m\u001b[1;33m]\u001b[0m \u001b[1;33m=\u001b[0m \u001b[1;36m10\u001b[0m\u001b[1;33m\u001b[0m\u001b[1;33m\u001b[0m\u001b[0m\n\u001b[0m",
      "\u001b[1;31mTypeError\u001b[0m: 'tuple' object does not support item assignment"
     ]
    }
   ],
   "source": [
    "values[0] = 10"
   ]
  },
  {
   "cell_type": "code",
   "execution_count": 91,
   "id": "76d7943d",
   "metadata": {},
   "outputs": [
    {
     "name": "stdout",
     "output_type": "stream",
     "text": [
      "hi\n"
     ]
    }
   ],
   "source": [
    "values = 'hi'\n",
    "print(values)"
   ]
  },
  {
   "cell_type": "code",
   "execution_count": 95,
   "id": "8395323c",
   "metadata": {},
   "outputs": [
    {
     "name": "stdout",
     "output_type": "stream",
     "text": [
      "[1, 2, 3, 4, 5, 6]\n",
      "[6, 5, 4, 3, 2, 1]\n"
     ]
    }
   ],
   "source": [
    "a = [1, 2, 3,4 , 5, 6]\n",
    "b = sorted(a, reverse=True)\n",
    "print(a)\n",
    "print(b)"
   ]
  },
  {
   "cell_type": "code",
   "execution_count": 96,
   "id": "77dd6932",
   "metadata": {},
   "outputs": [
    {
     "name": "stdout",
     "output_type": "stream",
     "text": [
      "[6, 5, 4, 3, 2, 1]\n"
     ]
    }
   ],
   "source": [
    "a.sort(reverse=True)\n",
    "print(a)"
   ]
  },
  {
   "cell_type": "code",
   "execution_count": 97,
   "id": "6712f009",
   "metadata": {},
   "outputs": [],
   "source": [
    "#     0      1      ...\n",
    "a = ['hi', 'hello', ...]"
   ]
  },
  {
   "cell_type": "code",
   "execution_count": 101,
   "id": "24a52e48",
   "metadata": {},
   "outputs": [
    {
     "ename": "TypeError",
     "evalue": "unhashable type: 'list'",
     "output_type": "error",
     "traceback": [
      "\u001b[1;31m---------------------------------------------------------------------------\u001b[0m",
      "\u001b[1;31mTypeError\u001b[0m                                 Traceback (most recent call last)",
      "\u001b[1;32m<ipython-input-101-73a17ade063b>\u001b[0m in \u001b[0;36m<module>\u001b[1;34m\u001b[0m\n\u001b[0;32m      1\u001b[0m \u001b[0mt\u001b[0m \u001b[1;33m=\u001b[0m \u001b[1;33m[\u001b[0m\u001b[1;36m1\u001b[0m\u001b[1;33m,\u001b[0m \u001b[1;36m2\u001b[0m\u001b[1;33m]\u001b[0m\u001b[1;33m\u001b[0m\u001b[1;33m\u001b[0m\u001b[0m\n\u001b[1;32m----> 2\u001b[1;33m \u001b[0mprint\u001b[0m\u001b[1;33m(\u001b[0m\u001b[0mhash\u001b[0m\u001b[1;33m(\u001b[0m\u001b[0mt\u001b[0m\u001b[1;33m)\u001b[0m\u001b[1;33m)\u001b[0m\u001b[1;33m\u001b[0m\u001b[1;33m\u001b[0m\u001b[0m\n\u001b[0m",
      "\u001b[1;31mTypeError\u001b[0m: unhashable type: 'list'"
     ]
    }
   ],
   "source": [
    "t = [1, 2]\n",
    "print(hash(t))"
   ]
  },
  {
   "cell_type": "code",
   "execution_count": 104,
   "id": "ce72ebc5",
   "metadata": {},
   "outputs": [
    {
     "ename": "TypeError",
     "evalue": "unhashable type: 'list'",
     "output_type": "error",
     "traceback": [
      "\u001b[1;31m---------------------------------------------------------------------------\u001b[0m",
      "\u001b[1;31mTypeError\u001b[0m                                 Traceback (most recent call last)",
      "\u001b[1;32m<ipython-input-104-52c6b341d556>\u001b[0m in \u001b[0;36m<module>\u001b[1;34m\u001b[0m\n\u001b[1;32m----> 1\u001b[1;33m \u001b[0mt\u001b[0m \u001b[1;33m=\u001b[0m \u001b[0mhash\u001b[0m\u001b[1;33m(\u001b[0m\u001b[1;33m(\u001b[0m\u001b[1;36m1\u001b[0m\u001b[1;33m,\u001b[0m \u001b[1;36m2\u001b[0m\u001b[1;33m,\u001b[0m \u001b[1;33m[\u001b[0m\u001b[1;36m1\u001b[0m\u001b[1;33m,\u001b[0m \u001b[1;36m2\u001b[0m\u001b[1;33m]\u001b[0m\u001b[1;33m)\u001b[0m\u001b[1;33m)\u001b[0m\u001b[1;33m\u001b[0m\u001b[1;33m\u001b[0m\u001b[0m\n\u001b[0m\u001b[0;32m      2\u001b[0m \u001b[0mpirnt\u001b[0m\u001b[1;33m(\u001b[0m\u001b[0mt\u001b[0m\u001b[1;33m)\u001b[0m\u001b[1;33m\u001b[0m\u001b[1;33m\u001b[0m\u001b[0m\n",
      "\u001b[1;31mTypeError\u001b[0m: unhashable type: 'list'"
     ]
    }
   ],
   "source": [
    "t = hash((1, 2, [1, 2]))\n",
    "pirnt(t)"
   ]
  },
  {
   "cell_type": "code",
   "execution_count": 103,
   "id": "897b1dab",
   "metadata": {},
   "outputs": [
    {
     "name": "stdout",
     "output_type": "stream",
     "text": [
      "-3550055125485641917\n"
     ]
    }
   ],
   "source": [
    "t = hash((1, 2))\n",
    "print(t)"
   ]
  },
  {
   "cell_type": "code",
   "execution_count": 99,
   "id": "239ef4b1",
   "metadata": {},
   "outputs": [
    {
     "name": "stdout",
     "output_type": "stream",
     "text": [
      "-4285066040719953790\n"
     ]
    }
   ],
   "source": [
    "t = hash('hello')\n",
    "print(t) # hash value"
   ]
  },
  {
   "cell_type": "markdown",
   "id": "60da1e74",
   "metadata": {},
   "source": [
    "    data -> hash -> unique integer value "
   ]
  },
  {
   "cell_type": "code",
   "execution_count": 100,
   "id": "754cf695",
   "metadata": {},
   "outputs": [
    {
     "name": "stdout",
     "output_type": "stream",
     "text": [
      "-4285066040719953790\n"
     ]
    }
   ],
   "source": [
    "a = hash('hello')\n",
    "print(a)"
   ]
  },
  {
   "cell_type": "markdown",
   "id": "a0832e74",
   "metadata": {},
   "source": [
    "#### Dictionary\n",
    "\n",
    "    map type object\n",
    "    \n",
    "    keys are hashable and unique (integer, float, complex, True, False, None, string, tuple*, frozenset)\n",
    "    \n",
    "    values are any valid python object\n",
    "    \n",
    "    mutable data type\n",
    "    \n",
    "    object -> javascript, JSON\n",
    "    "
   ]
  },
  {
   "cell_type": "code",
   "execution_count": 105,
   "id": "9d044a49",
   "metadata": {},
   "outputs": [],
   "source": [
    "info = {\n",
    "    \"name\": \"python\",\n",
    "    \"father\": \"Guido Van Rossum\",\n",
    "    \"website\": \"www.python.org\",\n",
    "}"
   ]
  },
  {
   "cell_type": "code",
   "execution_count": 106,
   "id": "d5a5a9f2",
   "metadata": {},
   "outputs": [
    {
     "name": "stdout",
     "output_type": "stream",
     "text": [
      "<class 'dict'>\n"
     ]
    }
   ],
   "source": [
    "print(type(info))"
   ]
  },
  {
   "cell_type": "code",
   "execution_count": 109,
   "id": "8ab6d775",
   "metadata": {},
   "outputs": [
    {
     "name": "stdout",
     "output_type": "stream",
     "text": [
      "{'name': 'python', 'father': 'Guido Van Rossum', 'website': 'www.python.org'}\n"
     ]
    }
   ],
   "source": [
    "print(info)"
   ]
  },
  {
   "cell_type": "code",
   "execution_count": 111,
   "id": "59143aae",
   "metadata": {},
   "outputs": [
    {
     "name": "stdout",
     "output_type": "stream",
     "text": [
      "www.python.org\n"
     ]
    }
   ],
   "source": [
    "v = info['website']\n",
    "print(v)"
   ]
  },
  {
   "cell_type": "code",
   "execution_count": 112,
   "id": "162d0831",
   "metadata": {},
   "outputs": [
    {
     "ename": "IndexError",
     "evalue": "list index out of range",
     "output_type": "error",
     "traceback": [
      "\u001b[1;31m---------------------------------------------------------------------------\u001b[0m",
      "\u001b[1;31mIndexError\u001b[0m                                Traceback (most recent call last)",
      "\u001b[1;32m<ipython-input-112-8c89d875b910>\u001b[0m in \u001b[0;36m<module>\u001b[1;34m\u001b[0m\n\u001b[0;32m      1\u001b[0m \u001b[0mx\u001b[0m \u001b[1;33m=\u001b[0m \u001b[1;33m[\u001b[0m\u001b[1;36m1\u001b[0m\u001b[1;33m,\u001b[0m \u001b[1;36m2\u001b[0m\u001b[1;33m,\u001b[0m \u001b[1;36m3\u001b[0m\u001b[1;33m]\u001b[0m\u001b[1;33m\u001b[0m\u001b[1;33m\u001b[0m\u001b[0m\n\u001b[1;32m----> 2\u001b[1;33m \u001b[0mprint\u001b[0m\u001b[1;33m(\u001b[0m\u001b[0mx\u001b[0m\u001b[1;33m[\u001b[0m\u001b[1;36m5\u001b[0m\u001b[1;33m]\u001b[0m\u001b[1;33m)\u001b[0m \u001b[1;31m# ?\u001b[0m\u001b[1;33m\u001b[0m\u001b[1;33m\u001b[0m\u001b[0m\n\u001b[0m",
      "\u001b[1;31mIndexError\u001b[0m: list index out of range"
     ]
    }
   ],
   "source": [
    "x = [1, 2, 3]\n",
    "print(x[5]) # ? "
   ]
  },
  {
   "cell_type": "code",
   "execution_count": 114,
   "id": "2910a0a3",
   "metadata": {},
   "outputs": [
    {
     "ename": "KeyError",
     "evalue": "0",
     "output_type": "error",
     "traceback": [
      "\u001b[1;31m---------------------------------------------------------------------------\u001b[0m",
      "\u001b[1;31mKeyError\u001b[0m                                  Traceback (most recent call last)",
      "\u001b[1;32m<ipython-input-114-cfc788aff63d>\u001b[0m in \u001b[0;36m<module>\u001b[1;34m\u001b[0m\n\u001b[1;32m----> 1\u001b[1;33m \u001b[0minfo\u001b[0m\u001b[1;33m[\u001b[0m\u001b[1;36m0\u001b[0m\u001b[1;33m]\u001b[0m\u001b[1;33m\u001b[0m\u001b[1;33m\u001b[0m\u001b[0m\n\u001b[0m",
      "\u001b[1;31mKeyError\u001b[0m: 0"
     ]
    }
   ],
   "source": [
    "info[0]"
   ]
  },
  {
   "cell_type": "code",
   "execution_count": 120,
   "id": "1cd5327c",
   "metadata": {},
   "outputs": [
    {
     "ename": "KeyError",
     "evalue": "'package url'",
     "output_type": "error",
     "traceback": [
      "\u001b[1;31m---------------------------------------------------------------------------\u001b[0m",
      "\u001b[1;31mKeyError\u001b[0m                                  Traceback (most recent call last)",
      "\u001b[1;32m<ipython-input-120-75e789d4c96a>\u001b[0m in \u001b[0;36m<module>\u001b[1;34m\u001b[0m\n\u001b[0;32m      5\u001b[0m }\n\u001b[0;32m      6\u001b[0m \u001b[1;33m\u001b[0m\u001b[0m\n\u001b[1;32m----> 7\u001b[1;33m \u001b[0mv\u001b[0m \u001b[1;33m=\u001b[0m \u001b[0minfo\u001b[0m\u001b[1;33m[\u001b[0m\u001b[1;34m'package url'\u001b[0m\u001b[1;33m]\u001b[0m\u001b[1;33m\u001b[0m\u001b[1;33m\u001b[0m\u001b[0m\n\u001b[0m\u001b[0;32m      8\u001b[0m \u001b[0mprint\u001b[0m\u001b[1;33m(\u001b[0m\u001b[0mv\u001b[0m\u001b[1;33m)\u001b[0m \u001b[1;31m# ?\u001b[0m\u001b[1;33m\u001b[0m\u001b[1;33m\u001b[0m\u001b[0m\n",
      "\u001b[1;31mKeyError\u001b[0m: 'package url'"
     ]
    }
   ],
   "source": [
    "info = {\n",
    "    \"name\": \"python\",\n",
    "    \"father\": \"Guido Van Rossum\",\n",
    "    \"website\": \"www.python.org\",\n",
    "}\n",
    "\n",
    "v = info['package url']\n",
    "print(v) # ? "
   ]
  },
  {
   "cell_type": "code",
   "execution_count": 121,
   "id": "16e20e21",
   "metadata": {},
   "outputs": [
    {
     "name": "stdout",
     "output_type": "stream",
     "text": [
      "{'name': 'python', 'father': 'Guido Van Rossum', 'website': 'www.python.org'}\n"
     ]
    }
   ],
   "source": [
    "print(info)"
   ]
  },
  {
   "cell_type": "code",
   "execution_count": 122,
   "id": "a8140790",
   "metadata": {},
   "outputs": [
    {
     "name": "stdout",
     "output_type": "stream",
     "text": [
      "www.python.org\n"
     ]
    }
   ],
   "source": [
    "v = info['website'] # get\n",
    "print(v)"
   ]
  },
  {
   "cell_type": "code",
   "execution_count": 123,
   "id": "e004d47b",
   "metadata": {},
   "outputs": [],
   "source": [
    "info['website'] = \"python.org\" # replace"
   ]
  },
  {
   "cell_type": "code",
   "execution_count": 124,
   "id": "9ccadaed",
   "metadata": {},
   "outputs": [
    {
     "name": "stdout",
     "output_type": "stream",
     "text": [
      "{'name': 'python', 'father': 'Guido Van Rossum', 'website': 'python.org'}\n"
     ]
    }
   ],
   "source": [
    "print(info)"
   ]
  },
  {
   "cell_type": "code",
   "execution_count": 125,
   "id": "9bc425cf",
   "metadata": {},
   "outputs": [],
   "source": [
    "info['package url'] = 'pypi.org' # add record"
   ]
  },
  {
   "cell_type": "code",
   "execution_count": 126,
   "id": "638a1258",
   "metadata": {},
   "outputs": [
    {
     "name": "stdout",
     "output_type": "stream",
     "text": [
      "{'name': 'python', 'father': 'Guido Van Rossum', 'website': 'python.org', 'package url': 'pypi.org'}\n"
     ]
    }
   ],
   "source": [
    "print(info)"
   ]
  },
  {
   "cell_type": "code",
   "execution_count": 127,
   "id": "a0a5a865",
   "metadata": {},
   "outputs": [],
   "source": [
    "del info['father']"
   ]
  },
  {
   "cell_type": "code",
   "execution_count": 128,
   "id": "4939390b",
   "metadata": {},
   "outputs": [
    {
     "name": "stdout",
     "output_type": "stream",
     "text": [
      "{'name': 'python', 'website': 'python.org', 'package url': 'pypi.org'}\n"
     ]
    }
   ],
   "source": [
    "print(info)"
   ]
  },
  {
   "cell_type": "code",
   "execution_count": 129,
   "id": "777be3ef",
   "metadata": {},
   "outputs": [
    {
     "name": "stdout",
     "output_type": "stream",
     "text": [
      "[1, 3, 4]\n"
     ]
    }
   ],
   "source": [
    "n = [ 1, 2, 3, 4]\n",
    "del n[1]\n",
    "print(n)"
   ]
  },
  {
   "cell_type": "code",
   "execution_count": 130,
   "id": "9482b7a8",
   "metadata": {},
   "outputs": [
    {
     "name": "stdout",
     "output_type": "stream",
     "text": [
      "{'name': 'python', 'package url': 'pypi.org', 'website': 'python.org'}\n"
     ]
    }
   ],
   "source": [
    "pprint(info)"
   ]
  },
  {
   "cell_type": "code",
   "execution_count": 131,
   "id": "bc6c8bac",
   "metadata": {},
   "outputs": [
    {
     "name": "stdout",
     "output_type": "stream",
     "text": [
      "{'name': 'python', 'website': 'python.org', 'package url': 'pypi.org'}\n"
     ]
    }
   ],
   "source": [
    "print(info)"
   ]
  },
  {
   "cell_type": "code",
   "execution_count": 134,
   "id": "a188f5d6",
   "metadata": {},
   "outputs": [
    {
     "name": "stdout",
     "output_type": "stream",
     "text": [
      "h\n",
      "e\n",
      "l\n",
      "l\n",
      "o\n"
     ]
    }
   ],
   "source": [
    "print(*\"hello\", sep='\\n')"
   ]
  },
  {
   "cell_type": "code",
   "execution_count": 136,
   "id": "813a41a8",
   "metadata": {},
   "outputs": [
    {
     "name": "stdout",
     "output_type": "stream",
     "text": [
      "[1, 2, 3, 4]\n",
      "1\n",
      "2\n",
      "3\n",
      "4\n"
     ]
    }
   ],
   "source": [
    "nums = [1, 2, 3, 4]\n",
    "print(nums)\n",
    "print(*nums, sep='\\n')"
   ]
  },
  {
   "cell_type": "code",
   "execution_count": 137,
   "id": "02859409",
   "metadata": {},
   "outputs": [
    {
     "name": "stdout",
     "output_type": "stream",
     "text": [
      "name\n",
      "website\n",
      "package url\n"
     ]
    }
   ],
   "source": [
    "print(*info, sep='\\n')"
   ]
  },
  {
   "cell_type": "code",
   "execution_count": 138,
   "id": "d9f5820a",
   "metadata": {},
   "outputs": [
    {
     "name": "stdout",
     "output_type": "stream",
     "text": [
      "('name', 'python')\n",
      "('website', 'python.org')\n",
      "('package url', 'pypi.org')\n"
     ]
    }
   ],
   "source": [
    "print(*info.items(), sep='\\n')"
   ]
  },
  {
   "cell_type": "code",
   "execution_count": 143,
   "id": "c6c6412a",
   "metadata": {},
   "outputs": [
    {
     "name": "stdout",
     "output_type": "stream",
     "text": [
      "clear\n",
      "copy\n",
      "fromkeys\n",
      "get\n",
      "items\n",
      "keys\n",
      "pop\n",
      "popitem\n",
      "setdefault\n",
      "update\n",
      "values\n"
     ]
    }
   ],
   "source": [
    "print(*dir(dict)[-11:], sep='\\n')"
   ]
  },
  {
   "cell_type": "code",
   "execution_count": 144,
   "id": "27496bb8",
   "metadata": {},
   "outputs": [
    {
     "name": "stdout",
     "output_type": "stream",
     "text": [
      "{'name': 'python', 'website': 'python.org', 'package url': 'pypi.org'}\n"
     ]
    }
   ],
   "source": [
    "print(info)"
   ]
  },
  {
   "cell_type": "markdown",
   "id": "0420dd83",
   "metadata": {},
   "source": [
    "#### to get values out of dictionary\n",
    "\n",
    "    keys = dict.keys() -> list like object which contains all keys of dict\n",
    "    values = list(dict.values()) -> list of values\n",
    "    items = list(dict.items()) -> key-value pairs as tuple"
   ]
  },
  {
   "cell_type": "code",
   "execution_count": 147,
   "id": "d52ea955",
   "metadata": {},
   "outputs": [
    {
     "name": "stdout",
     "output_type": "stream",
     "text": [
      "{'name': 'python', 'website': 'python.org', 'package url': 'pypi.org'}\n"
     ]
    }
   ],
   "source": [
    "print(info)"
   ]
  },
  {
   "cell_type": "code",
   "execution_count": 146,
   "id": "98ef4fc4",
   "metadata": {},
   "outputs": [
    {
     "name": "stdout",
     "output_type": "stream",
     "text": [
      "['name', 'website', 'package url']\n"
     ]
    }
   ],
   "source": [
    "keys = list(info.keys())\n",
    "print(keys)"
   ]
  },
  {
   "cell_type": "code",
   "execution_count": 148,
   "id": "bfaf1b80",
   "metadata": {},
   "outputs": [
    {
     "name": "stdout",
     "output_type": "stream",
     "text": [
      "['python', 'python.org', 'pypi.org']\n"
     ]
    }
   ],
   "source": [
    "values = list(info.values())\n",
    "print(values)"
   ]
  },
  {
   "cell_type": "code",
   "execution_count": 149,
   "id": "ab2418bf",
   "metadata": {},
   "outputs": [
    {
     "name": "stdout",
     "output_type": "stream",
     "text": [
      "[('name', 'python'), ('website', 'python.org'), ('package url', 'pypi.org')]\n"
     ]
    }
   ],
   "source": [
    "items = list(info.items())\n",
    "print(items)"
   ]
  },
  {
   "cell_type": "code",
   "execution_count": 150,
   "id": "f00c873c",
   "metadata": {},
   "outputs": [
    {
     "name": "stdout",
     "output_type": "stream",
     "text": [
      "('name', 'python')\n",
      "('website', 'python.org')\n",
      "('package url', 'pypi.org')\n"
     ]
    }
   ],
   "source": [
    "print(*info.items(), sep='\\n')"
   ]
  },
  {
   "cell_type": "markdown",
   "id": "d63e47a3",
   "metadata": {},
   "source": [
    "#### Methods to get and update a value in dictionary"
   ]
  },
  {
   "cell_type": "code",
   "execution_count": 151,
   "id": "729fd395",
   "metadata": {},
   "outputs": [
    {
     "data": {
      "text/plain": [
       "{'name': 'python', 'website': 'python.org', 'package url': 'pypi.org'}"
      ]
     },
     "execution_count": 151,
     "metadata": {},
     "output_type": "execute_result"
    }
   ],
   "source": [
    "info"
   ]
  },
  {
   "cell_type": "code",
   "execution_count": 155,
   "id": "59cec05b",
   "metadata": {},
   "outputs": [
    {
     "name": "stdout",
     "output_type": "stream",
     "text": [
      "python.org\n"
     ]
    }
   ],
   "source": [
    "v = info.get(\"website\")\n",
    "print(v)"
   ]
  },
  {
   "cell_type": "code",
   "execution_count": 159,
   "id": "c6cf741e",
   "metadata": {},
   "outputs": [
    {
     "name": "stdout",
     "output_type": "stream",
     "text": [
      "No such record found!\n"
     ]
    }
   ],
   "source": [
    "v = info.get(\"abcd\", \"No such record found!\")\n",
    "print(v)"
   ]
  },
  {
   "cell_type": "code",
   "execution_count": 156,
   "id": "6ce89dd3",
   "metadata": {},
   "outputs": [
    {
     "name": "stdout",
     "output_type": "stream",
     "text": [
      "None\n"
     ]
    }
   ],
   "source": [
    "v = info.get(\"abcd\")\n",
    "print(v)"
   ]
  },
  {
   "cell_type": "code",
   "execution_count": 153,
   "id": "88bb02b9",
   "metadata": {},
   "outputs": [
    {
     "ename": "KeyError",
     "evalue": "'abcd'",
     "output_type": "error",
     "traceback": [
      "\u001b[1;31m---------------------------------------------------------------------------\u001b[0m",
      "\u001b[1;31mKeyError\u001b[0m                                  Traceback (most recent call last)",
      "\u001b[1;32m<ipython-input-153-102d83ce3291>\u001b[0m in \u001b[0;36m<module>\u001b[1;34m\u001b[0m\n\u001b[1;32m----> 1\u001b[1;33m \u001b[0mv\u001b[0m \u001b[1;33m=\u001b[0m \u001b[0minfo\u001b[0m\u001b[1;33m[\u001b[0m\u001b[1;34m'abcd'\u001b[0m\u001b[1;33m]\u001b[0m\u001b[1;33m\u001b[0m\u001b[1;33m\u001b[0m\u001b[0m\n\u001b[0m\u001b[0;32m      2\u001b[0m \u001b[0mprint\u001b[0m\u001b[1;33m(\u001b[0m\u001b[0mv\u001b[0m\u001b[1;33m)\u001b[0m\u001b[1;33m\u001b[0m\u001b[1;33m\u001b[0m\u001b[0m\n",
      "\u001b[1;31mKeyError\u001b[0m: 'abcd'"
     ]
    }
   ],
   "source": [
    "v = info['abcd']\n",
    "# direct method to acces a value from dictionary based on key\n",
    "print(v)"
   ]
  },
  {
   "cell_type": "code",
   "execution_count": 162,
   "id": "5c7791d6",
   "metadata": {},
   "outputs": [],
   "source": [
    "inventory = {\n",
    "    \"samsung s21\": {\"price\": 60000, \"quantity\": 10, \"specs\": \"8GB RAM 128 GB\"},\n",
    "    \"iphone 13\": {\"price\": 60000, \"quantity\": 20, \"specs\": \"6GB 128GB\"}\n",
    "}"
   ]
  },
  {
   "cell_type": "code",
   "execution_count": 166,
   "id": "4564efbd",
   "metadata": {},
   "outputs": [
    {
     "name": "stdout",
     "output_type": "stream",
     "text": [
      "phone: one plus 10\n",
      "No such product available\n"
     ]
    }
   ],
   "source": [
    "key = input(\"phone: \").strip().lower()\n",
    "value = inventory.get(key, \"No such product available\")\n",
    "print(value)"
   ]
  },
  {
   "cell_type": "code",
   "execution_count": 168,
   "id": "dbfe6ed1",
   "metadata": {},
   "outputs": [],
   "source": [
    "inventory.update([(\"one plus 10\", {\"price\": 50000, \"quantity\": 20, \"specs\": \"8 GB RAM 128 GB\"})])"
   ]
  },
  {
   "cell_type": "code",
   "execution_count": 170,
   "id": "92805f60",
   "metadata": {},
   "outputs": [
    {
     "name": "stdout",
     "output_type": "stream",
     "text": [
      "{'iphone 13': {'price': 60000, 'quantity': 20, 'specs': '6GB 128GB'},\n",
      " 'one plus 10': {'price': 50000, 'quantity': 20, 'specs': '8 GB RAM 128 GB'},\n",
      " 'samsung s21': {'price': 60000, 'quantity': 10, 'specs': '8GB RAM 128 GB'}}\n"
     ]
    }
   ],
   "source": [
    "pprint(inventory)"
   ]
  },
  {
   "cell_type": "code",
   "execution_count": 171,
   "id": "860d4957",
   "metadata": {},
   "outputs": [],
   "source": [
    "inventory.clear()"
   ]
  },
  {
   "cell_type": "code",
   "execution_count": 172,
   "id": "502ce330",
   "metadata": {},
   "outputs": [
    {
     "name": "stdout",
     "output_type": "stream",
     "text": [
      "{}\n"
     ]
    }
   ],
   "source": [
    "print(inventory)"
   ]
  },
  {
   "cell_type": "code",
   "execution_count": 173,
   "id": "2a00a246",
   "metadata": {},
   "outputs": [
    {
     "data": {
      "text/plain": [
       "{'name': 'python', 'website': 'python.org', 'package url': 'pypi.org'}"
      ]
     },
     "execution_count": 173,
     "metadata": {},
     "output_type": "execute_result"
    }
   ],
   "source": [
    "info"
   ]
  },
  {
   "cell_type": "code",
   "execution_count": 174,
   "id": "43ddab5c",
   "metadata": {},
   "outputs": [],
   "source": [
    "c = info.copy()"
   ]
  },
  {
   "cell_type": "code",
   "execution_count": 175,
   "id": "6b84eb36",
   "metadata": {},
   "outputs": [
    {
     "name": "stdout",
     "output_type": "stream",
     "text": [
      "{'name': 'python', 'website': 'python.org', 'package url': 'pypi.org'}\n"
     ]
    }
   ],
   "source": [
    "print(c)"
   ]
  },
  {
   "cell_type": "code",
   "execution_count": 176,
   "id": "cd8ed373",
   "metadata": {},
   "outputs": [
    {
     "name": "stdout",
     "output_type": "stream",
     "text": [
      "clear\n",
      "copy\n",
      "fromkeys\n",
      "get\n",
      "items\n",
      "keys\n",
      "pop\n",
      "popitem\n",
      "setdefault\n",
      "update\n",
      "values\n"
     ]
    }
   ],
   "source": [
    "print(*dir(dict)[-11:], sep='\\n')"
   ]
  },
  {
   "cell_type": "code",
   "execution_count": 177,
   "id": "6eb34382",
   "metadata": {},
   "outputs": [
    {
     "data": {
      "text/plain": [
       "{'name': 'python', 'website': 'python.org', 'package url': 'pypi.org'}"
      ]
     },
     "execution_count": 177,
     "metadata": {},
     "output_type": "execute_result"
    }
   ],
   "source": [
    "info"
   ]
  },
  {
   "cell_type": "code",
   "execution_count": 178,
   "id": "0773605d",
   "metadata": {},
   "outputs": [],
   "source": [
    "value = info.pop(\"package url\")"
   ]
  },
  {
   "cell_type": "code",
   "execution_count": 179,
   "id": "f0707d5a",
   "metadata": {},
   "outputs": [
    {
     "name": "stdout",
     "output_type": "stream",
     "text": [
      "pypi.org\n"
     ]
    }
   ],
   "source": [
    "print(value)"
   ]
  },
  {
   "cell_type": "code",
   "execution_count": 180,
   "id": "6c900ee2",
   "metadata": {},
   "outputs": [
    {
     "name": "stdout",
     "output_type": "stream",
     "text": [
      "{'name': 'python', 'website': 'python.org'}\n"
     ]
    }
   ],
   "source": [
    "print(info)"
   ]
  },
  {
   "cell_type": "code",
   "execution_count": 181,
   "id": "5eb580b0",
   "metadata": {},
   "outputs": [
    {
     "ename": "KeyError",
     "evalue": "'abcd'",
     "output_type": "error",
     "traceback": [
      "\u001b[1;31m---------------------------------------------------------------------------\u001b[0m",
      "\u001b[1;31mKeyError\u001b[0m                                  Traceback (most recent call last)",
      "\u001b[1;32m<ipython-input-181-ffe9ee31d0b2>\u001b[0m in \u001b[0;36m<module>\u001b[1;34m\u001b[0m\n\u001b[1;32m----> 1\u001b[1;33m \u001b[0mvalue\u001b[0m \u001b[1;33m=\u001b[0m \u001b[0minfo\u001b[0m\u001b[1;33m.\u001b[0m\u001b[0mpop\u001b[0m\u001b[1;33m(\u001b[0m\u001b[1;34m'abcd'\u001b[0m\u001b[1;33m)\u001b[0m\u001b[1;33m\u001b[0m\u001b[1;33m\u001b[0m\u001b[0m\n\u001b[0m\u001b[0;32m      2\u001b[0m \u001b[0mprint\u001b[0m\u001b[1;33m(\u001b[0m\u001b[0mvalue\u001b[0m\u001b[1;33m)\u001b[0m\u001b[1;33m\u001b[0m\u001b[1;33m\u001b[0m\u001b[0m\n",
      "\u001b[1;31mKeyError\u001b[0m: 'abcd'"
     ]
    }
   ],
   "source": [
    "value = info.pop('abcd')\n",
    "print(value)"
   ]
  },
  {
   "cell_type": "code",
   "execution_count": 182,
   "id": "2bdc9c71",
   "metadata": {},
   "outputs": [
    {
     "name": "stdout",
     "output_type": "stream",
     "text": [
      "no record to delete\n"
     ]
    }
   ],
   "source": [
    "value = info.pop('abcd', 'no record to delete')\n",
    "print(value)"
   ]
  },
  {
   "cell_type": "markdown",
   "id": "cb51685e",
   "metadata": {},
   "source": [
    "    update takes multiple records"
   ]
  },
  {
   "cell_type": "code",
   "execution_count": 183,
   "id": "51621c4f",
   "metadata": {},
   "outputs": [
    {
     "data": {
      "text/plain": [
       "{'name': 'python', 'website': 'python.org'}"
      ]
     },
     "execution_count": 183,
     "metadata": {},
     "output_type": "execute_result"
    }
   ],
   "source": [
    "info"
   ]
  },
  {
   "cell_type": "code",
   "execution_count": 184,
   "id": "c624cc93",
   "metadata": {},
   "outputs": [],
   "source": [
    "d = [\n",
    "    \n",
    "    (\"father\", \"guido van rossum\"),\n",
    "    (\"package url\", \"pypi.org\"),\n",
    "    (\"company\", \"python software foundation\"),\n",
    "    (\"type\", \"programming langauge\"),\n",
    "]"
   ]
  },
  {
   "cell_type": "code",
   "execution_count": 185,
   "id": "ecef851f",
   "metadata": {},
   "outputs": [],
   "source": [
    "info.update(d)"
   ]
  },
  {
   "cell_type": "code",
   "execution_count": 187,
   "id": "c0a7cc7f",
   "metadata": {},
   "outputs": [
    {
     "name": "stdout",
     "output_type": "stream",
     "text": [
      "{'company': 'python software foundation',\n",
      " 'father': 'guido van rossum',\n",
      " 'name': 'python',\n",
      " 'package url': 'pypi.org',\n",
      " 'type': 'programming langauge',\n",
      " 'website': 'python.org'}\n"
     ]
    }
   ],
   "source": [
    "pprint(info)"
   ]
  },
  {
   "cell_type": "code",
   "execution_count": 188,
   "id": "8c03da48",
   "metadata": {},
   "outputs": [],
   "source": [
    "info.update(version=3.10, lang_type=\"interpreted\")"
   ]
  },
  {
   "cell_type": "code",
   "execution_count": 189,
   "id": "312866e9",
   "metadata": {},
   "outputs": [
    {
     "name": "stdout",
     "output_type": "stream",
     "text": [
      "{'company': 'python software foundation',\n",
      " 'father': 'guido van rossum',\n",
      " 'lang_type': 'interpreted',\n",
      " 'name': 'python',\n",
      " 'package url': 'pypi.org',\n",
      " 'type': 'programming langauge',\n",
      " 'version': 3.1,\n",
      " 'website': 'python.org'}\n"
     ]
    }
   ],
   "source": [
    "pprint(info)"
   ]
  },
  {
   "cell_type": "code",
   "execution_count": 191,
   "id": "3cf2f8e0",
   "metadata": {},
   "outputs": [],
   "source": [
    "dd = {\n",
    "    \"modules\": [\"tensorflow\", \"pytorch\", \"sklearn\", \"pandas\", \"matplotlib\"],\n",
    "    \"projects\": [\"ansible\", \"openstack\", \"salt\"]\n",
    "}"
   ]
  },
  {
   "cell_type": "code",
   "execution_count": 192,
   "id": "5a0ab237",
   "metadata": {},
   "outputs": [],
   "source": [
    "info.update(dd)"
   ]
  },
  {
   "cell_type": "code",
   "execution_count": 194,
   "id": "2ce4fc56",
   "metadata": {},
   "outputs": [
    {
     "name": "stdout",
     "output_type": "stream",
     "text": [
      "{'company': 'python software foundation',\n",
      " 'father': 'guido van rossum',\n",
      " 'lang_type': 'interpreted',\n",
      " 'modules': ['tensorflow', 'pytorch', 'sklearn', 'pandas', 'matplotlib'],\n",
      " 'name': 'python',\n",
      " 'package url': 'pypi.org',\n",
      " 'projects': ['ansible', 'openstack', 'salt'],\n",
      " 'type': 'programming langauge',\n",
      " 'version': 3.1,\n",
      " 'website': 'python.org'}\n"
     ]
    }
   ],
   "source": [
    "pprint(info)"
   ]
  },
  {
   "cell_type": "code",
   "execution_count": 195,
   "id": "ef4bab3c",
   "metadata": {},
   "outputs": [],
   "source": [
    "last_key_value = info.popitem()"
   ]
  },
  {
   "cell_type": "code",
   "execution_count": 196,
   "id": "0e4cfc26",
   "metadata": {},
   "outputs": [
    {
     "name": "stdout",
     "output_type": "stream",
     "text": [
      "('projects', ['ansible', 'openstack', 'salt'])\n"
     ]
    }
   ],
   "source": [
    "print(last_key_value)"
   ]
  },
  {
   "cell_type": "code",
   "execution_count": 197,
   "id": "44f4fd0e",
   "metadata": {},
   "outputs": [
    {
     "name": "stdout",
     "output_type": "stream",
     "text": [
      "{'company': 'python software foundation',\n",
      " 'father': 'guido van rossum',\n",
      " 'lang_type': 'interpreted',\n",
      " 'modules': ['tensorflow', 'pytorch', 'sklearn', 'pandas', 'matplotlib'],\n",
      " 'name': 'python',\n",
      " 'package url': 'pypi.org',\n",
      " 'type': 'programming langauge',\n",
      " 'version': 3.1,\n",
      " 'website': 'python.org'}\n"
     ]
    }
   ],
   "source": [
    "pprint(info)"
   ]
  },
  {
   "cell_type": "markdown",
   "id": "8eddd6ac",
   "metadata": {},
   "source": [
    "[Set Data Type](https://youtu.be/ZIPQLimzLYM)"
   ]
  },
  {
   "cell_type": "code",
   "execution_count": null,
   "id": "aeeacfd4",
   "metadata": {},
   "outputs": [],
   "source": []
  }
 ],
 "metadata": {
  "kernelspec": {
   "display_name": "Python 3",
   "language": "python",
   "name": "python3"
  },
  "language_info": {
   "codemirror_mode": {
    "name": "ipython",
    "version": 3
   },
   "file_extension": ".py",
   "mimetype": "text/x-python",
   "name": "python",
   "nbconvert_exporter": "python",
   "pygments_lexer": "ipython3",
   "version": "3.8.8"
  }
 },
 "nbformat": 4,
 "nbformat_minor": 5
}
