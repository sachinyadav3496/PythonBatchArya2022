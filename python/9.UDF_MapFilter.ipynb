{
 "cells": [
  {
   "cell_type": "markdown",
   "id": "fbd34c93",
   "metadata": {},
   "source": [
    "*Prime Number*\n",
    "\n",
    "    2-sqrt(N)"
   ]
  },
  {
   "cell_type": "markdown",
   "id": "b9ed403b",
   "metadata": {},
   "source": [
    "##### Reusable piece of code"
   ]
  },
  {
   "cell_type": "code",
   "execution_count": 9,
   "id": "b0d1ab8d",
   "metadata": {},
   "outputs": [],
   "source": [
    "def get_discount(price:float, dis=0.2)->float: # formal arguments\n",
    "    \"doc string - used to calculate discounted price\"\n",
    "    return price*(1-dis)"
   ]
  },
  {
   "cell_type": "code",
   "execution_count": 10,
   "id": "dc4f12e4",
   "metadata": {},
   "outputs": [
    {
     "name": "stdout",
     "output_type": "stream",
     "text": [
      "8000.0\n"
     ]
    }
   ],
   "source": [
    "dp = get_discount(10000) # actual argument\n",
    "print(dp)"
   ]
  },
  {
   "cell_type": "markdown",
   "id": "6d9ba593",
   "metadata": {},
   "source": [
    "### Type of Arguments in Functions\n",
    "\n",
    "    1. Positional Arguments/Required Arguments\n",
    "    2. Default Argument/Optional Arguments\n",
    "    3. Multiple/Variable Positional Arguments\n",
    "    4. Multiple/Variable Keyword Arguments"
   ]
  },
  {
   "cell_type": "markdown",
   "id": "55c83371",
   "metadata": {},
   "source": [
    "`1. Positional Arguments/Required Arguments`"
   ]
  },
  {
   "cell_type": "code",
   "execution_count": 16,
   "id": "da8261f2",
   "metadata": {},
   "outputs": [],
   "source": [
    "def func(a, b):\n",
    "    print(\"The value of positional arguments are\")\n",
    "    print(f\"a = {a}\")\n",
    "    print(f\"b = {b}\")"
   ]
  },
  {
   "cell_type": "markdown",
   "id": "17ed4d39",
   "metadata": {},
   "source": [
    "**note** positional argument should always come before keyword arguments "
   ]
  },
  {
   "cell_type": "code",
   "execution_count": 23,
   "id": "08e033cc",
   "metadata": {},
   "outputs": [
    {
     "name": "stdout",
     "output_type": "stream",
     "text": [
      "The value of positional arguments are\n",
      "a = 10\n",
      "b = 100\n"
     ]
    }
   ],
   "source": [
    "func(10, b=100)"
   ]
  },
  {
   "cell_type": "code",
   "execution_count": 22,
   "id": "96c2b1e4",
   "metadata": {},
   "outputs": [
    {
     "ename": "SyntaxError",
     "evalue": "positional argument follows keyword argument (<ipython-input-22-4bc459cc9e2f>, line 1)",
     "output_type": "error",
     "traceback": [
      "\u001b[1;36m  File \u001b[1;32m\"<ipython-input-22-4bc459cc9e2f>\"\u001b[1;36m, line \u001b[1;32m1\u001b[0m\n\u001b[1;33m    func(b=100, 10)# ?\u001b[0m\n\u001b[1;37m                ^\u001b[0m\n\u001b[1;31mSyntaxError\u001b[0m\u001b[1;31m:\u001b[0m positional argument follows keyword argument\n"
     ]
    }
   ],
   "source": [
    "func(b=100, 10)# ?"
   ]
  },
  {
   "cell_type": "code",
   "execution_count": 21,
   "id": "40798777",
   "metadata": {},
   "outputs": [
    {
     "name": "stdout",
     "output_type": "stream",
     "text": [
      "The value of positional arguments are\n",
      "a = 50\n",
      "b = 20\n"
     ]
    }
   ],
   "source": [
    "func(b=20, a=50) # we can call functions like this\n",
    "# keyword argument"
   ]
  },
  {
   "cell_type": "code",
   "execution_count": 18,
   "id": "18363b23",
   "metadata": {},
   "outputs": [
    {
     "name": "stdout",
     "output_type": "stream",
     "text": [
      "The value of positional arguments are\n",
      "a = 10\n",
      "b = 20\n"
     ]
    }
   ],
   "source": [
    "x = 10; y = 20\n",
    "func(x, y) # positional"
   ]
  },
  {
   "cell_type": "code",
   "execution_count": 11,
   "id": "59d3d799",
   "metadata": {},
   "outputs": [],
   "source": [
    "def sq_add(x, y):\n",
    "    #      0  1\n",
    "    \"\"\"return square addition of x and y\"\"\"\n",
    "    return x**2+y**2"
   ]
  },
  {
   "cell_type": "code",
   "execution_count": 15,
   "id": "e8aa3361",
   "metadata": {},
   "outputs": [
    {
     "name": "stdout",
     "output_type": "stream",
     "text": [
      "41\n"
     ]
    }
   ],
   "source": [
    "r = sq_add(4, 5)\n",
    "#          0  1\n",
    "print(r)"
   ]
  },
  {
   "cell_type": "code",
   "execution_count": 13,
   "id": "d2fee38b",
   "metadata": {},
   "outputs": [
    {
     "ename": "TypeError",
     "evalue": "sq_add() missing 1 required positional argument: 'y'",
     "output_type": "error",
     "traceback": [
      "\u001b[1;31m---------------------------------------------------------------------------\u001b[0m",
      "\u001b[1;31mTypeError\u001b[0m                                 Traceback (most recent call last)",
      "\u001b[1;32m<ipython-input-13-d814519207a3>\u001b[0m in \u001b[0;36m<module>\u001b[1;34m\u001b[0m\n\u001b[1;32m----> 1\u001b[1;33m \u001b[0msq_add\u001b[0m\u001b[1;33m(\u001b[0m\u001b[1;36m1\u001b[0m\u001b[1;33m)\u001b[0m\u001b[1;33m\u001b[0m\u001b[1;33m\u001b[0m\u001b[0m\n\u001b[0m",
      "\u001b[1;31mTypeError\u001b[0m: sq_add() missing 1 required positional argument: 'y'"
     ]
    }
   ],
   "source": [
    "sq_add(1)"
   ]
  },
  {
   "cell_type": "code",
   "execution_count": 12,
   "id": "6d3d5231",
   "metadata": {},
   "outputs": [
    {
     "ename": "TypeError",
     "evalue": "sq_add() missing 2 required positional arguments: 'x' and 'y'",
     "output_type": "error",
     "traceback": [
      "\u001b[1;31m---------------------------------------------------------------------------\u001b[0m",
      "\u001b[1;31mTypeError\u001b[0m                                 Traceback (most recent call last)",
      "\u001b[1;32m<ipython-input-12-5b8d971510dc>\u001b[0m in \u001b[0;36m<module>\u001b[1;34m\u001b[0m\n\u001b[1;32m----> 1\u001b[1;33m \u001b[0msq_add\u001b[0m\u001b[1;33m(\u001b[0m\u001b[1;33m)\u001b[0m\u001b[1;33m\u001b[0m\u001b[1;33m\u001b[0m\u001b[0m\n\u001b[0m",
      "\u001b[1;31mTypeError\u001b[0m: sq_add() missing 2 required positional arguments: 'x' and 'y'"
     ]
    }
   ],
   "source": [
    "sq_add()"
   ]
  },
  {
   "cell_type": "code",
   "execution_count": 27,
   "id": "aa0d7b37",
   "metadata": {},
   "outputs": [],
   "source": [
    "def greatest(a, b, c):\n",
    "    if a > b and a > c:\n",
    "        print(\"a is greatest\")\n",
    "        return a\n",
    "    elif b > c:\n",
    "        print(\"b is greatest\")\n",
    "        return b\n",
    "    else:\n",
    "        print(\"c is greatest\")\n",
    "        return c"
   ]
  },
  {
   "cell_type": "code",
   "execution_count": 31,
   "id": "0ece6129",
   "metadata": {},
   "outputs": [
    {
     "name": "stdout",
     "output_type": "stream",
     "text": [
      "b is greatest\n",
      "30\n"
     ]
    }
   ],
   "source": [
    "r = greatest(10, c=20, b=30)\n",
    "print(r)"
   ]
  },
  {
   "cell_type": "code",
   "execution_count": 29,
   "id": "616cdd5d",
   "metadata": {},
   "outputs": [
    {
     "name": "stdout",
     "output_type": "stream",
     "text": [
      "a is greatest\n"
     ]
    },
    {
     "data": {
      "text/plain": [
       "4"
      ]
     },
     "execution_count": 29,
     "metadata": {},
     "output_type": "execute_result"
    }
   ],
   "source": [
    "greatest(4, 2, 3)"
   ]
  },
  {
   "cell_type": "markdown",
   "id": "4b10dad1",
   "metadata": {},
   "source": [
    "`2. Default Argument/Optional Arguments`"
   ]
  },
  {
   "cell_type": "code",
   "execution_count": 33,
   "id": "c280ab6b",
   "metadata": {},
   "outputs": [],
   "source": [
    "def add(x, y, output=False):\n",
    "    \"\"\"\n",
    "        x,y are positional argument / required arguments\n",
    "        output is default argument having default value False\n",
    "    \"\"\"\n",
    "    r = x + y\n",
    "    if output:\n",
    "        print(f\"{x} + {y} = {r}\")\n",
    "    return r"
   ]
  },
  {
   "cell_type": "code",
   "execution_count": 34,
   "id": "46b01fce",
   "metadata": {},
   "outputs": [
    {
     "name": "stdout",
     "output_type": "stream",
     "text": [
      "9\n"
     ]
    }
   ],
   "source": [
    "a = add(4, 5)\n",
    "print(a)"
   ]
  },
  {
   "cell_type": "code",
   "execution_count": 35,
   "id": "b4baa878",
   "metadata": {},
   "outputs": [
    {
     "name": "stdout",
     "output_type": "stream",
     "text": [
      "10 + 50 = 60\n",
      "60\n"
     ]
    }
   ],
   "source": [
    "r = add(10, 50, True)\n",
    "print(r)"
   ]
  },
  {
   "cell_type": "code",
   "execution_count": 36,
   "id": "f4decff4",
   "metadata": {},
   "outputs": [],
   "source": [
    "def hello(name=\"Anonymous\"):\n",
    "    print(f\"Welcome user {name}!\")"
   ]
  },
  {
   "cell_type": "code",
   "execution_count": 37,
   "id": "79798490",
   "metadata": {},
   "outputs": [
    {
     "name": "stdout",
     "output_type": "stream",
     "text": [
      "Welcome user Anonymous!\n"
     ]
    }
   ],
   "source": [
    "hello() # "
   ]
  },
  {
   "cell_type": "code",
   "execution_count": 38,
   "id": "f147a7f2",
   "metadata": {},
   "outputs": [
    {
     "name": "stdout",
     "output_type": "stream",
     "text": [
      "Welcome user Rahul!\n"
     ]
    }
   ],
   "source": [
    "hello(\"Rahul\")"
   ]
  },
  {
   "cell_type": "markdown",
   "id": "b26fba59",
   "metadata": {},
   "source": [
    "`Multiple/Variable Positional Arguments`"
   ]
  },
  {
   "cell_type": "code",
   "execution_count": 39,
   "id": "6ddf9570",
   "metadata": {},
   "outputs": [],
   "source": [
    "def func(a, b, c, d=0, e=10):\n",
    "    pass"
   ]
  },
  {
   "cell_type": "code",
   "execution_count": 40,
   "id": "18e6c15b",
   "metadata": {},
   "outputs": [],
   "source": [
    "# minimum how many arguments are required \n",
    "# at max how many arguments we can supply"
   ]
  },
  {
   "cell_type": "code",
   "execution_count": 45,
   "id": "ceb73792",
   "metadata": {},
   "outputs": [
    {
     "ename": "TypeError",
     "evalue": "func() takes from 3 to 5 positional arguments but 6 were given",
     "output_type": "error",
     "traceback": [
      "\u001b[1;31m---------------------------------------------------------------------------\u001b[0m",
      "\u001b[1;31mTypeError\u001b[0m                                 Traceback (most recent call last)",
      "\u001b[1;32m<ipython-input-45-ac256e894873>\u001b[0m in \u001b[0;36m<module>\u001b[1;34m\u001b[0m\n\u001b[1;32m----> 1\u001b[1;33m \u001b[0mfunc\u001b[0m\u001b[1;33m(\u001b[0m\u001b[1;36m1\u001b[0m\u001b[1;33m,\u001b[0m \u001b[1;36m3\u001b[0m\u001b[1;33m,\u001b[0m \u001b[1;36m4\u001b[0m\u001b[1;33m,\u001b[0m \u001b[1;36m5\u001b[0m\u001b[1;33m,\u001b[0m \u001b[1;36m6\u001b[0m\u001b[1;33m,\u001b[0m \u001b[1;36m3\u001b[0m\u001b[1;33m)\u001b[0m\u001b[1;33m\u001b[0m\u001b[1;33m\u001b[0m\u001b[0m\n\u001b[0m",
      "\u001b[1;31mTypeError\u001b[0m: func() takes from 3 to 5 positional arguments but 6 were given"
     ]
    }
   ],
   "source": [
    "func(1, 3, 4, 5, 6, 3)"
   ]
  },
  {
   "cell_type": "code",
   "execution_count": 46,
   "id": "e6b834db",
   "metadata": {},
   "outputs": [
    {
     "name": "stdout",
     "output_type": "stream",
     "text": [
      "1 2 3 4 5\n"
     ]
    }
   ],
   "source": [
    "print(1, 2,3 ,4 ,5)"
   ]
  },
  {
   "cell_type": "code",
   "execution_count": 49,
   "id": "6db978d8",
   "metadata": {},
   "outputs": [
    {
     "name": "stdout",
     "output_type": "stream",
     "text": [
      "any number of arguments we can supply to our print functions\n"
     ]
    }
   ],
   "source": [
    "print('any', 'number', 'of', 'arguments', 'we', 'can', 'supply',\n",
    "     'to', 'our', 'print', 'functions')"
   ]
  },
  {
   "cell_type": "markdown",
   "id": "ebac1e29",
   "metadata": {},
   "source": [
    "**function ?**"
   ]
  },
  {
   "cell_type": "markdown",
   "id": "45a5a6e6",
   "metadata": {},
   "source": [
    "##### tuple packing\n",
    "    \n",
    "    1, 2, 3, 4, 5 --> (1, 2, 3, 4, 5)\n",
    "    \n",
    "##### tuple unpacking\n",
    "\n",
    "    a, b, c = ['one', 'two', 'three']"
   ]
  },
  {
   "cell_type": "code",
   "execution_count": 51,
   "id": "0f869a12",
   "metadata": {},
   "outputs": [],
   "source": [
    "def func():\n",
    "    return 1, 2, 3"
   ]
  },
  {
   "cell_type": "code",
   "execution_count": 52,
   "id": "d24e2801",
   "metadata": {},
   "outputs": [],
   "source": [
    "a = func()"
   ]
  },
  {
   "cell_type": "code",
   "execution_count": 54,
   "id": "56fb717d",
   "metadata": {},
   "outputs": [
    {
     "name": "stdout",
     "output_type": "stream",
     "text": [
      "(1, 2, 3) <class 'tuple'>\n"
     ]
    }
   ],
   "source": [
    "print(a, type(a))"
   ]
  },
  {
   "cell_type": "code",
   "execution_count": 55,
   "id": "66eb0440",
   "metadata": {},
   "outputs": [
    {
     "name": "stdout",
     "output_type": "stream",
     "text": [
      "x = 1\n",
      "y = 2\n",
      "z = 3\n"
     ]
    }
   ],
   "source": [
    "x,y,z = func()\n",
    "print(f\"x = {x}\")\n",
    "print(f\"y = {y}\")\n",
    "print(f\"z = {z}\")"
   ]
  },
  {
   "cell_type": "code",
   "execution_count": 50,
   "id": "0dd00295",
   "metadata": {},
   "outputs": [
    {
     "name": "stdout",
     "output_type": "stream",
     "text": [
      "<class 'tuple'> (1, 2, 3, 4, 5)\n"
     ]
    }
   ],
   "source": [
    "t = 1, 2, 3, 4, 5\n",
    "\n",
    "print(type(t), t)"
   ]
  },
  {
   "cell_type": "markdown",
   "id": "51774e7c",
   "metadata": {},
   "source": [
    "#### Variable Length Positional Arguments\n",
    "\n",
    "#### Multiple Positional Arguments"
   ]
  },
  {
   "cell_type": "code",
   "execution_count": 56,
   "id": "c87b15f2",
   "metadata": {},
   "outputs": [],
   "source": [
    "def func(*args):\n",
    "    print(type(args))\n",
    "    print(args)"
   ]
  },
  {
   "cell_type": "code",
   "execution_count": 57,
   "id": "ae145f31",
   "metadata": {},
   "outputs": [
    {
     "name": "stdout",
     "output_type": "stream",
     "text": [
      "<class 'tuple'>\n",
      "()\n"
     ]
    }
   ],
   "source": [
    "func() # ? "
   ]
  },
  {
   "cell_type": "code",
   "execution_count": 58,
   "id": "99b0cae7",
   "metadata": {},
   "outputs": [
    {
     "name": "stdout",
     "output_type": "stream",
     "text": [
      "<class 'tuple'>\n",
      "(1, 2)\n"
     ]
    }
   ],
   "source": [
    "func(1, 2)"
   ]
  },
  {
   "cell_type": "code",
   "execution_count": 59,
   "id": "c488d966",
   "metadata": {},
   "outputs": [
    {
     "name": "stdout",
     "output_type": "stream",
     "text": [
      "<class 'tuple'>\n",
      "(1, 2, 3, 'a', 'b', 'd')\n"
     ]
    }
   ],
   "source": [
    "func(1, 2,3 , 'a', 'b', 'd')"
   ]
  },
  {
   "cell_type": "code",
   "execution_count": 60,
   "id": "a5bfe855",
   "metadata": {},
   "outputs": [],
   "source": [
    "def sum_of_num(*nums):\n",
    "    return sum(nums)"
   ]
  },
  {
   "cell_type": "code",
   "execution_count": 61,
   "id": "4a4b7678",
   "metadata": {},
   "outputs": [
    {
     "data": {
      "text/plain": [
       "0"
      ]
     },
     "execution_count": 61,
     "metadata": {},
     "output_type": "execute_result"
    }
   ],
   "source": [
    "sum_of_num()"
   ]
  },
  {
   "cell_type": "code",
   "execution_count": 62,
   "id": "c55ff95c",
   "metadata": {},
   "outputs": [
    {
     "data": {
      "text/plain": [
       "3"
      ]
     },
     "execution_count": 62,
     "metadata": {},
     "output_type": "execute_result"
    }
   ],
   "source": [
    "sum_of_num(1, 2)"
   ]
  },
  {
   "cell_type": "code",
   "execution_count": 63,
   "id": "cc13d3b3",
   "metadata": {},
   "outputs": [
    {
     "data": {
      "text/plain": [
       "21"
      ]
     },
     "execution_count": 63,
     "metadata": {},
     "output_type": "execute_result"
    }
   ],
   "source": [
    "sum_of_num(1, 2, 3, 4, 5, 6)"
   ]
  },
  {
   "cell_type": "code",
   "execution_count": 64,
   "id": "e70832ec",
   "metadata": {},
   "outputs": [],
   "source": [
    "def sq_sum(*nums):\n",
    "    s = 0\n",
    "    for item in nums:\n",
    "        s += item**2\n",
    "    return s"
   ]
  },
  {
   "cell_type": "code",
   "execution_count": 68,
   "id": "80b470a1",
   "metadata": {},
   "outputs": [
    {
     "data": {
      "text/plain": [
       "385"
      ]
     },
     "execution_count": 68,
     "metadata": {},
     "output_type": "execute_result"
    }
   ],
   "source": [
    "sq_sum(1, 2, 3, 4, 5, 6, 7, 8, 9, 10)"
   ]
  },
  {
   "cell_type": "code",
   "execution_count": 65,
   "id": "5bc3979f",
   "metadata": {},
   "outputs": [
    {
     "data": {
      "text/plain": [
       "0"
      ]
     },
     "execution_count": 65,
     "metadata": {},
     "output_type": "execute_result"
    }
   ],
   "source": [
    "sq_sum()"
   ]
  },
  {
   "cell_type": "code",
   "execution_count": 66,
   "id": "7a531d72",
   "metadata": {},
   "outputs": [
    {
     "data": {
      "text/plain": [
       "4"
      ]
     },
     "execution_count": 66,
     "metadata": {},
     "output_type": "execute_result"
    }
   ],
   "source": [
    "sq_sum(2)"
   ]
  },
  {
   "cell_type": "code",
   "execution_count": 67,
   "id": "4cbb767b",
   "metadata": {},
   "outputs": [
    {
     "data": {
      "text/plain": [
       "13"
      ]
     },
     "execution_count": 67,
     "metadata": {},
     "output_type": "execute_result"
    }
   ],
   "source": [
    "sq_sum(2, 3)"
   ]
  },
  {
   "cell_type": "markdown",
   "id": "6b2afb5d",
   "metadata": {},
   "source": [
    "print ? \n"
   ]
  },
  {
   "cell_type": "markdown",
   "id": "94ea35ce",
   "metadata": {},
   "source": [
    "    print -> file -> sys.stdout "
   ]
  },
  {
   "cell_type": "code",
   "execution_count": 69,
   "id": "9c3ecc8e",
   "metadata": {},
   "outputs": [],
   "source": [
    "import sys"
   ]
  },
  {
   "cell_type": "code",
   "execution_count": 73,
   "id": "f23d29b9",
   "metadata": {},
   "outputs": [
    {
     "name": "stdout",
     "output_type": "stream",
     "text": [
      "Hello World!"
     ]
    }
   ],
   "source": [
    "sys.stdout.write(\"Hello World!\")"
   ]
  },
  {
   "cell_type": "code",
   "execution_count": 74,
   "id": "dcdab17a",
   "metadata": {},
   "outputs": [
    {
     "name": "stdout",
     "output_type": "stream",
     "text": [
      "Help on built-in function print in module builtins:\n",
      "\n",
      "print(...)\n",
      "    print(value, ..., sep=' ', end='\\n', file=sys.stdout, flush=False)\n",
      "    \n",
      "    Prints the values to a stream, or to sys.stdout by default.\n",
      "    Optional keyword arguments:\n",
      "    file:  a file-like object (stream); defaults to the current sys.stdout.\n",
      "    sep:   string inserted between values, default a space.\n",
      "    end:   string appended after the last value, default a newline.\n",
      "    flush: whether to forcibly flush the stream.\n",
      "\n"
     ]
    }
   ],
   "source": [
    "help(print)"
   ]
  },
  {
   "cell_type": "code",
   "execution_count": 76,
   "id": "35d97e2a",
   "metadata": {},
   "outputs": [
    {
     "data": {
      "text/plain": [
       "'[1, 2, 3]'"
      ]
     },
     "execution_count": 76,
     "metadata": {},
     "output_type": "execute_result"
    }
   ],
   "source": [
    "str([1, 2, 3])"
   ]
  },
  {
   "cell_type": "code",
   "execution_count": 81,
   "id": "7981f761",
   "metadata": {},
   "outputs": [
    {
     "data": {
      "text/plain": [
       "'1 2 3 4 5 6\\n'"
      ]
     },
     "execution_count": 81,
     "metadata": {},
     "output_type": "execute_result"
    }
   ],
   "source": [
    "values = (1, 2, 3, 4, 5, 6)\n",
    "\n",
    "\" \".join([str(var) for var in values ])+'\\n' # shell output -> raw_string"
   ]
  },
  {
   "cell_type": "code",
   "execution_count": 97,
   "id": "4a084e0e",
   "metadata": {},
   "outputs": [
    {
     "name": "stdout",
     "output_type": "stream",
     "text": [
      "1 2 3 4 5 6\n",
      "\n"
     ]
    }
   ],
   "source": [
    "print(\" \".join([str(var) for var in values ])+'\\n' )"
   ]
  },
  {
   "cell_type": "code",
   "execution_count": 92,
   "id": "2f64a541",
   "metadata": {},
   "outputs": [],
   "source": [
    "path = \"C:\\\\Users\\\\sachi\\\\Desktop\\\\output.txt\"\n",
    "\n",
    "fp = open(path, \"w\")"
   ]
  },
  {
   "cell_type": "code",
   "execution_count": 94,
   "id": "e72f9cdc",
   "metadata": {},
   "outputs": [],
   "source": [
    "for i in range(1, 11):\n",
    "    print(\"*\"*i, file=fp)"
   ]
  },
  {
   "cell_type": "code",
   "execution_count": 95,
   "id": "25bdbfd3",
   "metadata": {},
   "outputs": [],
   "source": [
    "path = \"C:\\\\Users\\\\sachi\\\\Desktop\\\\some.txt\"\n",
    "fp = open(path, \"w\")\n",
    "for i in range(1, 11):\n",
    "    print((\"*\"*i).rjust(10), file=fp)"
   ]
  },
  {
   "cell_type": "code",
   "execution_count": 96,
   "id": "25a9a44c",
   "metadata": {},
   "outputs": [],
   "source": [
    "fp.close()"
   ]
  },
  {
   "cell_type": "code",
   "execution_count": 83,
   "id": "08b050e8",
   "metadata": {},
   "outputs": [],
   "source": [
    "def myprint(*values, sep=\" \", end=\"\\n\", file=sys.stdout):\n",
    "    values = [str(value) for value in values]\n",
    "    file.write(sep.join(values)+end)"
   ]
  },
  {
   "cell_type": "code",
   "execution_count": 91,
   "id": "1cdac39d",
   "metadata": {},
   "outputs": [
    {
     "name": "stdout",
     "output_type": "stream",
     "text": [
      "hello world\n"
     ]
    }
   ],
   "source": [
    "print('hello', end=\" \")\n",
    "print(\"world\")"
   ]
  },
  {
   "cell_type": "code",
   "execution_count": 90,
   "id": "ba7a89b3",
   "metadata": {},
   "outputs": [
    {
     "name": "stdout",
     "output_type": "stream",
     "text": [
      "hello world\n"
     ]
    }
   ],
   "source": [
    "myprint('hello', end=\" \")\n",
    "myprint(\"world\")"
   ]
  },
  {
   "cell_type": "code",
   "execution_count": 89,
   "id": "d401c036",
   "metadata": {},
   "outputs": [
    {
     "name": "stdout",
     "output_type": "stream",
     "text": [
      "hello\n",
      "wow\n"
     ]
    }
   ],
   "source": [
    "myprint('hello')\n",
    "myprint('wow')"
   ]
  },
  {
   "cell_type": "code",
   "execution_count": 87,
   "id": "b6cc7a71",
   "metadata": {},
   "outputs": [
    {
     "name": "stdout",
     "output_type": "stream",
     "text": [
      "hi\n",
      "hello\n"
     ]
    }
   ],
   "source": [
    "print('hi')\n",
    "print('hello')"
   ]
  },
  {
   "cell_type": "code",
   "execution_count": 86,
   "id": "3e797fd9",
   "metadata": {},
   "outputs": [
    {
     "name": "stdout",
     "output_type": "stream",
     "text": [
      "hello\thi\tbye\n",
      "hello\thi\tbye\n"
     ]
    }
   ],
   "source": [
    "print(\"hello\", \"hi\", \"bye\", sep='\\t')\n",
    "myprint(\"hello\", \"hi\", \"bye\", sep=\"\\t\")"
   ]
  },
  {
   "cell_type": "code",
   "execution_count": 84,
   "id": "1bf66932",
   "metadata": {},
   "outputs": [
    {
     "name": "stdout",
     "output_type": "stream",
     "text": [
      "hello hi bye\n",
      "hello hi bye\n"
     ]
    }
   ],
   "source": [
    "print(\"hello\", \"hi\", \"bye\")\n",
    "myprint(\"hello\", \"hi\", \"bye\")"
   ]
  },
  {
   "cell_type": "code",
   "execution_count": 99,
   "id": "2e01d629",
   "metadata": {},
   "outputs": [],
   "source": [
    "def func(pos, *args, default=10 ):\n",
    "    print(\"Required Argument: \", pos)\n",
    "    print(\"Variable Length Arugment: \", args)\n",
    "    print(\"Default Argument: \", default)"
   ]
  },
  {
   "cell_type": "code",
   "execution_count": 103,
   "id": "faa3bb28",
   "metadata": {},
   "outputs": [
    {
     "name": "stdout",
     "output_type": "stream",
     "text": [
      "Required Argument:  10\n",
      "Variable Length Arugment:  (20, 30, 40, 50, 60)\n",
      "Default Argument:  100\n"
     ]
    }
   ],
   "source": [
    "func(10, 20, 30, 40, 50, 60, default=100)"
   ]
  },
  {
   "cell_type": "code",
   "execution_count": 101,
   "id": "fbab1d30",
   "metadata": {},
   "outputs": [
    {
     "name": "stdout",
     "output_type": "stream",
     "text": [
      "Required Argument:  10\n",
      "Variable Length Arugment:  ()\n",
      "Default Argument:  10\n"
     ]
    }
   ],
   "source": [
    "func(10)"
   ]
  },
  {
   "cell_type": "code",
   "execution_count": 102,
   "id": "b1819a1c",
   "metadata": {},
   "outputs": [
    {
     "name": "stdout",
     "output_type": "stream",
     "text": [
      "Required Argument:  10\n",
      "Variable Length Arugment:  (20, 30, 40, 50, 60)\n",
      "Default Argument:  10\n"
     ]
    }
   ],
   "source": [
    "func(10, 20, 30, 40, 50, 60)"
   ]
  },
  {
   "cell_type": "code",
   "execution_count": null,
   "id": "c7a660a3",
   "metadata": {},
   "outputs": [],
   "source": []
  },
  {
   "cell_type": "markdown",
   "id": "18844320",
   "metadata": {},
   "source": [
    "`variable length keyword arguments`\n",
    "\n",
    "    dict arguments"
   ]
  },
  {
   "cell_type": "code",
   "execution_count": 107,
   "id": "4c08fd1b",
   "metadata": {},
   "outputs": [],
   "source": [
    "def func(**kwargs):\n",
    "    print(type(kwargs))\n",
    "    print(kwargs)"
   ]
  },
  {
   "cell_type": "code",
   "execution_count": 108,
   "id": "2680f257",
   "metadata": {},
   "outputs": [
    {
     "name": "stdout",
     "output_type": "stream",
     "text": [
      "<class 'dict'>\n",
      "{}\n"
     ]
    }
   ],
   "source": [
    "func()"
   ]
  },
  {
   "cell_type": "code",
   "execution_count": 111,
   "id": "22ee4c49",
   "metadata": {},
   "outputs": [
    {
     "name": "stdout",
     "output_type": "stream",
     "text": [
      "<class 'dict'>\n",
      "{'a': 10, 'b': 20, 'c': 30, 'name': 'sachin', 'age': 27}\n"
     ]
    }
   ],
   "source": [
    "func(a=10, b=20, c=30, name='sachin', age=27)"
   ]
  },
  {
   "cell_type": "code",
   "execution_count": 112,
   "id": "7a7aeec7",
   "metadata": {},
   "outputs": [],
   "source": [
    "def final_function(pos, *args, default=10, **kwargs):\n",
    "    print(\"Positional Arguments: \", pos)\n",
    "    print(\"Variable Positional Arguments: \", args)\n",
    "    print(\"Default ARgument: \", default)\n",
    "    print(\"Variable Keyword Arguments: \", kwargs)"
   ]
  },
  {
   "cell_type": "code",
   "execution_count": 120,
   "id": "7071b454",
   "metadata": {},
   "outputs": [
    {
     "name": "stdout",
     "output_type": "stream",
     "text": [
      "Positional Arguments:  10\n",
      "Variable Positional Arguments:  ()\n",
      "Default ARgument:  100\n",
      "Variable Keyword Arguments:  {'b': 20}\n"
     ]
    }
   ],
   "source": [
    "final_function(10, default=100, b=20)"
   ]
  },
  {
   "cell_type": "code",
   "execution_count": 117,
   "id": "d6d3cff5",
   "metadata": {},
   "outputs": [
    {
     "name": "stdout",
     "output_type": "stream",
     "text": [
      "Positional Arguments:  100\n",
      "Variable Positional Arguments:  (1, 2, 3, 4, 5)\n",
      "Default ARgument:  100\n",
      "Variable Keyword Arguments:  {'a': 10, 'b': 20}\n"
     ]
    }
   ],
   "source": [
    "final_function(100, 1, 2, 3, 4, 5, default=100, a=10, b=20)"
   ]
  },
  {
   "cell_type": "code",
   "execution_count": 121,
   "id": "91e89e66",
   "metadata": {},
   "outputs": [],
   "source": [
    "def func(*args, **kwargs):\n",
    "    pass"
   ]
  },
  {
   "cell_type": "markdown",
   "id": "f9da2411",
   "metadata": {},
   "source": [
    "#### Scope of Function\n",
    "#### Recursion \n",
    "#### Lambda, Map, Filter"
   ]
  },
  {
   "cell_type": "code",
   "execution_count": 122,
   "id": "e135d8bb",
   "metadata": {},
   "outputs": [
    {
     "name": "stdout",
     "output_type": "stream",
     "text": [
      "hello world\r",
      "ha ha ha\n"
     ]
    }
   ],
   "source": [
    "print(\"hello world\\r\", end=\"\")\n",
    "print(\"ha ha ha\")"
   ]
  },
  {
   "cell_type": "code",
   "execution_count": 123,
   "id": "662f7c05",
   "metadata": {},
   "outputs": [],
   "source": [
    "import time"
   ]
  },
  {
   "cell_type": "code",
   "execution_count": 129,
   "id": "9cd02886",
   "metadata": {},
   "outputs": [
    {
     "name": "stdout",
     "output_type": "stream",
     "text": [
      "1 seconds left to restart sessionnn\r"
     ]
    }
   ],
   "source": [
    "total = 600\n",
    "for var in range(total):\n",
    "    print(f\"{total-var} seconds left to restart session\\r\", end=\"\")\n",
    "    time.sleep(1)"
   ]
  },
  {
   "cell_type": "code",
   "execution_count": 147,
   "id": "8f8ed085",
   "metadata": {},
   "outputs": [],
   "source": [
    "def func(a, *args, k=1, **kwargs):\n",
    "    print(a)"
   ]
  },
  {
   "cell_type": "code",
   "execution_count": 149,
   "id": "eae4c9ad",
   "metadata": {},
   "outputs": [
    {
     "name": "stdout",
     "output_type": "stream",
     "text": [
      "20\n"
     ]
    }
   ],
   "source": [
    "func(a=20)"
   ]
  },
  {
   "cell_type": "code",
   "execution_count": 148,
   "id": "e3af2a85",
   "metadata": {},
   "outputs": [
    {
     "name": "stdout",
     "output_type": "stream",
     "text": [
      "10\n"
     ]
    }
   ],
   "source": [
    "func(10)"
   ]
  },
  {
   "cell_type": "code",
   "execution_count": 144,
   "id": "e56a9be6",
   "metadata": {},
   "outputs": [],
   "source": [
    "def func(a, *args, **kwargs):\n",
    "    print(a)"
   ]
  },
  {
   "cell_type": "code",
   "execution_count": 146,
   "id": "d82f272f",
   "metadata": {},
   "outputs": [
    {
     "name": "stdout",
     "output_type": "stream",
     "text": [
      "10\n"
     ]
    }
   ],
   "source": [
    "func(a=10)"
   ]
  },
  {
   "cell_type": "code",
   "execution_count": 143,
   "id": "7b9f0599",
   "metadata": {},
   "outputs": [
    {
     "name": "stdout",
     "output_type": "stream",
     "text": [
      "10\n"
     ]
    }
   ],
   "source": [
    "func(a=10)"
   ]
  },
  {
   "cell_type": "code",
   "execution_count": 142,
   "id": "370ec2e1",
   "metadata": {},
   "outputs": [
    {
     "name": "stdout",
     "output_type": "stream",
     "text": [
      "10\n"
     ]
    }
   ],
   "source": [
    "func(10)"
   ]
  },
  {
   "cell_type": "code",
   "execution_count": 135,
   "id": "0c99958c",
   "metadata": {},
   "outputs": [],
   "source": [
    "def func(*args, p):\n",
    "    print(p)"
   ]
  },
  {
   "cell_type": "code",
   "execution_count": 138,
   "id": "00b60bed",
   "metadata": {},
   "outputs": [
    {
     "name": "stdout",
     "output_type": "stream",
     "text": [
      "10\n"
     ]
    }
   ],
   "source": [
    "func(1, 2, 3, 4, p=10)"
   ]
  },
  {
   "cell_type": "code",
   "execution_count": 137,
   "id": "0c5ec7f2",
   "metadata": {},
   "outputs": [
    {
     "ename": "TypeError",
     "evalue": "func() missing 1 required keyword-only argument: 'p'",
     "output_type": "error",
     "traceback": [
      "\u001b[1;31m---------------------------------------------------------------------------\u001b[0m",
      "\u001b[1;31mTypeError\u001b[0m                                 Traceback (most recent call last)",
      "\u001b[1;32m<ipython-input-137-87bb19a3011a>\u001b[0m in \u001b[0;36m<module>\u001b[1;34m\u001b[0m\n\u001b[1;32m----> 1\u001b[1;33m \u001b[0mfunc\u001b[0m\u001b[1;33m(\u001b[0m\u001b[1;36m1\u001b[0m\u001b[1;33m,\u001b[0m \u001b[1;36m2\u001b[0m\u001b[1;33m,\u001b[0m \u001b[1;36m3\u001b[0m\u001b[1;33m,\u001b[0m \u001b[1;36m4\u001b[0m\u001b[1;33m)\u001b[0m\u001b[1;33m\u001b[0m\u001b[1;33m\u001b[0m\u001b[0m\n\u001b[0m",
      "\u001b[1;31mTypeError\u001b[0m: func() missing 1 required keyword-only argument: 'p'"
     ]
    }
   ],
   "source": [
    "func(1, 2, 3, 4)"
   ]
  },
  {
   "cell_type": "code",
   "execution_count": 132,
   "id": "e0f4550e",
   "metadata": {},
   "outputs": [
    {
     "ename": "SyntaxError",
     "evalue": "invalid syntax (<ipython-input-132-7ea9b2b838fe>, line 1)",
     "output_type": "error",
     "traceback": [
      "\u001b[1;36m  File \u001b[1;32m\"<ipython-input-132-7ea9b2b838fe>\"\u001b[1;36m, line \u001b[1;32m1\u001b[0m\n\u001b[1;33m    def func(p, *arg1, *arg2):\u001b[0m\n\u001b[1;37m                       ^\u001b[0m\n\u001b[1;31mSyntaxError\u001b[0m\u001b[1;31m:\u001b[0m invalid syntax\n"
     ]
    }
   ],
   "source": [
    "def func(p, *arg1, *arg2):\n",
    "    pass"
   ]
  },
  {
   "cell_type": "code",
   "execution_count": 131,
   "id": "e80f7176",
   "metadata": {},
   "outputs": [
    {
     "ename": "SyntaxError",
     "evalue": "invalid syntax (<ipython-input-131-e9e53785978a>, line 1)",
     "output_type": "error",
     "traceback": [
      "\u001b[1;36m  File \u001b[1;32m\"<ipython-input-131-e9e53785978a>\"\u001b[1;36m, line \u001b[1;32m1\u001b[0m\n\u001b[1;33m    def func(p, **kwargs, d=10):\u001b[0m\n\u001b[1;37m                          ^\u001b[0m\n\u001b[1;31mSyntaxError\u001b[0m\u001b[1;31m:\u001b[0m invalid syntax\n"
     ]
    }
   ],
   "source": [
    "def func(p, **kwargs, d=10):\n",
    "    print(d)"
   ]
  },
  {
   "cell_type": "markdown",
   "id": "4120799b",
   "metadata": {},
   "source": [
    "### Scope \n",
    "\n",
    "\n",
    "    scope is something where a variable remains meaningfull"
   ]
  },
  {
   "cell_type": "code",
   "execution_count": 150,
   "id": "b4d6a122",
   "metadata": {},
   "outputs": [
    {
     "name": "stdout",
     "output_type": "stream",
     "text": [
      "__main__\n"
     ]
    }
   ],
   "source": [
    "print(__name__)"
   ]
  },
  {
   "cell_type": "code",
   "execution_count": 151,
   "id": "f633528c",
   "metadata": {},
   "outputs": [],
   "source": [
    "import random"
   ]
  },
  {
   "cell_type": "code",
   "execution_count": 152,
   "id": "52fce883",
   "metadata": {},
   "outputs": [
    {
     "name": "stdout",
     "output_type": "stream",
     "text": [
      "random\n"
     ]
    }
   ],
   "source": [
    "print(random.__name__)"
   ]
  },
  {
   "cell_type": "markdown",
   "id": "0a7c082f",
   "metadata": {},
   "source": [
    "    gobal scope -> main scope -> lifetime is throughout program\n",
    "    local socpe -> function scope -> lifetime is througout function calling"
   ]
  },
  {
   "cell_type": "code",
   "execution_count": 153,
   "id": "5972e6bd",
   "metadata": {},
   "outputs": [],
   "source": [
    "x = 10 # global variable \n",
    "\n",
    "def func():\n",
    "    print(\"x = \", x)"
   ]
  },
  {
   "cell_type": "code",
   "execution_count": 154,
   "id": "d8fab18b",
   "metadata": {},
   "outputs": [
    {
     "name": "stdout",
     "output_type": "stream",
     "text": [
      "x =  10\n"
     ]
    }
   ],
   "source": [
    "func()"
   ]
  },
  {
   "cell_type": "code",
   "execution_count": 157,
   "id": "7cdd11b1",
   "metadata": {},
   "outputs": [],
   "source": [
    "x = 10\n",
    "def func(x):\n",
    "    x += 20\n",
    "    print(\"inside x = \", x)"
   ]
  },
  {
   "cell_type": "code",
   "execution_count": 158,
   "id": "75445174",
   "metadata": {},
   "outputs": [
    {
     "name": "stdout",
     "output_type": "stream",
     "text": [
      "before x is  10\n",
      "inside x =  30\n",
      "after x is  10\n"
     ]
    }
   ],
   "source": [
    "print('before x is ', x)\n",
    "func(x)\n",
    "print('after x is ', x)"
   ]
  },
  {
   "cell_type": "markdown",
   "id": "de995dd7",
   "metadata": {},
   "source": [
    "**global varaible can be accessed inside local scope**\n",
    "\n",
    "**but directly you can not change them inside local scope**\n",
    "\n",
    "**inorder to change global variable inside local scope we need to use global keyword**"
   ]
  },
  {
   "cell_type": "code",
   "execution_count": 159,
   "id": "99439073",
   "metadata": {},
   "outputs": [
    {
     "name": "stdout",
     "output_type": "stream",
     "text": [
      "before x is  10\n"
     ]
    },
    {
     "ename": "UnboundLocalError",
     "evalue": "local variable 'x' referenced before assignment",
     "output_type": "error",
     "traceback": [
      "\u001b[1;31m---------------------------------------------------------------------------\u001b[0m",
      "\u001b[1;31mUnboundLocalError\u001b[0m                         Traceback (most recent call last)",
      "\u001b[1;32m<ipython-input-159-49ccd2101c3d>\u001b[0m in \u001b[0;36m<module>\u001b[1;34m\u001b[0m\n\u001b[0;32m      5\u001b[0m \u001b[1;33m\u001b[0m\u001b[0m\n\u001b[0;32m      6\u001b[0m \u001b[0mprint\u001b[0m\u001b[1;33m(\u001b[0m\u001b[1;34m\"before x is \"\u001b[0m\u001b[1;33m,\u001b[0m \u001b[0mx\u001b[0m\u001b[1;33m)\u001b[0m \u001b[1;31m# global\u001b[0m\u001b[1;33m\u001b[0m\u001b[1;33m\u001b[0m\u001b[0m\n\u001b[1;32m----> 7\u001b[1;33m \u001b[0mfunc\u001b[0m\u001b[1;33m(\u001b[0m\u001b[1;33m)\u001b[0m \u001b[1;31m# global\u001b[0m\u001b[1;33m\u001b[0m\u001b[1;33m\u001b[0m\u001b[0m\n\u001b[0m\u001b[0;32m      8\u001b[0m \u001b[0mprint\u001b[0m\u001b[1;33m(\u001b[0m\u001b[1;34m\"after x is \"\u001b[0m\u001b[1;33m,\u001b[0m \u001b[0mx\u001b[0m\u001b[1;33m)\u001b[0m\u001b[1;31m# global\u001b[0m\u001b[1;33m\u001b[0m\u001b[1;33m\u001b[0m\u001b[0m\n",
      "\u001b[1;32m<ipython-input-159-49ccd2101c3d>\u001b[0m in \u001b[0;36mfunc\u001b[1;34m()\u001b[0m\n\u001b[0;32m      1\u001b[0m \u001b[0mx\u001b[0m \u001b[1;33m=\u001b[0m \u001b[1;36m10\u001b[0m \u001b[1;31m# global\u001b[0m\u001b[1;33m\u001b[0m\u001b[1;33m\u001b[0m\u001b[0m\n\u001b[0;32m      2\u001b[0m \u001b[1;32mdef\u001b[0m \u001b[0mfunc\u001b[0m\u001b[1;33m(\u001b[0m\u001b[1;33m)\u001b[0m\u001b[1;33m:\u001b[0m\u001b[1;33m\u001b[0m\u001b[1;33m\u001b[0m\u001b[0m\n\u001b[1;32m----> 3\u001b[1;33m     \u001b[0mx\u001b[0m \u001b[1;33m+=\u001b[0m \u001b[1;36m20\u001b[0m \u001b[1;31m# local\u001b[0m\u001b[1;33m\u001b[0m\u001b[1;33m\u001b[0m\u001b[0m\n\u001b[0m\u001b[0;32m      4\u001b[0m     \u001b[0mprint\u001b[0m\u001b[1;33m(\u001b[0m\u001b[1;34m\"inside x is \"\u001b[0m\u001b[1;33m,\u001b[0m \u001b[0mx\u001b[0m\u001b[1;33m)\u001b[0m \u001b[1;31m# local\u001b[0m\u001b[1;33m\u001b[0m\u001b[1;33m\u001b[0m\u001b[0m\n\u001b[0;32m      5\u001b[0m \u001b[1;33m\u001b[0m\u001b[0m\n",
      "\u001b[1;31mUnboundLocalError\u001b[0m: local variable 'x' referenced before assignment"
     ]
    }
   ],
   "source": [
    "x = 10 # global\n",
    "def func():\n",
    "    x += 20 # local\n",
    "    print(\"inside x is \", x) # local\n",
    "    \n",
    "print(\"before x is \", x) # global\n",
    "func() # global\n",
    "print(\"after x is \", x)# global"
   ]
  },
  {
   "cell_type": "code",
   "execution_count": 160,
   "id": "00bd34c3",
   "metadata": {},
   "outputs": [
    {
     "name": "stdout",
     "output_type": "stream",
     "text": [
      "before x is  10\n",
      "inside x is  30\n",
      "after x is  10\n"
     ]
    }
   ],
   "source": [
    "x = 10 # global\n",
    "def func(x):\n",
    "    x += 20 # local\n",
    "    print(\"inside x is \", x) # local\n",
    "    \n",
    "print(\"before x is \", x) # global\n",
    "func(x) # global\n",
    "print(\"after x is \", x)# global"
   ]
  },
  {
   "cell_type": "code",
   "execution_count": 161,
   "id": "46dff31e",
   "metadata": {},
   "outputs": [
    {
     "name": "stdout",
     "output_type": "stream",
     "text": [
      "before x is  10\n",
      "inside x is  30\n",
      "after x is  30\n"
     ]
    }
   ],
   "source": [
    "x = 10 # global\n",
    "def func():\n",
    "    global x \n",
    "    x += 20 # local\n",
    "    print(\"inside x is \", x) # local\n",
    "    \n",
    "print(\"before x is \", x) # global\n",
    "func() # global\n",
    "print(\"after x is \", x)# global"
   ]
  },
  {
   "cell_type": "markdown",
   "id": "25572102",
   "metadata": {},
   "source": [
    "##### Scoping"
   ]
  },
  {
   "cell_type": "markdown",
   "id": "7ae6ff27",
   "metadata": {},
   "source": [
    "#### Recursion "
   ]
  },
  {
   "cell_type": "markdown",
   "id": "0da976a9",
   "metadata": {},
   "source": [
    "    when a function calls itself"
   ]
  },
  {
   "cell_type": "code",
   "execution_count": 162,
   "id": "73d0f5e5",
   "metadata": {},
   "outputs": [],
   "source": [
    "def hello():\n",
    "    hello()"
   ]
  },
  {
   "cell_type": "code",
   "execution_count": 163,
   "id": "446c8063",
   "metadata": {},
   "outputs": [
    {
     "ename": "RecursionError",
     "evalue": "maximum recursion depth exceeded",
     "output_type": "error",
     "traceback": [
      "\u001b[1;31m---------------------------------------------------------------------------\u001b[0m",
      "\u001b[1;31mRecursionError\u001b[0m                            Traceback (most recent call last)",
      "\u001b[1;32m<ipython-input-163-a75d7781aaeb>\u001b[0m in \u001b[0;36m<module>\u001b[1;34m\u001b[0m\n\u001b[1;32m----> 1\u001b[1;33m \u001b[0mhello\u001b[0m\u001b[1;33m(\u001b[0m\u001b[1;33m)\u001b[0m\u001b[1;33m\u001b[0m\u001b[1;33m\u001b[0m\u001b[0m\n\u001b[0m",
      "\u001b[1;32m<ipython-input-162-b3f7a3b5d46b>\u001b[0m in \u001b[0;36mhello\u001b[1;34m()\u001b[0m\n\u001b[0;32m      1\u001b[0m \u001b[1;32mdef\u001b[0m \u001b[0mhello\u001b[0m\u001b[1;33m(\u001b[0m\u001b[1;33m)\u001b[0m\u001b[1;33m:\u001b[0m\u001b[1;33m\u001b[0m\u001b[1;33m\u001b[0m\u001b[0m\n\u001b[1;32m----> 2\u001b[1;33m     \u001b[0mhello\u001b[0m\u001b[1;33m(\u001b[0m\u001b[1;33m)\u001b[0m\u001b[1;33m\u001b[0m\u001b[1;33m\u001b[0m\u001b[0m\n\u001b[0m",
      "... last 1 frames repeated, from the frame below ...\n",
      "\u001b[1;32m<ipython-input-162-b3f7a3b5d46b>\u001b[0m in \u001b[0;36mhello\u001b[1;34m()\u001b[0m\n\u001b[0;32m      1\u001b[0m \u001b[1;32mdef\u001b[0m \u001b[0mhello\u001b[0m\u001b[1;33m(\u001b[0m\u001b[1;33m)\u001b[0m\u001b[1;33m:\u001b[0m\u001b[1;33m\u001b[0m\u001b[1;33m\u001b[0m\u001b[0m\n\u001b[1;32m----> 2\u001b[1;33m     \u001b[0mhello\u001b[0m\u001b[1;33m(\u001b[0m\u001b[1;33m)\u001b[0m\u001b[1;33m\u001b[0m\u001b[1;33m\u001b[0m\u001b[0m\n\u001b[0m",
      "\u001b[1;31mRecursionError\u001b[0m: maximum recursion depth exceeded"
     ]
    }
   ],
   "source": [
    "hello()"
   ]
  },
  {
   "cell_type": "code",
   "execution_count": 164,
   "id": "72a0a2c2",
   "metadata": {},
   "outputs": [],
   "source": [
    "import sys"
   ]
  },
  {
   "cell_type": "code",
   "execution_count": 165,
   "id": "df7dd6d3",
   "metadata": {},
   "outputs": [
    {
     "name": "stdout",
     "output_type": "stream",
     "text": [
      "3000\n"
     ]
    }
   ],
   "source": [
    "print(sys.getrecursionlimit())"
   ]
  },
  {
   "cell_type": "code",
   "execution_count": 167,
   "id": "2be51dc8",
   "metadata": {},
   "outputs": [],
   "source": [
    "sys.setrecursionlimit(100)"
   ]
  },
  {
   "cell_type": "code",
   "execution_count": 168,
   "id": "2ac13cdb",
   "metadata": {},
   "outputs": [],
   "source": [
    "sys.setrecursionlimit(3000)"
   ]
  },
  {
   "cell_type": "markdown",
   "id": "deaca31a",
   "metadata": {},
   "source": [
    "##### Recursions \n",
    "\n",
    "    LOOP"
   ]
  },
  {
   "cell_type": "code",
   "execution_count": 169,
   "id": "515d391c",
   "metadata": {},
   "outputs": [],
   "source": [
    "def nums(start=1):\n",
    "    if start <= 10:\n",
    "        print(start)\n",
    "        nums(start+1)"
   ]
  },
  {
   "cell_type": "code",
   "execution_count": 170,
   "id": "8be439fa",
   "metadata": {},
   "outputs": [
    {
     "name": "stdout",
     "output_type": "stream",
     "text": [
      "1\n",
      "2\n",
      "3\n",
      "4\n",
      "5\n",
      "6\n",
      "7\n",
      "8\n",
      "9\n",
      "10\n"
     ]
    }
   ],
   "source": [
    "nums()"
   ]
  },
  {
   "cell_type": "code",
   "execution_count": null,
   "id": "3d4eae40",
   "metadata": {},
   "outputs": [],
   "source": [
    "def nums(start=1):\n",
    "    if start <= 10:\n",
    "        print(start)\n",
    "        nums(start+1)"
   ]
  }
 ],
 "metadata": {
  "kernelspec": {
   "display_name": "Python 3",
   "language": "python",
   "name": "python3"
  },
  "language_info": {
   "codemirror_mode": {
    "name": "ipython",
    "version": 3
   },
   "file_extension": ".py",
   "mimetype": "text/x-python",
   "name": "python",
   "nbconvert_exporter": "python",
   "pygments_lexer": "ipython3",
   "version": "3.8.8"
  }
 },
 "nbformat": 4,
 "nbformat_minor": 5
}
