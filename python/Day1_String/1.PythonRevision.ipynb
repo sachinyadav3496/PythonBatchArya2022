{
 "cells": [
  {
   "cell_type": "markdown",
   "id": "6e7f742a",
   "metadata": {},
   "source": [
    "### Python\n",
    "\n",
    "    interpreted langauge\n",
    "    "
   ]
  },
  {
   "cell_type": "markdown",
   "id": "db37c58b",
   "metadata": {},
   "source": [
    "### Input / Output Operations\n",
    "\n",
    "\n",
    "    "
   ]
  },
  {
   "cell_type": "code",
   "execution_count": 1,
   "id": "90d6d9ce",
   "metadata": {},
   "outputs": [
    {
     "name": "stdout",
     "output_type": "stream",
     "text": [
      "Python 3.8.8\n"
     ]
    }
   ],
   "source": [
    "!python --version"
   ]
  },
  {
   "cell_type": "markdown",
   "id": "245b1f59",
   "metadata": {},
   "source": [
    "    Built-in Python I/O functions\n",
    "    \n",
    "        \n",
    "        input() -> read standard input and return a string value\n",
    "        \n",
    "        print(object) -> write object as a string on standard output "
   ]
  },
  {
   "cell_type": "markdown",
   "id": "73dfe220",
   "metadata": {},
   "source": [
    "    Abc\n",
    "\n",
    "    abc"
   ]
  },
  {
   "cell_type": "code",
   "execution_count": null,
   "id": "a29d4703",
   "metadata": {},
   "outputs": [],
   "source": [
    "int x;\n",
    "\n",
    "x = 5;"
   ]
  },
  {
   "cell_type": "markdown",
   "id": "f8c6a7f7",
   "metadata": {},
   "source": [
    "    = assignment operator\n",
    "    \n",
    "    we use to to store data in primary memory\n",
    "    "
   ]
  },
  {
   "cell_type": "markdown",
   "id": "420cfe49",
   "metadata": {},
   "source": [
    "    API\n",
    "\n",
    "    Abstract Languge"
   ]
  },
  {
   "cell_type": "markdown",
   "id": "60a34a9e",
   "metadata": {},
   "source": [
    "    !Everything is Object in Python"
   ]
  },
  {
   "cell_type": "code",
   "execution_count": 10,
   "id": "81f72006",
   "metadata": {},
   "outputs": [
    {
     "name": "stdout",
     "output_type": "stream",
     "text": [
      "11\n",
      "11\n"
     ]
    }
   ],
   "source": [
    "r = 5 + 6\n",
    "print(r)\n",
    "r = int.__add__(5, 6)\n",
    "print(r)"
   ]
  },
  {
   "cell_type": "code",
   "execution_count": 11,
   "id": "cdd18c93",
   "metadata": {},
   "outputs": [
    {
     "name": "stdout",
     "output_type": "stream",
     "text": [
      "hello world\n",
      "hello world\n"
     ]
    }
   ],
   "source": [
    "r = \"hello \" + \"world\"\n",
    "print(r)\n",
    "r = str.__add__(\"hello \", \"world\" )\n",
    "print(r)"
   ]
  },
  {
   "cell_type": "code",
   "execution_count": null,
   "id": "b79fddb0",
   "metadata": {},
   "outputs": [],
   "source": []
  },
  {
   "cell_type": "code",
   "execution_count": 5,
   "id": "7c8a31a2",
   "metadata": {},
   "outputs": [
    {
     "name": "stdout",
     "output_type": "stream",
     "text": [
      "hello\n",
      "world!\n"
     ]
    }
   ],
   "source": [
    "print(\"hello\"); print(\"world!\")"
   ]
  },
  {
   "cell_type": "code",
   "execution_count": 4,
   "id": "7b447545",
   "metadata": {},
   "outputs": [],
   "source": [
    "a = 10\n",
    "\n",
    "b = 20\n",
    "\n",
    "c = 30\n"
   ]
  },
  {
   "cell_type": "code",
   "execution_count": 2,
   "id": "444d9942",
   "metadata": {},
   "outputs": [
    {
     "name": "stdout",
     "output_type": "stream",
     "text": [
      "10 20\n"
     ]
    }
   ],
   "source": [
    "a = 10; b = 20\n",
    "print(a, b)"
   ]
  },
  {
   "cell_type": "markdown",
   "id": "3f474554",
   "metadata": {},
   "source": [
    "## Data Types \n",
    "\n",
    "\n",
    "    \n",
    "    0 # int\n",
    "\n",
    "    6.2 # float\n",
    "\n",
    "    5+6j # complex\n",
    "    \n",
    "    \"anything\" # string\n",
    "    \n",
    "    [1, 2, 'one', 'two'] # list\n",
    "    \n",
    "    (5+6/10) # expression\n",
    "    \n",
    "    (\"hello\", \"hi\") # tuple\n",
    "    \n",
    "    {\"name\": \"sachin\", \"age\": 27} # dictionary\n",
    "    \n",
    "    {1, 2, 'hi', 'hello'} # set \n",
    "    \n",
    "    True, False  # boolean\n",
    "    \n",
    "    None # None Type"
   ]
  },
  {
   "cell_type": "code",
   "execution_count": 13,
   "id": "559a1f9d",
   "metadata": {},
   "outputs": [
    {
     "name": "stdout",
     "output_type": "stream",
     "text": [
      "['False', 'None', 'True', 'and', 'as', 'assert', 'async', 'await', 'break', 'class', 'continue', 'def', 'del', 'elif', 'else', 'except', 'finally', 'for', 'from', 'global', 'if', 'import', 'in', 'is', 'lambda', 'nonlocal', 'not', 'or', 'pass', 'raise', 'return', 'try', 'while', 'with', 'yield']\n"
     ]
    }
   ],
   "source": [
    "from keyword import kwlist\n",
    "print(kwlist)"
   ]
  },
  {
   "cell_type": "code",
   "execution_count": 14,
   "id": "e70b920e",
   "metadata": {},
   "outputs": [
    {
     "name": "stdout",
     "output_type": "stream",
     "text": [
      "['ArithmeticError', 'AssertionError', 'AttributeError', 'BaseException', 'BlockingIOError', 'BrokenPipeError', 'BufferError', 'BytesWarning', 'ChildProcessError', 'ConnectionAbortedError', 'ConnectionError', 'ConnectionRefusedError', 'ConnectionResetError', 'DeprecationWarning', 'EOFError', 'Ellipsis', 'EnvironmentError', 'Exception', 'False', 'FileExistsError', 'FileNotFoundError', 'FloatingPointError', 'FutureWarning', 'GeneratorExit', 'IOError', 'ImportError', 'ImportWarning', 'IndentationError', 'IndexError', 'InterruptedError', 'IsADirectoryError', 'KeyError', 'KeyboardInterrupt', 'LookupError', 'MemoryError', 'ModuleNotFoundError', 'NameError', 'None', 'NotADirectoryError', 'NotImplemented', 'NotImplementedError', 'OSError', 'OverflowError', 'PendingDeprecationWarning', 'PermissionError', 'ProcessLookupError', 'RecursionError', 'ReferenceError', 'ResourceWarning', 'RuntimeError', 'RuntimeWarning', 'StopAsyncIteration', 'StopIteration', 'SyntaxError', 'SyntaxWarning', 'SystemError', 'SystemExit', 'TabError', 'TimeoutError', 'True', 'TypeError', 'UnboundLocalError', 'UnicodeDecodeError', 'UnicodeEncodeError', 'UnicodeError', 'UnicodeTranslateError', 'UnicodeWarning', 'UserWarning', 'ValueError', 'Warning', 'WindowsError', 'ZeroDivisionError', '__IPYTHON__', '__build_class__', '__debug__', '__doc__', '__import__', '__loader__', '__name__', '__package__', '__spec__', 'abs', 'all', 'any', 'ascii', 'bin', 'bool', 'breakpoint', 'bytearray', 'bytes', 'callable', 'chr', 'classmethod', 'compile', 'complex', 'copyright', 'credits', 'delattr', 'dict', 'dir', 'display', 'divmod', 'enumerate', 'eval', 'exec', 'filter', 'float', 'format', 'frozenset', 'get_ipython', 'getattr', 'globals', 'hasattr', 'hash', 'help', 'hex', 'id', 'input', 'int', 'isinstance', 'issubclass', 'iter', 'len', 'license', 'list', 'locals', 'map', 'max', 'memoryview', 'min', 'next', 'object', 'oct', 'open', 'ord', 'pow', 'print', 'property', 'range', 'repr', 'reversed', 'round', 'set', 'setattr', 'slice', 'sorted', 'staticmethod', 'str', 'sum', 'super', 'tuple', 'type', 'vars', 'zip']\n"
     ]
    }
   ],
   "source": [
    "import builtins\n",
    "print(dir(builtins))"
   ]
  },
  {
   "cell_type": "markdown",
   "id": "8b3271d1",
   "metadata": {},
   "source": [
    "    print = 10"
   ]
  },
  {
   "cell_type": "code",
   "execution_count": null,
   "id": "2fdb6b7b",
   "metadata": {},
   "outputs": [],
   "source": [
    "    a\n",
    "    b\n",
    "    c\n",
    "    print\n",
    "    d\n",
    "    input\n",
    "    in\n",
    "    sum\n",
    "    if\n",
    "    else"
   ]
  },
  {
   "cell_type": "code",
   "execution_count": 16,
   "id": "cb4cfd71",
   "metadata": {},
   "outputs": [
    {
     "name": "stdout",
     "output_type": "stream",
     "text": [
      "<built-in function print>\n"
     ]
    }
   ],
   "source": [
    "print(print)"
   ]
  },
  {
   "cell_type": "code",
   "execution_count": 12,
   "id": "6a8e6d22",
   "metadata": {},
   "outputs": [],
   "source": [
    "name = \"Sachin\""
   ]
  },
  {
   "cell_type": "code",
   "execution_count": null,
   "id": "7df7c953",
   "metadata": {},
   "outputs": [],
   "source": [
    "name # --> identifer  -> string object -> \"Sachin\"\n",
    "\n",
    "print # --> identifer"
   ]
  },
  {
   "cell_type": "markdown",
   "id": "944f033e",
   "metadata": {},
   "source": [
    "    identifier\n",
    "    \n",
    "        variable, container, refrence, object"
   ]
  },
  {
   "cell_type": "code",
   "execution_count": 18,
   "id": "9422bbd1",
   "metadata": {},
   "outputs": [
    {
     "name": "stdout",
     "output_type": "stream",
     "text": [
      "Enter your name: Sachin Yadav\n",
      "Hello World! Sachin Yadav\n"
     ]
    }
   ],
   "source": [
    "name = input(\"Enter your name: \")\n",
    "print(\"Hello World!\", name)"
   ]
  },
  {
   "cell_type": "code",
   "execution_count": 19,
   "id": "dcdd077d",
   "metadata": {},
   "outputs": [
    {
     "name": "stdout",
     "output_type": "stream",
     "text": [
      "X: 5\n",
      "Y: 8\n",
      "result =  58\n"
     ]
    }
   ],
   "source": [
    "x = input(\"X: \") # \"5\"\n",
    "y = input(\"Y: \") # \"8\"\n",
    "\n",
    "r = x + y # \"5\" + \"8\"\n",
    "\n",
    "print(\"result = \", r) # \"58\""
   ]
  },
  {
   "cell_type": "code",
   "execution_count": 20,
   "id": "6656974c",
   "metadata": {},
   "outputs": [
    {
     "name": "stdout",
     "output_type": "stream",
     "text": [
      "enter x: 5.6\n",
      "enter y: 2.3\n",
      "result:  7.8999999999999995\n"
     ]
    }
   ],
   "source": [
    "x = float(input(\"enter x: \"))\n",
    "y = float(input(\"enter y: \"))\n",
    "\n",
    "r = x + y\n",
    "\n",
    "print(\"result: \", r)"
   ]
  },
  {
   "cell_type": "markdown",
   "id": "e36e7a65",
   "metadata": {},
   "source": [
    "#### Data Type\n",
    "\n",
    "    numbers\n",
    "    \n",
    "        int - 5, 10, 8, 5\n",
    "        float - 6.3, 1.3, 5.6\n",
    "        complex - 5+6j"
   ]
  },
  {
   "cell_type": "code",
   "execution_count": 21,
   "id": "4952faf3",
   "metadata": {},
   "outputs": [],
   "source": [
    "x = 5\n",
    "y = 6.5"
   ]
  },
  {
   "cell_type": "code",
   "execution_count": 22,
   "id": "fc438444",
   "metadata": {},
   "outputs": [
    {
     "name": "stdout",
     "output_type": "stream",
     "text": [
      "32.5\n"
     ]
    }
   ],
   "source": [
    "print(x*y)"
   ]
  },
  {
   "cell_type": "code",
   "execution_count": 23,
   "id": "debc71c2",
   "metadata": {},
   "outputs": [
    {
     "name": "stdout",
     "output_type": "stream",
     "text": [
      "11.5\n"
     ]
    }
   ],
   "source": [
    "print(x+y)"
   ]
  },
  {
   "cell_type": "code",
   "execution_count": 24,
   "id": "5877a75d",
   "metadata": {},
   "outputs": [
    {
     "name": "stdout",
     "output_type": "stream",
     "text": [
      "0.7692307692307693\n"
     ]
    }
   ],
   "source": [
    "print(x/y)"
   ]
  },
  {
   "cell_type": "markdown",
   "id": "c28fa1c9",
   "metadata": {},
   "source": [
    "##### String \n",
    "\n",
    "    collection of characters/letters\n",
    "    immutable \n",
    "    ordered sequential \n",
    "    \n",
    "    single quoted / double quoted -> single line string\n",
    "    \n",
    "    triple quoted -> multi-line string\n",
    "    "
   ]
  },
  {
   "cell_type": "code",
   "execution_count": 29,
   "id": "0accc0da",
   "metadata": {},
   "outputs": [],
   "source": [
    "s = \"it's fun to learn python really quick.\""
   ]
  },
  {
   "cell_type": "code",
   "execution_count": 30,
   "id": "d1163e65",
   "metadata": {},
   "outputs": [
    {
     "name": "stdout",
     "output_type": "stream",
     "text": [
      "<class 'str'>\n"
     ]
    }
   ],
   "source": [
    "print(type(s))"
   ]
  },
  {
   "cell_type": "code",
   "execution_count": 31,
   "id": "8bb92f5b",
   "metadata": {},
   "outputs": [
    {
     "name": "stdout",
     "output_type": "stream",
     "text": [
      "it's fun to learn python really quick.\n"
     ]
    }
   ],
   "source": [
    "print(s)"
   ]
  },
  {
   "cell_type": "code",
   "execution_count": 32,
   "id": "9d991206",
   "metadata": {},
   "outputs": [],
   "source": [
    "a = 'strings can be stored in single quotes too'"
   ]
  },
  {
   "cell_type": "code",
   "execution_count": 33,
   "id": "6762dd4d",
   "metadata": {},
   "outputs": [
    {
     "name": "stdout",
     "output_type": "stream",
     "text": [
      "<class 'str'>\n"
     ]
    }
   ],
   "source": [
    "print(type(a))"
   ]
  },
  {
   "cell_type": "code",
   "execution_count": 34,
   "id": "1f66ca4b",
   "metadata": {},
   "outputs": [
    {
     "name": "stdout",
     "output_type": "stream",
     "text": [
      "strings can be stored in single quotes too\n"
     ]
    }
   ],
   "source": [
    "print(a)"
   ]
  },
  {
   "cell_type": "code",
   "execution_count": 35,
   "id": "13fe3c3c",
   "metadata": {},
   "outputs": [],
   "source": [
    "app = \"\"\"\n",
    "To\n",
    "    The Headmaster\n",
    "    some school\n",
    "    \n",
    "Dear sir/maa'm\n",
    "\n",
    "    Due to some reason I am unable to come to school\n",
    "    for next some days pelase grant me leave for some days.\n",
    "    \n",
    "    Thank You\n",
    "    \n",
    "Your Student\n",
    "sachin yadav\n",
    "12345\n",
    "\"\"\""
   ]
  },
  {
   "cell_type": "code",
   "execution_count": 36,
   "id": "2472cb05",
   "metadata": {},
   "outputs": [
    {
     "name": "stdout",
     "output_type": "stream",
     "text": [
      "\n",
      "To\n",
      "    The Headmaster\n",
      "    some school\n",
      "    \n",
      "Dear sir/maa'm\n",
      "\n",
      "    Due to some reason I am unable to come to school\n",
      "    for next some days pelase grant me leave for some days.\n",
      "    \n",
      "    Thank You\n",
      "    \n",
      "Your Student\n",
      "sachin yadav\n",
      "12345\n",
      "\n"
     ]
    }
   ],
   "source": [
    "print(app)"
   ]
  },
  {
   "cell_type": "code",
   "execution_count": 37,
   "id": "0c1907c5",
   "metadata": {},
   "outputs": [
    {
     "name": "stdout",
     "output_type": "stream",
     "text": [
      "\"\\nTo\\n    The Headmaster\\n    some school\\n    \\nDear sir/maa'm\\n\\n    Due to some reason I am unable to come to school\\n    for next some days pelase grant me leave for some days.\\n    \\n    Thank You\\n    \\nYour Student\\nsachin yadav\\n12345\\n\"\n"
     ]
    }
   ],
   "source": [
    "print(repr(app)) # raw string"
   ]
  },
  {
   "cell_type": "markdown",
   "id": "9df7917e",
   "metadata": {},
   "source": [
    "    Encoding UTF-8"
   ]
  },
  {
   "cell_type": "markdown",
   "id": "b596df5c",
   "metadata": {},
   "source": [
    "    a -> unicode value -> 65 -> dict map (character map) -> a"
   ]
  },
  {
   "cell_type": "code",
   "execution_count": 44,
   "id": "8304ff60",
   "metadata": {},
   "outputs": [
    {
     "name": "stdout",
     "output_type": "stream",
     "text": [
      "ह\n"
     ]
    }
   ],
   "source": [
    "print(\"\\u0939\")"
   ]
  },
  {
   "cell_type": "code",
   "execution_count": 39,
   "id": "4a19c499",
   "metadata": {},
   "outputs": [
    {
     "name": "stdout",
     "output_type": "stream",
     "text": [
      "I need 50000₹ in my hand, right now!\n"
     ]
    }
   ],
   "source": [
    "print(\"I need 50000 \\u20B9 in my hand, right now!\")"
   ]
  },
  {
   "cell_type": "code",
   "execution_count": null,
   "id": "1fc5522d",
   "metadata": {},
   "outputs": [],
   "source": []
  },
  {
   "cell_type": "markdown",
   "id": "20abbfec",
   "metadata": {},
   "source": [
    "    \\char -> special character\n",
    "    \n",
    "    \\n -> new line character\n",
    "    \\t -> tab character\n",
    "    \\r -> carrige return \n",
    "    \n",
    "    \\\" -> to enclose \" inside a string\n",
    "    \n",
    "    \\\\ -> to enclose \\ in a string\n",
    "    \n",
    "    \\u0000 -> to define a unicode character"
   ]
  },
  {
   "cell_type": "code",
   "execution_count": 46,
   "id": "f2bc0848",
   "metadata": {},
   "outputs": [
    {
     "name": "stdout",
     "output_type": "stream",
     "text": [
      "\"haha that's too easy\"\n"
     ]
    }
   ],
   "source": [
    "s = \"haha that's too easy\"\n",
    "print(repr(s))"
   ]
  },
  {
   "cell_type": "code",
   "execution_count": null,
   "id": "1cf88fda",
   "metadata": {},
   "outputs": [],
   "source": []
  },
  {
   "cell_type": "code",
   "execution_count": 45,
   "id": "bfe6c26f",
   "metadata": {},
   "outputs": [
    {
     "name": "stdout",
     "output_type": "stream",
     "text": [
      "Hello\n",
      "\t\tWorld!\n",
      "'Hello\\n\\t\\tWorld!'\n"
     ]
    }
   ],
   "source": [
    "s = \"Hello\\n\\t\\tWorld!\"\n",
    "print(s)\n",
    "print(repr(s))"
   ]
  },
  {
   "cell_type": "markdown",
   "id": "720b566d",
   "metadata": {},
   "source": [
    "    string -> utf-8"
   ]
  },
  {
   "cell_type": "markdown",
   "id": "91440736",
   "metadata": {},
   "source": [
    "    class \n",
    "    \n",
    "        collection of data members (objects) and member function (methods)"
   ]
  },
  {
   "cell_type": "code",
   "execution_count": 52,
   "id": "974ed70e",
   "metadata": {},
   "outputs": [
    {
     "name": "stdout",
     "output_type": "stream",
     "text": [
      "5\n"
     ]
    }
   ],
   "source": [
    "a = 5\n",
    "print(a)"
   ]
  },
  {
   "cell_type": "code",
   "execution_count": 48,
   "id": "b1f1411b",
   "metadata": {},
   "outputs": [
    {
     "name": "stdout",
     "output_type": "stream",
     "text": [
      "<class 'int'>\n"
     ]
    }
   ],
   "source": [
    "print(type(a))"
   ]
  },
  {
   "cell_type": "code",
   "execution_count": 49,
   "id": "3f7954da",
   "metadata": {},
   "outputs": [
    {
     "name": "stdout",
     "output_type": "stream",
     "text": [
      "140705555883952\n"
     ]
    }
   ],
   "source": [
    "print(id(a))"
   ]
  },
  {
   "cell_type": "code",
   "execution_count": 50,
   "id": "169ef013",
   "metadata": {},
   "outputs": [
    {
     "name": "stdout",
     "output_type": "stream",
     "text": [
      "['__abs__', '__add__', '__and__', '__bool__', '__ceil__', '__class__', '__delattr__', '__dir__', '__divmod__', '__doc__', '__eq__', '__float__', '__floor__', '__floordiv__', '__format__', '__ge__', '__getattribute__', '__getnewargs__', '__gt__', '__hash__', '__index__', '__init__', '__init_subclass__', '__int__', '__invert__', '__le__', '__lshift__', '__lt__', '__mod__', '__mul__', '__ne__', '__neg__', '__new__', '__or__', '__pos__', '__pow__', '__radd__', '__rand__', '__rdivmod__', '__reduce__', '__reduce_ex__', '__repr__', '__rfloordiv__', '__rlshift__', '__rmod__', '__rmul__', '__ror__', '__round__', '__rpow__', '__rrshift__', '__rshift__', '__rsub__', '__rtruediv__', '__rxor__', '__setattr__', '__sizeof__', '__str__', '__sub__', '__subclasshook__', '__truediv__', '__trunc__', '__xor__', 'as_integer_ratio', 'bit_length', 'conjugate', 'denominator', 'from_bytes', 'imag', 'numerator', 'real', 'to_bytes']\n"
     ]
    }
   ],
   "source": [
    "print(dir(a))"
   ]
  },
  {
   "cell_type": "code",
   "execution_count": 51,
   "id": "8d5654e4",
   "metadata": {},
   "outputs": [
    {
     "name": "stdout",
     "output_type": "stream",
     "text": [
      "Help on built-in function bit_length:\n",
      "\n",
      "bit_length() method of builtins.int instance\n",
      "    Number of bits necessary to represent self in binary.\n",
      "    \n",
      "    >>> bin(37)\n",
      "    '0b100101'\n",
      "    >>> (37).bit_length()\n",
      "    6\n",
      "\n"
     ]
    }
   ],
   "source": [
    "help(a.bit_length)"
   ]
  },
  {
   "cell_type": "code",
   "execution_count": 57,
   "id": "719c5aca",
   "metadata": {},
   "outputs": [
    {
     "name": "stdout",
     "output_type": "stream",
     "text": [
      "14\n"
     ]
    }
   ],
   "source": [
    "a = 12500\n",
    "x = a.bit_length()\n",
    "print(x)"
   ]
  },
  {
   "cell_type": "code",
   "execution_count": null,
   "id": "b8f7cebd",
   "metadata": {},
   "outputs": [],
   "source": []
  }
 ],
 "metadata": {
  "kernelspec": {
   "display_name": "Python 3",
   "language": "python",
   "name": "python3"
  },
  "language_info": {
   "codemirror_mode": {
    "name": "ipython",
    "version": 3
   },
   "file_extension": ".py",
   "mimetype": "text/x-python",
   "name": "python",
   "nbconvert_exporter": "python",
   "pygments_lexer": "ipython3",
   "version": "3.8.8"
  }
 },
 "nbformat": 4,
 "nbformat_minor": 5
}
