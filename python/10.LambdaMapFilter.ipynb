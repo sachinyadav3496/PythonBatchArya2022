{
 "cells": [
  {
   "cell_type": "markdown",
   "id": "290dd058",
   "metadata": {},
   "source": [
    "#### Recursion\n",
    "\n",
    "    data \n",
    "        solution -> user -> data puch kar -> excel store kar le"
   ]
  },
  {
   "cell_type": "code",
   "execution_count": 2,
   "id": "31d72c2b",
   "metadata": {},
   "outputs": [],
   "source": [
    "import sys"
   ]
  },
  {
   "cell_type": "code",
   "execution_count": 3,
   "id": "f6c1f716",
   "metadata": {},
   "outputs": [
    {
     "data": {
      "text/plain": [
       "3000"
      ]
     },
     "execution_count": 3,
     "metadata": {},
     "output_type": "execute_result"
    }
   ],
   "source": [
    "sys.getrecursionlimit()"
   ]
  },
  {
   "cell_type": "code",
   "execution_count": null,
   "id": "48812f73",
   "metadata": {},
   "outputs": [],
   "source": []
  },
  {
   "cell_type": "code",
   "execution_count": 1,
   "id": "d7263251",
   "metadata": {},
   "outputs": [],
   "source": [
    "def func(n):\n",
    "    if n == 0:\n",
    "        return 1\n",
    "    return n-1+func(n-1)+n+1"
   ]
  },
  {
   "cell_type": "code",
   "execution_count": 4,
   "id": "a311a0ec",
   "metadata": {},
   "outputs": [
    {
     "name": "stdout",
     "output_type": "stream",
     "text": [
      "Answer: 31\n"
     ]
    }
   ],
   "source": [
    "n = 5\n",
    "ans = func(n)\n",
    "print(f\"Answer: {ans}\")"
   ]
  },
  {
   "cell_type": "markdown",
   "id": "ba8550fc",
   "metadata": {},
   "source": [
    "#### Anonymous Functions\n",
    "\n",
    "    Lambda Functions\n",
    "    \n",
    "    Inline line function\n",
    "    "
   ]
  },
  {
   "cell_type": "markdown",
   "id": "94017009",
   "metadata": {},
   "source": [
    "#### syntax\n",
    "\n",
    "    func = lambda (arg1, arg2, ...): statement"
   ]
  },
  {
   "cell_type": "code",
   "execution_count": 7,
   "id": "4e777b2a",
   "metadata": {},
   "outputs": [
    {
     "name": "stdout",
     "output_type": "stream",
     "text": [
      "Hello World!\n"
     ]
    }
   ],
   "source": [
    "def hello():\n",
    "    print(\"Hello World!\")\n",
    "    \n",
    "hello()"
   ]
  },
  {
   "cell_type": "code",
   "execution_count": 8,
   "id": "b5059114",
   "metadata": {},
   "outputs": [],
   "source": [
    "hi = lambda : print(\"Hello world!\")"
   ]
  },
  {
   "cell_type": "code",
   "execution_count": 9,
   "id": "182202e2",
   "metadata": {},
   "outputs": [
    {
     "name": "stdout",
     "output_type": "stream",
     "text": [
      "Hello world!\n"
     ]
    }
   ],
   "source": [
    "hi()"
   ]
  },
  {
   "cell_type": "code",
   "execution_count": 10,
   "id": "c9fa1914",
   "metadata": {},
   "outputs": [
    {
     "name": "stdout",
     "output_type": "stream",
     "text": [
      "<function hello at 0x0000022B4260DF70>\n",
      "<function <lambda> at 0x0000022B4260DE50>\n"
     ]
    }
   ],
   "source": [
    "print(hello)\n",
    "print(hi)"
   ]
  },
  {
   "cell_type": "code",
   "execution_count": 13,
   "id": "ce27f8ab",
   "metadata": {},
   "outputs": [],
   "source": [
    "def hi():\n",
    "    print('hi')"
   ]
  },
  {
   "cell_type": "code",
   "execution_count": 14,
   "id": "388b5590",
   "metadata": {},
   "outputs": [
    {
     "name": "stdout",
     "output_type": "stream",
     "text": [
      "hi\n"
     ]
    }
   ],
   "source": [
    "h = hi()"
   ]
  },
  {
   "cell_type": "code",
   "execution_count": 15,
   "id": "ad9e60e8",
   "metadata": {},
   "outputs": [
    {
     "name": "stdout",
     "output_type": "stream",
     "text": [
      "None\n"
     ]
    }
   ],
   "source": [
    "print(h)"
   ]
  },
  {
   "cell_type": "code",
   "execution_count": 16,
   "id": "3f7d11b6",
   "metadata": {},
   "outputs": [],
   "source": [
    "def hi():\n",
    "    return 'hi'"
   ]
  },
  {
   "cell_type": "code",
   "execution_count": 17,
   "id": "867f1ae8",
   "metadata": {},
   "outputs": [],
   "source": [
    "h = hi()"
   ]
  },
  {
   "cell_type": "code",
   "execution_count": 18,
   "id": "89763c62",
   "metadata": {},
   "outputs": [
    {
     "name": "stdout",
     "output_type": "stream",
     "text": [
      "hi\n"
     ]
    }
   ],
   "source": [
    "print(h)"
   ]
  },
  {
   "cell_type": "code",
   "execution_count": 11,
   "id": "b3ce4441",
   "metadata": {},
   "outputs": [],
   "source": [
    "def welcome(user):\n",
    "    return f\"Hello {user.strip().title()}! Welcome to Python\""
   ]
  },
  {
   "cell_type": "code",
   "execution_count": 12,
   "id": "2bbb288b",
   "metadata": {},
   "outputs": [
    {
     "name": "stdout",
     "output_type": "stream",
     "text": [
      "Hello Sachin Yadav! Welcome to Python\n"
     ]
    }
   ],
   "source": [
    "a = welcome(\"    sACHin YaDAv      \")\n",
    "print(a)"
   ]
  },
  {
   "cell_type": "code",
   "execution_count": 19,
   "id": "9dcad0e9",
   "metadata": {},
   "outputs": [],
   "source": [
    "wc = lambda user: f\"Hello {user.strip().title()}! Welcome to Python\""
   ]
  },
  {
   "cell_type": "code",
   "execution_count": 20,
   "id": "77cbf22c",
   "metadata": {},
   "outputs": [
    {
     "name": "stdout",
     "output_type": "stream",
     "text": [
      "Hello Rajat  Goyal! Welcome to Python\n"
     ]
    }
   ],
   "source": [
    "a = wc('   raJAT  goYAL   ')\n",
    "print(a)"
   ]
  },
  {
   "cell_type": "code",
   "execution_count": 21,
   "id": "5f0d4f41",
   "metadata": {},
   "outputs": [],
   "source": [
    "def sq_add(x, y):\n",
    "    return x**2+y**2"
   ]
  },
  {
   "cell_type": "code",
   "execution_count": 22,
   "id": "66fc0b1e",
   "metadata": {},
   "outputs": [
    {
     "name": "stdout",
     "output_type": "stream",
     "text": [
      "25\n"
     ]
    }
   ],
   "source": [
    "r = sq_add(3, 4)\n",
    "print(r)"
   ]
  },
  {
   "cell_type": "code",
   "execution_count": 23,
   "id": "59c44bd9",
   "metadata": {},
   "outputs": [],
   "source": [
    "ad = lambda x, y: x**2+y**2"
   ]
  },
  {
   "cell_type": "code",
   "execution_count": 24,
   "id": "84460318",
   "metadata": {},
   "outputs": [
    {
     "name": "stdout",
     "output_type": "stream",
     "text": [
      "25\n"
     ]
    }
   ],
   "source": [
    "r = ad(3, 4)\n",
    "print(r)"
   ]
  },
  {
   "cell_type": "code",
   "execution_count": 34,
   "id": "a62bc80d",
   "metadata": {},
   "outputs": [
    {
     "data": {
      "text/plain": [
       "30"
      ]
     },
     "execution_count": 34,
     "metadata": {},
     "output_type": "execute_result"
    }
   ],
   "source": [
    "sum([ v**2 for v in [1, 2, 3, 4]])"
   ]
  },
  {
   "cell_type": "code",
   "execution_count": 36,
   "id": "5921b431",
   "metadata": {},
   "outputs": [
    {
     "data": {
      "text/plain": [
       "14"
      ]
     },
     "execution_count": 36,
     "metadata": {},
     "output_type": "execute_result"
    }
   ],
   "source": [
    "sa = lambda *items: sum([i**2 for i in items])\n",
    "sa(1, 2, 3)"
   ]
  },
  {
   "cell_type": "code",
   "execution_count": 29,
   "id": "d4b90dd0",
   "metadata": {},
   "outputs": [],
   "source": [
    "def sq_add(*items):\n",
    "    s = 0\n",
    "    for item in items:\n",
    "        s += item**2\n",
    "    return s"
   ]
  },
  {
   "cell_type": "code",
   "execution_count": 31,
   "id": "faeaf6b2",
   "metadata": {},
   "outputs": [
    {
     "name": "stdout",
     "output_type": "stream",
     "text": [
      "371\n"
     ]
    }
   ],
   "source": [
    "r1 = sq_add(4, 5, 6, 7, 8, 9, 10)\n",
    "print(r1)"
   ]
  },
  {
   "cell_type": "code",
   "execution_count": 37,
   "id": "23181f41",
   "metadata": {},
   "outputs": [
    {
     "name": "stdout",
     "output_type": "stream",
     "text": [
      "371\n"
     ]
    }
   ],
   "source": [
    "a = sa(4, 5, 6, 7, 8, 9, 10)\n",
    "print(a)"
   ]
  },
  {
   "cell_type": "code",
   "execution_count": 30,
   "id": "078a09f1",
   "metadata": {},
   "outputs": [
    {
     "name": "stdout",
     "output_type": "stream",
     "text": [
      "14\n"
     ]
    }
   ],
   "source": [
    "r = sq_add(1, 2, 3)\n",
    "print(r)"
   ]
  },
  {
   "cell_type": "code",
   "execution_count": null,
   "id": "c0e4efb6",
   "metadata": {},
   "outputs": [],
   "source": []
  },
  {
   "cell_type": "code",
   "execution_count": 38,
   "id": "424b83ca",
   "metadata": {},
   "outputs": [
    {
     "name": "stdout",
     "output_type": "stream",
     "text": [
      "\n"
     ]
    },
    {
     "ename": "ValueError",
     "evalue": "invalid literal for int() with base 10: ''",
     "output_type": "error",
     "traceback": [
      "\u001b[1;31m---------------------------------------------------------------------------\u001b[0m",
      "\u001b[1;31mValueError\u001b[0m                                Traceback (most recent call last)",
      "\u001b[1;32m<ipython-input-38-27a69eafdca7>\u001b[0m in \u001b[0;36m<module>\u001b[1;34m\u001b[0m\n\u001b[1;32m----> 1\u001b[1;33m \u001b[1;33m[\u001b[0m \u001b[0mint\u001b[0m\u001b[1;33m(\u001b[0m\u001b[0minput\u001b[0m\u001b[1;33m(\u001b[0m\u001b[1;33m)\u001b[0m\u001b[1;33m)\u001b[0m \u001b[1;32mfor\u001b[0m \u001b[0mvar\u001b[0m \u001b[1;32min\u001b[0m \u001b[0mrange\u001b[0m\u001b[1;33m(\u001b[0m\u001b[1;36m10\u001b[0m\u001b[1;33m)\u001b[0m\u001b[1;33m]\u001b[0m \u001b[1;31m# list compreshension\u001b[0m\u001b[1;33m\u001b[0m\u001b[1;33m\u001b[0m\u001b[0m\n\u001b[0m",
      "\u001b[1;32m<ipython-input-38-27a69eafdca7>\u001b[0m in \u001b[0;36m<listcomp>\u001b[1;34m(.0)\u001b[0m\n\u001b[1;32m----> 1\u001b[1;33m \u001b[1;33m[\u001b[0m \u001b[0mint\u001b[0m\u001b[1;33m(\u001b[0m\u001b[0minput\u001b[0m\u001b[1;33m(\u001b[0m\u001b[1;33m)\u001b[0m\u001b[1;33m)\u001b[0m \u001b[1;32mfor\u001b[0m \u001b[0mvar\u001b[0m \u001b[1;32min\u001b[0m \u001b[0mrange\u001b[0m\u001b[1;33m(\u001b[0m\u001b[1;36m10\u001b[0m\u001b[1;33m)\u001b[0m\u001b[1;33m]\u001b[0m \u001b[1;31m# list compreshension\u001b[0m\u001b[1;33m\u001b[0m\u001b[1;33m\u001b[0m\u001b[0m\n\u001b[0m",
      "\u001b[1;31mValueError\u001b[0m: invalid literal for int() with base 10: ''"
     ]
    }
   ],
   "source": [
    "[ int(input()) for var in range(10)] # list compreshension"
   ]
  },
  {
   "cell_type": "code",
   "execution_count": 39,
   "id": "1f278c4b",
   "metadata": {},
   "outputs": [],
   "source": [
    "def even_odd(num):\n",
    "    if num % 2 == 0:\n",
    "        return 'Even'\n",
    "    return 'Odd'"
   ]
  },
  {
   "cell_type": "code",
   "execution_count": 40,
   "id": "967b705e",
   "metadata": {},
   "outputs": [
    {
     "data": {
      "text/plain": [
       "'Odd'"
      ]
     },
     "execution_count": 40,
     "metadata": {},
     "output_type": "execute_result"
    }
   ],
   "source": [
    "even_odd(5)"
   ]
  },
  {
   "cell_type": "code",
   "execution_count": 41,
   "id": "03266d5b",
   "metadata": {},
   "outputs": [
    {
     "data": {
      "text/plain": [
       "'Even'"
      ]
     },
     "execution_count": 41,
     "metadata": {},
     "output_type": "execute_result"
    }
   ],
   "source": [
    "even_odd(10)"
   ]
  },
  {
   "cell_type": "code",
   "execution_count": 42,
   "id": "e6caf6eb",
   "metadata": {},
   "outputs": [],
   "source": [
    "e = lambda num: \"Even\" if num % 2 == 0 else \"Odd\"\n"
   ]
  },
  {
   "cell_type": "code",
   "execution_count": 43,
   "id": "05381b83",
   "metadata": {},
   "outputs": [
    {
     "data": {
      "text/plain": [
       "'Even'"
      ]
     },
     "execution_count": 43,
     "metadata": {},
     "output_type": "execute_result"
    }
   ],
   "source": [
    "e(10)"
   ]
  },
  {
   "cell_type": "code",
   "execution_count": 44,
   "id": "0b0a8443",
   "metadata": {},
   "outputs": [
    {
     "data": {
      "text/plain": [
       "'Odd'"
      ]
     },
     "execution_count": 44,
     "metadata": {},
     "output_type": "execute_result"
    }
   ],
   "source": [
    "e(11)"
   ]
  },
  {
   "cell_type": "code",
   "execution_count": 45,
   "id": "fc71ddc4",
   "metadata": {},
   "outputs": [
    {
     "name": "stdout",
     "output_type": "stream",
     "text": [
      "hi\n"
     ]
    }
   ],
   "source": [
    "print('hi')"
   ]
  },
  {
   "cell_type": "code",
   "execution_count": 51,
   "id": "6a0a0446",
   "metadata": {},
   "outputs": [
    {
     "data": {
      "text/plain": [
       "4"
      ]
     },
     "execution_count": 51,
     "metadata": {},
     "output_type": "execute_result"
    }
   ],
   "source": [
    "max([1, 2, 3, 4])"
   ]
  },
  {
   "cell_type": "code",
   "execution_count": 53,
   "id": "c5d0706c",
   "metadata": {},
   "outputs": [
    {
     "data": {
      "text/plain": [
       "1"
      ]
     },
     "execution_count": 53,
     "metadata": {},
     "output_type": "execute_result"
    }
   ],
   "source": [
    "min([1, 2, 42323, 23,2, 32,3, 2,3 ])"
   ]
  },
  {
   "cell_type": "code",
   "execution_count": 59,
   "id": "14d9d214",
   "metadata": {},
   "outputs": [],
   "source": [
    "g = lambda *args: max(args)"
   ]
  },
  {
   "cell_type": "code",
   "execution_count": 60,
   "id": "01db90c3",
   "metadata": {},
   "outputs": [
    {
     "data": {
      "text/plain": [
       "23"
      ]
     },
     "execution_count": 60,
     "metadata": {},
     "output_type": "execute_result"
    }
   ],
   "source": [
    "g(1, 4, 23)"
   ]
  },
  {
   "cell_type": "code",
   "execution_count": 54,
   "id": "a835f849",
   "metadata": {},
   "outputs": [],
   "source": [
    "def greatest(*nums):\n",
    "    return max(nums)"
   ]
  },
  {
   "cell_type": "code",
   "execution_count": 58,
   "id": "84820f5f",
   "metadata": {},
   "outputs": [
    {
     "data": {
      "text/plain": [
       "12"
      ]
     },
     "execution_count": 58,
     "metadata": {},
     "output_type": "execute_result"
    }
   ],
   "source": [
    "greatest(1, 12, 3, 10)"
   ]
  },
  {
   "cell_type": "code",
   "execution_count": null,
   "id": "6953ef0e",
   "metadata": {},
   "outputs": [],
   "source": []
  },
  {
   "cell_type": "code",
   "execution_count": 48,
   "id": "e3fadbf7",
   "metadata": {},
   "outputs": [],
   "source": [
    "def greatest(a, b, c):\n",
    "    if a > b and a > c:\n",
    "        return a\n",
    "    elif b > c:\n",
    "        return b\n",
    "    else:\n",
    "        return c"
   ]
  },
  {
   "cell_type": "code",
   "execution_count": 50,
   "id": "132fc892",
   "metadata": {},
   "outputs": [
    {
     "data": {
      "text/plain": [
       "12"
      ]
     },
     "execution_count": 50,
     "metadata": {},
     "output_type": "execute_result"
    }
   ],
   "source": [
    "greatest(1, 12, 3)"
   ]
  },
  {
   "cell_type": "code",
   "execution_count": 61,
   "id": "7b08ecb2",
   "metadata": {},
   "outputs": [],
   "source": [
    "# nested if-else\n",
    "gr = lambda a, b, c: a if (a>b and a>c) else (b if b > c else c)"
   ]
  },
  {
   "cell_type": "code",
   "execution_count": 62,
   "id": "a56e4d05",
   "metadata": {},
   "outputs": [
    {
     "data": {
      "text/plain": [
       "40"
      ]
     },
     "execution_count": 62,
     "metadata": {},
     "output_type": "execute_result"
    }
   ],
   "source": [
    "gr(10, 40, 30)"
   ]
  },
  {
   "cell_type": "markdown",
   "id": "8720173d",
   "metadata": {},
   "source": [
    "#### write prime code in one line ? "
   ]
  },
  {
   "cell_type": "code",
   "execution_count": 63,
   "id": "7e8fb48a",
   "metadata": {},
   "outputs": [],
   "source": [
    "import math"
   ]
  },
  {
   "cell_type": "code",
   "execution_count": 64,
   "id": "9383f343",
   "metadata": {},
   "outputs": [],
   "source": [
    "def is_prime(num, check=2):\n",
    "    if num <= 1:\n",
    "        return False\n",
    "    if num <= 3:\n",
    "        return True\n",
    "    if num % check == 0:\n",
    "        return False\n",
    "    if check >= math.sqrt(num)+1:\n",
    "        return True\n",
    "    return is_prime(num, check+1)"
   ]
  },
  {
   "cell_type": "code",
   "execution_count": 68,
   "id": "5f32d1de",
   "metadata": {},
   "outputs": [
    {
     "data": {
      "text/plain": [
       "True"
      ]
     },
     "execution_count": 68,
     "metadata": {},
     "output_type": "execute_result"
    }
   ],
   "source": [
    "is_prime(127)"
   ]
  },
  {
   "cell_type": "markdown",
   "id": "c7a85465",
   "metadata": {},
   "source": [
    "##### write above code in one line "
   ]
  },
  {
   "cell_type": "markdown",
   "id": "bb0ef7ef",
   "metadata": {},
   "source": [
    "#### Map Function\n",
    "\n",
    "    syntax\n",
    "    \n",
    "        map_object = map(function, seq1, ...)\n",
    "        \n",
    "        single usable iterable object"
   ]
  },
  {
   "cell_type": "markdown",
   "id": "4c2bba7a",
   "metadata": {},
   "source": [
    "    it is used to map a function to each value of a sequence \n",
    "    \n",
    "    it returns a lazy iterable object "
   ]
  },
  {
   "cell_type": "code",
   "execution_count": 72,
   "id": "56f825c4",
   "metadata": {},
   "outputs": [
    {
     "name": "stdout",
     "output_type": "stream",
     "text": [
      "[1, 2, 3, 4, 5]\n"
     ]
    }
   ],
   "source": [
    "raw = [ \"1\", \"2\", \"3\", \"4\", \"5\"]\n",
    "data = []\n",
    "for item in raw:\n",
    "    # item = \"5\"\n",
    "    item = int(item)# 5\n",
    "    data.append(item)# [1, 2, 3, 4, 5]\n",
    "else:\n",
    "    print(data)"
   ]
  },
  {
   "cell_type": "code",
   "execution_count": 73,
   "id": "e9338dac",
   "metadata": {},
   "outputs": [],
   "source": [
    "raw = [ \"1\", \"2\", \"3\", \"4\", \"5\"]\n",
    "\n",
    "m = map(int, raw)"
   ]
  },
  {
   "cell_type": "code",
   "execution_count": 74,
   "id": "f6890fbe",
   "metadata": {},
   "outputs": [
    {
     "name": "stdout",
     "output_type": "stream",
     "text": [
      "<map object at 0x0000022B42A153A0>\n"
     ]
    }
   ],
   "source": [
    "print(m)"
   ]
  },
  {
   "cell_type": "code",
   "execution_count": 75,
   "id": "34305f98",
   "metadata": {},
   "outputs": [
    {
     "name": "stdout",
     "output_type": "stream",
     "text": [
      "1 2 3 4 5\n"
     ]
    }
   ],
   "source": [
    "print(*m)"
   ]
  },
  {
   "cell_type": "code",
   "execution_count": 76,
   "id": "de3bb35d",
   "metadata": {},
   "outputs": [
    {
     "name": "stdout",
     "output_type": "stream",
     "text": [
      "\n"
     ]
    }
   ],
   "source": [
    "print(*m)"
   ]
  },
  {
   "cell_type": "code",
   "execution_count": 77,
   "id": "9a6ee654",
   "metadata": {},
   "outputs": [
    {
     "name": "stdout",
     "output_type": "stream",
     "text": [
      "[1, 2, 3, 4, 5]\n"
     ]
    }
   ],
   "source": [
    "raw = [ \"1\", \"2\", \"3\", \"4\", \"5\"]\n",
    "data = list(map(int, raw))\n",
    "print(data)"
   ]
  },
  {
   "cell_type": "code",
   "execution_count": 78,
   "id": "72626c7d",
   "metadata": {},
   "outputs": [
    {
     "name": "stdout",
     "output_type": "stream",
     "text": [
      "34 56 23 78 20\n"
     ]
    }
   ],
   "source": [
    "nums = input()"
   ]
  },
  {
   "cell_type": "code",
   "execution_count": 80,
   "id": "ea4907fc",
   "metadata": {},
   "outputs": [
    {
     "name": "stdout",
     "output_type": "stream",
     "text": [
      "'34 56 23 78 20'\n"
     ]
    }
   ],
   "source": [
    "print(repr(nums))"
   ]
  },
  {
   "cell_type": "code",
   "execution_count": 82,
   "id": "13e69064",
   "metadata": {},
   "outputs": [
    {
     "name": "stdout",
     "output_type": "stream",
     "text": [
      "15 20 35 24\n"
     ]
    },
    {
     "data": {
      "text/plain": [
       "['15', '20', '35', '24']"
      ]
     },
     "execution_count": 82,
     "metadata": {},
     "output_type": "execute_result"
    }
   ],
   "source": [
    "input().split()"
   ]
  },
  {
   "cell_type": "code",
   "execution_count": 83,
   "id": "b4f426cb",
   "metadata": {},
   "outputs": [
    {
     "name": "stdout",
     "output_type": "stream",
     "text": [
      "15 60 30 40 50\n",
      "[15, 60, 30, 40, 50]\n"
     ]
    }
   ],
   "source": [
    "v = list(map(int, input().split()))\n",
    "print(v)"
   ]
  },
  {
   "cell_type": "code",
   "execution_count": 84,
   "id": "1a60af08",
   "metadata": {},
   "outputs": [],
   "source": [
    "n1 = [1, 2, 3, 4]\n",
    "n2 = [3, 2, 4, 1]"
   ]
  },
  {
   "cell_type": "code",
   "execution_count": 88,
   "id": "ca62c714",
   "metadata": {},
   "outputs": [
    {
     "name": "stdout",
     "output_type": "stream",
     "text": [
      "[10, 8, 25, 17]\n"
     ]
    }
   ],
   "source": [
    "r = list(map(lambda x,y:x**2+y**2, n1, n2))\n",
    "print(r)"
   ]
  },
  {
   "cell_type": "code",
   "execution_count": 86,
   "id": "3df0faea",
   "metadata": {},
   "outputs": [
    {
     "name": "stdout",
     "output_type": "stream",
     "text": [
      "[10, 8, 25, 17]\n"
     ]
    }
   ],
   "source": [
    "r = [ i1**2+i2**2 for i1,i2 in zip(n1, n2) ]\n",
    "print(r)"
   ]
  },
  {
   "cell_type": "code",
   "execution_count": 90,
   "id": "e2560497",
   "metadata": {},
   "outputs": [],
   "source": [
    "data = [\n",
    "    [\"sachin\", 40, 50, 60],\n",
    "    [\"rajat\", 45, 67, 78],\n",
    "    [\"simran\", 40, 80, 60]\n",
    "]"
   ]
  },
  {
   "cell_type": "code",
   "execution_count": 92,
   "id": "9fe3fc19",
   "metadata": {},
   "outputs": [],
   "source": [
    "result = list(map(lambda item: [item[0], round(sum(item[1:])/3,2)], data ))"
   ]
  },
  {
   "cell_type": "code",
   "execution_count": 93,
   "id": "70b263f5",
   "metadata": {},
   "outputs": [
    {
     "name": "stdout",
     "output_type": "stream",
     "text": [
      "[['sachin', 50.0], ['rajat', 63.33], ['simran', 60.0]]\n"
     ]
    }
   ],
   "source": [
    "print(result)"
   ]
  },
  {
   "cell_type": "markdown",
   "id": "2f798935",
   "metadata": {},
   "source": [
    "`Filter` Function\n",
    "\n",
    "    syntax\n",
    "    \n",
    "        fo = filter(function, seq)"
   ]
  },
  {
   "cell_type": "code",
   "execution_count": 94,
   "id": "225b5a12",
   "metadata": {},
   "outputs": [],
   "source": [
    "from random import randint"
   ]
  },
  {
   "cell_type": "code",
   "execution_count": 95,
   "id": "46f991cb",
   "metadata": {},
   "outputs": [],
   "source": [
    "nums = [randint(10, 50) for _ in range(10)]"
   ]
  },
  {
   "cell_type": "code",
   "execution_count": 96,
   "id": "d56482a2",
   "metadata": {},
   "outputs": [
    {
     "data": {
      "text/plain": [
       "[11, 44, 15, 35, 10, 12, 28, 42, 15, 37]"
      ]
     },
     "execution_count": 96,
     "metadata": {},
     "output_type": "execute_result"
    }
   ],
   "source": [
    "nums"
   ]
  },
  {
   "cell_type": "code",
   "execution_count": 107,
   "id": "1644772f",
   "metadata": {},
   "outputs": [],
   "source": [
    "a = list(filter(lambda num: num%2==0, nums))"
   ]
  },
  {
   "cell_type": "code",
   "execution_count": 108,
   "id": "4893fc54",
   "metadata": {},
   "outputs": [
    {
     "name": "stdout",
     "output_type": "stream",
     "text": [
      "[44, 10, 12, 28, 42]\n"
     ]
    }
   ],
   "source": [
    "print(a)"
   ]
  },
  {
   "cell_type": "code",
   "execution_count": 98,
   "id": "da1abef6",
   "metadata": {},
   "outputs": [
    {
     "name": "stdout",
     "output_type": "stream",
     "text": [
      "[44, 10, 12, 28, 42]\n"
     ]
    }
   ],
   "source": [
    "r = []\n",
    "for item in nums:\n",
    "    if item % 2 == 0:\n",
    "        r.append(item)\n",
    "print(r)"
   ]
  },
  {
   "cell_type": "markdown",
   "id": "8d984ead",
   "metadata": {},
   "source": [
    "#### File Handling and Data Serialization\n",
    "#### OOPs\n",
    "#### Exception handling\n",
    "#### Remaining Python Topic\n",
    "#### Flask and DataBase"
   ]
  },
  {
   "cell_type": "markdown",
   "id": "df68da04",
   "metadata": {},
   "source": []
  }
 ],
 "metadata": {
  "kernelspec": {
   "display_name": "Python 3",
   "language": "python",
   "name": "python3"
  },
  "language_info": {
   "codemirror_mode": {
    "name": "ipython",
    "version": 3
   },
   "file_extension": ".py",
   "mimetype": "text/x-python",
   "name": "python",
   "nbconvert_exporter": "python",
   "pygments_lexer": "ipython3",
   "version": "3.8.8"
  }
 },
 "nbformat": 4,
 "nbformat_minor": 5
}
