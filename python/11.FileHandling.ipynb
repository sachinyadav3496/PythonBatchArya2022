{
 "cells": [
  {
   "cell_type": "code",
   "execution_count": 3,
   "id": "83036647",
   "metadata": {},
   "outputs": [],
   "source": [
    "def fact(num):\n",
    "    \"\"\"\n",
    "        tail recursion\n",
    "    \"\"\"\n",
    "    if num <= 1:\n",
    "        return 1\n",
    "    return num*fact(num-1)"
   ]
  },
  {
   "cell_type": "code",
   "execution_count": 2,
   "id": "2ed3da8e",
   "metadata": {},
   "outputs": [
    {
     "data": {
      "text/plain": [
       "120"
      ]
     },
     "execution_count": 2,
     "metadata": {},
     "output_type": "execute_result"
    }
   ],
   "source": [
    "fact(5)"
   ]
  },
  {
   "cell_type": "code",
   "execution_count": 4,
   "id": "1518a1e1",
   "metadata": {},
   "outputs": [],
   "source": [
    "def fib(n):\n",
    "    # DP\n",
    "    if n == 1:\n",
    "        return 0\n",
    "    elif n == 2:\n",
    "        return 1\n",
    "    else:\n",
    "        return fib(n-1)+fib(n-2)"
   ]
  },
  {
   "cell_type": "code",
   "execution_count": 6,
   "id": "d12a056a",
   "metadata": {},
   "outputs": [
    {
     "name": "stdout",
     "output_type": "stream",
     "text": [
      "0, 1, 1, 2, 3, 5, 8, 13, 21, 34, "
     ]
    }
   ],
   "source": [
    "for n in range(1, 11):\n",
    "    print(fib(n), end=', ')"
   ]
  },
  {
   "cell_type": "markdown",
   "id": "04827da6",
   "metadata": {},
   "source": [
    "### File Handling\n",
    "\n",
    "    "
   ]
  },
  {
   "cell_type": "markdown",
   "id": "5f678f7e",
   "metadata": {},
   "source": [
    "<h3 style='color:red'>what is a file ?</h3>\n",
    "\n",
    "       persistent collection of data\n",
    "       \n",
    "       \n",
    "     data type / structures are used to store data in primary memory (RAM)\n",
    "     \n",
    "     \n",
    "     files are used to store data HDD/SSD"
   ]
  },
  {
   "cell_type": "markdown",
   "id": "4aaa048b",
   "metadata": {},
   "source": [
    "    Operating System (Linux)\n",
    "    \n",
    "        7 Types \n",
    "        \n",
    "            socket files\n",
    "            character files\n",
    "            device files\n",
    "            link files\n",
    "            directory files\n",
    "            regular files / text files\n",
    "            ..."
   ]
  },
  {
   "cell_type": "code",
   "execution_count": 7,
   "id": "0e95d40c",
   "metadata": {},
   "outputs": [
    {
     "name": "stdout",
     "output_type": "stream",
     "text": [
      "Writing one\n"
     ]
    }
   ],
   "source": [
    "%%writefile one\n",
    "print(\"Hello World!\")"
   ]
  },
  {
   "cell_type": "code",
   "execution_count": 8,
   "id": "eb1371d0",
   "metadata": {},
   "outputs": [
    {
     "name": "stdout",
     "output_type": "stream",
     "text": [
      "Hello World!\n"
     ]
    }
   ],
   "source": [
    "!python one"
   ]
  },
  {
   "cell_type": "markdown",
   "id": "df43b769",
   "metadata": {},
   "source": [
    "    Format of a files\n",
    "    \n",
    "        extentions\n",
    "        \n",
    "            .py, .exe, .jpg, .mp4 -> format \n",
    "            \n",
    "                how content is written in file\n",
    "    \n",
    "        .py  # ?\n",
    "        .html -> chrome/edge\n",
    "        .jpg -> photo viewer application\n",
    "        .loc -> map application\n",
    "        \n",
    "            default launcher (OS)\n",
    "            \n",
    "                file format \n",
    "                \n",
    "                .py"
   ]
  },
  {
   "cell_type": "markdown",
   "id": "3946b75e",
   "metadata": {},
   "source": [
    "`how many types of files are there ?`"
   ]
  },
  {
   "cell_type": "markdown",
   "id": "115e5f57",
   "metadata": {},
   "source": [
    "    1. Regular Files / Text Files -> Human Readable -> String\n",
    "    \n",
    "        .txt, .py, .csv, \n",
    "        \n",
    "    2. Byte Files / Binary Files -> Machine / Program Readable -> bytes\n",
    "    \n",
    "        .exe, .obj, .class, .jpg, .mp4, ..."
   ]
  },
  {
   "cell_type": "code",
   "execution_count": 10,
   "id": "0362b9dd",
   "metadata": {},
   "outputs": [
    {
     "name": "stdout",
     "output_type": "stream",
     "text": [
      "b'hello \\nworld'\n"
     ]
    }
   ],
   "source": [
    "s = b\"hello \\nworld\"\n",
    "print(s)"
   ]
  },
  {
   "cell_type": "code",
   "execution_count": 13,
   "id": "e8f4bc8b",
   "metadata": {},
   "outputs": [
    {
     "ename": "FileNotFoundError",
     "evalue": "[Errno 2] No such file or directory: '/ab/cd/abcd.py'",
     "output_type": "error",
     "traceback": [
      "\u001b[1;31m---------------------------------------------------------------------------\u001b[0m",
      "\u001b[1;31mFileNotFoundError\u001b[0m                         Traceback (most recent call last)",
      "\u001b[1;32m<ipython-input-13-aaeb261b624f>\u001b[0m in \u001b[0;36m<module>\u001b[1;34m\u001b[0m\n\u001b[1;32m----> 1\u001b[1;33m \u001b[0mopen\u001b[0m\u001b[1;33m(\u001b[0m\u001b[1;34m'/ab/cd/abcd.py'\u001b[0m\u001b[1;33m)\u001b[0m\u001b[1;33m\u001b[0m\u001b[1;33m\u001b[0m\u001b[0m\n\u001b[0m",
      "\u001b[1;31mFileNotFoundError\u001b[0m: [Errno 2] No such file or directory: '/ab/cd/abcd.py'"
     ]
    }
   ],
   "source": [
    "open('/ab/cd/abcd.py')"
   ]
  },
  {
   "cell_type": "code",
   "execution_count": 14,
   "id": "8bee81a2",
   "metadata": {},
   "outputs": [],
   "source": [
    "import os"
   ]
  },
  {
   "cell_type": "code",
   "execution_count": 15,
   "id": "b55d8a78",
   "metadata": {},
   "outputs": [
    {
     "name": "stdout",
     "output_type": "stream",
     "text": [
      "C:\\Users\\sachi\\Desktop\\arya_2022\n"
     ]
    }
   ],
   "source": [
    "cdir = os.getcwd()\n",
    "print(cdir)"
   ]
  },
  {
   "cell_type": "code",
   "execution_count": 17,
   "id": "e8f6bb52",
   "metadata": {},
   "outputs": [
    {
     "name": "stdout",
     "output_type": "stream",
     "text": [
      "\\u20B9\n"
     ]
    }
   ],
   "source": [
    "print(\"\\\\u20B9\")"
   ]
  },
  {
   "cell_type": "code",
   "execution_count": 19,
   "id": "20aa852b",
   "metadata": {},
   "outputs": [
    {
     "name": "stdout",
     "output_type": "stream",
     "text": [
      "\\n\n",
      "'\\\\n'\n"
     ]
    }
   ],
   "source": [
    "path = r\"\\n\" # \\\\\n",
    "print(path)\n",
    "print(repr(path))"
   ]
  },
  {
   "cell_type": "markdown",
   "id": "28e5d238",
   "metadata": {},
   "source": [
    "windows\n",
    "\n",
    "    \\users\\sachi\\\n",
    "    \n",
    "    path = \"C:\\\\users\\\\sachin\\\\Desktop\\\\\"\n",
    "    path = r\"C:\\Users\\sachin\\Desktop\"\n",
    "\n",
    "linux \n",
    "\n",
    "    /home/sachin/Desktop  no issues"
   ]
  },
  {
   "cell_type": "code",
   "execution_count": 20,
   "id": "ce65c4a9",
   "metadata": {},
   "outputs": [
    {
     "data": {
      "text/plain": [
       "'C:\\\\Users\\\\sachi\\\\Desktop\\\\arya_2022'"
      ]
     },
     "execution_count": 20,
     "metadata": {},
     "output_type": "execute_result"
    }
   ],
   "source": [
    "os.getcwd()"
   ]
  },
  {
   "cell_type": "code",
   "execution_count": null,
   "id": "c9c56a66",
   "metadata": {},
   "outputs": [],
   "source": [
    "open(r\"\\hello.txt\") # absolute C:\\hello.txt\n",
    "open(r\".\\hello.txt\") # relative current director\n",
    "open(r\"hello.txt\") # current directory"
   ]
  },
  {
   "cell_type": "code",
   "execution_count": null,
   "id": "3d1ed031",
   "metadata": {},
   "outputs": [],
   "source": [
    "open(\".\\\\hello.txt\")"
   ]
  },
  {
   "cell_type": "code",
   "execution_count": null,
   "id": "b14ec4bf",
   "metadata": {},
   "outputs": [],
   "source": [
    "open(\"hello.txt\") # current dire"
   ]
  },
  {
   "cell_type": "code",
   "execution_count": null,
   "id": "7307be09",
   "metadata": {},
   "outputs": [],
   "source": [
    "open(\"\\\\hello.txt\") # C:\\\\hello.txt"
   ]
  },
  {
   "cell_type": "code",
   "execution_count": 23,
   "id": "438b7d89",
   "metadata": {},
   "outputs": [
    {
     "data": {
      "text/plain": [
       "'Welcome to python'"
      ]
     },
     "execution_count": 23,
     "metadata": {},
     "output_type": "execute_result"
    }
   ],
   "source": [
    "open(\"..\\\\hello.txt\").read()"
   ]
  },
  {
   "cell_type": "code",
   "execution_count": null,
   "id": "21712521",
   "metadata": {},
   "outputs": [],
   "source": []
  },
  {
   "cell_type": "markdown",
   "id": "e95e1d63",
   "metadata": {},
   "source": [
    "### PATH \n",
    "\n",
    "\n",
    "    Relative Path - from current directory\n",
    "    \n",
    "    \n",
    "    Absolute Path - from root directory"
   ]
  },
  {
   "cell_type": "code",
   "execution_count": 24,
   "id": "2bf4554a",
   "metadata": {},
   "outputs": [],
   "source": [
    "import os"
   ]
  },
  {
   "cell_type": "code",
   "execution_count": 25,
   "id": "2d2f553f",
   "metadata": {},
   "outputs": [
    {
     "name": "stdout",
     "output_type": "stream",
     "text": [
      "C:\\Users\\sachi\\Desktop\\arya_2022\n"
     ]
    }
   ],
   "source": [
    "print(os.getcwd())"
   ]
  },
  {
   "cell_type": "code",
   "execution_count": 26,
   "id": "09e37a8a",
   "metadata": {},
   "outputs": [
    {
     "name": "stdout",
     "output_type": "stream",
     "text": [
      "Writing hello.txt\n"
     ]
    }
   ],
   "source": [
    "%%writefile hello.txt\n",
    "this is for demo purpose"
   ]
  },
  {
   "cell_type": "markdown",
   "id": "397fd840",
   "metadata": {},
   "source": [
    "## path module to work with file path \n",
    "    \n",
    "    os.path"
   ]
  },
  {
   "cell_type": "code",
   "execution_count": 27,
   "id": "3344ded0",
   "metadata": {},
   "outputs": [
    {
     "data": {
      "text/plain": [
       "'C:\\\\Users\\\\sachi\\\\Desktop\\\\arya_2022\\\\hello.txt'"
      ]
     },
     "execution_count": 27,
     "metadata": {},
     "output_type": "execute_result"
    }
   ],
   "source": [
    "os.path.abspath(\"hello.txt\")"
   ]
  },
  {
   "cell_type": "code",
   "execution_count": 31,
   "id": "30f8f0ca",
   "metadata": {},
   "outputs": [],
   "source": [
    "dir_path = os.getcwd()\n",
    "sub_dir = \"data\"\n",
    "filename = \"hello.txt\"\n",
    "\n",
    "#os.mkdir(os.path.join(dir_path, sub_dir))\n",
    "path = os.path.join(dir_path, sub_dir, filename)\n"
   ]
  },
  {
   "cell_type": "code",
   "execution_count": 33,
   "id": "75180443",
   "metadata": {},
   "outputs": [],
   "source": [
    "fp = open(path, \"w\")\n",
    "fp.write('ha ha ha using python we can create files!')\n",
    "fp.close()"
   ]
  },
  {
   "cell_type": "code",
   "execution_count": 34,
   "id": "0e330785",
   "metadata": {},
   "outputs": [
    {
     "data": {
      "text/plain": [
       "False"
      ]
     },
     "execution_count": 34,
     "metadata": {},
     "output_type": "execute_result"
    }
   ],
   "source": [
    "os.path.exists(\"/abrcadabra\")"
   ]
  },
  {
   "cell_type": "code",
   "execution_count": 40,
   "id": "92c708b6",
   "metadata": {},
   "outputs": [
    {
     "data": {
      "text/plain": [
       "True"
      ]
     },
     "execution_count": 40,
     "metadata": {},
     "output_type": "execute_result"
    }
   ],
   "source": [
    "os.path.exists(\"/users/sachi/Desktop/Arya_2022\")"
   ]
  },
  {
   "cell_type": "markdown",
   "id": "8c0e3f27",
   "metadata": {},
   "source": [
    "    path -> directory/file"
   ]
  },
  {
   "cell_type": "code",
   "execution_count": 43,
   "id": "bb1f18aa",
   "metadata": {},
   "outputs": [
    {
     "data": {
      "text/plain": [
       "False"
      ]
     },
     "execution_count": 43,
     "metadata": {},
     "output_type": "execute_result"
    }
   ],
   "source": [
    "os.path.isfile(\"/users/sachi/Desktop/Arya_2022\")"
   ]
  },
  {
   "cell_type": "code",
   "execution_count": 44,
   "id": "7dd59a2c",
   "metadata": {},
   "outputs": [
    {
     "data": {
      "text/plain": [
       "True"
      ]
     },
     "execution_count": 44,
     "metadata": {},
     "output_type": "execute_result"
    }
   ],
   "source": [
    "os.path.isfile(\"/users/sachi/Desktop/Arya_2022/data/hello.txt\")"
   ]
  },
  {
   "cell_type": "code",
   "execution_count": 45,
   "id": "4faf14a1",
   "metadata": {},
   "outputs": [
    {
     "data": {
      "text/plain": [
       "True"
      ]
     },
     "execution_count": 45,
     "metadata": {},
     "output_type": "execute_result"
    }
   ],
   "source": [
    "os.path.isdir(\"C:\\\\\")"
   ]
  },
  {
   "cell_type": "code",
   "execution_count": 46,
   "id": "c3cc763d",
   "metadata": {},
   "outputs": [
    {
     "data": {
      "text/plain": [
       "True"
      ]
     },
     "execution_count": 46,
     "metadata": {},
     "output_type": "execute_result"
    }
   ],
   "source": [
    "os.path.isdir(\"C:\\\\users\")"
   ]
  },
  {
   "cell_type": "code",
   "execution_count": 49,
   "id": "b638068b",
   "metadata": {},
   "outputs": [
    {
     "data": {
      "text/plain": [
       "['add.py',\n",
       " 'AIML',\n",
       " 'ajax.txt',\n",
       " 'arya_2022',\n",
       " 'Batch5pm.docx',\n",
       " 'bigdata',\n",
       " 'big_data_hadoop.txt',\n",
       " 'CompetitiveProgrammingCourse.docx',\n",
       " 'data.csv',\n",
       " 'database',\n",
       " 'datascience.txt',\n",
       " 'desktop.ini',\n",
       " 'diagrams',\n",
       " 'DSML_JULY_2022',\n",
       " 'hello.txt',\n",
       " 'kiit_class_time.txt',\n",
       " 'Machine Learning.pptx',\n",
       " 'meet.txt',\n",
       " 'mymodules',\n",
       " 'Postman.lnk',\n",
       " 'python.pptx',\n",
       " 'PYTHON_OFFER_COURSE.docx',\n",
       " 'Test',\n",
       " 'tic_tac_toe.py',\n",
       " 'tri_color.jpg',\n",
       " 'VGU',\n",
       " 'WeatherApplication']"
      ]
     },
     "execution_count": 49,
     "metadata": {},
     "output_type": "execute_result"
    }
   ],
   "source": [
    "os.listdir(\"C:\\\\Users\\\\sachi\\\\Desktop\")"
   ]
  },
  {
   "cell_type": "code",
   "execution_count": 52,
   "id": "78e71a16",
   "metadata": {},
   "outputs": [],
   "source": [
    "#os.environ[\"HOME\"] for linux\n",
    "\n",
    "user_dir = os.environ[\"HOMEPATH\"]\n",
    "dir_ = \"Desktop/arya_2022\"\n",
    "file = \"awesome.txt\"\n",
    "\n",
    "path = os.path.join(user_dir, dir_, file)\n",
    "fp = open(path, \"w\")\n",
    "fp.write(\"Hello World! From Python\")\n",
    "fp.close()"
   ]
  },
  {
   "cell_type": "code",
   "execution_count": 53,
   "id": "4d62cdab",
   "metadata": {},
   "outputs": [],
   "source": [
    "os.unlink(\"awesome.txt\")"
   ]
  },
  {
   "cell_type": "markdown",
   "id": "b6168356",
   "metadata": {},
   "source": [
    "    fp = open('filepath')\n",
    "    content = fp.read()\n",
    "    fp.close()"
   ]
  },
  {
   "cell_type": "markdown",
   "id": "6a59c32b",
   "metadata": {},
   "source": [
    "    fp = open(\"filepath\", \"w\")\n",
    "    fp.write(content) # content should be string\n",
    "    fp.close()"
   ]
  },
  {
   "cell_type": "markdown",
   "id": "7fdf14a9",
   "metadata": {},
   "source": [
    "    fp = open('filepath', \"a\")\n",
    "    fp.write(content)\n",
    "    fp.close()"
   ]
  },
  {
   "cell_type": "code",
   "execution_count": 54,
   "id": "6635c7c1",
   "metadata": {},
   "outputs": [
    {
     "data": {
      "text/plain": [
       "34"
      ]
     },
     "execution_count": 54,
     "metadata": {},
     "output_type": "execute_result"
    }
   ],
   "source": [
    "path = \"C:\\\\Users\\\\sachi\\\\Desktop\\\\hello.txt\"\n",
    "fp = open(path, 'a')\n",
    "fp.write(\"\\n\\tThis is File handling in Python!\")"
   ]
  },
  {
   "cell_type": "code",
   "execution_count": 55,
   "id": "372d58e7",
   "metadata": {},
   "outputs": [],
   "source": [
    "fp.close()"
   ]
  },
  {
   "cell_type": "code",
   "execution_count": null,
   "id": "554a81f2",
   "metadata": {},
   "outputs": [],
   "source": []
  }
 ],
 "metadata": {
  "kernelspec": {
   "display_name": "Python 3",
   "language": "python",
   "name": "python3"
  },
  "language_info": {
   "codemirror_mode": {
    "name": "ipython",
    "version": 3
   },
   "file_extension": ".py",
   "mimetype": "text/x-python",
   "name": "python",
   "nbconvert_exporter": "python",
   "pygments_lexer": "ipython3",
   "version": "3.8.8"
  }
 },
 "nbformat": 4,
 "nbformat_minor": 5
}
