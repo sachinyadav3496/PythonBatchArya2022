{
 "cells": [
  {
   "cell_type": "markdown",
   "id": "58eb27b7",
   "metadata": {},
   "source": [
    "## Files\n",
    "\n",
    "    persistent collection of bytes/strings"
   ]
  },
  {
   "cell_type": "markdown",
   "id": "372dcbc8",
   "metadata": {},
   "source": [
    "### Storage Devices \n",
    "\n",
    "    HDD, SSD, Flash, DvD\n",
    "    \n",
    "##### File System\n",
    "\n",
    "    manager who manages all files on a storage device\n",
    "    \n",
    "        meta info - path(location), name, owner, group, permission, size, created date, extention \n",
    "        \n",
    "        data - bytes usually stored memory blocks\n",
    "        \n",
    "        \n",
    "#### Root / Tree File System\n",
    "\n",
    "    Linux \n",
    "    \n",
    "                                             /\n",
    "                                             \n",
    "                                             \n",
    "              /bin  /sbin    /home   /var   /etc    /proc   /tmp  /mnt \n",
    "              \n",
    "                       *sachin  rajat\n",
    "                       \n",
    "              Desktop Documents \n",
    "              \n",
    "              \n",
    "      # absolute path -> /home/sachin/Documents\n",
    "      # relative path -> ./Documents\n",
    "      \n",
    "      Windows\n",
    "      \n",
    "      \n",
    "                                D: [..]\n",
    "                                \n",
    "              \\Movies(*) [.]        \\Documents        \\Study\n",
    "              \n",
    "     \\Bollywood    \\Hollywood\n",
    "     \n",
    "     \n",
    "    \\Drama   \\Action\n",
    "    \n",
    "    # windows \n",
    "    \n",
    "        # absolute path -> D:\\Movies\\Bollywood\\Action\n",
    "        # relative path -> .\\Bollywood\\Action\n",
    "        \n",
    "              \n",
    "       \n",
    "##### os module\n",
    "\n",
    "\n",
    "    os.path.exists(path) -> check whether path exists or not \n",
    "    \n",
    "    os.path.isfile(path) -> True if given path exists and it is a file otherwise False\n",
    "    \n",
    "    os.path.isdir(path) -> True if path is directory else False\n",
    "    \n",
    "    os.path.join(main, sub, curr, filename) # absolute path \"/main/sub/curr/filename\"\n",
    "    \n",
    "    os.path.getcwd() -> \"absolute path of current directory\"\n",
    "    \n",
    "    os.listdir(path) -> list all directories and files available at location path\n",
    "    \n",
    "    os.mkdir(path) -> Create a folder at location path\n",
    "    \n",
    "    os.rmdir(path) -> To delete directory given by path [directory should empty]\n",
    "    \n",
    "    os.unlink(path) -> used to delete file permanently from system\n",
    "    \n",
    "    \n",
    "##### how to handle files in python\n",
    "\n",
    "\n",
    "    mode - r, w, a\n",
    "\n",
    "    fp = open(path, mode)\n",
    "    fp.read() -> as string/byte\n",
    "    fp.write(string/byte)\n",
    "    fp.close()\n",
    "        \n",
    "    "
   ]
  },
  {
   "cell_type": "code",
   "execution_count": 7,
   "id": "281cda94",
   "metadata": {},
   "outputs": [
    {
     "data": {
      "text/plain": [
       "'this is for demo purpose\\n'"
      ]
     },
     "execution_count": 7,
     "metadata": {},
     "output_type": "execute_result"
    }
   ],
   "source": [
    "open('hello.txt', 'r', encoding=\"utf-8\").read()"
   ]
  },
  {
   "cell_type": "code",
   "execution_count": 8,
   "id": "a45f1ec4",
   "metadata": {},
   "outputs": [],
   "source": [
    "fp = open(\"hello.txt\", \"w\", encoding=\"utf-8\")\n",
    "fp.write(\"\\nThis will overwrite old content\")\n",
    "fp.close()"
   ]
  },
  {
   "cell_type": "code",
   "execution_count": 9,
   "id": "e001313d",
   "metadata": {},
   "outputs": [
    {
     "data": {
      "text/plain": [
       "'\\nThis will overwrite old content'"
      ]
     },
     "execution_count": 9,
     "metadata": {},
     "output_type": "execute_result"
    }
   ],
   "source": [
    "open('hello.txt', 'r', encoding=\"utf-8\").read()"
   ]
  },
  {
   "cell_type": "code",
   "execution_count": 10,
   "id": "f717b073",
   "metadata": {},
   "outputs": [],
   "source": [
    "fp = open(\"abcd.txt\", \"x\")\n",
    "fp.write(\"line no 1 of fresh file\\n\")\n",
    "fp.write(\"line no 2 to show how to create\\n\")\n",
    "fp.write(\"      fresh new file and write content to it\")\n",
    "fp.close()"
   ]
  },
  {
   "cell_type": "code",
   "execution_count": 11,
   "id": "7ed51e44",
   "metadata": {},
   "outputs": [
    {
     "name": "stdout",
     "output_type": "stream",
     "text": [
      "line no 1 of fresh file\n",
      "line no 2 to show how to create\n",
      "      fresh new file and write content to it\n"
     ]
    }
   ],
   "source": [
    "print(open(\"abcd.txt\").read())"
   ]
  },
  {
   "cell_type": "code",
   "execution_count": 12,
   "id": "581918ee",
   "metadata": {},
   "outputs": [
    {
     "ename": "FileExistsError",
     "evalue": "[Errno 17] File exists: 'abcd.txt'",
     "output_type": "error",
     "traceback": [
      "\u001b[1;31m---------------------------------------------------------------------------\u001b[0m",
      "\u001b[1;31mFileExistsError\u001b[0m                           Traceback (most recent call last)",
      "Input \u001b[1;32mIn [12]\u001b[0m, in \u001b[0;36m<cell line: 1>\u001b[1;34m()\u001b[0m\n\u001b[1;32m----> 1\u001b[0m fp \u001b[38;5;241m=\u001b[39m \u001b[38;5;28;43mopen\u001b[39;49m\u001b[43m(\u001b[49m\u001b[38;5;124;43m'\u001b[39;49m\u001b[38;5;124;43mabcd.txt\u001b[39;49m\u001b[38;5;124;43m'\u001b[39;49m\u001b[43m,\u001b[49m\u001b[43m \u001b[49m\u001b[38;5;124;43m'\u001b[39;49m\u001b[38;5;124;43mx\u001b[39;49m\u001b[38;5;124;43m'\u001b[39;49m\u001b[43m)\u001b[49m\n",
      "\u001b[1;31mFileExistsError\u001b[0m: [Errno 17] File exists: 'abcd.txt'"
     ]
    }
   ],
   "source": [
    "fp = open('abcd.txt', 'x')"
   ]
  },
  {
   "cell_type": "code",
   "execution_count": 13,
   "id": "58c0e24f",
   "metadata": {},
   "outputs": [
    {
     "data": {
      "text/plain": [
       "15"
      ]
     },
     "execution_count": 13,
     "metadata": {},
     "output_type": "execute_result"
    }
   ],
   "source": [
    "fp = open('abcd.txt', 'a')\n",
    "fp.write(\"\\nline no 3 using append method\")\n",
    "fp.write(\"\\nawesome right!\")\n"
   ]
  },
  {
   "cell_type": "code",
   "execution_count": 14,
   "id": "efeebe8c",
   "metadata": {},
   "outputs": [
    {
     "ename": "UnsupportedOperation",
     "evalue": "not readable",
     "output_type": "error",
     "traceback": [
      "\u001b[1;31m---------------------------------------------------------------------------\u001b[0m",
      "\u001b[1;31mUnsupportedOperation\u001b[0m                      Traceback (most recent call last)",
      "Input \u001b[1;32mIn [14]\u001b[0m, in \u001b[0;36m<cell line: 1>\u001b[1;34m()\u001b[0m\n\u001b[1;32m----> 1\u001b[0m \u001b[43mfp\u001b[49m\u001b[38;5;241;43m.\u001b[39;49m\u001b[43mread\u001b[49m\u001b[43m(\u001b[49m\u001b[43m)\u001b[49m\n",
      "\u001b[1;31mUnsupportedOperation\u001b[0m: not readable"
     ]
    }
   ],
   "source": [
    "fp.read()"
   ]
  },
  {
   "cell_type": "code",
   "execution_count": 15,
   "id": "d754bf42",
   "metadata": {},
   "outputs": [],
   "source": [
    "fp.close()"
   ]
  },
  {
   "cell_type": "code",
   "execution_count": 16,
   "id": "dd8ed6fd",
   "metadata": {},
   "outputs": [
    {
     "name": "stdout",
     "output_type": "stream",
     "text": [
      "line no 1 of fresh file\n",
      "line no 2 to show how to create\n",
      "      fresh new file and write content to it\n",
      "line no 3 using append method\n",
      "awesome right!\n"
     ]
    }
   ],
   "source": [
    "print(open('abcd.txt', 'r').read())"
   ]
  },
  {
   "cell_type": "markdown",
   "id": "c20e5931",
   "metadata": {},
   "source": [
    "**Regular Files**\n",
    "\n",
    "    **text files**\n",
    "    \n",
    "        default file type mode is t for text file"
   ]
  },
  {
   "cell_type": "markdown",
   "id": "b17fd70f",
   "metadata": {},
   "source": [
    "        Bytes -> Unicode Map -> String\n",
    "        \n",
    "        raw signal -> encoding -> symbols \n",
    "        \n",
    "        letters (string) -> decoding (Unicode) -> Bytes"
   ]
  },
  {
   "cell_type": "code",
   "execution_count": null,
   "id": "349aad07",
   "metadata": {},
   "outputs": [],
   "source": []
  },
  {
   "cell_type": "code",
   "execution_count": 19,
   "id": "06ba46be",
   "metadata": {},
   "outputs": [
    {
     "ename": "UnicodeDecodeError",
     "evalue": "'utf-16-le' codec can't decode bytes in position 0-1: illegal UTF-16 surrogate",
     "output_type": "error",
     "traceback": [
      "\u001b[1;31m---------------------------------------------------------------------------\u001b[0m",
      "\u001b[1;31mUnicodeDecodeError\u001b[0m                        Traceback (most recent call last)",
      "Input \u001b[1;32mIn [19]\u001b[0m, in \u001b[0;36m<cell line: 2>\u001b[1;34m()\u001b[0m\n\u001b[0;32m      1\u001b[0m fp \u001b[38;5;241m=\u001b[39m \u001b[38;5;28mopen\u001b[39m(\u001b[38;5;124m\"\u001b[39m\u001b[38;5;124mrecursion_1.jpg\u001b[39m\u001b[38;5;124m\"\u001b[39m, \u001b[38;5;124m\"\u001b[39m\u001b[38;5;124mrt\u001b[39m\u001b[38;5;124m\"\u001b[39m, encoding\u001b[38;5;241m=\u001b[39m\u001b[38;5;124m'\u001b[39m\u001b[38;5;124mutf-16\u001b[39m\u001b[38;5;124m'\u001b[39m)\n\u001b[1;32m----> 2\u001b[0m content \u001b[38;5;241m=\u001b[39m \u001b[43mfp\u001b[49m\u001b[38;5;241;43m.\u001b[39;49m\u001b[43mread\u001b[49m\u001b[43m(\u001b[49m\u001b[43m)\u001b[49m\n\u001b[0;32m      3\u001b[0m \u001b[38;5;28mprint\u001b[39m(content)\n",
      "File \u001b[1;32mC:\\ProgramData\\Anaconda3\\lib\\codecs.py:322\u001b[0m, in \u001b[0;36mBufferedIncrementalDecoder.decode\u001b[1;34m(self, input, final)\u001b[0m\n\u001b[0;32m    319\u001b[0m \u001b[38;5;28;01mdef\u001b[39;00m \u001b[38;5;21mdecode\u001b[39m(\u001b[38;5;28mself\u001b[39m, \u001b[38;5;28minput\u001b[39m, final\u001b[38;5;241m=\u001b[39m\u001b[38;5;28;01mFalse\u001b[39;00m):\n\u001b[0;32m    320\u001b[0m     \u001b[38;5;66;03m# decode input (taking the buffer into account)\u001b[39;00m\n\u001b[0;32m    321\u001b[0m     data \u001b[38;5;241m=\u001b[39m \u001b[38;5;28mself\u001b[39m\u001b[38;5;241m.\u001b[39mbuffer \u001b[38;5;241m+\u001b[39m \u001b[38;5;28minput\u001b[39m\n\u001b[1;32m--> 322\u001b[0m     (result, consumed) \u001b[38;5;241m=\u001b[39m \u001b[38;5;28;43mself\u001b[39;49m\u001b[38;5;241;43m.\u001b[39;49m\u001b[43m_buffer_decode\u001b[49m\u001b[43m(\u001b[49m\u001b[43mdata\u001b[49m\u001b[43m,\u001b[49m\u001b[43m \u001b[49m\u001b[38;5;28;43mself\u001b[39;49m\u001b[38;5;241;43m.\u001b[39;49m\u001b[43merrors\u001b[49m\u001b[43m,\u001b[49m\u001b[43m \u001b[49m\u001b[43mfinal\u001b[49m\u001b[43m)\u001b[49m\n\u001b[0;32m    323\u001b[0m     \u001b[38;5;66;03m# keep undecoded input until the next call\u001b[39;00m\n\u001b[0;32m    324\u001b[0m     \u001b[38;5;28mself\u001b[39m\u001b[38;5;241m.\u001b[39mbuffer \u001b[38;5;241m=\u001b[39m data[consumed:]\n",
      "File \u001b[1;32mC:\\ProgramData\\Anaconda3\\lib\\encodings\\utf_16.py:61\u001b[0m, in \u001b[0;36mIncrementalDecoder._buffer_decode\u001b[1;34m(self, input, errors, final)\u001b[0m\n\u001b[0;32m     58\u001b[0m \u001b[38;5;28;01mdef\u001b[39;00m \u001b[38;5;21m_buffer_decode\u001b[39m(\u001b[38;5;28mself\u001b[39m, \u001b[38;5;28minput\u001b[39m, errors, final):\n\u001b[0;32m     59\u001b[0m     \u001b[38;5;28;01mif\u001b[39;00m \u001b[38;5;28mself\u001b[39m\u001b[38;5;241m.\u001b[39mdecoder \u001b[38;5;129;01mis\u001b[39;00m \u001b[38;5;28;01mNone\u001b[39;00m:\n\u001b[0;32m     60\u001b[0m         (output, consumed, byteorder) \u001b[38;5;241m=\u001b[39m \\\n\u001b[1;32m---> 61\u001b[0m             \u001b[43mcodecs\u001b[49m\u001b[38;5;241;43m.\u001b[39;49m\u001b[43mutf_16_ex_decode\u001b[49m\u001b[43m(\u001b[49m\u001b[38;5;28;43minput\u001b[39;49m\u001b[43m,\u001b[49m\u001b[43m \u001b[49m\u001b[43merrors\u001b[49m\u001b[43m,\u001b[49m\u001b[43m \u001b[49m\u001b[38;5;241;43m0\u001b[39;49m\u001b[43m,\u001b[49m\u001b[43m \u001b[49m\u001b[43mfinal\u001b[49m\u001b[43m)\u001b[49m\n\u001b[0;32m     62\u001b[0m         \u001b[38;5;28;01mif\u001b[39;00m byteorder \u001b[38;5;241m==\u001b[39m \u001b[38;5;241m-\u001b[39m\u001b[38;5;241m1\u001b[39m:\n\u001b[0;32m     63\u001b[0m             \u001b[38;5;28mself\u001b[39m\u001b[38;5;241m.\u001b[39mdecoder \u001b[38;5;241m=\u001b[39m codecs\u001b[38;5;241m.\u001b[39mutf_16_le_decode\n",
      "\u001b[1;31mUnicodeDecodeError\u001b[0m: 'utf-16-le' codec can't decode bytes in position 0-1: illegal UTF-16 surrogate"
     ]
    }
   ],
   "source": [
    "fp = open(\"recursion_1.jpg\", \"rt\", encoding='utf-16')\n",
    "content = fp.read()\n",
    "print(content)"
   ]
  },
  {
   "cell_type": "code",
   "execution_count": 20,
   "id": "7e114102",
   "metadata": {},
   "outputs": [],
   "source": [
    "fp = open(\"recursion_1.jpg\", \"rb\")\n",
    "first_line = fp.readline()"
   ]
  },
  {
   "cell_type": "code",
   "execution_count": 21,
   "id": "18da947d",
   "metadata": {},
   "outputs": [
    {
     "name": "stdout",
     "output_type": "stream",
     "text": [
      "b'\\xff\\xd8\\xff\\xe0\\x00\\x10JFIF\\x00\\x01\\x01\\x01\\x00x\\x00x\\x00\\x00\\xff\\xdb\\x00C\\x00\\x03\\x02\\x02\\x03\\x02\\x02\\x03\\x03\\x03\\x03\\x04\\x03\\x03\\x04\\x05\\x08\\x05\\x05\\x04\\x04\\x05\\n'\n"
     ]
    }
   ],
   "source": [
    "print(first_line)"
   ]
  },
  {
   "cell_type": "code",
   "execution_count": null,
   "id": "f7076400",
   "metadata": {},
   "outputs": [],
   "source": []
  },
  {
   "cell_type": "code",
   "execution_count": 22,
   "id": "a1b5b0d2",
   "metadata": {},
   "outputs": [
    {
     "name": "stdout",
     "output_type": "stream",
     "text": [
      "line no 1 of fresh file\n",
      "line no 2 to show how to create\n",
      "      fresh new file and write content to it\n",
      "line no 3 using append method\n",
      "awesome right!\n"
     ]
    }
   ],
   "source": [
    "fp = open(\"abcd.txt\", \"a+\") # append and read\n",
    "fp.seek(0)\n",
    "print(fp.read())\n",
    "fp.write(\"\\nFinal Line\")\n",
    "fp.close()"
   ]
  },
  {
   "cell_type": "code",
   "execution_count": 24,
   "id": "7613a354",
   "metadata": {},
   "outputs": [
    {
     "name": "stdout",
     "output_type": "stream",
     "text": [
      "line no 1 of fresh file\n",
      "line no 2 to show how to create\n",
      "      fresh new file and write content to it\n",
      "line no 3 using append method\n",
      "awesome right!\n",
      "Final Line\n"
     ]
    }
   ],
   "source": [
    "!type abcd.txt"
   ]
  },
  {
   "cell_type": "code",
   "execution_count": 23,
   "id": "507863c3",
   "metadata": {},
   "outputs": [
    {
     "name": "stdout",
     "output_type": "stream",
     "text": [
      "line no 1 of fresh file\n",
      "line no 2 to show how to create\n",
      "      fresh new file and write content to it\n",
      "line no 3 using append method\n",
      "awesome right!\n",
      "Final Line\n"
     ]
    }
   ],
   "source": [
    "!cat abcd.txt"
   ]
  },
  {
   "cell_type": "markdown",
   "id": "5d6f77aa",
   "metadata": {},
   "source": [
    "    ========= ===============================================================\n",
    "        Character Meaning\n",
    "        --------- ---------------------------------------------------------------\n",
    "        'r'       open for reading (default)\n",
    "        'w'       open for writing, truncating the file first\n",
    "        'x'       create a new file and open it for writing\n",
    "        'a'       open for writing, appending to the end of the file if it exists\n",
    "        'b'       binary mode\n",
    "        't'       text mode (default)\n",
    "        '+'       open a disk file for updating (reading and writing)\n",
    "        'U'       universal newline mode (deprecated)\n",
    "        ========= ==============================================================="
   ]
  },
  {
   "cell_type": "code",
   "execution_count": 1,
   "id": "986ffccc",
   "metadata": {},
   "outputs": [
    {
     "name": "stdout",
     "output_type": "stream",
     "text": [
      "Help on built-in function open in module io:\n",
      "\n",
      "open(file, mode='r', buffering=-1, encoding=None, errors=None, newline=None, closefd=True, opener=None)\n",
      "    Open file and return a stream.  Raise OSError upon failure.\n",
      "    \n",
      "    file is either a text or byte string giving the name (and the path\n",
      "    if the file isn't in the current working directory) of the file to\n",
      "    be opened or an integer file descriptor of the file to be\n",
      "    wrapped. (If a file descriptor is given, it is closed when the\n",
      "    returned I/O object is closed, unless closefd is set to False.)\n",
      "    \n",
      "    mode is an optional string that specifies the mode in which the file\n",
      "    is opened. It defaults to 'r' which means open for reading in text\n",
      "    mode.  Other common values are 'w' for writing (truncating the file if\n",
      "    it already exists), 'x' for creating and writing to a new file, and\n",
      "    'a' for appending (which on some Unix systems, means that all writes\n",
      "    append to the end of the file regardless of the current seek position).\n",
      "    In text mode, if encoding is not specified the encoding used is platform\n",
      "    dependent: locale.getpreferredencoding(False) is called to get the\n",
      "    current locale encoding. (For reading and writing raw bytes use binary\n",
      "    mode and leave encoding unspecified.) The available modes are:\n",
      "    \n",
      "    ========= ===============================================================\n",
      "    Character Meaning\n",
      "    --------- ---------------------------------------------------------------\n",
      "    'r'       open for reading (default)\n",
      "    'w'       open for writing, truncating the file first\n",
      "    'x'       create a new file and open it for writing\n",
      "    'a'       open for writing, appending to the end of the file if it exists\n",
      "    'b'       binary mode\n",
      "    't'       text mode (default)\n",
      "    '+'       open a disk file for updating (reading and writing)\n",
      "    'U'       universal newline mode (deprecated)\n",
      "    ========= ===============================================================\n",
      "    \n",
      "    The default mode is 'rt' (open for reading text). For binary random\n",
      "    access, the mode 'w+b' opens and truncates the file to 0 bytes, while\n",
      "    'r+b' opens the file without truncation. The 'x' mode implies 'w' and\n",
      "    raises an `FileExistsError` if the file already exists.\n",
      "    \n",
      "    Python distinguishes between files opened in binary and text modes,\n",
      "    even when the underlying operating system doesn't. Files opened in\n",
      "    binary mode (appending 'b' to the mode argument) return contents as\n",
      "    bytes objects without any decoding. In text mode (the default, or when\n",
      "    't' is appended to the mode argument), the contents of the file are\n",
      "    returned as strings, the bytes having been first decoded using a\n",
      "    platform-dependent encoding or using the specified encoding if given.\n",
      "    \n",
      "    'U' mode is deprecated and will raise an exception in future versions\n",
      "    of Python.  It has no effect in Python 3.  Use newline to control\n",
      "    universal newlines mode.\n",
      "    \n",
      "    buffering is an optional integer used to set the buffering policy.\n",
      "    Pass 0 to switch buffering off (only allowed in binary mode), 1 to select\n",
      "    line buffering (only usable in text mode), and an integer > 1 to indicate\n",
      "    the size of a fixed-size chunk buffer.  When no buffering argument is\n",
      "    given, the default buffering policy works as follows:\n",
      "    \n",
      "    * Binary files are buffered in fixed-size chunks; the size of the buffer\n",
      "      is chosen using a heuristic trying to determine the underlying device's\n",
      "      \"block size\" and falling back on `io.DEFAULT_BUFFER_SIZE`.\n",
      "      On many systems, the buffer will typically be 4096 or 8192 bytes long.\n",
      "    \n",
      "    * \"Interactive\" text files (files for which isatty() returns True)\n",
      "      use line buffering.  Other text files use the policy described above\n",
      "      for binary files.\n",
      "    \n",
      "    encoding is the name of the encoding used to decode or encode the\n",
      "    file. This should only be used in text mode. The default encoding is\n",
      "    platform dependent, but any encoding supported by Python can be\n",
      "    passed.  See the codecs module for the list of supported encodings.\n",
      "    \n",
      "    errors is an optional string that specifies how encoding errors are to\n",
      "    be handled---this argument should not be used in binary mode. Pass\n",
      "    'strict' to raise a ValueError exception if there is an encoding error\n",
      "    (the default of None has the same effect), or pass 'ignore' to ignore\n",
      "    errors. (Note that ignoring encoding errors can lead to data loss.)\n",
      "    See the documentation for codecs.register or run 'help(codecs.Codec)'\n",
      "    for a list of the permitted encoding error strings.\n",
      "    \n",
      "    newline controls how universal newlines works (it only applies to text\n",
      "    mode). It can be None, '', '\\n', '\\r', and '\\r\\n'.  It works as\n",
      "    follows:\n",
      "    \n",
      "    * On input, if newline is None, universal newlines mode is\n",
      "      enabled. Lines in the input can end in '\\n', '\\r', or '\\r\\n', and\n",
      "      these are translated into '\\n' before being returned to the\n",
      "      caller. If it is '', universal newline mode is enabled, but line\n",
      "      endings are returned to the caller untranslated. If it has any of\n",
      "      the other legal values, input lines are only terminated by the given\n",
      "      string, and the line ending is returned to the caller untranslated.\n",
      "    \n",
      "    * On output, if newline is None, any '\\n' characters written are\n",
      "      translated to the system default line separator, os.linesep. If\n",
      "      newline is '' or '\\n', no translation takes place. If newline is any\n",
      "      of the other legal values, any '\\n' characters written are translated\n",
      "      to the given string.\n",
      "    \n",
      "    If closefd is False, the underlying file descriptor will be kept open\n",
      "    when the file is closed. This does not work when a file name is given\n",
      "    and must be True in that case.\n",
      "    \n",
      "    A custom opener can be used by passing a callable as *opener*. The\n",
      "    underlying file descriptor for the file object is then obtained by\n",
      "    calling *opener* with (*file*, *flags*). *opener* must return an open\n",
      "    file descriptor (passing os.open as *opener* results in functionality\n",
      "    similar to passing None).\n",
      "    \n",
      "    open() returns a file object whose type depends on the mode, and\n",
      "    through which the standard file operations such as reading and writing\n",
      "    are performed. When open() is used to open a file in a text mode ('w',\n",
      "    'r', 'wt', 'rt', etc.), it returns a TextIOWrapper. When used to open\n",
      "    a file in a binary mode, the returned class varies: in read binary\n",
      "    mode, it returns a BufferedReader; in write binary and append binary\n",
      "    modes, it returns a BufferedWriter, and in read/write mode, it returns\n",
      "    a BufferedRandom.\n",
      "    \n",
      "    It is also possible to use a string or bytearray as a file for both\n",
      "    reading and writing. For strings StringIO can be used like a file\n",
      "    opened in a text mode, and for bytes a BytesIO can be used like a file\n",
      "    opened in a binary mode.\n",
      "\n"
     ]
    }
   ],
   "source": [
    "help(open)"
   ]
  },
  {
   "cell_type": "markdown",
   "id": "0791c31a",
   "metadata": {},
   "source": [
    "    Data Source ? \n",
    "    Description -> encoding"
   ]
  },
  {
   "cell_type": "markdown",
   "id": "842aa5a6",
   "metadata": {},
   "source": [
    "`why it is important to close file after you have used them ?`"
   ]
  },
  {
   "cell_type": "markdown",
   "id": "ec4960da",
   "metadata": {},
   "source": [
    "    file is a shared resource so it is important to close file ASAP \n",
    "    \n",
    "        Wastage of Memory\n",
    "        Corruption of Data\n",
    "        Data Loss\n",
    "        Deadlock Situation"
   ]
  },
  {
   "cell_type": "code",
   "execution_count": 25,
   "id": "32299d04",
   "metadata": {},
   "outputs": [
    {
     "name": "stdout",
     "output_type": "stream",
     "text": [
      "'line no 1 of fresh file\\n'\n",
      "'line no 2 to show how to create\\n'\n",
      "'      fresh new file and write content to it\\n'\n",
      "'line no 3 using append method\\n'\n",
      "'awesome right!\\n'\n",
      "'Final Line'\n"
     ]
    }
   ],
   "source": [
    "fp = open(\"abcd.txt\")\n",
    "\n",
    "for line in fp:\n",
    "    print(repr(line))"
   ]
  },
  {
   "cell_type": "code",
   "execution_count": 26,
   "id": "15cc71a8",
   "metadata": {},
   "outputs": [
    {
     "data": {
      "text/plain": [
       "''"
      ]
     },
     "execution_count": 26,
     "metadata": {},
     "output_type": "execute_result"
    }
   ],
   "source": [
    "fp.read()"
   ]
  },
  {
   "cell_type": "code",
   "execution_count": 27,
   "id": "9926f238",
   "metadata": {},
   "outputs": [
    {
     "data": {
      "text/plain": [
       "161"
      ]
     },
     "execution_count": 27,
     "metadata": {},
     "output_type": "execute_result"
    }
   ],
   "source": [
    "fp.tell()"
   ]
  },
  {
   "cell_type": "code",
   "execution_count": 28,
   "id": "d7c57dba",
   "metadata": {},
   "outputs": [
    {
     "data": {
      "text/plain": [
       "0"
      ]
     },
     "execution_count": 28,
     "metadata": {},
     "output_type": "execute_result"
    }
   ],
   "source": [
    "fp.seek(0)"
   ]
  },
  {
   "cell_type": "code",
   "execution_count": 29,
   "id": "ac5720d6",
   "metadata": {},
   "outputs": [],
   "source": [
    "content = fp.read()"
   ]
  },
  {
   "cell_type": "code",
   "execution_count": 30,
   "id": "f9b39782",
   "metadata": {},
   "outputs": [
    {
     "name": "stdout",
     "output_type": "stream",
     "text": [
      "line no 1 of fresh file\n",
      "line no 2 to show how to create\n",
      "      fresh new file and write content to it\n",
      "line no 3 using append method\n",
      "awesome right!\n",
      "Final Line\n"
     ]
    }
   ],
   "source": [
    "print(content)"
   ]
  },
  {
   "cell_type": "code",
   "execution_count": 31,
   "id": "d403d090",
   "metadata": {},
   "outputs": [
    {
     "data": {
      "text/plain": [
       "13"
      ]
     },
     "execution_count": 31,
     "metadata": {},
     "output_type": "execute_result"
    }
   ],
   "source": [
    "fp.seek(13)"
   ]
  },
  {
   "cell_type": "code",
   "execution_count": 32,
   "id": "1b3f2e27",
   "metadata": {},
   "outputs": [],
   "source": [
    "x = fp.read(5)"
   ]
  },
  {
   "cell_type": "code",
   "execution_count": 33,
   "id": "7172c3f3",
   "metadata": {},
   "outputs": [
    {
     "name": "stdout",
     "output_type": "stream",
     "text": [
      "fresh\n"
     ]
    }
   ],
   "source": [
    "print(x)"
   ]
  },
  {
   "cell_type": "code",
   "execution_count": 34,
   "id": "e278af37",
   "metadata": {},
   "outputs": [
    {
     "data": {
      "text/plain": [
       "' file\\n'"
      ]
     },
     "execution_count": 34,
     "metadata": {},
     "output_type": "execute_result"
    }
   ],
   "source": [
    "fp.readline()"
   ]
  },
  {
   "cell_type": "code",
   "execution_count": 35,
   "id": "902eadc0",
   "metadata": {},
   "outputs": [
    {
     "data": {
      "text/plain": [
       "'line no 2 to show how to create\\n'"
      ]
     },
     "execution_count": 35,
     "metadata": {},
     "output_type": "execute_result"
    }
   ],
   "source": [
    "fp.readline()"
   ]
  },
  {
   "cell_type": "code",
   "execution_count": 43,
   "id": "405bdb7f",
   "metadata": {},
   "outputs": [
    {
     "data": {
      "text/plain": [
       "0"
      ]
     },
     "execution_count": 43,
     "metadata": {},
     "output_type": "execute_result"
    }
   ],
   "source": [
    "fp.seek(0)"
   ]
  },
  {
   "cell_type": "code",
   "execution_count": 44,
   "id": "2df87af5",
   "metadata": {},
   "outputs": [
    {
     "name": "stdout",
     "output_type": "stream",
     "text": [
      "'line no 1 of fresh file\\n'\n",
      "'line no 2 to show how to create\\n'\n",
      "'      fresh new file and write content to it\\n'\n",
      "'line no 3 using append method\\n'\n",
      "'awesome right!\\n'\n",
      "'Final Line'\n"
     ]
    }
   ],
   "source": [
    "while True:\n",
    "    line = fp.readline()\n",
    "    if line == \"\":\n",
    "        break\n",
    "    print(repr(line))\n",
    "    "
   ]
  },
  {
   "cell_type": "code",
   "execution_count": 48,
   "id": "c17c190b",
   "metadata": {},
   "outputs": [
    {
     "data": {
      "text/plain": [
       "0"
      ]
     },
     "execution_count": 48,
     "metadata": {},
     "output_type": "execute_result"
    }
   ],
   "source": [
    "fp.seek(0)"
   ]
  },
  {
   "cell_type": "code",
   "execution_count": 49,
   "id": "585ce524",
   "metadata": {},
   "outputs": [
    {
     "data": {
      "text/plain": [
       "['line no 1 of fresh file\\n',\n",
       " 'line no 2 to show how to create\\n',\n",
       " '      fresh new file and write content to it\\n']"
      ]
     },
     "execution_count": 49,
     "metadata": {},
     "output_type": "execute_result"
    }
   ],
   "source": [
    "fp.readlines(100)"
   ]
  },
  {
   "cell_type": "code",
   "execution_count": 50,
   "id": "0db57ac8",
   "metadata": {},
   "outputs": [
    {
     "name": "stdout",
     "output_type": "stream",
     "text": [
      "['_CHUNK_SIZE', '__class__', '__del__', '__delattr__', '__dict__', '__dir__', '__doc__', '__enter__', '__eq__', '__exit__', '__format__', '__ge__', '__getattribute__', '__gt__', '__hash__', '__init__', '__init_subclass__', '__iter__', '__le__', '__lt__', '__ne__', '__new__', '__next__', '__reduce__', '__reduce_ex__', '__repr__', '__setattr__', '__sizeof__', '__str__', '__subclasshook__', '_checkClosed', '_checkReadable', '_checkSeekable', '_checkWritable', '_finalizing', 'buffer', 'close', 'closed', 'detach', 'encoding', 'errors', 'fileno', 'flush', 'isatty', 'line_buffering', 'mode', 'name', 'newlines', 'read', 'readable', 'readline', 'readlines', 'reconfigure', 'seek', 'seekable', 'tell', 'truncate', 'writable', 'write', 'write_through', 'writelines']\n"
     ]
    }
   ],
   "source": [
    "print(dir(fp))"
   ]
  },
  {
   "cell_type": "code",
   "execution_count": 51,
   "id": "5625c2b2",
   "metadata": {},
   "outputs": [],
   "source": [
    "fp.close()"
   ]
  },
  {
   "cell_type": "markdown",
   "id": "d00fab5c",
   "metadata": {},
   "source": [
    "#### Context Manager\n",
    "\n",
    "    using with keyword we can manage context in python"
   ]
  },
  {
   "cell_type": "code",
   "execution_count": 52,
   "id": "c19e5d37",
   "metadata": {},
   "outputs": [
    {
     "name": "stdout",
     "output_type": "stream",
     "text": [
      "'line no 1 of fresh file\\n'\n",
      "'line no 2 to show how to create\\n'\n",
      "'      fresh new file and write content to it\\n'\n",
      "'line no 3 using append method\\n'\n",
      "'awesome right!\\n'\n",
      "'Final Line'\n"
     ]
    }
   ],
   "source": [
    "with open(\"abcd.txt\", \"rt\") as fp:\n",
    "    for line in fp:\n",
    "        print(repr(line))"
   ]
  },
  {
   "cell_type": "code",
   "execution_count": 53,
   "id": "b36771f2",
   "metadata": {},
   "outputs": [
    {
     "data": {
      "text/plain": [
       "True"
      ]
     },
     "execution_count": 53,
     "metadata": {},
     "output_type": "execute_result"
    }
   ],
   "source": [
    "fp.closed"
   ]
  },
  {
   "cell_type": "code",
   "execution_count": 54,
   "id": "a78992b0",
   "metadata": {},
   "outputs": [],
   "source": [
    "def copy_file(inFile, outFile):\n",
    "    with open(inFile) as rf, open(outFile, \"w\") as wf:\n",
    "        for line in rf:\n",
    "            wf.write(line)\n",
    "        "
   ]
  },
  {
   "cell_type": "code",
   "execution_count": 55,
   "id": "fed17eb2",
   "metadata": {},
   "outputs": [],
   "source": [
    "copy_file(\"abcd.txt\", \"new.txt\")"
   ]
  },
  {
   "cell_type": "code",
   "execution_count": 56,
   "id": "43612a89",
   "metadata": {},
   "outputs": [
    {
     "name": "stdout",
     "output_type": "stream",
     "text": [
      "line no 1 of fresh file\n",
      "line no 2 to show how to create\n",
      "      fresh new file and write content to it\n",
      "line no 3 using append method\n",
      "awesome right!\n",
      "Final Line\n"
     ]
    }
   ],
   "source": [
    "!type new.txt"
   ]
  },
  {
   "cell_type": "code",
   "execution_count": 57,
   "id": "9c3c5850",
   "metadata": {},
   "outputs": [
    {
     "name": "stdout",
     "output_type": "stream",
     "text": [
      "line no 1 of fresh file\n",
      "line no 2 to show how to create\n",
      "      fresh new file and write content to it\n",
      "line no 3 using append method\n",
      "awesome right!\n",
      "Final Line\n"
     ]
    }
   ],
   "source": [
    "!type abcd.txt"
   ]
  },
  {
   "cell_type": "code",
   "execution_count": 58,
   "id": "437ffca4",
   "metadata": {},
   "outputs": [],
   "source": [
    "copy_file('abcd.txt', r\"C:\\users\\sachi\\Desktop\\hello.txt\")"
   ]
  },
  {
   "cell_type": "code",
   "execution_count": 59,
   "id": "af5d4d5c",
   "metadata": {},
   "outputs": [
    {
     "data": {
      "text/plain": [
       "1"
      ]
     },
     "execution_count": 59,
     "metadata": {},
     "output_type": "execute_result"
    }
   ],
   "source": [
    "fp = open(r\"C:\\users\\sachi\\Desktop\\hello.txt\", \"a\")\n",
    "fp.write(\"\\n\")"
   ]
  },
  {
   "cell_type": "code",
   "execution_count": 60,
   "id": "024ef9c1",
   "metadata": {},
   "outputs": [],
   "source": [
    "print(\"This will be written in hello file\", file=fp)"
   ]
  },
  {
   "cell_type": "code",
   "execution_count": 61,
   "id": "0e798778",
   "metadata": {},
   "outputs": [],
   "source": [
    "for i in range(1, 11):\n",
    "    print(f\"{i:>2}. {'*'*i}\", file=fp)"
   ]
  },
  {
   "cell_type": "code",
   "execution_count": 62,
   "id": "110f6e81",
   "metadata": {},
   "outputs": [],
   "source": [
    "fp.close()"
   ]
  },
  {
   "cell_type": "code",
   "execution_count": 63,
   "id": "fa5f4336",
   "metadata": {},
   "outputs": [
    {
     "name": "stdout",
     "output_type": "stream",
     "text": [
      "Writing student.csv\n"
     ]
    }
   ],
   "source": [
    "%%writefile student.csv\n",
    "manish,60,80,40\n",
    "sunil,76,87,98\n",
    "nikhil,76,87,45\n",
    "shivani,56,67,78"
   ]
  },
  {
   "cell_type": "markdown",
   "id": "bbfb7916",
   "metadata": {},
   "source": [
    "`Write a Python to Print Percentage of each student along with their name stored in file student.csv`"
   ]
  },
  {
   "cell_type": "markdown",
   "id": "de097db2",
   "metadata": {},
   "source": [
    "### Student Management\n",
    "\n",
    "    1. Add Student Data\n",
    "    2. Search Student Data\n",
    "    3. Show All Data\n",
    "    4. Show Percentage\n",
    "    5. Delete Student Record\n",
    "    6. Exit"
   ]
  },
  {
   "cell_type": "markdown",
   "id": "e4ddad57",
   "metadata": {},
   "source": [
    "#### Parsing \n",
    "\n",
    "    Data Serialization and Data Deserlization\n",
    "    \n",
    "    JSON, PICKLE\n",
    "    \n",
    "#### Theory OOPs\n",
    "\n",
    "    object, class, inheritance, polymorphism, encapsulation, abstraction, data hiding\n",
    "    instance, class & static method, over-riding ..."
   ]
  },
  {
   "cell_type": "code",
   "execution_count": null,
   "id": "632cf18d",
   "metadata": {},
   "outputs": [],
   "source": []
  }
 ],
 "metadata": {
  "kernelspec": {
   "display_name": "Python 3 (ipykernel)",
   "language": "python",
   "name": "python3"
  },
  "language_info": {
   "codemirror_mode": {
    "name": "ipython",
    "version": 3
   },
   "file_extension": ".py",
   "mimetype": "text/x-python",
   "name": "python",
   "nbconvert_exporter": "python",
   "pygments_lexer": "ipython3",
   "version": "3.9.12"
  }
 },
 "nbformat": 4,
 "nbformat_minor": 5
}
