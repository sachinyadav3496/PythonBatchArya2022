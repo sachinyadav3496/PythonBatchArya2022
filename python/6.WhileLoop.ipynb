{
 "cells": [
  {
   "cell_type": "code",
   "execution_count": 1,
   "id": "e832be85",
   "metadata": {},
   "outputs": [
    {
     "name": "stdout",
     "output_type": "stream",
     "text": [
      "i = 1\n",
      "i = 2\n",
      "i = 4\n",
      "i = 8\n",
      "i = 16\n",
      "i = 32\n",
      "i = 64\n"
     ]
    }
   ],
   "source": [
    "i = 1\n",
    "while i < 100:\n",
    "    print(f\"i = {i}\")\n",
    "    i *= 2\n"
   ]
  },
  {
   "cell_type": "code",
   "execution_count": 9,
   "id": "38ee370e",
   "metadata": {},
   "outputs": [
    {
     "name": "stdout",
     "output_type": "stream",
     "text": [
      "hello\tworld! awesome!\n"
     ]
    }
   ],
   "source": [
    "print(\"hello\", \"world!\", sep=\"\\t\", end=\" \") #\"hello\\tworld! \"\n",
    "print(\"awesome!\")# \"awesome\\n\""
   ]
  },
  {
   "cell_type": "code",
   "execution_count": 5,
   "id": "acbc252d",
   "metadata": {},
   "outputs": [
    {
     "name": "stdout",
     "output_type": "stream",
     "text": [
      "1\n",
      "2\n",
      "3\n"
     ]
    }
   ],
   "source": [
    "print(1, 2, 3, sep='\\n') # s =\"1\\n2\\n3\\n\""
   ]
  },
  {
   "cell_type": "code",
   "execution_count": 2,
   "id": "0fa00cc9",
   "metadata": {},
   "outputs": [
    {
     "name": "stdout",
     "output_type": "stream",
     "text": [
      "Help on built-in function print in module builtins:\n",
      "\n",
      "print(...)\n",
      "    print(value, ..., sep=' ', end='\\n', file=sys.stdout, flush=False)\n",
      "    \n",
      "    Prints the values to a stream, or to sys.stdout by default.\n",
      "    Optional keyword arguments:\n",
      "    file:  a file-like object (stream); defaults to the current sys.stdout.\n",
      "    sep:   string inserted between values, default a space.\n",
      "    end:   string appended after the last value, default a newline.\n",
      "    flush: whether to forcibly flush the stream.\n",
      "\n"
     ]
    }
   ],
   "source": [
    "help(print)"
   ]
  },
  {
   "cell_type": "code",
   "execution_count": 10,
   "id": "a45cd392",
   "metadata": {},
   "outputs": [
    {
     "name": "stdout",
     "output_type": "stream",
     "text": [
      "h\n",
      "e\n",
      "l\n",
      "l\n",
      "o\n"
     ]
    }
   ],
   "source": [
    "s = \"olleh\"\n",
    "while s:\n",
    "    print(s[-1])\n",
    "    s = s[:-1]"
   ]
  },
  {
   "cell_type": "code",
   "execution_count": 11,
   "id": "c9db01f9",
   "metadata": {},
   "outputs": [
    {
     "name": "stdout",
     "output_type": "stream",
     "text": [
      "h e l l o "
     ]
    }
   ],
   "source": [
    "s = \"olleh\"\n",
    "while s:\n",
    "    print(s[-1], end=\" \")\n",
    "    s = s[:-1]"
   ]
  },
  {
   "cell_type": "code",
   "execution_count": 13,
   "id": "deb032dc",
   "metadata": {},
   "outputs": [
    {
     "name": "stdout",
     "output_type": "stream",
     "text": [
      "h\n",
      "e\n",
      "l\n",
      "l\n",
      "o\n"
     ]
    }
   ],
   "source": [
    "s = \"olleh\"\n",
    "while s:\n",
    "    print(s[-1])\n",
    "    s = s[:-1]"
   ]
  },
  {
   "cell_type": "code",
   "execution_count": 14,
   "id": "f08e8702",
   "metadata": {},
   "outputs": [
    {
     "name": "stdout",
     "output_type": "stream",
     "text": [
      "''\n"
     ]
    }
   ],
   "source": [
    "print(repr(s))"
   ]
  },
  {
   "cell_type": "markdown",
   "id": "4f058f35",
   "metadata": {},
   "source": [
    "### Traversing\n"
   ]
  },
  {
   "cell_type": "code",
   "execution_count": 15,
   "id": "4d626946",
   "metadata": {},
   "outputs": [],
   "source": [
    "names = [\"bharat\", \"yadavendra\", \"ravi\", \"simran\", \"shivani\", \"nidhi\"]\n",
    "#           0           1           2        3         4          5"
   ]
  },
  {
   "cell_type": "code",
   "execution_count": 16,
   "id": "ccce9941",
   "metadata": {},
   "outputs": [
    {
     "name": "stdout",
     "output_type": "stream",
     "text": [
      "['bharat', 'yadavendra', 'ravi', 'simran', 'shivani', 'nidhi']\n",
      "6\n"
     ]
    }
   ],
   "source": [
    "print(names)\n",
    "print(len(names))"
   ]
  },
  {
   "cell_type": "code",
   "execution_count": 20,
   "id": "356a9867",
   "metadata": {},
   "outputs": [
    {
     "name": "stdout",
     "output_type": "stream",
     "text": [
      "0 bharat\n",
      "1 yadavendra\n",
      "2 ravi\n",
      "3 simran\n",
      "4 shivani\n",
      "5 nidhi\n"
     ]
    }
   ],
   "source": [
    "names = [\"bharat\", \"yadavendra\", \"ravi\", \"simran\", \"shivani\", \"nidhi\"]\n",
    "#           0           1           2        3         4          5\n",
    "i = 0\n",
    "while i < len(names):\n",
    "    print(i, names[i])\n",
    "    i += 1"
   ]
  },
  {
   "cell_type": "code",
   "execution_count": 21,
   "id": "cb70e00c",
   "metadata": {},
   "outputs": [
    {
     "name": "stdout",
     "output_type": "stream",
     "text": [
      "BHARAT\n",
      "YADAVENDRA\n",
      "RAVI\n",
      "SIMRAN\n",
      "SHIVANI\n",
      "NIDHI\n"
     ]
    }
   ],
   "source": [
    "i = 0\n",
    "while i < len(names):\n",
    "    print(names[i].upper())\n",
    "    i += 1"
   ]
  },
  {
   "cell_type": "code",
   "execution_count": 22,
   "id": "e1ea04d4",
   "metadata": {},
   "outputs": [
    {
     "name": "stdout",
     "output_type": "stream",
     "text": [
      "NIDHI\n",
      "SHIVANI\n",
      "SIMRAN\n",
      "RAVI\n",
      "YADAVENDRA\n",
      "BHARAT\n"
     ]
    }
   ],
   "source": [
    "i = len(names)-1\n",
    "while i >= 0:\n",
    "    print(names[i].upper())\n",
    "    i -= 1"
   ]
  },
  {
   "cell_type": "code",
   "execution_count": 24,
   "id": "d4f48ed1",
   "metadata": {},
   "outputs": [
    {
     "name": "stdout",
     "output_type": "stream",
     "text": [
      "1\n",
      "2\n",
      "3\n",
      "4\n",
      "5\n"
     ]
    }
   ],
   "source": [
    "c = 1\n",
    "while c <= 10:\n",
    "    print(c)\n",
    "    if c == 5:\n",
    "        break\n",
    "    c += 1"
   ]
  },
  {
   "cell_type": "code",
   "execution_count": 25,
   "id": "ebf097bc",
   "metadata": {},
   "outputs": [],
   "source": [
    "c = 1\n",
    "while c <= 10:\n",
    "    if c == 5:\n",
    "        print(c)\n",
    "    break\n",
    "    c += 1"
   ]
  },
  {
   "cell_type": "code",
   "execution_count": 26,
   "id": "783e1d36",
   "metadata": {},
   "outputs": [
    {
     "name": "stdout",
     "output_type": "stream",
     "text": [
      "1\n",
      "2\n",
      "3\n",
      "4\n"
     ]
    }
   ],
   "source": [
    "c = 1\n",
    "while c <= 10:\n",
    "    if c == 5:\n",
    "        break\n",
    "    print(c)\n",
    "    c += 1"
   ]
  },
  {
   "cell_type": "code",
   "execution_count": null,
   "id": "99b7cc79",
   "metadata": {},
   "outputs": [],
   "source": [
    "inc_temp = 2\n",
    "dec_temp = 1\n",
    "init = 'on'\n",
    "in_use = True\n",
    "temp = 10\n",
    "count = 1\n",
    "while (init == 'on'):\n",
    "    if temp >= 100:\n",
    "        break\n",
    "    if in_use:\n",
    "        temp += 2\n",
    "        in_use = False\n",
    "    else:\n",
    "        temp -= 1\n",
    "        in_use = True\n",
    "    count += 1\n",
    "    \n",
    "print(count)"
   ]
  },
  {
   "cell_type": "markdown",
   "id": "fcb18149",
   "metadata": {},
   "source": [
    "`continue statement`"
   ]
  },
  {
   "cell_type": "code",
   "execution_count": 28,
   "id": "ad319409",
   "metadata": {},
   "outputs": [
    {
     "ename": "KeyboardInterrupt",
     "evalue": "",
     "output_type": "error",
     "traceback": [
      "\u001b[1;31m---------------------------------------------------------------------------\u001b[0m",
      "\u001b[1;31mKeyboardInterrupt\u001b[0m                         Traceback (most recent call last)",
      "\u001b[1;32m<ipython-input-28-8708f0c037b0>\u001b[0m in \u001b[0;36m<module>\u001b[1;34m\u001b[0m\n\u001b[0;32m      1\u001b[0m \u001b[0mc\u001b[0m \u001b[1;33m=\u001b[0m \u001b[1;36m1\u001b[0m \u001b[1;31m# ESC+II , ctrl+c  -> Keyboard Interrupt\u001b[0m\u001b[1;33m\u001b[0m\u001b[1;33m\u001b[0m\u001b[0m\n\u001b[1;32m----> 2\u001b[1;33m \u001b[1;32mwhile\u001b[0m \u001b[0mc\u001b[0m \u001b[1;33m<=\u001b[0m \u001b[1;36m5\u001b[0m\u001b[1;33m:\u001b[0m\u001b[1;33m\u001b[0m\u001b[1;33m\u001b[0m\u001b[0m\n\u001b[0m\u001b[0;32m      3\u001b[0m     \u001b[1;31m#print(c)\u001b[0m\u001b[1;33m\u001b[0m\u001b[1;33m\u001b[0m\u001b[1;33m\u001b[0m\u001b[0m\n\u001b[0;32m      4\u001b[0m     \u001b[1;32mif\u001b[0m \u001b[0mc\u001b[0m \u001b[1;33m%\u001b[0m \u001b[1;36m2\u001b[0m \u001b[1;33m==\u001b[0m \u001b[1;36m0\u001b[0m\u001b[1;33m:\u001b[0m\u001b[1;33m\u001b[0m\u001b[1;33m\u001b[0m\u001b[0m\n\u001b[0;32m      5\u001b[0m         \u001b[1;32mcontinue\u001b[0m\u001b[1;33m\u001b[0m\u001b[1;33m\u001b[0m\u001b[0m\n",
      "\u001b[1;31mKeyboardInterrupt\u001b[0m: "
     ]
    }
   ],
   "source": [
    "c = 1 # ESC+II , ctrl+c  -> Keyboard Interrupt\n",
    "while c <= 5:\n",
    "    #print(c)\n",
    "    if c % 2 == 0:\n",
    "        continue\n",
    "    c += 1"
   ]
  },
  {
   "cell_type": "code",
   "execution_count": 29,
   "id": "41d1fbe4",
   "metadata": {},
   "outputs": [
    {
     "name": "stdout",
     "output_type": "stream",
     "text": [
      "2, 3, 4, 6, 7, 8, 9, 11, "
     ]
    }
   ],
   "source": [
    "c = 1\n",
    "while c <= 10:\n",
    "    c += 1\n",
    "    if c % 5 == 0:\n",
    "        continue\n",
    "    print(c, end=\", \")"
   ]
  },
  {
   "cell_type": "code",
   "execution_count": null,
   "id": "491d8d67",
   "metadata": {},
   "outputs": [],
   "source": []
  },
  {
   "cell_type": "code",
   "execution_count": null,
   "id": "bfb84598",
   "metadata": {},
   "outputs": [],
   "source": []
  },
  {
   "cell_type": "code",
   "execution_count": 31,
   "id": "ac77510d",
   "metadata": {},
   "outputs": [
    {
     "name": "stdout",
     "output_type": "stream",
     "text": [
      "2\n",
      "4\n",
      "6\n",
      "8\n"
     ]
    }
   ],
   "source": [
    "c = 0\n",
    "while c <= 10:\n",
    "    c += 1\n",
    "    if c % 2:\n",
    "        continue\n",
    "    if c % 5 == 0:\n",
    "        break\n",
    "    print(c)"
   ]
  },
  {
   "cell_type": "markdown",
   "id": "41dad85b",
   "metadata": {},
   "source": [
    "`else executes only if condition if False`"
   ]
  },
  {
   "cell_type": "code",
   "execution_count": 32,
   "id": "4da1a541",
   "metadata": {},
   "outputs": [
    {
     "name": "stdout",
     "output_type": "stream",
     "text": [
      "Hello World!\n",
      "do you want to continue ?yes\n",
      "Hello World!\n",
      "do you want to continue ?yes\n",
      "Hello World!\n",
      "do you want to continue ?yes\n",
      "Hello World!\n",
      "do you want to continue ?no\n",
      "wait a minute! what ?\n"
     ]
    }
   ],
   "source": [
    "ch = 'yes'\n",
    "while ch == 'yes':\n",
    "    print(\"Hello World!\")\n",
    "    ch = input(\"do you want to continue ?\")\n",
    "else:\n",
    "    print(\"wait a minute! what ?\")"
   ]
  },
  {
   "cell_type": "code",
   "execution_count": 33,
   "id": "daffc3a1",
   "metadata": {},
   "outputs": [
    {
     "name": "stdout",
     "output_type": "stream",
     "text": [
      "Summation is 15\n"
     ]
    }
   ],
   "source": [
    "sum_ = 0\n",
    "i = 1\n",
    "while i <= 5:\n",
    "    sum_ = sum_ + i\n",
    "    i = i + 1\n",
    "else:\n",
    "    print(f\"Summation is {sum_}\")"
   ]
  },
  {
   "cell_type": "code",
   "execution_count": 36,
   "id": "e513b00e",
   "metadata": {},
   "outputs": [
    {
     "name": "stdout",
     "output_type": "stream",
     "text": [
      "3\n",
      "5\n",
      "7\n",
      "9\n",
      "11\n",
      "!it will not run if we break the loop!\n"
     ]
    }
   ],
   "source": [
    "i = 1\n",
    "while i <= 10:\n",
    "    i+= 1\n",
    "    if i % 2 == 0:\n",
    "        continue\n",
    "    print(i)\n",
    "else:\n",
    "    print(\"!it will not run if we break the loop!\")"
   ]
  },
  {
   "cell_type": "code",
   "execution_count": 34,
   "id": "e49e2bfa",
   "metadata": {},
   "outputs": [
    {
     "name": "stdout",
     "output_type": "stream",
     "text": [
      "1\n",
      "2\n",
      "3\n",
      "4\n"
     ]
    }
   ],
   "source": [
    "i = 1\n",
    "while i <= 10:\n",
    "    if i == 5:\n",
    "        break\n",
    "    print(i)\n",
    "    i += 1\n",
    "else:\n",
    "    print(\"!it will not run if we break the loop!\")"
   ]
  },
  {
   "cell_type": "code",
   "execution_count": 41,
   "id": "3c5f2408",
   "metadata": {},
   "outputs": [
    {
     "name": "stdout",
     "output_type": "stream",
     "text": [
      "Number: 23\n",
      "23 is prime\n"
     ]
    }
   ],
   "source": [
    "num = int(input(\"Number: \"))\n",
    "if num <= 1:\n",
    "    print(f\"{num} is not prime\")\n",
    "elif num in [2, 3]:\n",
    "     print(f\"{num} is prime\")\n",
    "elif num % 2 == 0:\n",
    "     print(f\"{num} is not prime\")\n",
    "else:\n",
    "    c = 3\n",
    "    while c<num//2:\n",
    "        if num%c==0:\n",
    "             print(f\"{num} is not prime\")\n",
    "             break\n",
    "        c += 2\n",
    "    else:\n",
    "         print(f\"{num} is prime\")\n",
    "                \n",
    "    "
   ]
  },
  {
   "cell_type": "markdown",
   "id": "cf22af41",
   "metadata": {},
   "source": [
    "### For Loop "
   ]
  },
  {
   "cell_type": "markdown",
   "id": "5edae095",
   "metadata": {},
   "source": [
    "    Iteration of colleciton type objects\n",
    "    "
   ]
  },
  {
   "cell_type": "markdown",
   "id": "a343120b",
   "metadata": {},
   "source": [
    "syntax\n",
    "\n",
    "    for item in iterable:\n",
    "        st-1\n",
    "        st-2\n",
    "        ...\n",
    "        st-n"
   ]
  },
  {
   "cell_type": "markdown",
   "id": "1bca6489",
   "metadata": {},
   "source": [
    "iterables\n",
    "    \n",
    "    string, list, tuple\n",
    "    set, dictionary, frozenset\n",
    "    \n",
    "non-iterables\n",
    "\n",
    "    int, float, complex\n",
    "    True, False\n",
    "    None"
   ]
  },
  {
   "cell_type": "code",
   "execution_count": 43,
   "id": "81fbe94f",
   "metadata": {},
   "outputs": [
    {
     "ename": "TypeError",
     "evalue": "'int' object is not iterable",
     "output_type": "error",
     "traceback": [
      "\u001b[1;31m---------------------------------------------------------------------------\u001b[0m",
      "\u001b[1;31mTypeError\u001b[0m                                 Traceback (most recent call last)",
      "\u001b[1;32m<ipython-input-43-20d5f0c95b5a>\u001b[0m in \u001b[0;36m<module>\u001b[1;34m\u001b[0m\n\u001b[1;32m----> 1\u001b[1;33m \u001b[1;32mfor\u001b[0m \u001b[0md\u001b[0m \u001b[1;32min\u001b[0m \u001b[1;36m12345\u001b[0m\u001b[1;33m:\u001b[0m\u001b[1;33m\u001b[0m\u001b[1;33m\u001b[0m\u001b[0m\n\u001b[0m\u001b[0;32m      2\u001b[0m     \u001b[0mprint\u001b[0m\u001b[1;33m(\u001b[0m\u001b[0md\u001b[0m\u001b[1;33m)\u001b[0m\u001b[1;33m\u001b[0m\u001b[1;33m\u001b[0m\u001b[0m\n",
      "\u001b[1;31mTypeError\u001b[0m: 'int' object is not iterable"
     ]
    }
   ],
   "source": [
    "for d in 12345:\n",
    "    print(d)"
   ]
  },
  {
   "cell_type": "code",
   "execution_count": 42,
   "id": "d99ce7ac",
   "metadata": {},
   "outputs": [
    {
     "name": "stdout",
     "output_type": "stream",
     "text": [
      "H\n",
      "e\n",
      "l\n",
      "l\n",
      "o\n"
     ]
    }
   ],
   "source": [
    "s = \"Hello\"\n",
    "for char in s:\n",
    "    print(char)"
   ]
  },
  {
   "cell_type": "code",
   "execution_count": 45,
   "id": "f6b94d49",
   "metadata": {},
   "outputs": [
    {
     "name": "stdout",
     "output_type": "stream",
     "text": [
      "1 2 3 4 5 "
     ]
    }
   ],
   "source": [
    "for d in \"12345\":\n",
    "    print(d, end=' ')"
   ]
  },
  {
   "cell_type": "code",
   "execution_count": 48,
   "id": "e9bb2577",
   "metadata": {},
   "outputs": [],
   "source": [
    "lang = [\"python\", \"c\", \"java\", \"c++\", \"go\", \"rust\", \"ruby\", \"perl\"]"
   ]
  },
  {
   "cell_type": "markdown",
   "id": "e5a29472",
   "metadata": {},
   "source": [
    "    :>20 -> format string in 20 space by shifting data right justify\n",
    "    \n",
    "    > right justification\n",
    "    < left justification\n",
    "    ^ center justification"
   ]
  },
  {
   "cell_type": "code",
   "execution_count": 56,
   "id": "c9f3a5f8",
   "metadata": {},
   "outputs": [
    {
     "name": "stdout",
     "output_type": "stream",
     "text": [
      "\"    python\" is awesome!\n",
      "\"         c\" is awesome!\n",
      "\"      java\" is awesome!\n",
      "\"       c++\" is awesome!\n",
      "\"        go\" is awesome!\n",
      "\"      rust\" is awesome!\n",
      "\"      ruby\" is awesome!\n",
      "\"      perl\" is awesome!\n"
     ]
    }
   ],
   "source": [
    "for item in lang:\n",
    "    print(f\"\\\"{item:>10}\\\" is awesome!\")"
   ]
  },
  {
   "cell_type": "code",
   "execution_count": 57,
   "id": "b16322ac",
   "metadata": {},
   "outputs": [
    {
     "name": "stdout",
     "output_type": "stream",
     "text": [
      "    python is awesome!\n",
      "         c is awesome!\n",
      "      java is awesome!\n",
      "       c++ is awesome!\n",
      "        go is awesome!\n",
      "      rust is awesome!\n",
      "      ruby is awesome!\n",
      "      perl is awesome!\n"
     ]
    }
   ],
   "source": [
    "for item in lang:\n",
    "    print(f\"{item:>10} is awesome!\")"
   ]
  },
  {
   "cell_type": "markdown",
   "id": "9f69338f",
   "metadata": {},
   "source": [
    "### tuple unpacking\n",
    "\n",
    "    x, y = (1, 2)\n",
    "    \n",
    "    (one, two), (x, y) = [ ('hi', 'bye'), (10, 20) ]"
   ]
  },
  {
   "cell_type": "code",
   "execution_count": 69,
   "id": "ac267329",
   "metadata": {},
   "outputs": [],
   "source": [
    "a, b, c = ('sachin', 27, 'india')"
   ]
  },
  {
   "cell_type": "code",
   "execution_count": 70,
   "id": "e72b736a",
   "metadata": {},
   "outputs": [
    {
     "name": "stdout",
     "output_type": "stream",
     "text": [
      "sachin\n"
     ]
    }
   ],
   "source": [
    "print(a)"
   ]
  },
  {
   "cell_type": "code",
   "execution_count": 64,
   "id": "3e02d203",
   "metadata": {},
   "outputs": [],
   "source": [
    "(one, two), (x, y) = [ ('hi', 'bye'), (10, 20) ]"
   ]
  },
  {
   "cell_type": "code",
   "execution_count": 65,
   "id": "abbbcff6",
   "metadata": {},
   "outputs": [
    {
     "name": "stdout",
     "output_type": "stream",
     "text": [
      "hi\n"
     ]
    }
   ],
   "source": [
    "print(one)"
   ]
  },
  {
   "cell_type": "code",
   "execution_count": 66,
   "id": "c14b2109",
   "metadata": {},
   "outputs": [
    {
     "name": "stdout",
     "output_type": "stream",
     "text": [
      "bye\n"
     ]
    }
   ],
   "source": [
    "print(two)"
   ]
  },
  {
   "cell_type": "code",
   "execution_count": 67,
   "id": "a58e1ce4",
   "metadata": {},
   "outputs": [
    {
     "name": "stdout",
     "output_type": "stream",
     "text": [
      "10\n"
     ]
    }
   ],
   "source": [
    "print(x)"
   ]
  },
  {
   "cell_type": "code",
   "execution_count": 68,
   "id": "b3f5c6fd",
   "metadata": {},
   "outputs": [
    {
     "name": "stdout",
     "output_type": "stream",
     "text": [
      "20\n"
     ]
    }
   ],
   "source": [
    "print(y)"
   ]
  },
  {
   "cell_type": "code",
   "execution_count": 58,
   "id": "6053f3c0",
   "metadata": {},
   "outputs": [],
   "source": [
    "data = [\n",
    "    [\"bharat\", \"1234567890\", 56.23],\n",
    "    [\"yadvendra\", \"1893473923\", 78.00],\n",
    "    [\"shivani\", \"0129834756\", 88.00]\n",
    "]"
   ]
  },
  {
   "cell_type": "code",
   "execution_count": 73,
   "id": "3d864d96",
   "metadata": {},
   "outputs": [
    {
     "name": "stdout",
     "output_type": "stream",
     "text": [
      "______________________________________________________\n",
      "|        Name        |    Phone Number    |Percentage|\n",
      "______________________________________________________\n",
      "|       bharat       |     1234567890     |  56.23   |\n",
      "------------------------------------------------------\n",
      "|     yadvendra      |     1893473923     |   78.0   |\n",
      "------------------------------------------------------\n",
      "|      shivani       |     0129834756     |   88.0   |\n",
      "------------------------------------------------------\n"
     ]
    }
   ],
   "source": [
    "nm, ph, per = \"Name\", \"Phone Number\", \"Percentage\"\n",
    "print(\"_\"*54)\n",
    "print(f\"|{nm:^20}|{ph:^20}|{per:^10}|\")\n",
    "print(\"_\"*54)\n",
    "for (nm, ph, per) in data:\n",
    "    print(f\"|{nm:^20}|{ph:^20}|{per:^10}|\")\n",
    "    print(\"-\"*54)"
   ]
  },
  {
   "cell_type": "code",
   "execution_count": 63,
   "id": "d2d65f1e",
   "metadata": {},
   "outputs": [
    {
     "name": "stdout",
     "output_type": "stream",
     "text": [
      "['bharat', '1234567890', 56.23]\n"
     ]
    }
   ],
   "source": [
    "for item in data:\n",
    "    print(item)\n",
    "    break"
   ]
  },
  {
   "cell_type": "code",
   "execution_count": 74,
   "id": "12e6fe26",
   "metadata": {},
   "outputs": [],
   "source": [
    "d = {'name': 'sachin', 'age': 27, 'city': 'jaipur', 'country': 'india'}"
   ]
  },
  {
   "cell_type": "code",
   "execution_count": 75,
   "id": "047d0d6b",
   "metadata": {},
   "outputs": [
    {
     "name": "stdout",
     "output_type": "stream",
     "text": [
      "{'name': 'sachin', 'age': 27, 'city': 'jaipur', 'country': 'india'}\n"
     ]
    }
   ],
   "source": [
    "print(d)"
   ]
  },
  {
   "cell_type": "code",
   "execution_count": 78,
   "id": "ecdd6ef0",
   "metadata": {},
   "outputs": [
    {
     "name": "stdout",
     "output_type": "stream",
     "text": [
      "name = sachin\n",
      "age = 27\n",
      "city = jaipur\n",
      "country = india\n"
     ]
    }
   ],
   "source": [
    "for key in d:\n",
    "    print(key,\"=\", d[key])"
   ]
  },
  {
   "cell_type": "code",
   "execution_count": 79,
   "id": "8cb5ce35",
   "metadata": {},
   "outputs": [
    {
     "name": "stdout",
     "output_type": "stream",
     "text": [
      "{'name': 'sachin', 'age': 27, 'city': 'jaipur', 'country': 'india'}\n"
     ]
    }
   ],
   "source": [
    "print(d)"
   ]
  },
  {
   "cell_type": "code",
   "execution_count": 86,
   "id": "11dd9ea3",
   "metadata": {},
   "outputs": [
    {
     "name": "stdout",
     "output_type": "stream",
     "text": [
      "|        name         |        sachin       |\n",
      "---------------------------------------------\n",
      "|        age          |          27         |\n",
      "---------------------------------------------\n",
      "|        city         |        jaipur       |\n",
      "---------------------------------------------\n",
      "|      country        |        india        |\n",
      "---------------------------------------------\n"
     ]
    }
   ],
   "source": [
    "for (key, value) in d.items():\n",
    "    print(f\"|{key:^20} | {value:^20}|\")\n",
    "    print('-'*45)"
   ]
  },
  {
   "cell_type": "code",
   "execution_count": null,
   "id": "8e09584d",
   "metadata": {},
   "outputs": [],
   "source": []
  }
 ],
 "metadata": {
  "kernelspec": {
   "display_name": "Python 3",
   "language": "python",
   "name": "python3"
  },
  "language_info": {
   "codemirror_mode": {
    "name": "ipython",
    "version": 3
   },
   "file_extension": ".py",
   "mimetype": "text/x-python",
   "name": "python",
   "nbconvert_exporter": "python",
   "pygments_lexer": "ipython3",
   "version": "3.8.8"
  }
 },
 "nbformat": 4,
 "nbformat_minor": 5
}
