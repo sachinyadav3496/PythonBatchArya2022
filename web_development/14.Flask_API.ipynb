{
 "cells": [
  {
   "cell_type": "markdown",
   "id": "ebe6321d",
   "metadata": {},
   "source": [
    "Service Provide\n",
    "\n",
    "    Identity ->\n",
    "    \n",
    "        authentication -> username, password\n",
    "        \n",
    "        authorization -> access to content\n",
    "    "
   ]
  },
  {
   "cell_type": "code",
   "execution_count": 1,
   "id": "b572a42f",
   "metadata": {},
   "outputs": [],
   "source": [
    "api_key = \"390cfe9366e31568d802a3982999caab\""
   ]
  },
  {
   "cell_type": "markdown",
   "id": "d0275f78",
   "metadata": {},
   "source": [
    "    URL => https://domain_name.com/resource/path?query=parameters&to=feachdata&api_key=askldjfsdffds"
   ]
  },
  {
   "cell_type": "code",
   "execution_count": 16,
   "id": "428a5ae2",
   "metadata": {},
   "outputs": [
    {
     "name": "stdout",
     "output_type": "stream",
     "text": [
      "city name: delhi\n"
     ]
    },
    {
     "data": {
      "text/plain": [
       "200"
      ]
     },
     "execution_count": 16,
     "metadata": {},
     "output_type": "execute_result"
    }
   ],
   "source": [
    "import requests\n",
    "\n",
    "api_key = \"390cfe9366e31568d802a3982999caab\"\n",
    "\n",
    "city_name = input(\"city name: \")\n",
    "geo_url = f\"http://api.openweathermap.org/geo/1.0/direct?q={city_name}&appid={api_key}\"\n",
    "\n",
    "resp = requests.get(geo_url)\n",
    "resp.status_code\n"
   ]
  },
  {
   "cell_type": "code",
   "execution_count": 17,
   "id": "37ee35ab",
   "metadata": {},
   "outputs": [],
   "source": [
    "from pprint import pprint"
   ]
  },
  {
   "cell_type": "code",
   "execution_count": 23,
   "id": "1249da7f",
   "metadata": {},
   "outputs": [
    {
     "name": "stdout",
     "output_type": "stream",
     "text": [
      "[{'country': 'IN',\n",
      "  'lat': 28.6517178,\n",
      "  'local_names': {'ar': 'دلهي',\n",
      "                  'bn': 'দিল্লি',\n",
      "                  'cs': 'Dillí',\n",
      "                  'de': 'Delhi',\n",
      "                  'el': 'Δελχί',\n",
      "                  'en': 'Delhi',\n",
      "                  'eo': 'Delhio',\n",
      "                  'es': 'Delhi',\n",
      "                  'fa': 'دهلی',\n",
      "                  'fr': 'Delhi',\n",
      "                  'he': 'דלהי',\n",
      "                  'hi': 'दिल्ली',\n",
      "                  'ja': 'デリー',\n",
      "                  'kn': 'ದೆಹಲಿ',\n",
      "                  'ko': '델리',\n",
      "                  'ku': 'Delhî',\n",
      "                  'lv': 'Deli',\n",
      "                  'ml': 'ഡെൽഹി',\n",
      "                  'ms': 'Delhi',\n",
      "                  'my': 'ဒေလီမြို့',\n",
      "                  'ne': 'दिल्ली',\n",
      "                  'oc': 'Delhi',\n",
      "                  'pa': 'ਦਿੱਲੀ',\n",
      "                  'pt': 'Deli',\n",
      "                  'ru': 'Дели',\n",
      "                  'ta': 'தில்லி',\n",
      "                  'te': 'ఢిల్లీ',\n",
      "                  'th': 'เดลี',\n",
      "                  'uk': 'Делі',\n",
      "                  'ur': 'دہلی',\n",
      "                  'zh': '德里'},\n",
      "  'lon': 77.2219388,\n",
      "  'name': 'Delhi',\n",
      "  'state': 'Delhi'}]\n"
     ]
    }
   ],
   "source": [
    "pprint(data)"
   ]
  },
  {
   "cell_type": "code",
   "execution_count": 32,
   "id": "82f908fd",
   "metadata": {},
   "outputs": [],
   "source": [
    "def get_lat_lon(city_name):\n",
    "    \"\"\"\n",
    "        will return a dictionary having latitude and longitude info\n",
    "    \"\"\"\n",
    "    api_key = \"390cfe9366e31568d802a3982999caab\"\n",
    "    geo_url = f\"http://api.openweathermap.org/geo/1.0/direct?q={city_name}&appid={api_key}\"\n",
    "\n",
    "    resp = requests.get(geo_url)\n",
    "\n",
    "    if resp.status_code == 200:\n",
    "        data = resp.json()\n",
    "        if len(data) >= 1 and len(data[0]) >= 3:\n",
    "            answer = {}\n",
    "            answer[\"country\"] = data[0]['country']\n",
    "            answer[\"state\"] = data[0]['state']\n",
    "            if 'local_names' in data[0].keys():\n",
    "                answer[\"name\"] = data[0]['local_names']['hi']\n",
    "            else:\n",
    "                answer[\"name\"] = data[0]['name']\n",
    "            answer[\"lat\"] = data[0]['lat']\n",
    "            answer[\"lon\"] = data[0]['lon']\n",
    "            return answer\n",
    "        else:\n",
    "            print(\"Could not Get Data\")\n",
    "    else:\n",
    "        print(f\"Invalid Request! {resp.status_code}, {resp.reason}\")\n",
    "    return False"
   ]
  },
  {
   "cell_type": "code",
   "execution_count": 33,
   "id": "1ce9b31d",
   "metadata": {},
   "outputs": [
    {
     "data": {
      "text/plain": [
       "{'country': 'IN',\n",
       " 'state': 'Rajasthan',\n",
       " 'name': 'जयपुर',\n",
       " 'lat': 26.9154576,\n",
       " 'lon': 75.8189817}"
      ]
     },
     "execution_count": 33,
     "metadata": {},
     "output_type": "execute_result"
    }
   ],
   "source": [
    "get_lat_lon(\"jaipur\")"
   ]
  },
  {
   "cell_type": "code",
   "execution_count": 34,
   "id": "573132d4",
   "metadata": {},
   "outputs": [
    {
     "data": {
      "text/plain": [
       "{'country': 'US',\n",
       " 'state': 'New York',\n",
       " 'name': 'न्यूयॊर्क्',\n",
       " 'lat': 40.7127281,\n",
       " 'lon': -74.0060152}"
      ]
     },
     "execution_count": 34,
     "metadata": {},
     "output_type": "execute_result"
    }
   ],
   "source": [
    "get_lat_lon(\"new york\")"
   ]
  },
  {
   "cell_type": "code",
   "execution_count": 53,
   "id": "9ddee8a6",
   "metadata": {},
   "outputs": [],
   "source": [
    "def get_temp(city_name):\n",
    "    \"\"\"\n",
    "        will return temprature dictionary of city_name\n",
    "    \"\"\"\n",
    "    info = get_lat_lon(city_name)\n",
    "    api_key = \"390cfe9366e31568d802a3982999caab\"\n",
    "    url = \"https://api.openweathermap.org/data/2.5/weather\"    \n",
    "    if info:\n",
    "        query_parameters = {\n",
    "            \"lat\": info['lat'],\n",
    "            \"lon\": info['lon'],\n",
    "            \"appid\": api_key,\n",
    "            \"units\": \"metric\"\n",
    "        }\n",
    "        resp = requests.get(url, params=query_parameters)\n",
    "        if resp.status_code == 200:\n",
    "            data = resp.json()\n",
    "            if len(data) >= 3:\n",
    "                info[\"desc\"] = data[\"weather\"][0][\"description\"]\n",
    "                info[\"icon\"] = data[\"weather\"][0][\"icon\"]\n",
    "                info[\"icon_url\"] = f\"https://openweathermap.org/img/wn/{icon}@4x.png\"\n",
    "                info[\"temp\"] = data[\"main\"][\"temp\"]\n",
    "                info[\"humidity\"] = data[\"main\"]['humidity']\n",
    "                return info\n",
    "            else:\n",
    "                print(\"no weather information available\")\n",
    "        else:\n",
    "            print(f\"Could not fetch temprature! {resp.status_code} {resp.reason}\")\n",
    "    else:\n",
    "        print(\"!Could Not get Lat and Lon, Please check location properly!\")\n",
    "    return False"
   ]
  },
  {
   "cell_type": "code",
   "execution_count": 39,
   "id": "a69abd03",
   "metadata": {},
   "outputs": [
    {
     "data": {
      "text/plain": [
       "200"
      ]
     },
     "execution_count": 39,
     "metadata": {},
     "output_type": "execute_result"
    }
   ],
   "source": [
    "resp.status_code"
   ]
  },
  {
   "cell_type": "code",
   "execution_count": 40,
   "id": "eb8c6879",
   "metadata": {},
   "outputs": [
    {
     "data": {
      "text/plain": [
       "'application/json; charset=utf-8'"
      ]
     },
     "execution_count": 40,
     "metadata": {},
     "output_type": "execute_result"
    }
   ],
   "source": [
    "resp.headers[\"Content-type\"]"
   ]
  },
  {
   "cell_type": "code",
   "execution_count": 41,
   "id": "992ecdec",
   "metadata": {},
   "outputs": [],
   "source": [
    "data = resp.json()"
   ]
  },
  {
   "cell_type": "code",
   "execution_count": 43,
   "id": "0971ddb4",
   "metadata": {},
   "outputs": [],
   "source": [
    "from IPython.display import Image"
   ]
  },
  {
   "cell_type": "code",
   "execution_count": 44,
   "id": "c1c6b1ce",
   "metadata": {},
   "outputs": [
    {
     "data": {
      "image/png": "[encoded data removed]",
      "text/plain": [
       "<IPython.core.display.Image object>"
      ]
     },
     "execution_count": 44,
     "metadata": {},
     "output_type": "execute_result"
    }
   ],
   "source": [
    "icon_url = \"https://openweathermap.org/img/wn/{}@4x.png\"\n",
    "Image(icon_url)"
   ]
  },
  {
   "cell_type": "code",
   "execution_count": 52,
   "id": "b3842379",
   "metadata": {},
   "outputs": [],
   "source": [
    "\n",
    "info[\"desc\"] = data[\"weather\"][0][\"description\"]\n",
    "info[\"icon\"] = data[\"weather\"][0][\"icon\"]\n",
    "info[\"icon_url\"] = f\"https://openweathermap.org/img/wn/{icon}@4x.png\"\n",
    "info[\"temp\"] = data[\"main\"][\"temp\"]\n",
    "info[\"humidity\"] = data[\"main\"]['humidity']"
   ]
  },
  {
   "cell_type": "code",
   "execution_count": 42,
   "id": "9e8c545a",
   "metadata": {},
   "outputs": [
    {
     "data": {
      "text/plain": [
       "{'coord': {'lon': 75.819, 'lat': 26.9155},\n",
       " 'weather': [{'id': 721,\n",
       "   'main': 'Haze',\n",
       "   'description': 'haze',\n",
       "   'icon': '50d'}],\n",
       " 'base': 'stations',\n",
       " 'main': {'temp': 28.6,\n",
       "  'feels_like': 35.49,\n",
       "  'temp_min': 28.6,\n",
       "  'temp_max': 28.6,\n",
       "  'pressure': 1005,\n",
       "  'humidity': 89},\n",
       " 'visibility': 4000,\n",
       " 'wind': {'speed': 4.12, 'deg': 310},\n",
       " 'clouds': {'all': 75},\n",
       " 'dt': 1659414302,\n",
       " 'sys': {'type': 1,\n",
       "  'id': 9170,\n",
       "  'country': 'IN',\n",
       "  'sunrise': 1659399683,\n",
       "  'sunset': 1659447871},\n",
       " 'timezone': 19800,\n",
       " 'id': 1269515,\n",
       " 'name': 'Jaipur',\n",
       " 'cod': 200}"
      ]
     },
     "execution_count": 42,
     "metadata": {},
     "output_type": "execute_result"
    }
   ],
   "source": [
    "data"
   ]
  },
  {
   "cell_type": "code",
   "execution_count": 56,
   "id": "a33bd89b",
   "metadata": {},
   "outputs": [],
   "source": [
    "def get_lat_lon(city_name):\n",
    "    \"\"\"\n",
    "        will return a dictionary having latitude and longitude info\n",
    "    \"\"\"\n",
    "    api_key = \"390cfe9366e31568d802a3982999caab\"\n",
    "    geo_url = f\"http://api.openweathermap.org/geo/1.0/direct?q={city_name}&appid={api_key}\"\n",
    "    resp = requests.get(geo_url)\n",
    "    if resp.status_code == 200:\n",
    "        data = resp.json()\n",
    "        if len(data) >= 1 and len(data[0]) >= 3:\n",
    "            answer = {}\n",
    "            answer[\"country\"] = data[0]['country']\n",
    "            answer[\"state\"] = data[0]['state']\n",
    "            if 'local_names' in data[0].keys():\n",
    "                answer[\"name\"] = data[0]['local_names']['hi']\n",
    "            else:\n",
    "                answer[\"name\"] = data[0]['name']\n",
    "            answer[\"lat\"] = data[0]['lat']\n",
    "            answer[\"lon\"] = data[0]['lon']\n",
    "            return answer\n",
    "        else:\n",
    "            print(\"Could not Get Data\")\n",
    "    else:\n",
    "        print(f\"Invalid Request! {resp.status_code}, {resp.reason}\")\n",
    "    return False"
   ]
  },
  {
   "cell_type": "code",
   "execution_count": 67,
   "id": "32425a80",
   "metadata": {},
   "outputs": [],
   "source": [
    "def get_temp(city_name):\n",
    "    \"\"\"\n",
    "        will return temprature dictionary of city_name\n",
    "    \"\"\"\n",
    "    info = get_lat_lon(city_name)\n",
    "    api_key = \"390cfe9366e31568d802a3982999caab\"\n",
    "    url = \"https://api.openweathermap.org/data/2.5/weather\"    \n",
    "    if info:\n",
    "        query_parameters = {\n",
    "            \"lat\": info['lat'],\n",
    "            \"lon\": info['lon'],\n",
    "            \"appid\": api_key,\n",
    "            \"units\": \"metric\"\n",
    "        }\n",
    "        resp = requests.get(url, params=query_parameters)\n",
    "        if resp.status_code == 200:\n",
    "            data = resp.json()\n",
    "            if len(data) >= 3:\n",
    "                info[\"desc\"] = data[\"weather\"][0][\"description\"]\n",
    "                info[\"icon\"] = data[\"weather\"][0][\"icon\"]\n",
    "                info[\"icon_url\"] = f\"https://openweathermap.org/img/wn/{info['icon']}@4x.png\"\n",
    "                info[\"temp\"] = data[\"main\"][\"temp\"]\n",
    "                info[\"humidity\"] = data[\"main\"]['humidity']\n",
    "                return info\n",
    "            else:\n",
    "                print(\"no weather information available\")\n",
    "        else:\n",
    "            print(f\"Could not fetch temprature! {resp.status_code} {resp.reason}\")\n",
    "    else:\n",
    "        print(\"!Could Not get Lat and Lon, Please check location properly!\")\n",
    "    return False"
   ]
  },
  {
   "cell_type": "code",
   "execution_count": 69,
   "id": "670fbd6a",
   "metadata": {},
   "outputs": [
    {
     "name": "stdout",
     "output_type": "stream",
     "text": [
      "city name: kedarnath\n",
      "                       country = IN\n",
      "                         state = Uttarakhand\n",
      "                          name = केदारनाथ\n",
      "                           lat = 30.7345609\n",
      "                           lon = 79.0673204\n",
      "                          desc = broken clouds\n",
      "                          temp = 13.84\n",
      "                      humidity = 88\n"
     ]
    },
    {
     "data": {
      "image/png": "[encoded data removed]",
      "text/plain": [
       "<IPython.core.display.Image object>"
      ]
     },
     "execution_count": 69,
     "metadata": {},
     "output_type": "execute_result"
    }
   ],
   "source": [
    "ans = get_temp(input(\"city name: \"))\n",
    "for key, value in ans.items():\n",
    "    if 'icon' in key:\n",
    "        continue\n",
    "    print(f\"{key:>30} = {value}\")\n",
    "Image(ans['icon_url'])"
   ]
  },
  {
   "cell_type": "code",
   "execution_count": 73,
   "id": "43016bfa",
   "metadata": {},
   "outputs": [
    {
     "name": "stdout",
     "output_type": "stream",
     "text": [
      "Overwriting openweather.py\n"
     ]
    }
   ],
   "source": [
    "%%writefile openweather.py\n",
    "import requests \n",
    "\n",
    "def get_lat_lon(city_name):\n",
    "    \"\"\"\n",
    "        will return a dictionary having latitude and longitude info\n",
    "    \"\"\"\n",
    "    api_key = \"390cfe9366e31568d802a3982999caab\"\n",
    "    geo_url = f\"http://api.openweathermap.org/geo/1.0/direct?q={city_name}&appid={api_key}\"\n",
    "    resp = requests.get(geo_url)\n",
    "    if resp.status_code == 200:\n",
    "        data = resp.json()\n",
    "        if len(data) >= 1 and len(data[0]) >= 3:\n",
    "            answer = {}\n",
    "            answer[\"country\"] = data[0]['country']\n",
    "            answer[\"state\"] = data[0]['state']\n",
    "            if 'local_names' in data[0].keys():\n",
    "                answer[\"name\"] = data[0]['local_names']['hi']\n",
    "            else:\n",
    "                answer[\"name\"] = data[0]['name']\n",
    "            answer[\"lat\"] = data[0]['lat']\n",
    "            answer[\"lon\"] = data[0]['lon']\n",
    "            return answer\n",
    "        else:\n",
    "            print(\"Could not Get Data\")\n",
    "    else:\n",
    "        print(f\"Invalid Request! {resp.status_code}, {resp.reason}\")\n",
    "    return False\n",
    "\n",
    "def get_temp(city_name):\n",
    "    \"\"\"\n",
    "        will return temprature dictionary of city_name\n",
    "    \"\"\"\n",
    "    info = get_lat_lon(city_name)\n",
    "    api_key = \"390cfe9366e31568d802a3982999caab\"\n",
    "    url = \"https://api.openweathermap.org/data/2.5/weather\"    \n",
    "    if info:\n",
    "        query_parameters = {\n",
    "            \"lat\": info['lat'],\n",
    "            \"lon\": info['lon'],\n",
    "            \"appid\": api_key,\n",
    "            \"units\": \"metric\"\n",
    "        }\n",
    "        resp = requests.get(url, params=query_parameters)\n",
    "        if resp.status_code == 200:\n",
    "            data = resp.json()\n",
    "            if len(data) >= 3:\n",
    "                info[\"desc\"] = data[\"weather\"][0][\"description\"]\n",
    "                info[\"icon\"] = data[\"weather\"][0][\"icon\"]\n",
    "                info[\"icon_url\"] = f\"https://openweathermap.org/img/wn/{info['icon']}@4x.png\"\n",
    "                info[\"temp\"] = data[\"main\"][\"temp\"]\n",
    "                info[\"humidity\"] = data[\"main\"]['humidity']\n",
    "                return info\n",
    "            else:\n",
    "                print(\"no weather information available\")\n",
    "        else:\n",
    "            print(f\"Could not fetch temprature! {resp.status_code} {resp.reason}\")\n",
    "    else:\n",
    "        print(\"!Could Not get Lat and Lon, Please check location properly!\")\n",
    "    return False\n",
    "\n",
    "if __name__ == \"__main__\":\n",
    "    city = input(\"Enter city name: \")\n",
    "    ans = get_temp(city)\n",
    "    if ans:\n",
    "        for key, value in ans.items():\n",
    "            if 'icon' in key:\n",
    "                continue\n",
    "            print(f\"{key:>30} = {value}\")\n",
    "    else:\n",
    "        print(\"no data available\")"
   ]
  },
  {
   "cell_type": "markdown",
   "id": "5ab83070",
   "metadata": {},
   "source": [
    "#### Task for Today Session\n",
    "\n",
    "    Consume Place Search API of Google with Place Photos\n",
    "    \n",
    "    Create a Project using API that searches restaurent near you given latitude and longitude\n",
    "    [hint: forsquare apis]\n",
    "    \n",
    "    Create a Project text to speech and also speech text using google apis "
   ]
  },
  {
   "cell_type": "markdown",
   "id": "9ef8c996",
   "metadata": {},
   "source": [
    "##### Any doubt in Today Session "
   ]
  },
  {
   "cell_type": "markdown",
   "id": "6b06688e",
   "metadata": {},
   "source": [
    "`Flask Web Development`"
   ]
  },
  {
   "cell_type": "markdown",
   "id": "36032aeb",
   "metadata": {},
   "source": [
    "### Virtual Environment\n",
    "    \n",
    "    "
   ]
  },
  {
   "cell_type": "code",
   "execution_count": null,
   "id": "1c598443",
   "metadata": {},
   "outputs": [],
   "source": []
  }
 ],
 "metadata": {
  "kernelspec": {
   "display_name": "Python 3 (ipykernel)",
   "language": "python",
   "name": "python3"
  },
  "language_info": {
   "codemirror_mode": {
    "name": "ipython",
    "version": 3
   },
   "file_extension": ".py",
   "mimetype": "text/x-python",
   "name": "python",
   "nbconvert_exporter": "python",
   "pygments_lexer": "ipython3",
   "version": "3.9.12"
  }
 },
 "nbformat": 4,
 "nbformat_minor": 5
}
