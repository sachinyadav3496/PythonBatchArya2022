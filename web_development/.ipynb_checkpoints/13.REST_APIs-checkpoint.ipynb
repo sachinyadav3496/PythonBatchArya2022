{
 "cells": [
  {
   "cell_type": "code",
   "execution_count": 1,
   "id": "53644192",
   "metadata": {},
   "outputs": [
    {
     "name": "stdout",
     "output_type": "stream",
     "text": [
      "Defaulting to user installation because normal site-packages is not writeable\n",
      "Requirement already satisfied: requests in c:\\programdata\\anaconda3\\lib\\site-packages (2.27.1)\n",
      "Requirement already satisfied: charset-normalizer~=2.0.0 in c:\\programdata\\anaconda3\\lib\\site-packages (from requests) (2.0.4)\n",
      "Requirement already satisfied: certifi>=2017.4.17 in c:\\programdata\\anaconda3\\lib\\site-packages (from requests) (2021.10.8)\n",
      "Requirement already satisfied: idna<4,>=2.5 in c:\\programdata\\anaconda3\\lib\\site-packages (from requests) (3.3)\n",
      "Requirement already satisfied: urllib3<1.27,>=1.21.1 in c:\\programdata\\anaconda3\\lib\\site-packages (from requests) (1.26.9)\n"
     ]
    }
   ],
   "source": [
    "!python -m pip install requests"
   ]
  },
  {
   "cell_type": "code",
   "execution_count": 2,
   "id": "16058908",
   "metadata": {},
   "outputs": [],
   "source": [
    "import requests"
   ]
  },
  {
   "cell_type": "code",
   "execution_count": 3,
   "id": "d4ccb9c2",
   "metadata": {},
   "outputs": [
    {
     "name": "stdout",
     "output_type": "stream",
     "text": [
      "['ConnectTimeout', 'ConnectionError', 'DependencyWarning', 'FileModeWarning', 'HTTPError', 'JSONDecodeError', 'NullHandler', 'PreparedRequest', 'ReadTimeout', 'Request', 'RequestException', 'RequestsDependencyWarning', 'Response', 'Session', 'Timeout', 'TooManyRedirects', 'URLRequired', '__author__', '__author_email__', '__build__', '__builtins__', '__cached__', '__cake__', '__copyright__', '__description__', '__doc__', '__file__', '__license__', '__loader__', '__name__', '__package__', '__path__', '__spec__', '__title__', '__url__', '__version__', '_check_cryptography', '_internal_utils', 'adapters', 'api', 'auth', 'certs', 'chardet_version', 'charset_normalizer_version', 'check_compatibility', 'codes', 'compat', 'cookies', 'delete', 'exceptions', 'get', 'head', 'hooks', 'logging', 'models', 'options', 'packages', 'patch', 'post', 'put', 'request', 'session', 'sessions', 'ssl', 'status_codes', 'structures', 'urllib3', 'utils', 'warnings']\n"
     ]
    }
   ],
   "source": [
    "print(dir(requests))"
   ]
  },
  {
   "cell_type": "code",
   "execution_count": 4,
   "id": "5969e43f",
   "metadata": {},
   "outputs": [],
   "source": [
    "url = \"https://grras.com\""
   ]
  },
  {
   "cell_type": "code",
   "execution_count": 5,
   "id": "048f8ffc",
   "metadata": {},
   "outputs": [],
   "source": [
    "resp = requests.get(url)"
   ]
  },
  {
   "cell_type": "code",
   "execution_count": 6,
   "id": "23fc1717",
   "metadata": {},
   "outputs": [
    {
     "name": "stdout",
     "output_type": "stream",
     "text": [
      "<class 'requests.models.Response'>\n"
     ]
    }
   ],
   "source": [
    "print(type(resp))"
   ]
  },
  {
   "cell_type": "code",
   "execution_count": 7,
   "id": "c685d857",
   "metadata": {},
   "outputs": [
    {
     "data": {
      "text/plain": [
       "200"
      ]
     },
     "execution_count": 7,
     "metadata": {},
     "output_type": "execute_result"
    }
   ],
   "source": [
    "resp.status_code"
   ]
  },
  {
   "cell_type": "code",
   "execution_count": 8,
   "id": "ff800b86",
   "metadata": {},
   "outputs": [
    {
     "data": {
      "text/plain": [
       "'OK'"
      ]
     },
     "execution_count": 8,
     "metadata": {},
     "output_type": "execute_result"
    }
   ],
   "source": [
    "resp.reason"
   ]
  },
  {
   "cell_type": "code",
   "execution_count": 10,
   "id": "fb684243",
   "metadata": {},
   "outputs": [],
   "source": [
    "from pprint import pprint"
   ]
  },
  {
   "cell_type": "code",
   "execution_count": 11,
   "id": "342348fc",
   "metadata": {},
   "outputs": [
    {
     "name": "stdout",
     "output_type": "stream",
     "text": [
      "{'Date': 'Mon, 01 Aug 2022 04:53:21 GMT', 'Server': 'Apache/2.4.18 (Ubuntu)', 'Cache-Control': 'no-cache, public', 'Access-Control-Allow-Origin': '*', 'Access-Control-Allow-Methods': 'GET, POST, PUT, DELETE, OPTIONS', 'Access-Control-Allow-Headers': 'Content-Type, Authorizations', 'Set-Cookie': 'XSRF-TOKEN=eyJpdiI6IitwVmM2VUtmVFF6bkxGRTh5TitielE9PSIsInZhbHVlIjoiUk1JclwvWFdrSms0XC9DdHg4clJFdGR2RDNaS2tURTUyemlDeWREdWFsa3o5VjJmQU5KSUhqMUpOZGtia0lPS2JmbXB6eWFoRHpVMitkYitZOWtya0JNdz09IiwibWFjIjoiOTkyYzBlODE2ZThhNmQ0MWM2OGE1Y2MzYjIzYTQ3YmRiOWRmNjMxNmJhMzIwN2MzMzg5MmNlMTkxMGYzN2M0YSJ9; expires=Mon, 01-Aug-2022 06:53:21 GMT; Max-Age=7200; path=/, laravel_session=eyJpdiI6IkdkcVloVU1WeHNWTEQ1XC9mQXlONEt3PT0iLCJ2YWx1ZSI6ImJHWFRGODcwYTFTQ2NOeVhOVWxSOGVtSDczYldQTkVoQlhTeHo2ZHVIZGpMOEFJdmNNb2NIMGY0TUdBWnh4UzZ0U3lucm5Vd2NwU2FkNWxOQ1ZmNXRBPT0iLCJtYWMiOiI5YjlkZmI3MTgzNTYyYzUwYzE3MjRlOGNjN2ZkZjM0N2IyZDEzYjBkNGI0MTQ0MGY4YTAxMmVjODlkY2UzODY4In0%3D; expires=Mon, 01-Aug-2022 06:53:21 GMT; Max-Age=7200; path=/; HttpOnly', 'Vary': 'Accept-Encoding', 'Content-Encoding': 'gzip', 'Connection': 'keep-alive, Keep-Alive', 'Referrer-Policy': '', 'Keep-Alive': 'timeout=20, max=1000', 'Transfer-Encoding': 'chunked', 'Content-Type': 'text/html; charset=UTF-8'}\n"
     ]
    }
   ],
   "source": [
    "pprint(resp.headers)"
   ]
  },
  {
   "cell_type": "code",
   "execution_count": 12,
   "id": "e9f5bb76",
   "metadata": {},
   "outputs": [
    {
     "name": "stdout",
     "output_type": "stream",
     "text": [
      "text/html; charset=UTF-8\n"
     ]
    }
   ],
   "source": [
    "print(resp.headers[\"Content-Type\"])"
   ]
  },
  {
   "cell_type": "code",
   "execution_count": null,
   "id": "9b020745",
   "metadata": {},
   "outputs": [],
   "source": [
    "#ctrl+f5"
   ]
  },
  {
   "cell_type": "code",
   "execution_count": 16,
   "id": "b3faa091",
   "metadata": {},
   "outputs": [],
   "source": [
    "#resp.text # ?"
   ]
  },
  {
   "cell_type": "code",
   "execution_count": 19,
   "id": "95931e35",
   "metadata": {},
   "outputs": [],
   "source": [
    "#resp.json()"
   ]
  },
  {
   "cell_type": "code",
   "execution_count": 20,
   "id": "baf9a5ee",
   "metadata": {},
   "outputs": [],
   "source": [
    "with open(\"C:\\\\users\\\\sachi\\\\Desktop\\\\grras.html\", \"wb\") as file:\n",
    "    file.write(resp.content)\n",
    "    "
   ]
  },
  {
   "cell_type": "code",
   "execution_count": 21,
   "id": "cbe24676",
   "metadata": {},
   "outputs": [],
   "source": [
    "url = \"https://www.lifewire.com/thmb/qzqcBTZ4o4AtFaZBkiILTnj-KMg=/400x0/filters:no_upscale():max_bytes(150000):strip_icc()/hdwallpapersnet-free-wallpaper-5919d3ca3df78cf5fa49bda3.jpg\""
   ]
  },
  {
   "cell_type": "code",
   "execution_count": 22,
   "id": "2f65ed56",
   "metadata": {},
   "outputs": [],
   "source": [
    "resp = requests.get(url)"
   ]
  },
  {
   "cell_type": "code",
   "execution_count": 23,
   "id": "faec6af8",
   "metadata": {},
   "outputs": [
    {
     "data": {
      "text/plain": [
       "200"
      ]
     },
     "execution_count": 23,
     "metadata": {},
     "output_type": "execute_result"
    }
   ],
   "source": [
    "resp.status_code"
   ]
  },
  {
   "cell_type": "code",
   "execution_count": 24,
   "id": "039c824f",
   "metadata": {},
   "outputs": [
    {
     "data": {
      "text/plain": [
       "'image/jpeg'"
      ]
     },
     "execution_count": 24,
     "metadata": {},
     "output_type": "execute_result"
    }
   ],
   "source": [
    "resp.headers['Content-type']"
   ]
  },
  {
   "cell_type": "code",
   "execution_count": 34,
   "id": "07b7dd2d",
   "metadata": {},
   "outputs": [],
   "source": [
    "with open(\"C:\\\\users\\\\sachi\\\\Desktop\\\\one.jpg\", \"wb\") as fp:\n",
    "    fp.write(resp.content)"
   ]
  },
  {
   "cell_type": "markdown",
   "id": "b61bbb45",
   "metadata": {},
   "source": [
    "    HTTP -> plain text\n",
    "    \n",
    "    HTTPS -> Secure"
   ]
  },
  {
   "cell_type": "markdown",
   "id": "f9d0e8b3",
   "metadata": {},
   "source": [
    "#### APIs \n",
    "\n",
    "#### Flask Web FrameWork\n",
    "\n",
    "\n",
    "Assignment\n",
    "\n",
    "    read about html, css and try to create some basic templates\n",
    "    \n",
    "        bank application\n",
    "        student management\n",
    "        library management\n",
    "        ecommerce\n",
    "        "
   ]
  },
  {
   "cell_type": "code",
   "execution_count": null,
   "id": "36219802",
   "metadata": {},
   "outputs": [],
   "source": []
  }
 ],
 "metadata": {
  "kernelspec": {
   "display_name": "Python 3 (ipykernel)",
   "language": "python",
   "name": "python3"
  },
  "language_info": {
   "codemirror_mode": {
    "name": "ipython",
    "version": 3
   },
   "file_extension": ".py",
   "mimetype": "text/x-python",
   "name": "python",
   "nbconvert_exporter": "python",
   "pygments_lexer": "ipython3",
   "version": "3.9.12"
  }
 },
 "nbformat": 4,
 "nbformat_minor": 5
}
